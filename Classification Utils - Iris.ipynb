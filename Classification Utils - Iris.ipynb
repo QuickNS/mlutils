{
 "cells": [
  {
   "cell_type": "markdown",
   "metadata": {},
   "source": [
    "## Imports"
   ]
  },
  {
   "cell_type": "code",
   "execution_count": 1,
   "metadata": {},
   "outputs": [],
   "source": [
    "%load_ext autoreload\n",
    "%autoreload 2"
   ]
  },
  {
   "cell_type": "code",
   "execution_count": 2,
   "metadata": {},
   "outputs": [],
   "source": [
    "# import load_iris function from datasets module\n",
    "from sklearn.datasets import load_iris\n",
    "from mlutils.features import *\n",
    "from mlutils.plot import *\n",
    "import pandas as pd\n",
    "import numpy as np\n",
    "import seaborn as sns\n",
    "\n",
    "sns.set()\n",
    "sns.set_style('whitegrid')\n",
    "sns.set_palette('Dark2')"
   ]
  },
  {
   "cell_type": "markdown",
   "metadata": {},
   "source": [
    "## Load Data"
   ]
  },
  {
   "cell_type": "code",
   "execution_count": 3,
   "metadata": {},
   "outputs": [
    {
     "data": {
      "text/plain": [
       "((150, 4), (150,))"
      ]
     },
     "execution_count": 3,
     "metadata": {},
     "output_type": "execute_result"
    }
   ],
   "source": [
    "# save \"bunch\" object containing iris dataset and its attributes\n",
    "iris = load_iris()\n",
    "\n",
    "x_raw = iris.data\n",
    "y_raw = iris.target\n",
    "\n",
    "x_raw.shape, y_raw.shape"
   ]
  },
  {
   "cell_type": "code",
   "execution_count": 4,
   "metadata": {},
   "outputs": [
    {
     "data": {
      "text/html": [
       "<div>\n",
       "<style scoped>\n",
       "    .dataframe tbody tr th:only-of-type {\n",
       "        vertical-align: middle;\n",
       "    }\n",
       "\n",
       "    .dataframe tbody tr th {\n",
       "        vertical-align: top;\n",
       "    }\n",
       "\n",
       "    .dataframe thead th {\n",
       "        text-align: right;\n",
       "    }\n",
       "</style>\n",
       "<table border=\"1\" class=\"dataframe\">\n",
       "  <thead>\n",
       "    <tr style=\"text-align: right;\">\n",
       "      <th></th>\n",
       "      <th>sepal length (cm)</th>\n",
       "      <th>sepal width (cm)</th>\n",
       "      <th>petal length (cm)</th>\n",
       "      <th>petal width (cm)</th>\n",
       "    </tr>\n",
       "  </thead>\n",
       "  <tbody>\n",
       "    <tr>\n",
       "      <th>0</th>\n",
       "      <td>5.1</td>\n",
       "      <td>3.5</td>\n",
       "      <td>1.4</td>\n",
       "      <td>0.2</td>\n",
       "    </tr>\n",
       "    <tr>\n",
       "      <th>1</th>\n",
       "      <td>4.9</td>\n",
       "      <td>3.0</td>\n",
       "      <td>1.4</td>\n",
       "      <td>0.2</td>\n",
       "    </tr>\n",
       "    <tr>\n",
       "      <th>2</th>\n",
       "      <td>4.7</td>\n",
       "      <td>3.2</td>\n",
       "      <td>1.3</td>\n",
       "      <td>0.2</td>\n",
       "    </tr>\n",
       "    <tr>\n",
       "      <th>3</th>\n",
       "      <td>4.6</td>\n",
       "      <td>3.1</td>\n",
       "      <td>1.5</td>\n",
       "      <td>0.2</td>\n",
       "    </tr>\n",
       "    <tr>\n",
       "      <th>4</th>\n",
       "      <td>5.0</td>\n",
       "      <td>3.6</td>\n",
       "      <td>1.4</td>\n",
       "      <td>0.2</td>\n",
       "    </tr>\n",
       "  </tbody>\n",
       "</table>\n",
       "</div>"
      ],
      "text/plain": [
       "   sepal length (cm)  sepal width (cm)  petal length (cm)  petal width (cm)\n",
       "0                5.1               3.5                1.4               0.2\n",
       "1                4.9               3.0                1.4               0.2\n",
       "2                4.7               3.2                1.3               0.2\n",
       "3                4.6               3.1                1.5               0.2\n",
       "4                5.0               3.6                1.4               0.2"
      ]
     },
     "execution_count": 4,
     "metadata": {},
     "output_type": "execute_result"
    }
   ],
   "source": [
    "column_names = iris.feature_names\n",
    "\n",
    "df_raw = pd.DataFrame(x_raw, columns=column_names)\n",
    "df_raw.head()"
   ]
  },
  {
   "cell_type": "markdown",
   "metadata": {},
   "source": [
    "## Looking at column types and mem usage"
   ]
  },
  {
   "cell_type": "code",
   "execution_count": 5,
   "metadata": {},
   "outputs": [
    {
     "data": {
      "text/plain": [
       "(150, 4)"
      ]
     },
     "execution_count": 5,
     "metadata": {},
     "output_type": "execute_result"
    }
   ],
   "source": [
    "df_raw.shape"
   ]
  },
  {
   "cell_type": "code",
   "execution_count": 6,
   "metadata": {},
   "outputs": [
    {
     "data": {
      "text/html": [
       "<div>\n",
       "<style scoped>\n",
       "    .dataframe tbody tr th:only-of-type {\n",
       "        vertical-align: middle;\n",
       "    }\n",
       "\n",
       "    .dataframe tbody tr th {\n",
       "        vertical-align: top;\n",
       "    }\n",
       "\n",
       "    .dataframe thead th {\n",
       "        text-align: right;\n",
       "    }\n",
       "</style>\n",
       "<table border=\"1\" class=\"dataframe\">\n",
       "  <thead>\n",
       "    <tr style=\"text-align: right;\">\n",
       "      <th></th>\n",
       "      <th>sepal length (cm)</th>\n",
       "      <th>sepal width (cm)</th>\n",
       "      <th>petal length (cm)</th>\n",
       "      <th>petal width (cm)</th>\n",
       "    </tr>\n",
       "  </thead>\n",
       "  <tbody>\n",
       "    <tr>\n",
       "      <th>count</th>\n",
       "      <td>150.000000</td>\n",
       "      <td>150.000000</td>\n",
       "      <td>150.000000</td>\n",
       "      <td>150.000000</td>\n",
       "    </tr>\n",
       "    <tr>\n",
       "      <th>mean</th>\n",
       "      <td>5.843333</td>\n",
       "      <td>3.054000</td>\n",
       "      <td>3.758667</td>\n",
       "      <td>1.198667</td>\n",
       "    </tr>\n",
       "    <tr>\n",
       "      <th>std</th>\n",
       "      <td>0.828066</td>\n",
       "      <td>0.433594</td>\n",
       "      <td>1.764420</td>\n",
       "      <td>0.763161</td>\n",
       "    </tr>\n",
       "    <tr>\n",
       "      <th>min</th>\n",
       "      <td>4.300000</td>\n",
       "      <td>2.000000</td>\n",
       "      <td>1.000000</td>\n",
       "      <td>0.100000</td>\n",
       "    </tr>\n",
       "    <tr>\n",
       "      <th>25%</th>\n",
       "      <td>5.100000</td>\n",
       "      <td>2.800000</td>\n",
       "      <td>1.600000</td>\n",
       "      <td>0.300000</td>\n",
       "    </tr>\n",
       "    <tr>\n",
       "      <th>50%</th>\n",
       "      <td>5.800000</td>\n",
       "      <td>3.000000</td>\n",
       "      <td>4.350000</td>\n",
       "      <td>1.300000</td>\n",
       "    </tr>\n",
       "    <tr>\n",
       "      <th>75%</th>\n",
       "      <td>6.400000</td>\n",
       "      <td>3.300000</td>\n",
       "      <td>5.100000</td>\n",
       "      <td>1.800000</td>\n",
       "    </tr>\n",
       "    <tr>\n",
       "      <th>max</th>\n",
       "      <td>7.900000</td>\n",
       "      <td>4.400000</td>\n",
       "      <td>6.900000</td>\n",
       "      <td>2.500000</td>\n",
       "    </tr>\n",
       "  </tbody>\n",
       "</table>\n",
       "</div>"
      ],
      "text/plain": [
       "       sepal length (cm)  sepal width (cm)  petal length (cm)  \\\n",
       "count         150.000000        150.000000         150.000000   \n",
       "mean            5.843333          3.054000           3.758667   \n",
       "std             0.828066          0.433594           1.764420   \n",
       "min             4.300000          2.000000           1.000000   \n",
       "25%             5.100000          2.800000           1.600000   \n",
       "50%             5.800000          3.000000           4.350000   \n",
       "75%             6.400000          3.300000           5.100000   \n",
       "max             7.900000          4.400000           6.900000   \n",
       "\n",
       "       petal width (cm)  \n",
       "count        150.000000  \n",
       "mean           1.198667  \n",
       "std            0.763161  \n",
       "min            0.100000  \n",
       "25%            0.300000  \n",
       "50%            1.300000  \n",
       "75%            1.800000  \n",
       "max            2.500000  "
      ]
     },
     "execution_count": 6,
     "metadata": {},
     "output_type": "execute_result"
    }
   ],
   "source": [
    "df_raw.describe()"
   ]
  },
  {
   "cell_type": "code",
   "execution_count": 7,
   "metadata": {},
   "outputs": [
    {
     "name": "stdout",
     "output_type": "stream",
     "text": [
      "<class 'pandas.core.frame.DataFrame'>\n",
      "RangeIndex: 150 entries, 0 to 149\n",
      "Data columns (total 4 columns):\n",
      "sepal length (cm)    150 non-null float64\n",
      "sepal width (cm)     150 non-null float64\n",
      "petal length (cm)    150 non-null float64\n",
      "petal width (cm)     150 non-null float64\n",
      "dtypes: float64(4)\n",
      "memory usage: 4.8 KB\n",
      "None\n",
      "\n",
      "Total memory usage for float columns: 0.00 MB\n",
      "Total memory usage for int columns: 0.00 MB\n",
      "Total memory usage for object columns: 0.00 MB\n",
      "Total memory usage for bool columns: 0.00 MB\n",
      "Total memory usage for category columns: 0.00 MB\n",
      "\n",
      "Average memory usage for float columns: 0.00 MB\n",
      "Average memory usage for int columns: 0.00 MB\n",
      "Average memory usage for object columns: 0.00 MB\n",
      "Average memory usage for bool columns: 0.00 MB\n",
      "Average memory usage for category columns: 0.00 MB\n"
     ]
    }
   ],
   "source": [
    "display_mem_usage(df_raw)"
   ]
  },
  {
   "cell_type": "markdown",
   "metadata": {},
   "source": [
    "## Preprocessing"
   ]
  },
  {
   "cell_type": "code",
   "execution_count": 8,
   "metadata": {},
   "outputs": [],
   "source": [
    "# now we need to turn all strings into categorical columns\n",
    "create_categories(df_raw)"
   ]
  },
  {
   "cell_type": "code",
   "execution_count": 9,
   "metadata": {},
   "outputs": [
    {
     "data": {
      "text/html": [
       "<div>\n",
       "<style scoped>\n",
       "    .dataframe tbody tr th:only-of-type {\n",
       "        vertical-align: middle;\n",
       "    }\n",
       "\n",
       "    .dataframe tbody tr th {\n",
       "        vertical-align: top;\n",
       "    }\n",
       "\n",
       "    .dataframe thead th {\n",
       "        text-align: right;\n",
       "    }\n",
       "</style>\n",
       "<table border=\"1\" class=\"dataframe\">\n",
       "  <thead>\n",
       "    <tr style=\"text-align: right;\">\n",
       "      <th></th>\n",
       "      <th>Total</th>\n",
       "      <th>Percent</th>\n",
       "    </tr>\n",
       "  </thead>\n",
       "  <tbody>\n",
       "  </tbody>\n",
       "</table>\n",
       "</div>"
      ],
      "text/plain": [
       "Empty DataFrame\n",
       "Columns: [Total, Percent]\n",
       "Index: []"
      ]
     },
     "execution_count": 9,
     "metadata": {},
     "output_type": "execute_result"
    }
   ],
   "source": [
    "# let's check if we have missing values\n",
    "detect_missing(df_raw)"
   ]
  },
  {
   "cell_type": "code",
   "execution_count": 10,
   "metadata": {},
   "outputs": [],
   "source": [
    "# simple preprocess\n",
    "df, _ , nas = process_dataframe(df_raw)\n",
    "df.shape, nas\n",
    "\n",
    "y = y_raw"
   ]
  },
  {
   "cell_type": "markdown",
   "metadata": {},
   "source": [
    "## Train a Random Forest"
   ]
  },
  {
   "cell_type": "code",
   "execution_count": 11,
   "metadata": {},
   "outputs": [],
   "source": [
    "from sklearn.ensemble import RandomForestClassifier\n",
    "from sklearn.metrics import accuracy_score, classification_report, confusion_matrix\n",
    "from sklearn.model_selection import train_test_split\n",
    "from mlutils.models.classification import *\n",
    "from mlutils.models.trees import *\n",
    "\n",
    "m = RandomForestClassifier(n_jobs=-1, oob_score=True)"
   ]
  },
  {
   "cell_type": "code",
   "execution_count": 12,
   "metadata": {},
   "outputs": [
    {
     "name": "stdout",
     "output_type": "stream",
     "text": [
      "Accuracy (Training): 1.0\n",
      "          OOB Score: 0.9266666666666666\n"
     ]
    }
   ],
   "source": [
    "train_classifier(m, df, y)"
   ]
  },
  {
   "cell_type": "code",
   "execution_count": 13,
   "metadata": {},
   "outputs": [
    {
     "name": "stdout",
     "output_type": "stream",
     "text": [
      "Accuracy (Training):  0.9933333333333333\n",
      "Average accuracy score using 10-fold crossvalidation:  0.96\n"
     ]
    }
   ],
   "source": [
    "train_classifier_cv(m, df, y, k_folds=10);"
   ]
  },
  {
   "cell_type": "code",
   "execution_count": 14,
   "metadata": {},
   "outputs": [],
   "source": [
    "# create validation data\n",
    "X_train, X_test, y_train, y_test = train_test_split(df, y, test_size=0.20, random_state=1)"
   ]
  },
  {
   "cell_type": "code",
   "execution_count": 15,
   "metadata": {},
   "outputs": [
    {
     "name": "stdout",
     "output_type": "stream",
     "text": [
      "Accuracy (Training): 0.9916666666666667\n",
      "          OOB Score: 0.925\n",
      "     Accuracy score: 0.96667\n"
     ]
    }
   ],
   "source": [
    "train_classifier(m, X_train, y_train)\n",
    "preds = predict_and_evaluate_classifier(m, X_test, y_test)"
   ]
  },
  {
   "cell_type": "markdown",
   "metadata": {},
   "source": [
    "### Using a single shallow tree to visualize features"
   ]
  },
  {
   "cell_type": "code",
   "execution_count": 16,
   "metadata": {},
   "outputs": [
    {
     "name": "stdout",
     "output_type": "stream",
     "text": [
      "Accuracy (Training): 0.95\n",
      "     Accuracy score: 1.00000\n"
     ]
    }
   ],
   "source": [
    "m = RandomForestClassifier(n_estimators=1, max_depth=3, bootstrap=False, n_jobs=-1)\n",
    "train_classifier(m, X_train, y_train)\n",
    "preds = predict_and_evaluate_classifier(m, X_test, y_test)"
   ]
  },
  {
   "cell_type": "code",
   "execution_count": 17,
   "metadata": {},
   "outputs": [
    {
     "data": {
      "image/svg+xml": [
       "<?xml version=\"1.0\" encoding=\"UTF-8\" standalone=\"no\"?>\n",
       "<!DOCTYPE svg PUBLIC \"-//W3C//DTD SVG 1.1//EN\"\n",
       " \"http://www.w3.org/Graphics/SVG/1.1/DTD/svg11.dtd\">\n",
       "<!-- Generated by graphviz version 2.40.1 (20161225.0304)\n",
       " -->\n",
       "<!-- Title: Tree Pages: 1 -->\n",
       "<svg width=\"660pt\" height=\"399pt\"\n",
       " viewBox=\"0.00 0.00 660.00 399.20\" xmlns=\"http://www.w3.org/2000/svg\" xmlns:xlink=\"http://www.w3.org/1999/xlink\">\n",
       "<g id=\"graph0\" class=\"graph\" transform=\"scale(1 1) rotate(0) translate(4 395.2)\">\n",
       "<title>Tree</title>\n",
       "<polygon fill=\"#ffffff\" stroke=\"transparent\" points=\"-4,4 -4,-395.2 656,-395.2 656,4 -4,4\"/>\n",
       "<!-- 0 -->\n",
       "<g id=\"node1\" class=\"node\">\n",
       "<title>0</title>\n",
       "<polygon fill=\"#8139e5\" fill-opacity=\"0.062745\" stroke=\"#000000\" points=\"142.5,-285.7758 -.5,-285.7758 -.5,-217.7758 142.5,-217.7758 142.5,-285.7758\"/>\n",
       "<text text-anchor=\"start\" x=\"7.5\" y=\"-270.5758\" font-family=\"Times,serif\" font-size=\"14.00\" fill=\"#000000\">petal length (cm) ≤ 3.0</text>\n",
       "<text text-anchor=\"start\" x=\"43.5\" y=\"-255.5758\" font-family=\"Times,serif\" font-size=\"14.00\" fill=\"#000000\">gini = 1.0</text>\n",
       "<text text-anchor=\"start\" x=\"30.5\" y=\"-240.5758\" font-family=\"Times,serif\" font-size=\"14.00\" fill=\"#000000\">samples = 120</text>\n",
       "<text text-anchor=\"start\" x=\"16\" y=\"-225.5758\" font-family=\"Times,serif\" font-size=\"14.00\" fill=\"#000000\">value = [39, 37, 44]</text>\n",
       "</g>\n",
       "<!-- 1 -->\n",
       "<g id=\"node2\" class=\"node\">\n",
       "<title>1</title>\n",
       "<polygon fill=\"#e58139\" stroke=\"#000000\" points=\"306.5,-335.2758 193.5,-335.2758 193.5,-282.2758 306.5,-282.2758 306.5,-335.2758\"/>\n",
       "<text text-anchor=\"start\" x=\"222.5\" y=\"-320.0758\" font-family=\"Times,serif\" font-size=\"14.00\" fill=\"#000000\">gini = 0.0</text>\n",
       "<text text-anchor=\"start\" x=\"213\" y=\"-305.0758\" font-family=\"Times,serif\" font-size=\"14.00\" fill=\"#000000\">samples = 39</text>\n",
       "<text text-anchor=\"start\" x=\"201.5\" y=\"-290.0758\" font-family=\"Times,serif\" font-size=\"14.00\" fill=\"#000000\">value = [39, 0, 0]</text>\n",
       "</g>\n",
       "<!-- 0&#45;&gt;1 -->\n",
       "<g id=\"edge1\" class=\"edge\">\n",
       "<title>0&#45;&gt;1</title>\n",
       "<path fill=\"none\" stroke=\"#000000\" d=\"M142.5172,-274.5495C156.1519,-278.8912 170.3674,-283.418 183.8263,-287.7038\"/>\n",
       "<polygon fill=\"#000000\" stroke=\"#000000\" points=\"182.8831,-291.0765 193.4737,-290.7758 185.0071,-284.4065 182.8831,-291.0765\"/>\n",
       "<text text-anchor=\"middle\" x=\"175.7072\" y=\"-296.2602\" font-family=\"Times,serif\" font-size=\"14.00\" fill=\"#000000\">True</text>\n",
       "</g>\n",
       "<!-- 2 -->\n",
       "<g id=\"node3\" class=\"node\">\n",
       "<title>2</title>\n",
       "<polygon fill=\"#8139e5\" fill-opacity=\"0.160784\" stroke=\"#000000\" points=\"321.5,-229.7758 178.5,-229.7758 178.5,-161.7758 321.5,-161.7758 321.5,-229.7758\"/>\n",
       "<text text-anchor=\"start\" x=\"186.5\" y=\"-214.5758\" font-family=\"Times,serif\" font-size=\"14.00\" fill=\"#000000\">petal length (cm) ≤ 5.0</text>\n",
       "<text text-anchor=\"start\" x=\"222.5\" y=\"-199.5758\" font-family=\"Times,serif\" font-size=\"14.00\" fill=\"#000000\">gini = 0.0</text>\n",
       "<text text-anchor=\"start\" x=\"213\" y=\"-184.5758\" font-family=\"Times,serif\" font-size=\"14.00\" fill=\"#000000\">samples = 81</text>\n",
       "<text text-anchor=\"start\" x=\"198.5\" y=\"-169.5758\" font-family=\"Times,serif\" font-size=\"14.00\" fill=\"#000000\">value = [0, 37, 44]</text>\n",
       "</g>\n",
       "<!-- 0&#45;&gt;2 -->\n",
       "<g id=\"edge2\" class=\"edge\">\n",
       "<title>0&#45;&gt;2</title>\n",
       "<path fill=\"none\" stroke=\"#000000\" d=\"M142.5172,-229.4017C151.0783,-226.7234 159.8683,-223.9734 168.5563,-221.2554\"/>\n",
       "<polygon fill=\"#000000\" stroke=\"#000000\" points=\"169.8054,-224.532 178.3042,-218.2058 167.7153,-217.8513 169.8054,-224.532\"/>\n",
       "<text text-anchor=\"middle\" x=\"160.5846\" y=\"-205.2313\" font-family=\"Times,serif\" font-size=\"14.00\" fill=\"#000000\">False</text>\n",
       "</g>\n",
       "<!-- 3 -->\n",
       "<g id=\"node4\" class=\"node\">\n",
       "<title>3</title>\n",
       "<polygon fill=\"#39e581\" fill-opacity=\"0.968627\" stroke=\"#000000\" points=\"502.5,-290.7758 357.5,-290.7758 357.5,-222.7758 502.5,-222.7758 502.5,-290.7758\"/>\n",
       "<text text-anchor=\"start\" x=\"365.5\" y=\"-275.5758\" font-family=\"Times,serif\" font-size=\"14.00\" fill=\"#000000\">sepal length (cm) ≤ 5.0</text>\n",
       "<text text-anchor=\"start\" x=\"402.5\" y=\"-260.5758\" font-family=\"Times,serif\" font-size=\"14.00\" fill=\"#000000\">gini = 0.0</text>\n",
       "<text text-anchor=\"start\" x=\"393\" y=\"-245.5758\" font-family=\"Times,serif\" font-size=\"14.00\" fill=\"#000000\">samples = 33</text>\n",
       "<text text-anchor=\"start\" x=\"381.5\" y=\"-230.5758\" font-family=\"Times,serif\" font-size=\"14.00\" fill=\"#000000\">value = [0, 32, 1]</text>\n",
       "</g>\n",
       "<!-- 2&#45;&gt;3 -->\n",
       "<g id=\"edge3\" class=\"edge\">\n",
       "<title>2&#45;&gt;3</title>\n",
       "<path fill=\"none\" stroke=\"#000000\" d=\"M321.658,-220.0599C330.2058,-222.9567 338.9841,-225.9316 347.6666,-228.874\"/>\n",
       "<polygon fill=\"#000000\" stroke=\"#000000\" points=\"346.817,-232.2815 357.4113,-232.1763 349.0637,-225.6518 346.817,-232.2815\"/>\n",
       "</g>\n",
       "<!-- 6 -->\n",
       "<g id=\"node7\" class=\"node\">\n",
       "<title>6</title>\n",
       "<polygon fill=\"#8139e5\" fill-opacity=\"0.882353\" stroke=\"#000000\" points=\"500,-167.7758 360,-167.7758 360,-99.7758 500,-99.7758 500,-167.7758\"/>\n",
       "<text text-anchor=\"start\" x=\"368\" y=\"-152.5758\" font-family=\"Times,serif\" font-size=\"14.00\" fill=\"#000000\">petal width (cm) ≤ 2.0</text>\n",
       "<text text-anchor=\"start\" x=\"402.5\" y=\"-137.5758\" font-family=\"Times,serif\" font-size=\"14.00\" fill=\"#000000\">gini = 0.0</text>\n",
       "<text text-anchor=\"start\" x=\"393\" y=\"-122.5758\" font-family=\"Times,serif\" font-size=\"14.00\" fill=\"#000000\">samples = 48</text>\n",
       "<text text-anchor=\"start\" x=\"381.5\" y=\"-107.5758\" font-family=\"Times,serif\" font-size=\"14.00\" fill=\"#000000\">value = [0, 5, 43]</text>\n",
       "</g>\n",
       "<!-- 2&#45;&gt;6 -->\n",
       "<g id=\"edge6\" class=\"edge\">\n",
       "<title>2&#45;&gt;6</title>\n",
       "<path fill=\"none\" stroke=\"#000000\" d=\"M321.658,-171.0936C331.0698,-167.8518 340.761,-164.5137 350.2961,-161.2294\"/>\n",
       "<polygon fill=\"#000000\" stroke=\"#000000\" points=\"351.4479,-164.5345 359.7629,-157.9686 349.1682,-157.9161 351.4479,-164.5345\"/>\n",
       "</g>\n",
       "<!-- 4 -->\n",
       "<g id=\"node5\" class=\"node\">\n",
       "<title>4</title>\n",
       "<polygon fill=\"transparent\" stroke=\"#000000\" points=\"648,-379.2758 542,-379.2758 542,-326.2758 648,-326.2758 648,-379.2758\"/>\n",
       "<text text-anchor=\"start\" x=\"567.5\" y=\"-364.0758\" font-family=\"Times,serif\" font-size=\"14.00\" fill=\"#000000\">gini = 0.0</text>\n",
       "<text text-anchor=\"start\" x=\"561.5\" y=\"-349.0758\" font-family=\"Times,serif\" font-size=\"14.00\" fill=\"#000000\">samples = 2</text>\n",
       "<text text-anchor=\"start\" x=\"550\" y=\"-334.0758\" font-family=\"Times,serif\" font-size=\"14.00\" fill=\"#000000\">value = [0, 1, 1]</text>\n",
       "</g>\n",
       "<!-- 3&#45;&gt;4 -->\n",
       "<g id=\"edge4\" class=\"edge\">\n",
       "<title>3&#45;&gt;4</title>\n",
       "<path fill=\"none\" stroke=\"#000000\" d=\"M488.6374,-290.8921C505.4408,-300.6686 523.6892,-311.2859 540.2493,-320.9209\"/>\n",
       "<polygon fill=\"#000000\" stroke=\"#000000\" points=\"538.8521,-324.1572 549.2557,-326.161 542.3724,-318.1068 538.8521,-324.1572\"/>\n",
       "</g>\n",
       "<!-- 5 -->\n",
       "<g id=\"node6\" class=\"node\">\n",
       "<title>5</title>\n",
       "<polygon fill=\"#39e581\" stroke=\"#000000\" points=\"651.5,-278.2758 538.5,-278.2758 538.5,-225.2758 651.5,-225.2758 651.5,-278.2758\"/>\n",
       "<text text-anchor=\"start\" x=\"567.5\" y=\"-263.0758\" font-family=\"Times,serif\" font-size=\"14.00\" fill=\"#000000\">gini = 0.0</text>\n",
       "<text text-anchor=\"start\" x=\"558\" y=\"-248.0758\" font-family=\"Times,serif\" font-size=\"14.00\" fill=\"#000000\">samples = 31</text>\n",
       "<text text-anchor=\"start\" x=\"546.5\" y=\"-233.0758\" font-family=\"Times,serif\" font-size=\"14.00\" fill=\"#000000\">value = [0, 31, 0]</text>\n",
       "</g>\n",
       "<!-- 3&#45;&gt;5 -->\n",
       "<g id=\"edge5\" class=\"edge\">\n",
       "<title>3&#45;&gt;5</title>\n",
       "<path fill=\"none\" stroke=\"#000000\" d=\"M502.8517,-254.5682C511.3215,-254.3115 519.9289,-254.0507 528.3101,-253.7967\"/>\n",
       "<polygon fill=\"#000000\" stroke=\"#000000\" points=\"528.5074,-257.2925 538.3967,-253.4911 528.2953,-250.2957 528.5074,-257.2925\"/>\n",
       "</g>\n",
       "<!-- 7 -->\n",
       "<g id=\"node8\" class=\"node\">\n",
       "<title>7</title>\n",
       "<polygon fill=\"transparent\" stroke=\"#000000\" points=\"648,-166.2758 542,-166.2758 542,-113.2758 648,-113.2758 648,-166.2758\"/>\n",
       "<text text-anchor=\"start\" x=\"567.5\" y=\"-151.0758\" font-family=\"Times,serif\" font-size=\"14.00\" fill=\"#000000\">gini = 0.0</text>\n",
       "<text text-anchor=\"start\" x=\"561.5\" y=\"-136.0758\" font-family=\"Times,serif\" font-size=\"14.00\" fill=\"#000000\">samples = 8</text>\n",
       "<text text-anchor=\"start\" x=\"550\" y=\"-121.0758\" font-family=\"Times,serif\" font-size=\"14.00\" fill=\"#000000\">value = [0, 4, 4]</text>\n",
       "</g>\n",
       "<!-- 6&#45;&gt;7 -->\n",
       "<g id=\"edge7\" class=\"edge\">\n",
       "<title>6&#45;&gt;7</title>\n",
       "<path fill=\"none\" stroke=\"#000000\" d=\"M500.4535,-136.3378C510.833,-136.7152 521.4725,-137.1021 531.6956,-137.4738\"/>\n",
       "<polygon fill=\"#000000\" stroke=\"#000000\" points=\"531.6343,-140.9738 541.7549,-137.8396 531.8888,-133.9785 531.6343,-140.9738\"/>\n",
       "</g>\n",
       "<!-- 8 -->\n",
       "<g id=\"node9\" class=\"node\">\n",
       "<title>8</title>\n",
       "<polygon fill=\"#8139e5\" fill-opacity=\"0.972549\" stroke=\"#000000\" points=\"651.5,-64.2758 538.5,-64.2758 538.5,-11.2758 651.5,-11.2758 651.5,-64.2758\"/>\n",
       "<text text-anchor=\"start\" x=\"567.5\" y=\"-49.0758\" font-family=\"Times,serif\" font-size=\"14.00\" fill=\"#000000\">gini = 0.0</text>\n",
       "<text text-anchor=\"start\" x=\"558\" y=\"-34.0758\" font-family=\"Times,serif\" font-size=\"14.00\" fill=\"#000000\">samples = 40</text>\n",
       "<text text-anchor=\"start\" x=\"546.5\" y=\"-19.0758\" font-family=\"Times,serif\" font-size=\"14.00\" fill=\"#000000\">value = [0, 1, 39]</text>\n",
       "</g>\n",
       "<!-- 6&#45;&gt;8 -->\n",
       "<g id=\"edge8\" class=\"edge\">\n",
       "<title>6&#45;&gt;8</title>\n",
       "<path fill=\"none\" stroke=\"#000000\" d=\"M488.6374,-99.6595C505.4408,-89.883 523.6892,-79.2657 540.2493,-69.6308\"/>\n",
       "<polygon fill=\"#000000\" stroke=\"#000000\" points=\"542.3724,-72.4449 549.2557,-64.3907 538.8521,-66.3944 542.3724,-72.4449\"/>\n",
       "</g>\n",
       "</g>\n",
       "</svg>\n"
      ],
      "text/plain": [
       "<graphviz.files.Source at 0x7fbe2c68f898>"
      ]
     },
     "metadata": {},
     "output_type": "display_data"
    }
   ],
   "source": [
    "draw_tree(m.estimators_[0], df)"
   ]
  },
  {
   "cell_type": "markdown",
   "metadata": {},
   "source": [
    "## Using a deeper tree"
   ]
  },
  {
   "cell_type": "code",
   "execution_count": 18,
   "metadata": {},
   "outputs": [
    {
     "name": "stdout",
     "output_type": "stream",
     "text": [
      "Accuracy (Training): 1.0\n",
      "     Accuracy score: 0.96667\n"
     ]
    }
   ],
   "source": [
    "m = RandomForestClassifier(n_estimators=1, bootstrap=False, n_jobs=-1)\n",
    "train_classifier(m, X_train, y_train)\n",
    "preds = predict_and_evaluate_classifier(m, X_test, y_test)"
   ]
  },
  {
   "cell_type": "code",
   "execution_count": 19,
   "metadata": {},
   "outputs": [
    {
     "data": {
      "image/svg+xml": [
       "<?xml version=\"1.0\" encoding=\"UTF-8\" standalone=\"no\"?>\n",
       "<!DOCTYPE svg PUBLIC \"-//W3C//DTD SVG 1.1//EN\"\n",
       " \"http://www.w3.org/Graphics/SVG/1.1/DTD/svg11.dtd\">\n",
       "<!-- Generated by graphviz version 2.40.1 (20161225.0304)\n",
       " -->\n",
       "<!-- Title: Tree Pages: 1 -->\n",
       "<svg width=\"720pt\" height=\"434pt\"\n",
       " viewBox=\"0.00 0.00 720.00 433.95\" xmlns=\"http://www.w3.org/2000/svg\" xmlns:xlink=\"http://www.w3.org/1999/xlink\">\n",
       "<g id=\"graph0\" class=\"graph\" transform=\"scale(.6086 .6086) rotate(0) translate(4 709)\">\n",
       "<title>Tree</title>\n",
       "<polygon fill=\"#ffffff\" stroke=\"transparent\" points=\"-4,4 -4,-709 1179,-709 1179,4 -4,4\"/>\n",
       "<!-- 0 -->\n",
       "<g id=\"node1\" class=\"node\">\n",
       "<title>0</title>\n",
       "<polygon fill=\"#8139e5\" fill-opacity=\"0.062745\" stroke=\"#000000\" points=\"140,-437.2088 0,-437.2088 0,-369.2088 140,-369.2088 140,-437.2088\"/>\n",
       "<text text-anchor=\"start\" x=\"8\" y=\"-422.0088\" font-family=\"Times,serif\" font-size=\"14.00\" fill=\"#000000\">petal width (cm) ≤ 1.0</text>\n",
       "<text text-anchor=\"start\" x=\"42.5\" y=\"-407.0088\" font-family=\"Times,serif\" font-size=\"14.00\" fill=\"#000000\">gini = 1.0</text>\n",
       "<text text-anchor=\"start\" x=\"29.5\" y=\"-392.0088\" font-family=\"Times,serif\" font-size=\"14.00\" fill=\"#000000\">samples = 120</text>\n",
       "<text text-anchor=\"start\" x=\"15\" y=\"-377.0088\" font-family=\"Times,serif\" font-size=\"14.00\" fill=\"#000000\">value = [39, 37, 44]</text>\n",
       "</g>\n",
       "<!-- 1 -->\n",
       "<g id=\"node2\" class=\"node\">\n",
       "<title>1</title>\n",
       "<polygon fill=\"#e58139\" stroke=\"#000000\" points=\"302.5,-515.7088 189.5,-515.7088 189.5,-462.7088 302.5,-462.7088 302.5,-515.7088\"/>\n",
       "<text text-anchor=\"start\" x=\"218.5\" y=\"-500.5088\" font-family=\"Times,serif\" font-size=\"14.00\" fill=\"#000000\">gini = 0.0</text>\n",
       "<text text-anchor=\"start\" x=\"209\" y=\"-485.5088\" font-family=\"Times,serif\" font-size=\"14.00\" fill=\"#000000\">samples = 39</text>\n",
       "<text text-anchor=\"start\" x=\"197.5\" y=\"-470.5088\" font-family=\"Times,serif\" font-size=\"14.00\" fill=\"#000000\">value = [39, 0, 0]</text>\n",
       "</g>\n",
       "<!-- 0&#45;&gt;1 -->\n",
       "<g id=\"edge1\" class=\"edge\">\n",
       "<title>0&#45;&gt;1</title>\n",
       "<path fill=\"none\" stroke=\"#000000\" d=\"M139.8126,-437.3218C153.9836,-444.2463 168.8126,-451.4923 182.7414,-458.2984\"/>\n",
       "<polygon fill=\"#000000\" stroke=\"#000000\" points=\"181.2273,-461.454 191.7487,-462.6997 184.3006,-455.1647 181.2273,-461.454\"/>\n",
       "<text text-anchor=\"middle\" x=\"172.8336\" y=\"-465.4972\" font-family=\"Times,serif\" font-size=\"14.00\" fill=\"#000000\">True</text>\n",
       "</g>\n",
       "<!-- 2 -->\n",
       "<g id=\"node3\" class=\"node\">\n",
       "<title>2</title>\n",
       "<polygon fill=\"#8139e5\" fill-opacity=\"0.160784\" stroke=\"#000000\" points=\"316,-353.2088 176,-353.2088 176,-285.2088 316,-285.2088 316,-353.2088\"/>\n",
       "<text text-anchor=\"start\" x=\"184\" y=\"-338.0088\" font-family=\"Times,serif\" font-size=\"14.00\" fill=\"#000000\">petal width (cm) ≤ 2.0</text>\n",
       "<text text-anchor=\"start\" x=\"218.5\" y=\"-323.0088\" font-family=\"Times,serif\" font-size=\"14.00\" fill=\"#000000\">gini = 0.0</text>\n",
       "<text text-anchor=\"start\" x=\"209\" y=\"-308.0088\" font-family=\"Times,serif\" font-size=\"14.00\" fill=\"#000000\">samples = 81</text>\n",
       "<text text-anchor=\"start\" x=\"194.5\" y=\"-293.0088\" font-family=\"Times,serif\" font-size=\"14.00\" fill=\"#000000\">value = [0, 37, 44]</text>\n",
       "</g>\n",
       "<!-- 0&#45;&gt;2 -->\n",
       "<g id=\"edge2\" class=\"edge\">\n",
       "<title>0&#45;&gt;2</title>\n",
       "<path fill=\"none\" stroke=\"#000000\" d=\"M140.0656,-369.7685C148.8166,-365.5918 157.8148,-361.2973 166.6937,-357.0596\"/>\n",
       "<polygon fill=\"#000000\" stroke=\"#000000\" points=\"168.3707,-360.1374 175.888,-352.6714 165.3556,-353.8201 168.3707,-360.1374\"/>\n",
       "<text text-anchor=\"middle\" x=\"157.0335\" y=\"-342.2998\" font-family=\"Times,serif\" font-size=\"14.00\" fill=\"#000000\">False</text>\n",
       "</g>\n",
       "<!-- 3 -->\n",
       "<g id=\"node4\" class=\"node\">\n",
       "<title>3</title>\n",
       "<polygon fill=\"#39e581\" fill-opacity=\"0.890196\" stroke=\"#000000\" points=\"493,-445.2088 353,-445.2088 353,-377.2088 493,-377.2088 493,-445.2088\"/>\n",
       "<text text-anchor=\"start\" x=\"361\" y=\"-430.0088\" font-family=\"Times,serif\" font-size=\"14.00\" fill=\"#000000\">petal width (cm) ≤ 1.0</text>\n",
       "<text text-anchor=\"start\" x=\"395.5\" y=\"-415.0088\" font-family=\"Times,serif\" font-size=\"14.00\" fill=\"#000000\">gini = 0.0</text>\n",
       "<text text-anchor=\"start\" x=\"386\" y=\"-400.0088\" font-family=\"Times,serif\" font-size=\"14.00\" fill=\"#000000\">samples = 40</text>\n",
       "<text text-anchor=\"start\" x=\"374.5\" y=\"-385.0088\" font-family=\"Times,serif\" font-size=\"14.00\" fill=\"#000000\">value = [0, 36, 4]</text>\n",
       "</g>\n",
       "<!-- 2&#45;&gt;3 -->\n",
       "<g id=\"edge3\" class=\"edge\">\n",
       "<title>2&#45;&gt;3</title>\n",
       "<path fill=\"none\" stroke=\"#000000\" d=\"M311.6567,-353.3355C323.5735,-359.5295 336.0833,-366.0318 348.2388,-372.3499\"/>\n",
       "<polygon fill=\"#000000\" stroke=\"#000000\" points=\"346.9621,-375.6309 357.4493,-377.1373 350.1905,-369.4198 346.9621,-375.6309\"/>\n",
       "</g>\n",
       "<!-- 12 -->\n",
       "<g id=\"node13\" class=\"node\">\n",
       "<title>12</title>\n",
       "<polygon fill=\"#8139e5\" fill-opacity=\"0.976471\" stroke=\"#000000\" points=\"494.5,-261.2088 351.5,-261.2088 351.5,-193.2088 494.5,-193.2088 494.5,-261.2088\"/>\n",
       "<text text-anchor=\"start\" x=\"359.5\" y=\"-246.0088\" font-family=\"Times,serif\" font-size=\"14.00\" fill=\"#000000\">petal length (cm) ≤ 5.0</text>\n",
       "<text text-anchor=\"start\" x=\"395.5\" y=\"-231.0088\" font-family=\"Times,serif\" font-size=\"14.00\" fill=\"#000000\">gini = 0.0</text>\n",
       "<text text-anchor=\"start\" x=\"386\" y=\"-216.0088\" font-family=\"Times,serif\" font-size=\"14.00\" fill=\"#000000\">samples = 41</text>\n",
       "<text text-anchor=\"start\" x=\"374.5\" y=\"-201.0088\" font-family=\"Times,serif\" font-size=\"14.00\" fill=\"#000000\">value = [0, 1, 40]</text>\n",
       "</g>\n",
       "<!-- 2&#45;&gt;12 -->\n",
       "<g id=\"edge12\" class=\"edge\">\n",
       "<title>2&#45;&gt;12</title>\n",
       "<path fill=\"none\" stroke=\"#000000\" d=\"M311.6567,-285.0822C323.5735,-278.8882 336.0833,-272.3859 348.2388,-266.0678\"/>\n",
       "<polygon fill=\"#000000\" stroke=\"#000000\" points=\"350.1905,-268.9979 357.4493,-261.2804 346.9621,-262.7868 350.1905,-268.9979\"/>\n",
       "</g>\n",
       "<!-- 4 -->\n",
       "<g id=\"node5\" class=\"node\">\n",
       "<title>4</title>\n",
       "<polygon fill=\"#39e581\" stroke=\"#000000\" points=\"659.5,-607.7088 546.5,-607.7088 546.5,-554.7088 659.5,-554.7088 659.5,-607.7088\"/>\n",
       "<text text-anchor=\"start\" x=\"575.5\" y=\"-592.5088\" font-family=\"Times,serif\" font-size=\"14.00\" fill=\"#000000\">gini = 0.0</text>\n",
       "<text text-anchor=\"start\" x=\"566\" y=\"-577.5088\" font-family=\"Times,serif\" font-size=\"14.00\" fill=\"#000000\">samples = 22</text>\n",
       "<text text-anchor=\"start\" x=\"554.5\" y=\"-562.5088\" font-family=\"Times,serif\" font-size=\"14.00\" fill=\"#000000\">value = [0, 22, 0]</text>\n",
       "</g>\n",
       "<!-- 3&#45;&gt;4 -->\n",
       "<g id=\"edge4\" class=\"edge\">\n",
       "<title>3&#45;&gt;4</title>\n",
       "<path fill=\"none\" stroke=\"#000000\" d=\"M459.4257,-445.6109C490.8668,-475.3052 536.0229,-517.9527 567.2619,-547.4562\"/>\n",
       "<polygon fill=\"#000000\" stroke=\"#000000\" points=\"565.214,-550.3363 574.8874,-554.658 570.0204,-545.2472 565.214,-550.3363\"/>\n",
       "</g>\n",
       "<!-- 5 -->\n",
       "<g id=\"node6\" class=\"node\">\n",
       "<title>5</title>\n",
       "<polygon fill=\"#39e581\" fill-opacity=\"0.713725\" stroke=\"#000000\" points=\"674.5,-445.2088 531.5,-445.2088 531.5,-377.2088 674.5,-377.2088 674.5,-445.2088\"/>\n",
       "<text text-anchor=\"start\" x=\"539.5\" y=\"-430.0088\" font-family=\"Times,serif\" font-size=\"14.00\" fill=\"#000000\">petal length (cm) ≤ 5.0</text>\n",
       "<text text-anchor=\"start\" x=\"575.5\" y=\"-415.0088\" font-family=\"Times,serif\" font-size=\"14.00\" fill=\"#000000\">gini = 0.0</text>\n",
       "<text text-anchor=\"start\" x=\"566\" y=\"-400.0088\" font-family=\"Times,serif\" font-size=\"14.00\" fill=\"#000000\">samples = 18</text>\n",
       "<text text-anchor=\"start\" x=\"554.5\" y=\"-385.0088\" font-family=\"Times,serif\" font-size=\"14.00\" fill=\"#000000\">value = [0, 14, 4]</text>\n",
       "</g>\n",
       "<!-- 3&#45;&gt;5 -->\n",
       "<g id=\"edge5\" class=\"edge\">\n",
       "<title>3&#45;&gt;5</title>\n",
       "<path fill=\"none\" stroke=\"#000000\" d=\"M493.1081,-411.2088C502.3146,-411.2088 511.8135,-411.2088 521.1927,-411.2088\"/>\n",
       "<polygon fill=\"#000000\" stroke=\"#000000\" points=\"521.3037,-414.7089 531.3036,-411.2088 521.3036,-407.7089 521.3037,-414.7089\"/>\n",
       "</g>\n",
       "<!-- 6 -->\n",
       "<g id=\"node7\" class=\"node\">\n",
       "<title>6</title>\n",
       "<polygon fill=\"#39e581\" stroke=\"#000000\" points=\"840.5,-607.7088 727.5,-607.7088 727.5,-554.7088 840.5,-554.7088 840.5,-607.7088\"/>\n",
       "<text text-anchor=\"start\" x=\"756.5\" y=\"-592.5088\" font-family=\"Times,serif\" font-size=\"14.00\" fill=\"#000000\">gini = 0.0</text>\n",
       "<text text-anchor=\"start\" x=\"747\" y=\"-577.5088\" font-family=\"Times,serif\" font-size=\"14.00\" fill=\"#000000\">samples = 13</text>\n",
       "<text text-anchor=\"start\" x=\"735.5\" y=\"-562.5088\" font-family=\"Times,serif\" font-size=\"14.00\" fill=\"#000000\">value = [0, 13, 0]</text>\n",
       "</g>\n",
       "<!-- 5&#45;&gt;6 -->\n",
       "<g id=\"edge6\" class=\"edge\">\n",
       "<title>5&#45;&gt;6</title>\n",
       "<path fill=\"none\" stroke=\"#000000\" d=\"M639.6281,-445.6109C671.2438,-475.3052 716.6508,-517.9527 748.0634,-547.4562\"/>\n",
       "<polygon fill=\"#000000\" stroke=\"#000000\" points=\"746.0459,-550.3631 755.7312,-554.658 750.8382,-545.2607 746.0459,-550.3631\"/>\n",
       "</g>\n",
       "<!-- 7 -->\n",
       "<g id=\"node8\" class=\"node\">\n",
       "<title>7</title>\n",
       "<polygon fill=\"#8139e5\" fill-opacity=\"0.749020\" stroke=\"#000000\" points=\"856.5,-445.2088 711.5,-445.2088 711.5,-377.2088 856.5,-377.2088 856.5,-445.2088\"/>\n",
       "<text text-anchor=\"start\" x=\"719.5\" y=\"-430.0088\" font-family=\"Times,serif\" font-size=\"14.00\" fill=\"#000000\">sepal length (cm) ≤ 6.0</text>\n",
       "<text text-anchor=\"start\" x=\"756.5\" y=\"-415.0088\" font-family=\"Times,serif\" font-size=\"14.00\" fill=\"#000000\">gini = 0.0</text>\n",
       "<text text-anchor=\"start\" x=\"750.5\" y=\"-400.0088\" font-family=\"Times,serif\" font-size=\"14.00\" fill=\"#000000\">samples = 5</text>\n",
       "<text text-anchor=\"start\" x=\"739\" y=\"-385.0088\" font-family=\"Times,serif\" font-size=\"14.00\" fill=\"#000000\">value = [0, 1, 4]</text>\n",
       "</g>\n",
       "<!-- 5&#45;&gt;7 -->\n",
       "<g id=\"edge7\" class=\"edge\">\n",
       "<title>5&#45;&gt;7</title>\n",
       "<path fill=\"none\" stroke=\"#000000\" d=\"M674.536,-411.2088C683.2007,-411.2088 692.1083,-411.2088 700.9213,-411.2088\"/>\n",
       "<polygon fill=\"#000000\" stroke=\"#000000\" points=\"701.2035,-414.7089 711.2035,-411.2088 701.2034,-407.7089 701.2035,-414.7089\"/>\n",
       "</g>\n",
       "<!-- 8 -->\n",
       "<g id=\"node9\" class=\"node\">\n",
       "<title>8</title>\n",
       "<polygon fill=\"transparent\" stroke=\"#000000\" points=\"1033,-607.2088 893,-607.2088 893,-539.2088 1033,-539.2088 1033,-607.2088\"/>\n",
       "<text text-anchor=\"start\" x=\"901\" y=\"-592.0088\" font-family=\"Times,serif\" font-size=\"14.00\" fill=\"#000000\">petal width (cm) ≤ 2.0</text>\n",
       "<text text-anchor=\"start\" x=\"935.5\" y=\"-577.0088\" font-family=\"Times,serif\" font-size=\"14.00\" fill=\"#000000\">gini = 0.0</text>\n",
       "<text text-anchor=\"start\" x=\"929.5\" y=\"-562.0088\" font-family=\"Times,serif\" font-size=\"14.00\" fill=\"#000000\">samples = 2</text>\n",
       "<text text-anchor=\"start\" x=\"918\" y=\"-547.0088\" font-family=\"Times,serif\" font-size=\"14.00\" fill=\"#000000\">value = [0, 1, 1]</text>\n",
       "</g>\n",
       "<!-- 7&#45;&gt;8 -->\n",
       "<g id=\"edge8\" class=\"edge\">\n",
       "<title>7&#45;&gt;8</title>\n",
       "<path fill=\"none\" stroke=\"#000000\" d=\"M821.9613,-445.5649C849.9405,-470.8869 888.1137,-505.4346 917.6909,-532.2028\"/>\n",
       "<polygon fill=\"#000000\" stroke=\"#000000\" points=\"915.6378,-535.0653 925.4007,-539.1805 920.3349,-529.8752 915.6378,-535.0653\"/>\n",
       "</g>\n",
       "<!-- 11 -->\n",
       "<g id=\"node12\" class=\"node\">\n",
       "<title>11</title>\n",
       "<polygon fill=\"#8139e5\" stroke=\"#000000\" points=\"1016,-429.7088 910,-429.7088 910,-376.7088 1016,-376.7088 1016,-429.7088\"/>\n",
       "<text text-anchor=\"start\" x=\"935.5\" y=\"-414.5088\" font-family=\"Times,serif\" font-size=\"14.00\" fill=\"#000000\">gini = 0.0</text>\n",
       "<text text-anchor=\"start\" x=\"929.5\" y=\"-399.5088\" font-family=\"Times,serif\" font-size=\"14.00\" fill=\"#000000\">samples = 3</text>\n",
       "<text text-anchor=\"start\" x=\"918\" y=\"-384.5088\" font-family=\"Times,serif\" font-size=\"14.00\" fill=\"#000000\">value = [0, 0, 3]</text>\n",
       "</g>\n",
       "<!-- 7&#45;&gt;11 -->\n",
       "<g id=\"edge11\" class=\"edge\">\n",
       "<title>7&#45;&gt;11</title>\n",
       "<path fill=\"none\" stroke=\"#000000\" d=\"M856.5481,-407.9665C870.897,-407.3252 885.8492,-406.6569 899.8559,-406.0309\"/>\n",
       "<polygon fill=\"#000000\" stroke=\"#000000\" points=\"900.032,-409.5266 909.8657,-405.5836 899.7194,-402.5336 900.032,-409.5266\"/>\n",
       "</g>\n",
       "<!-- 9 -->\n",
       "<g id=\"node10\" class=\"node\">\n",
       "<title>9</title>\n",
       "<polygon fill=\"#8139e5\" stroke=\"#000000\" points=\"1175,-674.7088 1069,-674.7088 1069,-621.7088 1175,-621.7088 1175,-674.7088\"/>\n",
       "<text text-anchor=\"start\" x=\"1094.5\" y=\"-659.5088\" font-family=\"Times,serif\" font-size=\"14.00\" fill=\"#000000\">gini = 0.0</text>\n",
       "<text text-anchor=\"start\" x=\"1088.5\" y=\"-644.5088\" font-family=\"Times,serif\" font-size=\"14.00\" fill=\"#000000\">samples = 1</text>\n",
       "<text text-anchor=\"start\" x=\"1077\" y=\"-629.5088\" font-family=\"Times,serif\" font-size=\"14.00\" fill=\"#000000\">value = [0, 0, 1]</text>\n",
       "</g>\n",
       "<!-- 8&#45;&gt;9 -->\n",
       "<g id=\"edge9\" class=\"edge\">\n",
       "<title>8&#45;&gt;9</title>\n",
       "<path fill=\"none\" stroke=\"#000000\" d=\"M1033.2025,-606.3233C1042,-610.473 1050.9515,-614.6954 1059.618,-618.7834\"/>\n",
       "<polygon fill=\"#000000\" stroke=\"#000000\" points=\"1058.352,-622.056 1068.8895,-623.1567 1061.3384,-615.725 1058.352,-622.056\"/>\n",
       "</g>\n",
       "<!-- 10 -->\n",
       "<g id=\"node11\" class=\"node\">\n",
       "<title>10</title>\n",
       "<polygon fill=\"#39e581\" stroke=\"#000000\" points=\"1175,-521.7088 1069,-521.7088 1069,-468.7088 1175,-468.7088 1175,-521.7088\"/>\n",
       "<text text-anchor=\"start\" x=\"1094.5\" y=\"-506.5088\" font-family=\"Times,serif\" font-size=\"14.00\" fill=\"#000000\">gini = 0.0</text>\n",
       "<text text-anchor=\"start\" x=\"1088.5\" y=\"-491.5088\" font-family=\"Times,serif\" font-size=\"14.00\" fill=\"#000000\">samples = 1</text>\n",
       "<text text-anchor=\"start\" x=\"1077\" y=\"-476.5088\" font-family=\"Times,serif\" font-size=\"14.00\" fill=\"#000000\">value = [0, 1, 0]</text>\n",
       "</g>\n",
       "<!-- 8&#45;&gt;10 -->\n",
       "<g id=\"edge10\" class=\"edge\">\n",
       "<title>8&#45;&gt;10</title>\n",
       "<path fill=\"none\" stroke=\"#000000\" d=\"M1032.7397,-538.9969C1041.6574,-534.6222 1050.7414,-530.1659 1059.5337,-525.8527\"/>\n",
       "<polygon fill=\"#000000\" stroke=\"#000000\" points=\"1061.1351,-528.9656 1068.5715,-521.4191 1058.0521,-522.6811 1061.1351,-528.9656\"/>\n",
       "</g>\n",
       "<!-- 13 -->\n",
       "<g id=\"node14\" class=\"node\">\n",
       "<title>13</title>\n",
       "<polygon fill=\"#8139e5\" fill-opacity=\"0.666667\" stroke=\"#000000\" points=\"675.5,-261.2088 530.5,-261.2088 530.5,-193.2088 675.5,-193.2088 675.5,-261.2088\"/>\n",
       "<text text-anchor=\"start\" x=\"538.5\" y=\"-246.0088\" font-family=\"Times,serif\" font-size=\"14.00\" fill=\"#000000\">sepal length (cm) ≤ 6.0</text>\n",
       "<text text-anchor=\"start\" x=\"575.5\" y=\"-231.0088\" font-family=\"Times,serif\" font-size=\"14.00\" fill=\"#000000\">gini = 0.0</text>\n",
       "<text text-anchor=\"start\" x=\"569.5\" y=\"-216.0088\" font-family=\"Times,serif\" font-size=\"14.00\" fill=\"#000000\">samples = 4</text>\n",
       "<text text-anchor=\"start\" x=\"558\" y=\"-201.0088\" font-family=\"Times,serif\" font-size=\"14.00\" fill=\"#000000\">value = [0, 1, 3]</text>\n",
       "</g>\n",
       "<!-- 12&#45;&gt;13 -->\n",
       "<g id=\"edge13\" class=\"edge\">\n",
       "<title>12&#45;&gt;13</title>\n",
       "<path fill=\"none\" stroke=\"#000000\" d=\"M494.658,-227.2088C503.1139,-227.2088 511.7954,-227.2088 520.3865,-227.2088\"/>\n",
       "<polygon fill=\"#000000\" stroke=\"#000000\" points=\"520.4113,-230.7089 530.4113,-227.2088 520.4112,-223.7089 520.4113,-230.7089\"/>\n",
       "</g>\n",
       "<!-- 18 -->\n",
       "<g id=\"node19\" class=\"node\">\n",
       "<title>18</title>\n",
       "<polygon fill=\"#8139e5\" stroke=\"#000000\" points=\"659.5,-83.7088 546.5,-83.7088 546.5,-30.7088 659.5,-30.7088 659.5,-83.7088\"/>\n",
       "<text text-anchor=\"start\" x=\"575.5\" y=\"-68.5088\" font-family=\"Times,serif\" font-size=\"14.00\" fill=\"#000000\">gini = 0.0</text>\n",
       "<text text-anchor=\"start\" x=\"566\" y=\"-53.5088\" font-family=\"Times,serif\" font-size=\"14.00\" fill=\"#000000\">samples = 37</text>\n",
       "<text text-anchor=\"start\" x=\"554.5\" y=\"-38.5088\" font-family=\"Times,serif\" font-size=\"14.00\" fill=\"#000000\">value = [0, 0, 37]</text>\n",
       "</g>\n",
       "<!-- 12&#45;&gt;18 -->\n",
       "<g id=\"edge18\" class=\"edge\">\n",
       "<title>12&#45;&gt;18</title>\n",
       "<path fill=\"none\" stroke=\"#000000\" d=\"M459.4257,-192.8068C490.8668,-163.1125 536.0229,-120.465 567.2619,-90.9615\"/>\n",
       "<polygon fill=\"#000000\" stroke=\"#000000\" points=\"570.0204,-93.1705 574.8874,-83.7597 565.214,-88.0814 570.0204,-93.1705\"/>\n",
       "</g>\n",
       "<!-- 14 -->\n",
       "<g id=\"node15\" class=\"node\">\n",
       "<title>14</title>\n",
       "<polygon fill=\"transparent\" stroke=\"#000000\" points=\"854,-261.2088 714,-261.2088 714,-193.2088 854,-193.2088 854,-261.2088\"/>\n",
       "<text text-anchor=\"start\" x=\"722\" y=\"-246.0088\" font-family=\"Times,serif\" font-size=\"14.00\" fill=\"#000000\">petal width (cm) ≤ 2.0</text>\n",
       "<text text-anchor=\"start\" x=\"756.5\" y=\"-231.0088\" font-family=\"Times,serif\" font-size=\"14.00\" fill=\"#000000\">gini = 0.0</text>\n",
       "<text text-anchor=\"start\" x=\"750.5\" y=\"-216.0088\" font-family=\"Times,serif\" font-size=\"14.00\" fill=\"#000000\">samples = 2</text>\n",
       "<text text-anchor=\"start\" x=\"739\" y=\"-201.0088\" font-family=\"Times,serif\" font-size=\"14.00\" fill=\"#000000\">value = [0, 1, 1]</text>\n",
       "</g>\n",
       "<!-- 13&#45;&gt;14 -->\n",
       "<g id=\"edge14\" class=\"edge\">\n",
       "<title>13&#45;&gt;14</title>\n",
       "<path fill=\"none\" stroke=\"#000000\" d=\"M675.5767,-227.2088C684.8217,-227.2088 694.3266,-227.2088 703.6844,-227.2088\"/>\n",
       "<polygon fill=\"#000000\" stroke=\"#000000\" points=\"703.7616,-230.7089 713.7616,-227.2088 703.7616,-223.7089 703.7616,-230.7089\"/>\n",
       "</g>\n",
       "<!-- 17 -->\n",
       "<g id=\"node18\" class=\"node\">\n",
       "<title>17</title>\n",
       "<polygon fill=\"#8139e5\" stroke=\"#000000\" points=\"837,-83.7088 731,-83.7088 731,-30.7088 837,-30.7088 837,-83.7088\"/>\n",
       "<text text-anchor=\"start\" x=\"756.5\" y=\"-68.5088\" font-family=\"Times,serif\" font-size=\"14.00\" fill=\"#000000\">gini = 0.0</text>\n",
       "<text text-anchor=\"start\" x=\"750.5\" y=\"-53.5088\" font-family=\"Times,serif\" font-size=\"14.00\" fill=\"#000000\">samples = 2</text>\n",
       "<text text-anchor=\"start\" x=\"739\" y=\"-38.5088\" font-family=\"Times,serif\" font-size=\"14.00\" fill=\"#000000\">value = [0, 0, 2]</text>\n",
       "</g>\n",
       "<!-- 13&#45;&gt;17 -->\n",
       "<g id=\"edge17\" class=\"edge\">\n",
       "<title>13&#45;&gt;17</title>\n",
       "<path fill=\"none\" stroke=\"#000000\" d=\"M639.6281,-192.8068C671.2438,-163.1125 716.6508,-120.465 748.0634,-90.9615\"/>\n",
       "<polygon fill=\"#000000\" stroke=\"#000000\" points=\"750.8382,-93.157 755.7312,-83.7597 746.0459,-88.0546 750.8382,-93.157\"/>\n",
       "</g>\n",
       "<!-- 15 -->\n",
       "<g id=\"node16\" class=\"node\">\n",
       "<title>15</title>\n",
       "<polygon fill=\"#8139e5\" stroke=\"#000000\" points=\"1016,-261.7088 910,-261.7088 910,-208.7088 1016,-208.7088 1016,-261.7088\"/>\n",
       "<text text-anchor=\"start\" x=\"935.5\" y=\"-246.5088\" font-family=\"Times,serif\" font-size=\"14.00\" fill=\"#000000\">gini = 0.0</text>\n",
       "<text text-anchor=\"start\" x=\"929.5\" y=\"-231.5088\" font-family=\"Times,serif\" font-size=\"14.00\" fill=\"#000000\">samples = 1</text>\n",
       "<text text-anchor=\"start\" x=\"918\" y=\"-216.5088\" font-family=\"Times,serif\" font-size=\"14.00\" fill=\"#000000\">value = [0, 0, 1]</text>\n",
       "</g>\n",
       "<!-- 14&#45;&gt;15 -->\n",
       "<g id=\"edge15\" class=\"edge\">\n",
       "<title>14&#45;&gt;15</title>\n",
       "<path fill=\"none\" stroke=\"#000000\" d=\"M854.2318,-230.3477C869.2725,-231.0199 885.0753,-231.7262 899.8301,-232.3856\"/>\n",
       "<polygon fill=\"#000000\" stroke=\"#000000\" points=\"899.709,-235.8836 909.8553,-232.8337 900.0216,-228.8906 899.709,-235.8836\"/>\n",
       "</g>\n",
       "<!-- 16 -->\n",
       "<g id=\"node17\" class=\"node\">\n",
       "<title>16</title>\n",
       "<polygon fill=\"#39e581\" stroke=\"#000000\" points=\"1016,-109.7088 910,-109.7088 910,-56.7088 1016,-56.7088 1016,-109.7088\"/>\n",
       "<text text-anchor=\"start\" x=\"935.5\" y=\"-94.5088\" font-family=\"Times,serif\" font-size=\"14.00\" fill=\"#000000\">gini = 0.0</text>\n",
       "<text text-anchor=\"start\" x=\"929.5\" y=\"-79.5088\" font-family=\"Times,serif\" font-size=\"14.00\" fill=\"#000000\">samples = 1</text>\n",
       "<text text-anchor=\"start\" x=\"918\" y=\"-64.5088\" font-family=\"Times,serif\" font-size=\"14.00\" fill=\"#000000\">value = [0, 1, 0]</text>\n",
       "</g>\n",
       "<!-- 14&#45;&gt;16 -->\n",
       "<g id=\"edge16\" class=\"edge\">\n",
       "<title>14&#45;&gt;16</title>\n",
       "<path fill=\"none\" stroke=\"#000000\" d=\"M826.4205,-193.0829C855.3374,-169.8201 893.4205,-139.1834 922.0251,-116.1719\"/>\n",
       "<polygon fill=\"#000000\" stroke=\"#000000\" points=\"924.2283,-118.8915 929.8262,-109.8962 919.8406,-113.4373 924.2283,-118.8915\"/>\n",
       "</g>\n",
       "</g>\n",
       "</svg>\n"
      ],
      "text/plain": [
       "<graphviz.files.Source at 0x7fbdf6e36c50>"
      ]
     },
     "metadata": {},
     "output_type": "display_data"
    }
   ],
   "source": [
    "draw_tree(m.estimators_[0], df)"
   ]
  },
  {
   "cell_type": "markdown",
   "metadata": {},
   "source": [
    "## How many estimators?"
   ]
  },
  {
   "cell_type": "code",
   "execution_count": 20,
   "metadata": {},
   "outputs": [
    {
     "name": "stdout",
     "output_type": "stream",
     "text": [
      "Accuracy (Training): 1.0\n",
      "     Accuracy score: 0.96667\n"
     ]
    }
   ],
   "source": [
    "m = RandomForestClassifier(n_estimators=20, n_jobs=-1)\n",
    "train_classifier(m, X_train, y_train)\n",
    "m_preds = predict_and_evaluate_classifier(m, X_test, y_test)"
   ]
  },
  {
   "cell_type": "code",
   "execution_count": 21,
   "metadata": {},
   "outputs": [
    {
     "data": {
      "image/png": "[encoded data removed]",
      "text/plain": [
       "<Figure size 432x288 with 1 Axes>"
      ]
     },
     "metadata": {
      "needs_background": "light"
     },
     "output_type": "display_data"
    }
   ],
   "source": [
    "analyze_estimators_growth_accuracy(m, X_test, y_test)"
   ]
  },
  {
   "cell_type": "markdown",
   "metadata": {},
   "source": [
    "## Are we overfitting?"
   ]
  },
  {
   "cell_type": "code",
   "execution_count": 22,
   "metadata": {},
   "outputs": [
    {
     "name": "stdout",
     "output_type": "stream",
     "text": [
      "Accuracy (Training): 0.9916666666666667\n",
      "          OOB Score: 0.95\n",
      "     Accuracy score: 0.96667\n"
     ]
    }
   ],
   "source": [
    "m = RandomForestClassifier(n_estimators=20, n_jobs=-1, oob_score=True)\n",
    "train_classifier(m, X_train, y_train)\n",
    "m_preds = predict_and_evaluate_classifier(m, X_test, y_test)"
   ]
  },
  {
   "cell_type": "code",
   "execution_count": 23,
   "metadata": {},
   "outputs": [
    {
     "data": {
      "text/plain": [
       "6"
      ]
     },
     "execution_count": 23,
     "metadata": {},
     "output_type": "execute_result"
    }
   ],
   "source": [
    "t=m.estimators_[0].tree_\n",
    "dectree_max_depth(t)"
   ]
  },
  {
   "cell_type": "code",
   "execution_count": 24,
   "metadata": {},
   "outputs": [
    {
     "name": "stdout",
     "output_type": "stream",
     "text": [
      "Accuracy (Training): 0.9583333333333334\n",
      "          OOB Score: 0.9583333333333334\n",
      "     Accuracy score: 0.96667\n"
     ]
    }
   ],
   "source": [
    "m = RandomForestClassifier(n_estimators=20, n_jobs=-1, min_samples_leaf=5, oob_score=True)\n",
    "train_classifier(m, X_train, y_train)\n",
    "m_preds = predict_and_evaluate_classifier(m, X_test, y_test)"
   ]
  },
  {
   "cell_type": "code",
   "execution_count": 25,
   "metadata": {},
   "outputs": [
    {
     "data": {
      "text/plain": [
       "5"
      ]
     },
     "execution_count": 25,
     "metadata": {},
     "output_type": "execute_result"
    }
   ],
   "source": [
    "t=m.estimators_[0].tree_\n",
    "dectree_max_depth(t)"
   ]
  },
  {
   "cell_type": "markdown",
   "metadata": {},
   "source": [
    "## Confidence Level"
   ]
  },
  {
   "cell_type": "code",
   "execution_count": 26,
   "metadata": {},
   "outputs": [
    {
     "name": "stdout",
     "output_type": "stream",
     "text": [
      "Accuracy (Training): 0.975\n",
      "          OOB Score: 0.9583333333333334\n",
      "     Accuracy score: 0.96667\n"
     ]
    }
   ],
   "source": [
    "m = RandomForestClassifier(n_estimators=20, n_jobs=-1, min_samples_leaf=3, oob_score=True)\n",
    "train_classifier(m, X_train, y_train)\n",
    "m_preds = predict_and_evaluate_classifier(m, X_test, y_test)"
   ]
  },
  {
   "cell_type": "code",
   "execution_count": 29,
   "metadata": {},
   "outputs": [
    {
     "data": {
      "text/html": [
       "<div>\n",
       "<style scoped>\n",
       "    .dataframe tbody tr th:only-of-type {\n",
       "        vertical-align: middle;\n",
       "    }\n",
       "\n",
       "    .dataframe tbody tr th {\n",
       "        vertical-align: top;\n",
       "    }\n",
       "\n",
       "    .dataframe thead th {\n",
       "        text-align: right;\n",
       "    }\n",
       "</style>\n",
       "<table border=\"1\" class=\"dataframe\">\n",
       "  <thead>\n",
       "    <tr style=\"text-align: right;\">\n",
       "      <th></th>\n",
       "      <th>sepal length (cm)</th>\n",
       "      <th>sepal width (cm)</th>\n",
       "      <th>petal length (cm)</th>\n",
       "      <th>petal width (cm)</th>\n",
       "      <th>pred</th>\n",
       "      <th>truth</th>\n",
       "    </tr>\n",
       "  </thead>\n",
       "  <tbody>\n",
       "    <tr>\n",
       "      <th>0</th>\n",
       "      <td>5.8</td>\n",
       "      <td>4.0</td>\n",
       "      <td>1.2</td>\n",
       "      <td>0.2</td>\n",
       "      <td>0</td>\n",
       "      <td>0</td>\n",
       "    </tr>\n",
       "    <tr>\n",
       "      <th>1</th>\n",
       "      <td>5.1</td>\n",
       "      <td>2.5</td>\n",
       "      <td>3.0</td>\n",
       "      <td>1.1</td>\n",
       "      <td>1</td>\n",
       "      <td>1</td>\n",
       "    </tr>\n",
       "    <tr>\n",
       "      <th>2</th>\n",
       "      <td>6.6</td>\n",
       "      <td>3.0</td>\n",
       "      <td>4.4</td>\n",
       "      <td>1.4</td>\n",
       "      <td>1</td>\n",
       "      <td>1</td>\n",
       "    </tr>\n",
       "    <tr>\n",
       "      <th>3</th>\n",
       "      <td>5.4</td>\n",
       "      <td>3.9</td>\n",
       "      <td>1.3</td>\n",
       "      <td>0.4</td>\n",
       "      <td>0</td>\n",
       "      <td>0</td>\n",
       "    </tr>\n",
       "    <tr>\n",
       "      <th>4</th>\n",
       "      <td>7.9</td>\n",
       "      <td>3.8</td>\n",
       "      <td>6.4</td>\n",
       "      <td>2.0</td>\n",
       "      <td>2</td>\n",
       "      <td>2</td>\n",
       "    </tr>\n",
       "    <tr>\n",
       "      <th>5</th>\n",
       "      <td>6.3</td>\n",
       "      <td>3.3</td>\n",
       "      <td>4.7</td>\n",
       "      <td>1.6</td>\n",
       "      <td>1</td>\n",
       "      <td>1</td>\n",
       "    </tr>\n",
       "    <tr>\n",
       "      <th>6</th>\n",
       "      <td>6.9</td>\n",
       "      <td>3.1</td>\n",
       "      <td>5.1</td>\n",
       "      <td>2.3</td>\n",
       "      <td>2</td>\n",
       "      <td>2</td>\n",
       "    </tr>\n",
       "    <tr>\n",
       "      <th>7</th>\n",
       "      <td>5.1</td>\n",
       "      <td>3.8</td>\n",
       "      <td>1.9</td>\n",
       "      <td>0.4</td>\n",
       "      <td>0</td>\n",
       "      <td>0</td>\n",
       "    </tr>\n",
       "    <tr>\n",
       "      <th>8</th>\n",
       "      <td>4.7</td>\n",
       "      <td>3.2</td>\n",
       "      <td>1.6</td>\n",
       "      <td>0.2</td>\n",
       "      <td>0</td>\n",
       "      <td>0</td>\n",
       "    </tr>\n",
       "    <tr>\n",
       "      <th>9</th>\n",
       "      <td>6.9</td>\n",
       "      <td>3.2</td>\n",
       "      <td>5.7</td>\n",
       "      <td>2.3</td>\n",
       "      <td>2</td>\n",
       "      <td>2</td>\n",
       "    </tr>\n",
       "  </tbody>\n",
       "</table>\n",
       "</div>"
      ],
      "text/plain": [
       "   sepal length (cm)  sepal width (cm)  petal length (cm)  petal width (cm)  \\\n",
       "0                5.8               4.0                1.2               0.2   \n",
       "1                5.1               2.5                3.0               1.1   \n",
       "2                6.6               3.0                4.4               1.4   \n",
       "3                5.4               3.9                1.3               0.4   \n",
       "4                7.9               3.8                6.4               2.0   \n",
       "5                6.3               3.3                4.7               1.6   \n",
       "6                6.9               3.1                5.1               2.3   \n",
       "7                5.1               3.8                1.9               0.4   \n",
       "8                4.7               3.2                1.6               0.2   \n",
       "9                6.9               3.2                5.7               2.3   \n",
       "\n",
       "   pred  truth  \n",
       "0     0      0  \n",
       "1     1      1  \n",
       "2     1      1  \n",
       "3     0      0  \n",
       "4     2      2  \n",
       "5     1      1  \n",
       "6     2      2  \n",
       "7     0      0  \n",
       "8     0      0  \n",
       "9     2      2  "
      ]
     },
     "execution_count": 29,
     "metadata": {},
     "output_type": "execute_result"
    }
   ],
   "source": [
    "preds = np.stack([t.predict(X_test) for t in m.estimators_])\n",
    "x = X_test.copy()\n",
    "x['pred'] = stats.mode(preds, axis=0)[0][0].astype('int')\n",
    "x['truth'] = y_test\n",
    "x.reset_index(drop=True, inplace=True)\n",
    "x.head(10)"
   ]
  },
  {
   "cell_type": "code",
   "execution_count": 30,
   "metadata": {},
   "outputs": [
    {
     "data": {
      "text/html": [
       "<div>\n",
       "<style scoped>\n",
       "    .dataframe tbody tr th:only-of-type {\n",
       "        vertical-align: middle;\n",
       "    }\n",
       "\n",
       "    .dataframe tbody tr th {\n",
       "        vertical-align: top;\n",
       "    }\n",
       "\n",
       "    .dataframe thead th {\n",
       "        text-align: right;\n",
       "    }\n",
       "</style>\n",
       "<table border=\"1\" class=\"dataframe\">\n",
       "  <thead>\n",
       "    <tr style=\"text-align: right;\">\n",
       "      <th></th>\n",
       "      <th>sepal length (cm)</th>\n",
       "      <th>sepal width (cm)</th>\n",
       "      <th>petal length (cm)</th>\n",
       "      <th>petal width (cm)</th>\n",
       "      <th>pred</th>\n",
       "      <th>truth</th>\n",
       "    </tr>\n",
       "  </thead>\n",
       "  <tbody>\n",
       "    <tr>\n",
       "      <th>22</th>\n",
       "      <td>6.7</td>\n",
       "      <td>3.0</td>\n",
       "      <td>5.0</td>\n",
       "      <td>1.7</td>\n",
       "      <td>2</td>\n",
       "      <td>1</td>\n",
       "    </tr>\n",
       "  </tbody>\n",
       "</table>\n",
       "</div>"
      ],
      "text/plain": [
       "    sepal length (cm)  sepal width (cm)  petal length (cm)  petal width (cm)  \\\n",
       "22                6.7               3.0                5.0               1.7   \n",
       "\n",
       "    pred  truth  \n",
       "22     2      1  "
      ]
     },
     "execution_count": 30,
     "metadata": {},
     "output_type": "execute_result"
    }
   ],
   "source": [
    "x[x.truth != x.pred]"
   ]
  },
  {
   "cell_type": "code",
   "execution_count": 32,
   "metadata": {},
   "outputs": [],
   "source": [
    "cm = confusion_matrix(y_test, m_preds)"
   ]
  },
  {
   "cell_type": "code",
   "execution_count": 33,
   "metadata": {},
   "outputs": [
    {
     "data": {
      "image/png": "[encoded data removed]",
      "text/plain": [
       "<Figure size 648x432 with 2 Axes>"
      ]
     },
     "metadata": {
      "needs_background": "light"
     },
     "output_type": "display_data"
    }
   ],
   "source": [
    "plot_confusion_matrix(cm, iris.target_names)"
   ]
  },
  {
   "cell_type": "code",
   "execution_count": 34,
   "metadata": {},
   "outputs": [
    {
     "data": {
      "text/plain": [
       "(array([1., 2.]), array([ 4, 16]))"
      ]
     },
     "execution_count": 34,
     "metadata": {},
     "output_type": "execute_result"
    }
   ],
   "source": [
    "np.unique(preds[:,22], return_counts=True)"
   ]
  },
  {
   "cell_type": "markdown",
   "metadata": {},
   "source": [
    "## Feature Importance"
   ]
  },
  {
   "cell_type": "code",
   "execution_count": 35,
   "metadata": {},
   "outputs": [
    {
     "name": "stdout",
     "output_type": "stream",
     "text": [
      "Accuracy (Training): 0.9666666666666667\n",
      "          OOB Score: 0.95\n",
      "     Accuracy score: 0.96667\n"
     ]
    }
   ],
   "source": [
    "m = RandomForestClassifier(n_estimators=20, n_jobs=-1, min_samples_leaf=3, oob_score=True)\n",
    "train_classifier(m, X_train, y_train)\n",
    "m_preds = predict_and_evaluate_classifier(m, X_test, y_test)"
   ]
  },
  {
   "cell_type": "code",
   "execution_count": 36,
   "metadata": {},
   "outputs": [
    {
     "data": {
      "text/html": [
       "<div>\n",
       "<style scoped>\n",
       "    .dataframe tbody tr th:only-of-type {\n",
       "        vertical-align: middle;\n",
       "    }\n",
       "\n",
       "    .dataframe tbody tr th {\n",
       "        vertical-align: top;\n",
       "    }\n",
       "\n",
       "    .dataframe thead th {\n",
       "        text-align: right;\n",
       "    }\n",
       "</style>\n",
       "<table border=\"1\" class=\"dataframe\">\n",
       "  <thead>\n",
       "    <tr style=\"text-align: right;\">\n",
       "      <th></th>\n",
       "      <th>cols</th>\n",
       "      <th>imp</th>\n",
       "    </tr>\n",
       "  </thead>\n",
       "  <tbody>\n",
       "    <tr>\n",
       "      <th>3</th>\n",
       "      <td>petal width (cm)</td>\n",
       "      <td>0.524976</td>\n",
       "    </tr>\n",
       "    <tr>\n",
       "      <th>2</th>\n",
       "      <td>petal length (cm)</td>\n",
       "      <td>0.350117</td>\n",
       "    </tr>\n",
       "    <tr>\n",
       "      <th>0</th>\n",
       "      <td>sepal length (cm)</td>\n",
       "      <td>0.106386</td>\n",
       "    </tr>\n",
       "    <tr>\n",
       "      <th>1</th>\n",
       "      <td>sepal width (cm)</td>\n",
       "      <td>0.018522</td>\n",
       "    </tr>\n",
       "  </tbody>\n",
       "</table>\n",
       "</div>"
      ],
      "text/plain": [
       "                cols       imp\n",
       "3   petal width (cm)  0.524976\n",
       "2  petal length (cm)  0.350117\n",
       "0  sepal length (cm)  0.106386\n",
       "1   sepal width (cm)  0.018522"
      ]
     },
     "execution_count": 36,
     "metadata": {},
     "output_type": "execute_result"
    }
   ],
   "source": [
    "fi = rf_feat_importance(m, X_train); fi"
   ]
  },
  {
   "cell_type": "code",
   "execution_count": 37,
   "metadata": {},
   "outputs": [
    {
     "data": {
      "image/png": "[encoded data removed]",
      "text/plain": [
       "<Figure size 720x432 with 1 Axes>"
      ]
     },
     "metadata": {
      "needs_background": "light"
     },
     "output_type": "display_data"
    }
   ],
   "source": [
    "fi.plot('cols', 'imp', figsize=(10,6), legend=False);"
   ]
  },
  {
   "cell_type": "code",
   "execution_count": 38,
   "metadata": {},
   "outputs": [
    {
     "data": {
      "image/png": "[encoded data removed]",
      "text/plain": [
       "<Figure size 864x432 with 1 Axes>"
      ]
     },
     "metadata": {
      "needs_background": "light"
     },
     "output_type": "display_data"
    },
    {
     "data": {
      "image/png": "[encoded data removed]",
      "text/plain": [
       "<Figure size 864x504 with 1 Axes>"
      ]
     },
     "metadata": {
      "needs_background": "light"
     },
     "output_type": "display_data"
    }
   ],
   "source": [
    "plot_feat_importance(fi)"
   ]
  },
  {
   "cell_type": "code",
   "execution_count": 39,
   "metadata": {},
   "outputs": [
    {
     "data": {
      "text/plain": [
       "3     petal width (cm)\n",
       "2    petal length (cm)\n",
       "0    sepal length (cm)\n",
       "Name: cols, dtype: object"
      ]
     },
     "execution_count": 39,
     "metadata": {},
     "output_type": "execute_result"
    }
   ],
   "source": [
    "# let's remove the least important features\n",
    "to_keep = fi[fi.imp>0.05].cols\n",
    "to_keep"
   ]
  },
  {
   "cell_type": "code",
   "execution_count": 40,
   "metadata": {},
   "outputs": [
    {
     "data": {
      "text/plain": [
       "array(['sepal width (cm)'], dtype=object)"
      ]
     },
     "execution_count": 40,
     "metadata": {},
     "output_type": "execute_result"
    }
   ],
   "source": [
    "# list of columns being removed\n",
    "np.setdiff1d(df.columns.values,to_keep.values)"
   ]
  },
  {
   "cell_type": "code",
   "execution_count": 41,
   "metadata": {},
   "outputs": [
    {
     "data": {
      "text/plain": [
       "((112, 3), (38, 3), (112,), (38,))"
      ]
     },
     "execution_count": 41,
     "metadata": {},
     "output_type": "execute_result"
    }
   ],
   "source": [
    "# remove columns and create new train and validation sets\n",
    "df_keep = df[to_keep].copy()\n",
    "X_train, X_test, y_train, y_test = train_test_split(df_keep, y, test_size=0.25, random_state=1)\n",
    "\n",
    "X_train.shape, X_test.shape, y_train.shape, y_test.shape"
   ]
  },
  {
   "cell_type": "code",
   "execution_count": 42,
   "metadata": {},
   "outputs": [
    {
     "name": "stdout",
     "output_type": "stream",
     "text": [
      "Accuracy (Training): 0.9732142857142857\n",
      "          OOB Score: 0.9196428571428571\n",
      "     Accuracy score: 0.97368\n"
     ]
    }
   ],
   "source": [
    "m = RandomForestClassifier(n_estimators=20, n_jobs=-1, min_samples_leaf=3, oob_score=True)\n",
    "train_classifier(m, X_train, y_train)\n",
    "m_preds = predict_and_evaluate_classifier(m, X_test, y_test)"
   ]
  },
  {
   "cell_type": "code",
   "execution_count": 43,
   "metadata": {},
   "outputs": [
    {
     "data": {
      "text/html": [
       "<div>\n",
       "<style scoped>\n",
       "    .dataframe tbody tr th:only-of-type {\n",
       "        vertical-align: middle;\n",
       "    }\n",
       "\n",
       "    .dataframe tbody tr th {\n",
       "        vertical-align: top;\n",
       "    }\n",
       "\n",
       "    .dataframe thead th {\n",
       "        text-align: right;\n",
       "    }\n",
       "</style>\n",
       "<table border=\"1\" class=\"dataframe\">\n",
       "  <thead>\n",
       "    <tr style=\"text-align: right;\">\n",
       "      <th></th>\n",
       "      <th>cols</th>\n",
       "      <th>imp</th>\n",
       "    </tr>\n",
       "  </thead>\n",
       "  <tbody>\n",
       "    <tr>\n",
       "      <th>0</th>\n",
       "      <td>petal width (cm)</td>\n",
       "      <td>0.447794</td>\n",
       "    </tr>\n",
       "    <tr>\n",
       "      <th>1</th>\n",
       "      <td>petal length (cm)</td>\n",
       "      <td>0.410093</td>\n",
       "    </tr>\n",
       "    <tr>\n",
       "      <th>2</th>\n",
       "      <td>sepal length (cm)</td>\n",
       "      <td>0.142113</td>\n",
       "    </tr>\n",
       "  </tbody>\n",
       "</table>\n",
       "</div>"
      ],
      "text/plain": [
       "                cols       imp\n",
       "0   petal width (cm)  0.447794\n",
       "1  petal length (cm)  0.410093\n",
       "2  sepal length (cm)  0.142113"
      ]
     },
     "execution_count": 43,
     "metadata": {},
     "output_type": "execute_result"
    }
   ],
   "source": [
    "fi = rf_feat_importance(m, X_train);\n",
    "fi"
   ]
  },
  {
   "cell_type": "code",
   "execution_count": 44,
   "metadata": {},
   "outputs": [
    {
     "data": {
      "image/png": "[encoded data removed]",
      "text/plain": [
       "<Figure size 864x432 with 1 Axes>"
      ]
     },
     "metadata": {
      "needs_background": "light"
     },
     "output_type": "display_data"
    },
    {
     "data": {
      "image/png": "[encoded data removed]",
      "text/plain": [
       "<Figure size 864x504 with 1 Axes>"
      ]
     },
     "metadata": {
      "needs_background": "light"
     },
     "output_type": "display_data"
    }
   ],
   "source": [
    "plot_feat_importance(fi)"
   ]
  },
  {
   "cell_type": "markdown",
   "metadata": {},
   "source": [
    "## Redundant features"
   ]
  },
  {
   "cell_type": "code",
   "execution_count": 45,
   "metadata": {},
   "outputs": [
    {
     "data": {
      "image/png": "[encoded data removed]",
      "text/plain": [
       "<Figure size 1152x720 with 1 Axes>"
      ]
     },
     "metadata": {
      "needs_background": "light"
     },
     "output_type": "display_data"
    }
   ],
   "source": [
    "corr = analyze_redundant_features(df)"
   ]
  },
  {
   "cell_type": "code",
   "execution_count": 46,
   "metadata": {},
   "outputs": [
    {
     "name": "stdout",
     "output_type": "stream",
     "text": [
      "Baseline - 0.9375\n",
      "------------------------------\n",
      "sepal length (cm) - 0.9375 (0.0)\n",
      "sepal width (cm) - 0.9285714285714286 (-0.00893)\n",
      "petal length (cm) - 0.9196428571428571 (-0.01786)\n",
      "petal width (cm) - 0.9196428571428571 (-0.01786)\n"
     ]
    }
   ],
   "source": [
    "X_train, X_test, y_train, y_test = train_test_split(df, y, test_size=0.25, random_state=1)\n",
    "analyze_single_feature_removal(m, X_train, y_train, X_train.columns)"
   ]
  },
  {
   "cell_type": "markdown",
   "metadata": {},
   "source": [
    "It seems sepal width is really not much correlated to the other features."
   ]
  },
  {
   "cell_type": "code",
   "execution_count": 47,
   "metadata": {},
   "outputs": [
    {
     "data": {
      "image/png": "[encoded data removed]",
      "text/plain": [
       "<Figure size 1152x720 with 1 Axes>"
      ]
     },
     "metadata": {
      "needs_background": "light"
     },
     "output_type": "display_data"
    }
   ],
   "source": [
    "# let's use the already removed dataset\n",
    "corr = analyze_redundant_features(df_keep)"
   ]
  },
  {
   "cell_type": "code",
   "execution_count": 48,
   "metadata": {},
   "outputs": [
    {
     "name": "stdout",
     "output_type": "stream",
     "text": [
      "Baseline - 0.9464285714285714\n",
      "------------------------------\n",
      "petal width (cm) - 0.9107142857142857 (-0.03571)\n",
      "petal length (cm) - 0.9107142857142857 (-0.03571)\n",
      "sepal length (cm) - 0.9375 (-0.00893)\n"
     ]
    }
   ],
   "source": [
    "X_train, X_test, y_train, y_test = train_test_split(df_keep, y, test_size=0.25, random_state=1)\n",
    "analyze_single_feature_removal(m, X_train, y_train, X_train.columns)"
   ]
  },
  {
   "cell_type": "markdown",
   "metadata": {},
   "source": [
    "Also seems to indicate that removing sepal length might be good as well"
   ]
  },
  {
   "cell_type": "code",
   "execution_count": 49,
   "metadata": {},
   "outputs": [],
   "source": [
    "df_keep.drop('sepal length (cm)', axis=1, inplace=True)\n",
    "X_train, X_test, y_train, y_test = train_test_split(df_keep, y, test_size=0.25, random_state=1)"
   ]
  },
  {
   "cell_type": "code",
   "execution_count": 50,
   "metadata": {},
   "outputs": [
    {
     "name": "stdout",
     "output_type": "stream",
     "text": [
      "Accuracy (Training): 0.9732142857142857\n",
      "          OOB Score: 0.9642857142857143\n",
      "     Accuracy score: 0.97368\n"
     ]
    }
   ],
   "source": [
    "m = RandomForestClassifier(n_estimators=100, n_jobs=-1, min_samples_leaf=3, oob_score=True)\n",
    "train_classifier(m, X_train, y_train)\n",
    "m_preds = predict_and_evaluate_classifier(m, X_test, y_test)"
   ]
  },
  {
   "cell_type": "code",
   "execution_count": 51,
   "metadata": {},
   "outputs": [
    {
     "data": {
      "image/svg+xml": [
       "<?xml version=\"1.0\" encoding=\"UTF-8\" standalone=\"no\"?>\n",
       "<!DOCTYPE svg PUBLIC \"-//W3C//DTD SVG 1.1//EN\"\n",
       " \"http://www.w3.org/Graphics/SVG/1.1/DTD/svg11.dtd\">\n",
       "<!-- Generated by graphviz version 2.40.1 (20161225.0304)\n",
       " -->\n",
       "<!-- Title: Tree Pages: 1 -->\n",
       "<svg width=\"655pt\" height=\"396pt\"\n",
       " viewBox=\"0.00 0.00 655.00 396.20\" xmlns=\"http://www.w3.org/2000/svg\" xmlns:xlink=\"http://www.w3.org/1999/xlink\">\n",
       "<g id=\"graph0\" class=\"graph\" transform=\"scale(1 1) rotate(0) translate(4 392.2)\">\n",
       "<title>Tree</title>\n",
       "<polygon fill=\"#ffffff\" stroke=\"transparent\" points=\"-4,4 -4,-392.2 651,-392.2 651,4 -4,4\"/>\n",
       "<!-- 0 -->\n",
       "<g id=\"node1\" class=\"node\">\n",
       "<title>0</title>\n",
       "<polygon fill=\"transparent\" stroke=\"#000000\" points=\"142.5,-283.5505 -.5,-283.5505 -.5,-215.5505 142.5,-215.5505 142.5,-283.5505\"/>\n",
       "<text text-anchor=\"start\" x=\"7.5\" y=\"-268.3505\" font-family=\"Times,serif\" font-size=\"14.00\" fill=\"#000000\">petal length (cm) ≤ 2.0</text>\n",
       "<text text-anchor=\"start\" x=\"43.5\" y=\"-253.3505\" font-family=\"Times,serif\" font-size=\"14.00\" fill=\"#000000\">gini = 1.0</text>\n",
       "<text text-anchor=\"start\" x=\"34\" y=\"-238.3505\" font-family=\"Times,serif\" font-size=\"14.00\" fill=\"#000000\">samples = 67</text>\n",
       "<text text-anchor=\"start\" x=\"16\" y=\"-223.3505\" font-family=\"Times,serif\" font-size=\"14.00\" fill=\"#000000\">value = [39, 34, 39]</text>\n",
       "</g>\n",
       "<!-- 1 -->\n",
       "<g id=\"node2\" class=\"node\">\n",
       "<title>1</title>\n",
       "<polygon fill=\"#e58139\" stroke=\"#000000\" points=\"305.5,-333.0505 192.5,-333.0505 192.5,-280.0505 305.5,-280.0505 305.5,-333.0505\"/>\n",
       "<text text-anchor=\"start\" x=\"221.5\" y=\"-317.8505\" font-family=\"Times,serif\" font-size=\"14.00\" fill=\"#000000\">gini = 0.0</text>\n",
       "<text text-anchor=\"start\" x=\"212\" y=\"-302.8505\" font-family=\"Times,serif\" font-size=\"14.00\" fill=\"#000000\">samples = 22</text>\n",
       "<text text-anchor=\"start\" x=\"200.5\" y=\"-287.8505\" font-family=\"Times,serif\" font-size=\"14.00\" fill=\"#000000\">value = [39, 0, 0]</text>\n",
       "</g>\n",
       "<!-- 0&#45;&gt;1 -->\n",
       "<g id=\"edge1\" class=\"edge\">\n",
       "<title>0&#45;&gt;1</title>\n",
       "<path fill=\"none\" stroke=\"#000000\" d=\"M142.63,-272.4882C155.7939,-276.7036 169.4852,-281.088 182.4909,-285.2527\"/>\n",
       "<polygon fill=\"#000000\" stroke=\"#000000\" points=\"181.6916,-288.6717 192.2826,-288.3882 183.8264,-282.0052 181.6916,-288.6717\"/>\n",
       "<text text-anchor=\"middle\" x=\"174.5012\" y=\"-293.8437\" font-family=\"Times,serif\" font-size=\"14.00\" fill=\"#000000\">True</text>\n",
       "</g>\n",
       "<!-- 2 -->\n",
       "<g id=\"node3\" class=\"node\">\n",
       "<title>2</title>\n",
       "<polygon fill=\"#8139e5\" fill-opacity=\"0.129412\" stroke=\"#000000\" points=\"319,-228.5505 179,-228.5505 179,-160.5505 319,-160.5505 319,-228.5505\"/>\n",
       "<text text-anchor=\"start\" x=\"187\" y=\"-213.3505\" font-family=\"Times,serif\" font-size=\"14.00\" fill=\"#000000\">petal width (cm) ≤ 2.0</text>\n",
       "<text text-anchor=\"start\" x=\"221.5\" y=\"-198.3505\" font-family=\"Times,serif\" font-size=\"14.00\" fill=\"#000000\">gini = 0.0</text>\n",
       "<text text-anchor=\"start\" x=\"212\" y=\"-183.3505\" font-family=\"Times,serif\" font-size=\"14.00\" fill=\"#000000\">samples = 45</text>\n",
       "<text text-anchor=\"start\" x=\"197.5\" y=\"-168.3505\" font-family=\"Times,serif\" font-size=\"14.00\" fill=\"#000000\">value = [0, 34, 39]</text>\n",
       "</g>\n",
       "<!-- 0&#45;&gt;2 -->\n",
       "<g id=\"edge2\" class=\"edge\">\n",
       "<title>0&#45;&gt;2</title>\n",
       "<path fill=\"none\" stroke=\"#000000\" d=\"M142.63,-227.4177C151.427,-224.6995 160.4597,-221.9085 169.3658,-219.1566\"/>\n",
       "<polygon fill=\"#000000\" stroke=\"#000000\" points=\"170.442,-222.4874 178.9631,-216.1912 168.3755,-215.7994 170.442,-222.4874\"/>\n",
       "<text text-anchor=\"middle\" x=\"161.2762\" y=\"-203.1544\" font-family=\"Times,serif\" font-size=\"14.00\" fill=\"#000000\">False</text>\n",
       "</g>\n",
       "<!-- 3 -->\n",
       "<g id=\"node4\" class=\"node\">\n",
       "<title>3</title>\n",
       "<polygon fill=\"#39e581\" fill-opacity=\"0.941176\" stroke=\"#000000\" points=\"497.5,-289.5505 354.5,-289.5505 354.5,-221.5505 497.5,-221.5505 497.5,-289.5505\"/>\n",
       "<text text-anchor=\"start\" x=\"362.5\" y=\"-274.3505\" font-family=\"Times,serif\" font-size=\"14.00\" fill=\"#000000\">petal length (cm) ≤ 5.0</text>\n",
       "<text text-anchor=\"start\" x=\"398.5\" y=\"-259.3505\" font-family=\"Times,serif\" font-size=\"14.00\" fill=\"#000000\">gini = 0.0</text>\n",
       "<text text-anchor=\"start\" x=\"389\" y=\"-244.3505\" font-family=\"Times,serif\" font-size=\"14.00\" fill=\"#000000\">samples = 22</text>\n",
       "<text text-anchor=\"start\" x=\"377.5\" y=\"-229.3505\" font-family=\"Times,serif\" font-size=\"14.00\" fill=\"#000000\">value = [0, 33, 2]</text>\n",
       "</g>\n",
       "<!-- 2&#45;&gt;3 -->\n",
       "<g id=\"edge3\" class=\"edge\">\n",
       "<title>2&#45;&gt;3</title>\n",
       "<path fill=\"none\" stroke=\"#000000\" d=\"M319.2093,-218.747C327.6245,-221.6471 336.2704,-224.6268 344.8244,-227.5748\"/>\n",
       "<polygon fill=\"#000000\" stroke=\"#000000\" points=\"343.8312,-230.9344 354.4259,-230.8838 346.112,-224.3164 343.8312,-230.9344\"/>\n",
       "</g>\n",
       "<!-- 6 -->\n",
       "<g id=\"node7\" class=\"node\">\n",
       "<title>6</title>\n",
       "<polygon fill=\"#8139e5\" fill-opacity=\"0.972549\" stroke=\"#000000\" points=\"497.5,-166.5505 354.5,-166.5505 354.5,-98.5505 497.5,-98.5505 497.5,-166.5505\"/>\n",
       "<text text-anchor=\"start\" x=\"362.5\" y=\"-151.3505\" font-family=\"Times,serif\" font-size=\"14.00\" fill=\"#000000\">petal length (cm) ≤ 5.0</text>\n",
       "<text text-anchor=\"start\" x=\"398.5\" y=\"-136.3505\" font-family=\"Times,serif\" font-size=\"14.00\" fill=\"#000000\">gini = 0.0</text>\n",
       "<text text-anchor=\"start\" x=\"389\" y=\"-121.3505\" font-family=\"Times,serif\" font-size=\"14.00\" fill=\"#000000\">samples = 23</text>\n",
       "<text text-anchor=\"start\" x=\"377.5\" y=\"-106.3505\" font-family=\"Times,serif\" font-size=\"14.00\" fill=\"#000000\">value = [0, 1, 37]</text>\n",
       "</g>\n",
       "<!-- 2&#45;&gt;6 -->\n",
       "<g id=\"edge6\" class=\"edge\">\n",
       "<title>2&#45;&gt;6</title>\n",
       "<path fill=\"none\" stroke=\"#000000\" d=\"M319.2093,-169.9575C327.6245,-167.0098 336.2704,-163.9813 344.8244,-160.9849\"/>\n",
       "<polygon fill=\"#000000\" stroke=\"#000000\" points=\"346.1452,-164.2309 354.4259,-157.6217 343.831,-157.6244 346.1452,-164.2309\"/>\n",
       "</g>\n",
       "<!-- 4 -->\n",
       "<g id=\"node5\" class=\"node\">\n",
       "<title>4</title>\n",
       "<polygon fill=\"#39e581\" stroke=\"#000000\" points=\"646.5,-377.0505 533.5,-377.0505 533.5,-324.0505 646.5,-324.0505 646.5,-377.0505\"/>\n",
       "<text text-anchor=\"start\" x=\"562.5\" y=\"-361.8505\" font-family=\"Times,serif\" font-size=\"14.00\" fill=\"#000000\">gini = 0.0</text>\n",
       "<text text-anchor=\"start\" x=\"553\" y=\"-346.8505\" font-family=\"Times,serif\" font-size=\"14.00\" fill=\"#000000\">samples = 19</text>\n",
       "<text text-anchor=\"start\" x=\"541.5\" y=\"-331.8505\" font-family=\"Times,serif\" font-size=\"14.00\" fill=\"#000000\">value = [0, 30, 0]</text>\n",
       "</g>\n",
       "<!-- 3&#45;&gt;4 -->\n",
       "<g id=\"edge4\" class=\"edge\">\n",
       "<title>3&#45;&gt;4</title>\n",
       "<path fill=\"none\" stroke=\"#000000\" d=\"M484.7445,-289.5794C501.185,-299.1028 518.9851,-309.4138 535.1881,-318.7998\"/>\n",
       "<polygon fill=\"#000000\" stroke=\"#000000\" points=\"533.5993,-321.9242 544.0067,-323.9081 537.108,-315.867 533.5993,-321.9242\"/>\n",
       "</g>\n",
       "<!-- 5 -->\n",
       "<g id=\"node6\" class=\"node\">\n",
       "<title>5</title>\n",
       "<polygon fill=\"#39e581\" fill-opacity=\"0.333333\" stroke=\"#000000\" points=\"643,-276.0505 537,-276.0505 537,-223.0505 643,-223.0505 643,-276.0505\"/>\n",
       "<text text-anchor=\"start\" x=\"562.5\" y=\"-260.8505\" font-family=\"Times,serif\" font-size=\"14.00\" fill=\"#000000\">gini = 0.0</text>\n",
       "<text text-anchor=\"start\" x=\"556.5\" y=\"-245.8505\" font-family=\"Times,serif\" font-size=\"14.00\" fill=\"#000000\">samples = 3</text>\n",
       "<text text-anchor=\"start\" x=\"545\" y=\"-230.8505\" font-family=\"Times,serif\" font-size=\"14.00\" fill=\"#000000\">value = [0, 3, 2]</text>\n",
       "</g>\n",
       "<!-- 3&#45;&gt;5 -->\n",
       "<g id=\"edge5\" class=\"edge\">\n",
       "<title>3&#45;&gt;5</title>\n",
       "<path fill=\"none\" stroke=\"#000000\" d=\"M497.9328,-252.9189C507.5397,-252.5674 517.3337,-252.2091 526.7767,-251.8636\"/>\n",
       "<polygon fill=\"#000000\" stroke=\"#000000\" points=\"526.9948,-255.3581 536.8601,-251.4947 526.7388,-248.3627 526.9948,-255.3581\"/>\n",
       "</g>\n",
       "<!-- 7 -->\n",
       "<g id=\"node8\" class=\"node\">\n",
       "<title>7</title>\n",
       "<polygon fill=\"#8139e5\" fill-opacity=\"0.666667\" stroke=\"#000000\" points=\"643,-165.0505 537,-165.0505 537,-112.0505 643,-112.0505 643,-165.0505\"/>\n",
       "<text text-anchor=\"start\" x=\"562.5\" y=\"-149.8505\" font-family=\"Times,serif\" font-size=\"14.00\" fill=\"#000000\">gini = 0.0</text>\n",
       "<text text-anchor=\"start\" x=\"556.5\" y=\"-134.8505\" font-family=\"Times,serif\" font-size=\"14.00\" fill=\"#000000\">samples = 3</text>\n",
       "<text text-anchor=\"start\" x=\"545\" y=\"-119.8505\" font-family=\"Times,serif\" font-size=\"14.00\" fill=\"#000000\">value = [0, 1, 3]</text>\n",
       "</g>\n",
       "<!-- 6&#45;&gt;7 -->\n",
       "<g id=\"edge7\" class=\"edge\">\n",
       "<title>6&#45;&gt;7</title>\n",
       "<path fill=\"none\" stroke=\"#000000\" d=\"M497.9328,-135.1822C507.5397,-135.5337 517.3337,-135.892 526.7767,-136.2375\"/>\n",
       "<polygon fill=\"#000000\" stroke=\"#000000\" points=\"526.7388,-139.7384 536.8601,-136.6064 526.9948,-132.743 526.7388,-139.7384\"/>\n",
       "</g>\n",
       "<!-- 8 -->\n",
       "<g id=\"node9\" class=\"node\">\n",
       "<title>8</title>\n",
       "<polygon fill=\"#8139e5\" stroke=\"#000000\" points=\"646.5,-64.0505 533.5,-64.0505 533.5,-11.0505 646.5,-11.0505 646.5,-64.0505\"/>\n",
       "<text text-anchor=\"start\" x=\"562.5\" y=\"-48.8505\" font-family=\"Times,serif\" font-size=\"14.00\" fill=\"#000000\">gini = 0.0</text>\n",
       "<text text-anchor=\"start\" x=\"553\" y=\"-33.8505\" font-family=\"Times,serif\" font-size=\"14.00\" fill=\"#000000\">samples = 20</text>\n",
       "<text text-anchor=\"start\" x=\"541.5\" y=\"-18.8505\" font-family=\"Times,serif\" font-size=\"14.00\" fill=\"#000000\">value = [0, 0, 34]</text>\n",
       "</g>\n",
       "<!-- 6&#45;&gt;8 -->\n",
       "<g id=\"edge8\" class=\"edge\">\n",
       "<title>6&#45;&gt;8</title>\n",
       "<path fill=\"none\" stroke=\"#000000\" d=\"M484.7445,-98.5217C501.185,-88.9983 518.9851,-78.6873 535.1881,-69.3013\"/>\n",
       "<polygon fill=\"#000000\" stroke=\"#000000\" points=\"537.108,-72.2341 544.0067,-64.193 533.5993,-66.1769 537.108,-72.2341\"/>\n",
       "</g>\n",
       "</g>\n",
       "</svg>\n"
      ],
      "text/plain": [
       "<graphviz.files.Source at 0x7fbdf69164a8>"
      ]
     },
     "metadata": {},
     "output_type": "display_data"
    }
   ],
   "source": [
    "draw_tree(m.estimators_[0], X_train)"
   ]
  },
  {
   "cell_type": "markdown",
   "metadata": {},
   "source": [
    "This looks really good. I get the same results as before with a model with just two features"
   ]
  },
  {
   "cell_type": "markdown",
   "metadata": {},
   "source": [
    "## Scaling the data"
   ]
  },
  {
   "cell_type": "code",
   "execution_count": 52,
   "metadata": {},
   "outputs": [],
   "source": [
    "from sklearn.preprocessing import StandardScaler"
   ]
  },
  {
   "cell_type": "code",
   "execution_count": 53,
   "metadata": {},
   "outputs": [
    {
     "data": {
      "text/html": [
       "<div>\n",
       "<style scoped>\n",
       "    .dataframe tbody tr th:only-of-type {\n",
       "        vertical-align: middle;\n",
       "    }\n",
       "\n",
       "    .dataframe tbody tr th {\n",
       "        vertical-align: top;\n",
       "    }\n",
       "\n",
       "    .dataframe thead th {\n",
       "        text-align: right;\n",
       "    }\n",
       "</style>\n",
       "<table border=\"1\" class=\"dataframe\">\n",
       "  <thead>\n",
       "    <tr style=\"text-align: right;\">\n",
       "      <th></th>\n",
       "      <th>petal width (cm)</th>\n",
       "      <th>petal length (cm)</th>\n",
       "    </tr>\n",
       "  </thead>\n",
       "  <tbody>\n",
       "    <tr>\n",
       "      <th>0</th>\n",
       "      <td>0.2</td>\n",
       "      <td>1.4</td>\n",
       "    </tr>\n",
       "    <tr>\n",
       "      <th>1</th>\n",
       "      <td>0.2</td>\n",
       "      <td>1.4</td>\n",
       "    </tr>\n",
       "    <tr>\n",
       "      <th>2</th>\n",
       "      <td>0.2</td>\n",
       "      <td>1.3</td>\n",
       "    </tr>\n",
       "    <tr>\n",
       "      <th>3</th>\n",
       "      <td>0.2</td>\n",
       "      <td>1.5</td>\n",
       "    </tr>\n",
       "    <tr>\n",
       "      <th>4</th>\n",
       "      <td>0.2</td>\n",
       "      <td>1.4</td>\n",
       "    </tr>\n",
       "  </tbody>\n",
       "</table>\n",
       "</div>"
      ],
      "text/plain": [
       "   petal width (cm)  petal length (cm)\n",
       "0               0.2                1.4\n",
       "1               0.2                1.4\n",
       "2               0.2                1.3\n",
       "3               0.2                1.5\n",
       "4               0.2                1.4"
      ]
     },
     "execution_count": 53,
     "metadata": {},
     "output_type": "execute_result"
    }
   ],
   "source": [
    "df_keep.head()"
   ]
  },
  {
   "cell_type": "code",
   "execution_count": 54,
   "metadata": {},
   "outputs": [],
   "source": [
    "mean = df_keep.mean()\n",
    "std = df_keep.std()"
   ]
  },
  {
   "cell_type": "code",
   "execution_count": 55,
   "metadata": {},
   "outputs": [
    {
     "data": {
      "text/html": [
       "<div>\n",
       "<style scoped>\n",
       "    .dataframe tbody tr th:only-of-type {\n",
       "        vertical-align: middle;\n",
       "    }\n",
       "\n",
       "    .dataframe tbody tr th {\n",
       "        vertical-align: top;\n",
       "    }\n",
       "\n",
       "    .dataframe thead th {\n",
       "        text-align: right;\n",
       "    }\n",
       "</style>\n",
       "<table border=\"1\" class=\"dataframe\">\n",
       "  <thead>\n",
       "    <tr style=\"text-align: right;\">\n",
       "      <th></th>\n",
       "      <th>petal width (cm)</th>\n",
       "      <th>petal length (cm)</th>\n",
       "    </tr>\n",
       "  </thead>\n",
       "  <tbody>\n",
       "    <tr>\n",
       "      <th>count</th>\n",
       "      <td>1.500000e+02</td>\n",
       "      <td>1.500000e+02</td>\n",
       "    </tr>\n",
       "    <tr>\n",
       "      <th>mean</th>\n",
       "      <td>-9.843977e-17</td>\n",
       "      <td>-2.043551e-15</td>\n",
       "    </tr>\n",
       "    <tr>\n",
       "      <th>std</th>\n",
       "      <td>1.000000e+00</td>\n",
       "      <td>1.000000e+00</td>\n",
       "    </tr>\n",
       "    <tr>\n",
       "      <th>min</th>\n",
       "      <td>-1.439627e+00</td>\n",
       "      <td>-1.563497e+00</td>\n",
       "    </tr>\n",
       "    <tr>\n",
       "      <th>25%</th>\n",
       "      <td>-1.177559e+00</td>\n",
       "      <td>-1.223442e+00</td>\n",
       "    </tr>\n",
       "    <tr>\n",
       "      <th>50%</th>\n",
       "      <td>1.327811e-01</td>\n",
       "      <td>3.351431e-01</td>\n",
       "    </tr>\n",
       "    <tr>\n",
       "      <th>75%</th>\n",
       "      <td>7.879511e-01</td>\n",
       "      <td>7.602119e-01</td>\n",
       "    </tr>\n",
       "    <tr>\n",
       "      <th>max</th>\n",
       "      <td>1.705189e+00</td>\n",
       "      <td>1.780377e+00</td>\n",
       "    </tr>\n",
       "  </tbody>\n",
       "</table>\n",
       "</div>"
      ],
      "text/plain": [
       "       petal width (cm)  petal length (cm)\n",
       "count      1.500000e+02       1.500000e+02\n",
       "mean      -9.843977e-17      -2.043551e-15\n",
       "std        1.000000e+00       1.000000e+00\n",
       "min       -1.439627e+00      -1.563497e+00\n",
       "25%       -1.177559e+00      -1.223442e+00\n",
       "50%        1.327811e-01       3.351431e-01\n",
       "75%        7.879511e-01       7.602119e-01\n",
       "max        1.705189e+00       1.780377e+00"
      ]
     },
     "execution_count": 55,
     "metadata": {},
     "output_type": "execute_result"
    }
   ],
   "source": [
    "df_scaled = df_keep - mean\n",
    "df_scaled = df_scaled / std\n",
    "df_scaled.describe()"
   ]
  },
  {
   "cell_type": "code",
   "execution_count": 56,
   "metadata": {},
   "outputs": [
    {
     "data": {
      "text/html": [
       "<div>\n",
       "<style scoped>\n",
       "    .dataframe tbody tr th:only-of-type {\n",
       "        vertical-align: middle;\n",
       "    }\n",
       "\n",
       "    .dataframe tbody tr th {\n",
       "        vertical-align: top;\n",
       "    }\n",
       "\n",
       "    .dataframe thead th {\n",
       "        text-align: right;\n",
       "    }\n",
       "</style>\n",
       "<table border=\"1\" class=\"dataframe\">\n",
       "  <thead>\n",
       "    <tr style=\"text-align: right;\">\n",
       "      <th></th>\n",
       "      <th>petal width (cm)</th>\n",
       "      <th>petal length (cm)</th>\n",
       "    </tr>\n",
       "  </thead>\n",
       "  <tbody>\n",
       "    <tr>\n",
       "      <th>0</th>\n",
       "      <td>-1.308593</td>\n",
       "      <td>-1.336794</td>\n",
       "    </tr>\n",
       "    <tr>\n",
       "      <th>1</th>\n",
       "      <td>-1.308593</td>\n",
       "      <td>-1.336794</td>\n",
       "    </tr>\n",
       "    <tr>\n",
       "      <th>2</th>\n",
       "      <td>-1.308593</td>\n",
       "      <td>-1.393470</td>\n",
       "    </tr>\n",
       "    <tr>\n",
       "      <th>3</th>\n",
       "      <td>-1.308593</td>\n",
       "      <td>-1.280118</td>\n",
       "    </tr>\n",
       "    <tr>\n",
       "      <th>4</th>\n",
       "      <td>-1.308593</td>\n",
       "      <td>-1.336794</td>\n",
       "    </tr>\n",
       "  </tbody>\n",
       "</table>\n",
       "</div>"
      ],
      "text/plain": [
       "   petal width (cm)  petal length (cm)\n",
       "0         -1.308593          -1.336794\n",
       "1         -1.308593          -1.336794\n",
       "2         -1.308593          -1.393470\n",
       "3         -1.308593          -1.280118\n",
       "4         -1.308593          -1.336794"
      ]
     },
     "execution_count": 56,
     "metadata": {},
     "output_type": "execute_result"
    }
   ],
   "source": [
    "df_scaled.head()"
   ]
  },
  {
   "cell_type": "code",
   "execution_count": 57,
   "metadata": {},
   "outputs": [
    {
     "name": "stdout",
     "output_type": "stream",
     "text": [
      "Accuracy (Training): 0.9732142857142857\n",
      "          OOB Score: 0.9464285714285714\n",
      "     Accuracy score: 0.97368\n"
     ]
    }
   ],
   "source": [
    "X_train, X_test, y_train, y_test = train_test_split(df_scaled, y, test_size=0.25, random_state=1)\n",
    "\n",
    "m = RandomForestClassifier(n_estimators=100, n_jobs=-1, min_samples_leaf=3, oob_score=True)\n",
    "train_classifier(m, X_train, y_train)\n",
    "m_preds = predict_and_evaluate_classifier(m, X_test, y_test)"
   ]
  },
  {
   "cell_type": "markdown",
   "metadata": {},
   "source": [
    "## Cross-validation"
   ]
  },
  {
   "cell_type": "code",
   "execution_count": 58,
   "metadata": {},
   "outputs": [
    {
     "name": "stdout",
     "output_type": "stream",
     "text": [
      "Accuracy (Training):  0.9666666666666667\n",
      "Average accuracy score using 10-fold crossvalidation:  0.9666666666666666\n",
      "     Accuracy score: 0.97368\n"
     ]
    }
   ],
   "source": [
    "m = RandomForestClassifier(n_estimators=100, n_jobs=-1, min_samples_leaf=3, oob_score=True)\n",
    "train_classifier_cv(m, df_scaled, y, k_folds=10)\n",
    "m_preds = predict_and_evaluate_classifier(m, X_test, y_test)"
   ]
  },
  {
   "cell_type": "code",
   "execution_count": 59,
   "metadata": {},
   "outputs": [
    {
     "data": {
      "text/html": [
       "<div>\n",
       "<style scoped>\n",
       "    .dataframe tbody tr th:only-of-type {\n",
       "        vertical-align: middle;\n",
       "    }\n",
       "\n",
       "    .dataframe tbody tr th {\n",
       "        vertical-align: top;\n",
       "    }\n",
       "\n",
       "    .dataframe thead th {\n",
       "        text-align: right;\n",
       "    }\n",
       "</style>\n",
       "<table border=\"1\" class=\"dataframe\">\n",
       "  <thead>\n",
       "    <tr style=\"text-align: right;\">\n",
       "      <th></th>\n",
       "      <th>cols</th>\n",
       "      <th>imp</th>\n",
       "    </tr>\n",
       "  </thead>\n",
       "  <tbody>\n",
       "    <tr>\n",
       "      <th>0</th>\n",
       "      <td>petal width (cm)</td>\n",
       "      <td>0.504052</td>\n",
       "    </tr>\n",
       "    <tr>\n",
       "      <th>1</th>\n",
       "      <td>petal length (cm)</td>\n",
       "      <td>0.495948</td>\n",
       "    </tr>\n",
       "  </tbody>\n",
       "</table>\n",
       "</div>"
      ],
      "text/plain": [
       "                cols       imp\n",
       "0   petal width (cm)  0.504052\n",
       "1  petal length (cm)  0.495948"
      ]
     },
     "execution_count": 59,
     "metadata": {},
     "output_type": "execute_result"
    }
   ],
   "source": [
    "fi = rf_feat_importance(m, df_scaled)\n",
    "fi"
   ]
  },
  {
   "cell_type": "code",
   "execution_count": 60,
   "metadata": {},
   "outputs": [
    {
     "data": {
      "image/png": "[encoded data removed]",
      "text/plain": [
       "<Figure size 864x432 with 1 Axes>"
      ]
     },
     "metadata": {
      "needs_background": "light"
     },
     "output_type": "display_data"
    },
    {
     "data": {
      "image/png": "[encoded data removed]",
      "text/plain": [
       "<Figure size 864x504 with 1 Axes>"
      ]
     },
     "metadata": {
      "needs_background": "light"
     },
     "output_type": "display_data"
    }
   ],
   "source": [
    "plot_feat_importance(fi)"
   ]
  },
  {
   "cell_type": "markdown",
   "metadata": {},
   "source": [
    "## Analyzing Features"
   ]
  },
  {
   "cell_type": "code",
   "execution_count": 87,
   "metadata": {},
   "outputs": [
    {
     "data": {
      "image/png": "[encoded data removed]",
      "text/plain": [
       "<Figure size 945.725x900 with 30 Axes>"
      ]
     },
     "metadata": {
      "needs_background": "light"
     },
     "output_type": "display_data"
    }
   ],
   "source": [
    "X = df_raw.copy()\n",
    "X['label'] = y_raw\n",
    "sns.pairplot(X,vars=X.columns, hue='label');"
   ]
  },
  {
   "cell_type": "code",
   "execution_count": 89,
   "metadata": {},
   "outputs": [
    {
     "data": {
      "image/png": "[encoded data removed]",
      "text/plain": [
       "<Figure size 405.725x360 with 1 Axes>"
      ]
     },
     "metadata": {
      "needs_background": "light"
     },
     "output_type": "display_data"
    }
   ],
   "source": [
    "sns.lmplot(data=X, x='petal width (cm)', y='petal length (cm)', hue='label', fit_reg=False);"
   ]
  }
 ],
 "metadata": {
  "kernelspec": {
   "display_name": "Python 3",
   "language": "python",
   "name": "python3"
  },
  "language_info": {
   "codemirror_mode": {
    "name": "ipython",
    "version": 3
   },
   "file_extension": ".py",
   "mimetype": "text/x-python",
   "name": "python",
   "nbconvert_exporter": "python",
   "pygments_lexer": "ipython3",
   "version": "3.7.0"
  }
 },
 "nbformat": 4,
 "nbformat_minor": 2
}
