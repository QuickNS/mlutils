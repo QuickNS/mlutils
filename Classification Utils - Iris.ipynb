{
 "cells": [
  {
   "cell_type": "markdown",
   "metadata": {},
   "source": [
    "## Imports"
   ]
  },
  {
   "cell_type": "code",
   "execution_count": 1,
   "metadata": {},
   "outputs": [],
   "source": [
    "%load_ext autoreload\n",
    "%autoreload 2"
   ]
  },
  {
   "cell_type": "code",
   "execution_count": 2,
   "metadata": {},
   "outputs": [],
   "source": [
    "# import load_iris function from datasets module\n",
    "from sklearn.datasets import load_iris\n",
    "from mlutils.features import *\n",
    "from mlutils.plot import *\n",
    "import pandas as pd\n",
    "import numpy as np\n",
    "import seaborn as sns\n",
    "\n",
    "sns.set()\n",
    "sns.set_style('whitegrid')\n",
    "sns.set_palette('Dark2')"
   ]
  },
  {
   "cell_type": "markdown",
   "metadata": {},
   "source": [
    "## Load Data"
   ]
  },
  {
   "cell_type": "code",
   "execution_count": 3,
   "metadata": {},
   "outputs": [
    {
     "data": {
      "text/plain": [
       "((150, 4), (150,))"
      ]
     },
     "execution_count": 3,
     "metadata": {},
     "output_type": "execute_result"
    }
   ],
   "source": [
    "# save \"bunch\" object containing iris dataset and its attributes\n",
    "iris = load_iris()\n",
    "\n",
    "x_raw = iris.data\n",
    "y_raw = iris.target\n",
    "\n",
    "x_raw.shape, y_raw.shape"
   ]
  },
  {
   "cell_type": "code",
   "execution_count": 4,
   "metadata": {},
   "outputs": [
    {
     "data": {
      "text/html": [
       "<div>\n",
       "<style scoped>\n",
       "    .dataframe tbody tr th:only-of-type {\n",
       "        vertical-align: middle;\n",
       "    }\n",
       "\n",
       "    .dataframe tbody tr th {\n",
       "        vertical-align: top;\n",
       "    }\n",
       "\n",
       "    .dataframe thead th {\n",
       "        text-align: right;\n",
       "    }\n",
       "</style>\n",
       "<table border=\"1\" class=\"dataframe\">\n",
       "  <thead>\n",
       "    <tr style=\"text-align: right;\">\n",
       "      <th></th>\n",
       "      <th>sepal length (cm)</th>\n",
       "      <th>sepal width (cm)</th>\n",
       "      <th>petal length (cm)</th>\n",
       "      <th>petal width (cm)</th>\n",
       "    </tr>\n",
       "  </thead>\n",
       "  <tbody>\n",
       "    <tr>\n",
       "      <th>0</th>\n",
       "      <td>5.1</td>\n",
       "      <td>3.5</td>\n",
       "      <td>1.4</td>\n",
       "      <td>0.2</td>\n",
       "    </tr>\n",
       "    <tr>\n",
       "      <th>1</th>\n",
       "      <td>4.9</td>\n",
       "      <td>3.0</td>\n",
       "      <td>1.4</td>\n",
       "      <td>0.2</td>\n",
       "    </tr>\n",
       "    <tr>\n",
       "      <th>2</th>\n",
       "      <td>4.7</td>\n",
       "      <td>3.2</td>\n",
       "      <td>1.3</td>\n",
       "      <td>0.2</td>\n",
       "    </tr>\n",
       "    <tr>\n",
       "      <th>3</th>\n",
       "      <td>4.6</td>\n",
       "      <td>3.1</td>\n",
       "      <td>1.5</td>\n",
       "      <td>0.2</td>\n",
       "    </tr>\n",
       "    <tr>\n",
       "      <th>4</th>\n",
       "      <td>5.0</td>\n",
       "      <td>3.6</td>\n",
       "      <td>1.4</td>\n",
       "      <td>0.2</td>\n",
       "    </tr>\n",
       "  </tbody>\n",
       "</table>\n",
       "</div>"
      ],
      "text/plain": [
       "   sepal length (cm)  sepal width (cm)  petal length (cm)  petal width (cm)\n",
       "0                5.1               3.5                1.4               0.2\n",
       "1                4.9               3.0                1.4               0.2\n",
       "2                4.7               3.2                1.3               0.2\n",
       "3                4.6               3.1                1.5               0.2\n",
       "4                5.0               3.6                1.4               0.2"
      ]
     },
     "execution_count": 4,
     "metadata": {},
     "output_type": "execute_result"
    }
   ],
   "source": [
    "column_names = iris.feature_names\n",
    "\n",
    "df_raw = pd.DataFrame(x_raw, columns=column_names)\n",
    "df_raw.head()"
   ]
  },
  {
   "cell_type": "markdown",
   "metadata": {},
   "source": [
    "## Looking at column types and mem usage"
   ]
  },
  {
   "cell_type": "code",
   "execution_count": 5,
   "metadata": {},
   "outputs": [
    {
     "data": {
      "text/plain": [
       "(150, 4)"
      ]
     },
     "execution_count": 5,
     "metadata": {},
     "output_type": "execute_result"
    }
   ],
   "source": [
    "df_raw.shape"
   ]
  },
  {
   "cell_type": "code",
   "execution_count": 6,
   "metadata": {},
   "outputs": [
    {
     "data": {
      "text/html": [
       "<div>\n",
       "<style scoped>\n",
       "    .dataframe tbody tr th:only-of-type {\n",
       "        vertical-align: middle;\n",
       "    }\n",
       "\n",
       "    .dataframe tbody tr th {\n",
       "        vertical-align: top;\n",
       "    }\n",
       "\n",
       "    .dataframe thead th {\n",
       "        text-align: right;\n",
       "    }\n",
       "</style>\n",
       "<table border=\"1\" class=\"dataframe\">\n",
       "  <thead>\n",
       "    <tr style=\"text-align: right;\">\n",
       "      <th></th>\n",
       "      <th>sepal length (cm)</th>\n",
       "      <th>sepal width (cm)</th>\n",
       "      <th>petal length (cm)</th>\n",
       "      <th>petal width (cm)</th>\n",
       "    </tr>\n",
       "  </thead>\n",
       "  <tbody>\n",
       "    <tr>\n",
       "      <th>count</th>\n",
       "      <td>150.000000</td>\n",
       "      <td>150.000000</td>\n",
       "      <td>150.000000</td>\n",
       "      <td>150.000000</td>\n",
       "    </tr>\n",
       "    <tr>\n",
       "      <th>mean</th>\n",
       "      <td>5.843333</td>\n",
       "      <td>3.057333</td>\n",
       "      <td>3.758000</td>\n",
       "      <td>1.199333</td>\n",
       "    </tr>\n",
       "    <tr>\n",
       "      <th>std</th>\n",
       "      <td>0.828066</td>\n",
       "      <td>0.435866</td>\n",
       "      <td>1.765298</td>\n",
       "      <td>0.762238</td>\n",
       "    </tr>\n",
       "    <tr>\n",
       "      <th>min</th>\n",
       "      <td>4.300000</td>\n",
       "      <td>2.000000</td>\n",
       "      <td>1.000000</td>\n",
       "      <td>0.100000</td>\n",
       "    </tr>\n",
       "    <tr>\n",
       "      <th>25%</th>\n",
       "      <td>5.100000</td>\n",
       "      <td>2.800000</td>\n",
       "      <td>1.600000</td>\n",
       "      <td>0.300000</td>\n",
       "    </tr>\n",
       "    <tr>\n",
       "      <th>50%</th>\n",
       "      <td>5.800000</td>\n",
       "      <td>3.000000</td>\n",
       "      <td>4.350000</td>\n",
       "      <td>1.300000</td>\n",
       "    </tr>\n",
       "    <tr>\n",
       "      <th>75%</th>\n",
       "      <td>6.400000</td>\n",
       "      <td>3.300000</td>\n",
       "      <td>5.100000</td>\n",
       "      <td>1.800000</td>\n",
       "    </tr>\n",
       "    <tr>\n",
       "      <th>max</th>\n",
       "      <td>7.900000</td>\n",
       "      <td>4.400000</td>\n",
       "      <td>6.900000</td>\n",
       "      <td>2.500000</td>\n",
       "    </tr>\n",
       "  </tbody>\n",
       "</table>\n",
       "</div>"
      ],
      "text/plain": [
       "       sepal length (cm)  sepal width (cm)  petal length (cm)  \\\n",
       "count         150.000000        150.000000         150.000000   \n",
       "mean            5.843333          3.057333           3.758000   \n",
       "std             0.828066          0.435866           1.765298   \n",
       "min             4.300000          2.000000           1.000000   \n",
       "25%             5.100000          2.800000           1.600000   \n",
       "50%             5.800000          3.000000           4.350000   \n",
       "75%             6.400000          3.300000           5.100000   \n",
       "max             7.900000          4.400000           6.900000   \n",
       "\n",
       "       petal width (cm)  \n",
       "count        150.000000  \n",
       "mean           1.199333  \n",
       "std            0.762238  \n",
       "min            0.100000  \n",
       "25%            0.300000  \n",
       "50%            1.300000  \n",
       "75%            1.800000  \n",
       "max            2.500000  "
      ]
     },
     "execution_count": 6,
     "metadata": {},
     "output_type": "execute_result"
    }
   ],
   "source": [
    "df_raw.describe()"
   ]
  },
  {
   "cell_type": "code",
   "execution_count": 7,
   "metadata": {},
   "outputs": [
    {
     "name": "stdout",
     "output_type": "stream",
     "text": [
      "<class 'pandas.core.frame.DataFrame'>\n",
      "RangeIndex: 150 entries, 0 to 149\n",
      "Data columns (total 4 columns):\n",
      "sepal length (cm)    150 non-null float64\n",
      "sepal width (cm)     150 non-null float64\n",
      "petal length (cm)    150 non-null float64\n",
      "petal width (cm)     150 non-null float64\n",
      "dtypes: float64(4)\n",
      "memory usage: 4.8 KB\n",
      "None\n",
      "\n",
      "Total memory usage for float columns: 0.00 MB\n",
      "Total memory usage for int columns: 0.00 MB\n",
      "Total memory usage for object columns: 0.00 MB\n",
      "Total memory usage for bool columns: 0.00 MB\n",
      "Total memory usage for category columns: 0.00 MB\n",
      "\n",
      "Average memory usage for float columns: 0.00 MB\n",
      "Average memory usage for int columns: 0.00 MB\n",
      "Average memory usage for object columns: 0.00 MB\n",
      "Average memory usage for bool columns: 0.00 MB\n",
      "Average memory usage for category columns: 0.00 MB\n"
     ]
    }
   ],
   "source": [
    "display_mem_usage(df_raw)"
   ]
  },
  {
   "cell_type": "markdown",
   "metadata": {},
   "source": [
    "## Preprocessing"
   ]
  },
  {
   "cell_type": "code",
   "execution_count": 8,
   "metadata": {},
   "outputs": [],
   "source": [
    "# now we need to turn all strings into categorical columns\n",
    "create_categories(df_raw)"
   ]
  },
  {
   "cell_type": "code",
   "execution_count": 9,
   "metadata": {},
   "outputs": [
    {
     "data": {
      "text/html": [
       "<div>\n",
       "<style scoped>\n",
       "    .dataframe tbody tr th:only-of-type {\n",
       "        vertical-align: middle;\n",
       "    }\n",
       "\n",
       "    .dataframe tbody tr th {\n",
       "        vertical-align: top;\n",
       "    }\n",
       "\n",
       "    .dataframe thead th {\n",
       "        text-align: right;\n",
       "    }\n",
       "</style>\n",
       "<table border=\"1\" class=\"dataframe\">\n",
       "  <thead>\n",
       "    <tr style=\"text-align: right;\">\n",
       "      <th></th>\n",
       "      <th>Total</th>\n",
       "      <th>Percent</th>\n",
       "    </tr>\n",
       "  </thead>\n",
       "  <tbody>\n",
       "  </tbody>\n",
       "</table>\n",
       "</div>"
      ],
      "text/plain": [
       "Empty DataFrame\n",
       "Columns: [Total, Percent]\n",
       "Index: []"
      ]
     },
     "execution_count": 9,
     "metadata": {},
     "output_type": "execute_result"
    }
   ],
   "source": [
    "# let's check if we have missing values\n",
    "detect_missing(df_raw)"
   ]
  },
  {
   "cell_type": "code",
   "execution_count": 10,
   "metadata": {},
   "outputs": [],
   "source": [
    "# simple preprocess\n",
    "df, _ , nas = process_dataframe(df_raw)\n",
    "df.shape, nas\n",
    "\n",
    "y = y_raw"
   ]
  },
  {
   "cell_type": "markdown",
   "metadata": {},
   "source": [
    "## Train a Random Forest"
   ]
  },
  {
   "cell_type": "code",
   "execution_count": 11,
   "metadata": {},
   "outputs": [],
   "source": [
    "from sklearn.ensemble import RandomForestClassifier\n",
    "from sklearn.metrics import accuracy_score, classification_report, confusion_matrix\n",
    "from sklearn.model_selection import train_test_split\n",
    "from mlutils.models.classification import *\n",
    "from mlutils.models.trees import *\n",
    "\n",
    "m = RandomForestClassifier(n_jobs=-1, oob_score=True)"
   ]
  },
  {
   "cell_type": "code",
   "execution_count": 12,
   "metadata": {},
   "outputs": [
    {
     "name": "stdout",
     "output_type": "stream",
     "text": [
      "Accuracy (Training): 1.0\n",
      "          OOB Score: 0.9266666666666666\n"
     ]
    }
   ],
   "source": [
    "train_classifier(m, df, y)"
   ]
  },
  {
   "cell_type": "code",
   "execution_count": 13,
   "metadata": {},
   "outputs": [
    {
     "name": "stdout",
     "output_type": "stream",
     "text": [
      "Accuracy (Training):  1.0\n",
      "Average accuracy score using 10-fold crossvalidation:  0.9666666666666666\n"
     ]
    }
   ],
   "source": [
    "train_classifier_cv(m, df, y, k_folds=10);"
   ]
  },
  {
   "cell_type": "code",
   "execution_count": 14,
   "metadata": {},
   "outputs": [],
   "source": [
    "# create validation data\n",
    "X_train, X_test, y_train, y_test = train_test_split(df, y, test_size=0.20, random_state=1)"
   ]
  },
  {
   "cell_type": "code",
   "execution_count": 15,
   "metadata": {},
   "outputs": [
    {
     "name": "stdout",
     "output_type": "stream",
     "text": [
      "Accuracy (Training): 1.0\n",
      "          OOB Score: 0.9333333333333333\n",
      "     Accuracy score: 0.96667\n"
     ]
    }
   ],
   "source": [
    "train_classifier(m, X_train, y_train)\n",
    "preds = predict_and_evaluate_classifier(m, X_test, y_test)"
   ]
  },
  {
   "cell_type": "markdown",
   "metadata": {},
   "source": [
    "### Using a single shallow tree to visualize features"
   ]
  },
  {
   "cell_type": "code",
   "execution_count": 16,
   "metadata": {},
   "outputs": [
    {
     "name": "stdout",
     "output_type": "stream",
     "text": [
      "Accuracy (Training): 0.95\n",
      "     Accuracy score: 0.96667\n"
     ]
    }
   ],
   "source": [
    "m = RandomForestClassifier(n_estimators=1, max_depth=3, bootstrap=False, n_jobs=-1)\n",
    "train_classifier(m, X_train, y_train)\n",
    "preds = predict_and_evaluate_classifier(m, X_test, y_test)"
   ]
  },
  {
   "cell_type": "code",
   "execution_count": 17,
   "metadata": {},
   "outputs": [
    {
     "data": {
      "image/svg+xml": [
       "<?xml version=\"1.0\" encoding=\"UTF-8\" standalone=\"no\"?>\n",
       "<!DOCTYPE svg PUBLIC \"-//W3C//DTD SVG 1.1//EN\"\n",
       " \"http://www.w3.org/Graphics/SVG/1.1/DTD/svg11.dtd\">\n",
       "<!-- Generated by graphviz version 2.40.1 (20161225.0304)\n",
       " -->\n",
       "<!-- Title: Tree Pages: 1 -->\n",
       "<svg width=\"701pt\" height=\"424pt\"\n",
       " viewBox=\"0.00 0.00 701.33 424.00\" xmlns=\"http://www.w3.org/2000/svg\" xmlns:xlink=\"http://www.w3.org/1999/xlink\">\n",
       "<g id=\"graph0\" class=\"graph\" transform=\"scale(1 1) rotate(0) translate(4 420)\">\n",
       "<title>Tree</title>\n",
       "<polygon fill=\"#ffffff\" stroke=\"transparent\" points=\"-4,4 -4,-420 697.3333,-420 697.3333,4 -4,4\"/>\n",
       "<!-- 0 -->\n",
       "<g id=\"node1\" class=\"node\">\n",
       "<title>0</title>\n",
       "<polygon fill=\"#8139e5\" fill-opacity=\"0.062745\" stroke=\"#000000\" points=\"149.8333,-300.5 4.8333,-300.5 4.8333,-232.5 149.8333,-232.5 149.8333,-300.5\"/>\n",
       "<text text-anchor=\"start\" x=\"12.8333\" y=\"-285.3\" font-family=\"Times,serif\" font-size=\"14.00\" fill=\"#000000\">sepal length (cm) ≤ 5.0</text>\n",
       "<text text-anchor=\"start\" x=\"49.8333\" y=\"-270.3\" font-family=\"Times,serif\" font-size=\"14.00\" fill=\"#000000\">gini = 1.0</text>\n",
       "<text text-anchor=\"start\" x=\"36.8333\" y=\"-255.3\" font-family=\"Times,serif\" font-size=\"14.00\" fill=\"#000000\">samples = 120</text>\n",
       "<text text-anchor=\"start\" x=\"22.3333\" y=\"-240.3\" font-family=\"Times,serif\" font-size=\"14.00\" fill=\"#000000\">value = [39, 37, 44]</text>\n",
       "</g>\n",
       "<!-- 1 -->\n",
       "<g id=\"node2\" class=\"node\">\n",
       "<title>1</title>\n",
       "<polygon fill=\"#e58139\" fill-opacity=\"0.866667\" stroke=\"#000000\" points=\"337.3333,-344.5 197.3333,-344.5 197.3333,-276.5 337.3333,-276.5 337.3333,-344.5\"/>\n",
       "<text text-anchor=\"start\" x=\"205.3333\" y=\"-329.3\" font-family=\"Times,serif\" font-size=\"14.00\" fill=\"#000000\">petal width (cm) ≤ 1.0</text>\n",
       "<text text-anchor=\"start\" x=\"239.8333\" y=\"-314.3\" font-family=\"Times,serif\" font-size=\"14.00\" fill=\"#000000\">gini = 0.0</text>\n",
       "<text text-anchor=\"start\" x=\"230.3333\" y=\"-299.3\" font-family=\"Times,serif\" font-size=\"14.00\" fill=\"#000000\">samples = 41</text>\n",
       "<text text-anchor=\"start\" x=\"218.8333\" y=\"-284.3\" font-family=\"Times,serif\" font-size=\"14.00\" fill=\"#000000\">value = [36, 4, 1]</text>\n",
       "</g>\n",
       "<!-- 0&#45;&gt;1 -->\n",
       "<g id=\"edge1\" class=\"edge\">\n",
       "<title>0&#45;&gt;1</title>\n",
       "<path fill=\"none\" stroke=\"#000000\" d=\"M149.9775,-283.3229C162.2116,-286.156 174.9702,-289.1106 187.3775,-291.9839\"/>\n",
       "<polygon fill=\"#000000\" stroke=\"#000000\" points=\"186.704,-295.4205 197.2358,-294.2669 188.2833,-288.601 186.704,-295.4205\"/>\n",
       "<text text-anchor=\"middle\" x=\"180.2677\" y=\"-301.1538\" font-family=\"Times,serif\" font-size=\"14.00\" fill=\"#000000\">True</text>\n",
       "</g>\n",
       "<!-- 6 -->\n",
       "<g id=\"node7\" class=\"node\">\n",
       "<title>6</title>\n",
       "<polygon fill=\"#8139e5\" fill-opacity=\"0.215686\" stroke=\"#000000\" points=\"337.3333,-237.5 197.3333,-237.5 197.3333,-169.5 337.3333,-169.5 337.3333,-237.5\"/>\n",
       "<text text-anchor=\"start\" x=\"205.3333\" y=\"-222.3\" font-family=\"Times,serif\" font-size=\"14.00\" fill=\"#000000\">petal width (cm) ≤ 2.0</text>\n",
       "<text text-anchor=\"start\" x=\"239.8333\" y=\"-207.3\" font-family=\"Times,serif\" font-size=\"14.00\" fill=\"#000000\">gini = 1.0</text>\n",
       "<text text-anchor=\"start\" x=\"230.3333\" y=\"-192.3\" font-family=\"Times,serif\" font-size=\"14.00\" fill=\"#000000\">samples = 79</text>\n",
       "<text text-anchor=\"start\" x=\"215.8333\" y=\"-177.3\" font-family=\"Times,serif\" font-size=\"14.00\" fill=\"#000000\">value = [3, 33, 43]</text>\n",
       "</g>\n",
       "<!-- 0&#45;&gt;6 -->\n",
       "<g id=\"edge6\" class=\"edge\">\n",
       "<title>0&#45;&gt;6</title>\n",
       "<path fill=\"none\" stroke=\"#000000\" d=\"M149.9775,-242.4127C162.2116,-238.3562 174.9702,-234.1257 187.3775,-230.0117\"/>\n",
       "<polygon fill=\"#000000\" stroke=\"#000000\" points=\"188.8456,-233.2123 197.2358,-226.7429 186.6424,-226.5681 188.8456,-233.2123\"/>\n",
       "<text text-anchor=\"middle\" x=\"179.3614\" y=\"-214.0703\" font-family=\"Times,serif\" font-size=\"14.00\" fill=\"#000000\">False</text>\n",
       "</g>\n",
       "<!-- 2 -->\n",
       "<g id=\"node3\" class=\"node\">\n",
       "<title>2</title>\n",
       "<polygon fill=\"#e58139\" stroke=\"#000000\" points=\"513.8333,-416 400.8333,-416 400.8333,-363 513.8333,-363 513.8333,-416\"/>\n",
       "<text text-anchor=\"start\" x=\"429.8333\" y=\"-400.8\" font-family=\"Times,serif\" font-size=\"14.00\" fill=\"#000000\">gini = 0.0</text>\n",
       "<text text-anchor=\"start\" x=\"420.3333\" y=\"-385.8\" font-family=\"Times,serif\" font-size=\"14.00\" fill=\"#000000\">samples = 36</text>\n",
       "<text text-anchor=\"start\" x=\"408.8333\" y=\"-370.8\" font-family=\"Times,serif\" font-size=\"14.00\" fill=\"#000000\">value = [36, 0, 0]</text>\n",
       "</g>\n",
       "<!-- 1&#45;&gt;2 -->\n",
       "<g id=\"edge2\" class=\"edge\">\n",
       "<title>1&#45;&gt;2</title>\n",
       "<path fill=\"none\" stroke=\"#000000\" d=\"M337.5425,-339.6922C355.1136,-346.9981 373.9013,-354.8098 391.2637,-362.029\"/>\n",
       "<polygon fill=\"#000000\" stroke=\"#000000\" points=\"390.1687,-365.3641 400.7461,-365.9716 392.8562,-358.9005 390.1687,-365.3641\"/>\n",
       "</g>\n",
       "<!-- 3 -->\n",
       "<g id=\"node4\" class=\"node\">\n",
       "<title>3</title>\n",
       "<polygon fill=\"#39e581\" fill-opacity=\"0.749020\" stroke=\"#000000\" points=\"529.8333,-344.5 384.8333,-344.5 384.8333,-276.5 529.8333,-276.5 529.8333,-344.5\"/>\n",
       "<text text-anchor=\"start\" x=\"392.8333\" y=\"-329.3\" font-family=\"Times,serif\" font-size=\"14.00\" fill=\"#000000\">sepal length (cm) ≤ 5.0</text>\n",
       "<text text-anchor=\"start\" x=\"429.8333\" y=\"-314.3\" font-family=\"Times,serif\" font-size=\"14.00\" fill=\"#000000\">gini = 0.0</text>\n",
       "<text text-anchor=\"start\" x=\"423.8333\" y=\"-299.3\" font-family=\"Times,serif\" font-size=\"14.00\" fill=\"#000000\">samples = 5</text>\n",
       "<text text-anchor=\"start\" x=\"412.3333\" y=\"-284.3\" font-family=\"Times,serif\" font-size=\"14.00\" fill=\"#000000\">value = [0, 4, 1]</text>\n",
       "</g>\n",
       "<!-- 1&#45;&gt;3 -->\n",
       "<g id=\"edge3\" class=\"edge\">\n",
       "<title>1&#45;&gt;3</title>\n",
       "<path fill=\"none\" stroke=\"#000000\" d=\"M337.5425,-310.5C349.5175,-310.5 362.0577,-310.5 374.3266,-310.5\"/>\n",
       "<polygon fill=\"#000000\" stroke=\"#000000\" points=\"374.5504,-314.0001 384.5503,-310.5 374.5503,-307.0001 374.5504,-314.0001\"/>\n",
       "</g>\n",
       "<!-- 4 -->\n",
       "<g id=\"node5\" class=\"node\">\n",
       "<title>4</title>\n",
       "<polygon fill=\"transparent\" stroke=\"#000000\" points=\"686.3333,-408 580.3333,-408 580.3333,-355 686.3333,-355 686.3333,-408\"/>\n",
       "<text text-anchor=\"start\" x=\"605.8333\" y=\"-392.8\" font-family=\"Times,serif\" font-size=\"14.00\" fill=\"#000000\">gini = 0.0</text>\n",
       "<text text-anchor=\"start\" x=\"599.8333\" y=\"-377.8\" font-family=\"Times,serif\" font-size=\"14.00\" fill=\"#000000\">samples = 2</text>\n",
       "<text text-anchor=\"start\" x=\"588.3333\" y=\"-362.8\" font-family=\"Times,serif\" font-size=\"14.00\" fill=\"#000000\">value = [0, 1, 1]</text>\n",
       "</g>\n",
       "<!-- 3&#45;&gt;4 -->\n",
       "<g id=\"edge4\" class=\"edge\">\n",
       "<title>3&#45;&gt;4</title>\n",
       "<path fill=\"none\" stroke=\"#000000\" d=\"M529.9354,-339.7883C543.4982,-345.2597 557.5647,-350.9343 570.7916,-356.2701\"/>\n",
       "<polygon fill=\"#000000\" stroke=\"#000000\" points=\"569.672,-359.5925 580.2553,-360.0878 572.2909,-353.1008 569.672,-359.5925\"/>\n",
       "</g>\n",
       "<!-- 5 -->\n",
       "<g id=\"node6\" class=\"node\">\n",
       "<title>5</title>\n",
       "<polygon fill=\"#39e581\" stroke=\"#000000\" points=\"686.3333,-337 580.3333,-337 580.3333,-284 686.3333,-284 686.3333,-337\"/>\n",
       "<text text-anchor=\"start\" x=\"605.8333\" y=\"-321.8\" font-family=\"Times,serif\" font-size=\"14.00\" fill=\"#000000\">gini = 0.0</text>\n",
       "<text text-anchor=\"start\" x=\"599.8333\" y=\"-306.8\" font-family=\"Times,serif\" font-size=\"14.00\" fill=\"#000000\">samples = 3</text>\n",
       "<text text-anchor=\"start\" x=\"588.3333\" y=\"-291.8\" font-family=\"Times,serif\" font-size=\"14.00\" fill=\"#000000\">value = [0, 3, 0]</text>\n",
       "</g>\n",
       "<!-- 3&#45;&gt;5 -->\n",
       "<g id=\"edge5\" class=\"edge\">\n",
       "<title>3&#45;&gt;5</title>\n",
       "<path fill=\"none\" stroke=\"#000000\" d=\"M529.9354,-310.5C543.2349,-310.5 557.0187,-310.5 570.0202,-310.5\"/>\n",
       "<polygon fill=\"#000000\" stroke=\"#000000\" points=\"570.2553,-314.0001 580.2553,-310.5 570.2552,-307.0001 570.2553,-314.0001\"/>\n",
       "</g>\n",
       "<!-- 7 -->\n",
       "<g id=\"node8\" class=\"node\">\n",
       "<title>7</title>\n",
       "<polygon fill=\"#39e581\" fill-opacity=\"0.800000\" stroke=\"#000000\" points=\"528.3333,-237.5 386.3333,-237.5 386.3333,-169.5 528.3333,-169.5 528.3333,-237.5\"/>\n",
       "<text text-anchor=\"start\" x=\"394.3333\" y=\"-222.3\" font-family=\"Times,serif\" font-size=\"14.00\" fill=\"#000000\">sepal width (cm) ≤ 3.0</text>\n",
       "<text text-anchor=\"start\" x=\"429.8333\" y=\"-207.3\" font-family=\"Times,serif\" font-size=\"14.00\" fill=\"#000000\">gini = 0.0</text>\n",
       "<text text-anchor=\"start\" x=\"420.3333\" y=\"-192.3\" font-family=\"Times,serif\" font-size=\"14.00\" fill=\"#000000\">samples = 39</text>\n",
       "<text text-anchor=\"start\" x=\"408.8333\" y=\"-177.3\" font-family=\"Times,serif\" font-size=\"14.00\" fill=\"#000000\">value = [3, 32, 4]</text>\n",
       "</g>\n",
       "<!-- 6&#45;&gt;7 -->\n",
       "<g id=\"edge7\" class=\"edge\">\n",
       "<title>6&#45;&gt;7</title>\n",
       "<path fill=\"none\" stroke=\"#000000\" d=\"M337.5425,-203.5C350.0544,-203.5 363.1831,-203.5 375.9748,-203.5\"/>\n",
       "<polygon fill=\"#000000\" stroke=\"#000000\" points=\"376.1431,-207.0001 386.1431,-203.5 376.143,-200.0001 376.1431,-207.0001\"/>\n",
       "</g>\n",
       "<!-- 10 -->\n",
       "<g id=\"node11\" class=\"node\">\n",
       "<title>10</title>\n",
       "<polygon fill=\"#8139e5\" fill-opacity=\"0.972549\" stroke=\"#000000\" points=\"528.8333,-131.5 385.8333,-131.5 385.8333,-63.5 528.8333,-63.5 528.8333,-131.5\"/>\n",
       "<text text-anchor=\"start\" x=\"393.8333\" y=\"-116.3\" font-family=\"Times,serif\" font-size=\"14.00\" fill=\"#000000\">petal length (cm) ≤ 5.0</text>\n",
       "<text text-anchor=\"start\" x=\"429.8333\" y=\"-101.3\" font-family=\"Times,serif\" font-size=\"14.00\" fill=\"#000000\">gini = 0.0</text>\n",
       "<text text-anchor=\"start\" x=\"420.3333\" y=\"-86.3\" font-family=\"Times,serif\" font-size=\"14.00\" fill=\"#000000\">samples = 40</text>\n",
       "<text text-anchor=\"start\" x=\"408.8333\" y=\"-71.3\" font-family=\"Times,serif\" font-size=\"14.00\" fill=\"#000000\">value = [0, 1, 39]</text>\n",
       "</g>\n",
       "<!-- 6&#45;&gt;10 -->\n",
       "<g id=\"edge10\" class=\"edge\">\n",
       "<title>6&#45;&gt;10</title>\n",
       "<path fill=\"none\" stroke=\"#000000\" d=\"M328.4964,-169.3775C347.3113,-158.8807 368.1631,-147.2476 387.5129,-136.4525\"/>\n",
       "<polygon fill=\"#000000\" stroke=\"#000000\" points=\"389.2572,-139.4872 396.2849,-131.5586 385.8468,-133.3742 389.2572,-139.4872\"/>\n",
       "</g>\n",
       "<!-- 8 -->\n",
       "<g id=\"node9\" class=\"node\">\n",
       "<title>8</title>\n",
       "<polygon fill=\"#39e581\" fill-opacity=\"0.874510\" stroke=\"#000000\" points=\"689.8333,-266 576.8333,-266 576.8333,-213 689.8333,-213 689.8333,-266\"/>\n",
       "<text text-anchor=\"start\" x=\"605.8333\" y=\"-250.8\" font-family=\"Times,serif\" font-size=\"14.00\" fill=\"#000000\">gini = 0.0</text>\n",
       "<text text-anchor=\"start\" x=\"596.3333\" y=\"-235.8\" font-family=\"Times,serif\" font-size=\"14.00\" fill=\"#000000\">samples = 36</text>\n",
       "<text text-anchor=\"start\" x=\"584.8333\" y=\"-220.8\" font-family=\"Times,serif\" font-size=\"14.00\" fill=\"#000000\">value = [0, 32, 4]</text>\n",
       "</g>\n",
       "<!-- 7&#45;&gt;8 -->\n",
       "<g id=\"edge8\" class=\"edge\">\n",
       "<title>7&#45;&gt;8</title>\n",
       "<path fill=\"none\" stroke=\"#000000\" d=\"M528.412,-218.0388C541.0589,-220.6257 554.1903,-223.3117 566.7076,-225.872\"/>\n",
       "<polygon fill=\"#000000\" stroke=\"#000000\" points=\"566.095,-229.3191 576.5936,-227.8941 567.4979,-222.4611 566.095,-229.3191\"/>\n",
       "</g>\n",
       "<!-- 9 -->\n",
       "<g id=\"node10\" class=\"node\">\n",
       "<title>9</title>\n",
       "<polygon fill=\"#e58139\" stroke=\"#000000\" points=\"686.3333,-195 580.3333,-195 580.3333,-142 686.3333,-142 686.3333,-195\"/>\n",
       "<text text-anchor=\"start\" x=\"605.8333\" y=\"-179.8\" font-family=\"Times,serif\" font-size=\"14.00\" fill=\"#000000\">gini = 0.0</text>\n",
       "<text text-anchor=\"start\" x=\"599.8333\" y=\"-164.8\" font-family=\"Times,serif\" font-size=\"14.00\" fill=\"#000000\">samples = 3</text>\n",
       "<text text-anchor=\"start\" x=\"588.3333\" y=\"-149.8\" font-family=\"Times,serif\" font-size=\"14.00\" fill=\"#000000\">value = [3, 0, 0]</text>\n",
       "</g>\n",
       "<!-- 7&#45;&gt;9 -->\n",
       "<g id=\"edge9\" class=\"edge\">\n",
       "<title>7&#45;&gt;9</title>\n",
       "<path fill=\"none\" stroke=\"#000000\" d=\"M528.412,-189.365C542.1724,-186.6286 556.5065,-183.7781 569.999,-181.0949\"/>\n",
       "<polygon fill=\"#000000\" stroke=\"#000000\" points=\"571.004,-184.4637 580.1293,-179.0804 569.6386,-177.5981 571.004,-184.4637\"/>\n",
       "</g>\n",
       "<!-- 11 -->\n",
       "<g id=\"node12\" class=\"node\">\n",
       "<title>11</title>\n",
       "<polygon fill=\"#8139e5\" fill-opacity=\"0.498039\" stroke=\"#000000\" points=\"686.3333,-124 580.3333,-124 580.3333,-71 686.3333,-71 686.3333,-124\"/>\n",
       "<text text-anchor=\"start\" x=\"605.8333\" y=\"-108.8\" font-family=\"Times,serif\" font-size=\"14.00\" fill=\"#000000\">gini = 0.0</text>\n",
       "<text text-anchor=\"start\" x=\"599.8333\" y=\"-93.8\" font-family=\"Times,serif\" font-size=\"14.00\" fill=\"#000000\">samples = 3</text>\n",
       "<text text-anchor=\"start\" x=\"588.3333\" y=\"-78.8\" font-family=\"Times,serif\" font-size=\"14.00\" fill=\"#000000\">value = [0, 1, 2]</text>\n",
       "</g>\n",
       "<!-- 10&#45;&gt;11 -->\n",
       "<g id=\"edge11\" class=\"edge\">\n",
       "<title>10&#45;&gt;11</title>\n",
       "<path fill=\"none\" stroke=\"#000000\" d=\"M528.9193,-97.5C542.5701,-97.5 556.7672,-97.5 570.1332,-97.5\"/>\n",
       "<polygon fill=\"#000000\" stroke=\"#000000\" points=\"570.1695,-101.0001 580.1694,-97.5 570.1694,-94.0001 570.1695,-101.0001\"/>\n",
       "</g>\n",
       "<!-- 12 -->\n",
       "<g id=\"node13\" class=\"node\">\n",
       "<title>12</title>\n",
       "<polygon fill=\"#8139e5\" stroke=\"#000000\" points=\"689.8333,-53 576.8333,-53 576.8333,0 689.8333,0 689.8333,-53\"/>\n",
       "<text text-anchor=\"start\" x=\"605.8333\" y=\"-37.8\" font-family=\"Times,serif\" font-size=\"14.00\" fill=\"#000000\">gini = 0.0</text>\n",
       "<text text-anchor=\"start\" x=\"596.3333\" y=\"-22.8\" font-family=\"Times,serif\" font-size=\"14.00\" fill=\"#000000\">samples = 37</text>\n",
       "<text text-anchor=\"start\" x=\"584.8333\" y=\"-7.8\" font-family=\"Times,serif\" font-size=\"14.00\" fill=\"#000000\">value = [0, 0, 37]</text>\n",
       "</g>\n",
       "<!-- 10&#45;&gt;12 -->\n",
       "<g id=\"edge12\" class=\"edge\">\n",
       "<title>10&#45;&gt;12</title>\n",
       "<path fill=\"none\" stroke=\"#000000\" d=\"M528.9193,-68.6216C541.5842,-63.5124 554.7194,-58.2136 567.2248,-53.1688\"/>\n",
       "<polygon fill=\"#000000\" stroke=\"#000000\" points=\"568.6823,-56.3549 576.6467,-49.3679 566.0635,-49.8633 568.6823,-56.3549\"/>\n",
       "</g>\n",
       "</g>\n",
       "</svg>\n"
      ],
      "text/plain": [
       "<graphviz.files.Source at 0x7fb6bed854e0>"
      ]
     },
     "metadata": {},
     "output_type": "display_data"
    }
   ],
   "source": [
    "draw_tree(m.estimators_[0], df)"
   ]
  },
  {
   "cell_type": "markdown",
   "metadata": {},
   "source": [
    "## Using a deeper tree"
   ]
  },
  {
   "cell_type": "code",
   "execution_count": 18,
   "metadata": {},
   "outputs": [
    {
     "name": "stdout",
     "output_type": "stream",
     "text": [
      "Accuracy (Training): 1.0\n",
      "     Accuracy score: 0.93333\n"
     ]
    }
   ],
   "source": [
    "m = RandomForestClassifier(n_estimators=1, bootstrap=False, n_jobs=-1)\n",
    "train_classifier(m, X_train, y_train)\n",
    "preds = predict_and_evaluate_classifier(m, X_test, y_test)"
   ]
  },
  {
   "cell_type": "code",
   "execution_count": 19,
   "metadata": {},
   "outputs": [
    {
     "data": {
      "image/svg+xml": [
       "<?xml version=\"1.0\" encoding=\"UTF-8\" standalone=\"no\"?>\n",
       "<!DOCTYPE svg PUBLIC \"-//W3C//DTD SVG 1.1//EN\"\n",
       " \"http://www.w3.org/Graphics/SVG/1.1/DTD/svg11.dtd\">\n",
       "<!-- Generated by graphviz version 2.40.1 (20161225.0304)\n",
       " -->\n",
       "<!-- Title: Tree Pages: 1 -->\n",
       "<svg width=\"720pt\" height=\"434pt\"\n",
       " viewBox=\"0.00 0.00 720.00 433.94\" xmlns=\"http://www.w3.org/2000/svg\" xmlns:xlink=\"http://www.w3.org/1999/xlink\">\n",
       "<g id=\"graph0\" class=\"graph\" transform=\"scale(.6071 .6071) rotate(0) translate(4 710.8)\">\n",
       "<title>Tree</title>\n",
       "<polygon fill=\"#ffffff\" stroke=\"transparent\" points=\"-4,4 -4,-710.8 1182,-710.8 1182,4 -4,4\"/>\n",
       "<!-- 0 -->\n",
       "<g id=\"node1\" class=\"node\">\n",
       "<title>0</title>\n",
       "<polygon fill=\"#8139e5\" fill-opacity=\"0.062745\" stroke=\"#000000\" points=\"142.5,-381.502 -.5,-381.502 -.5,-313.502 142.5,-313.502 142.5,-381.502\"/>\n",
       "<text text-anchor=\"start\" x=\"7.5\" y=\"-366.302\" font-family=\"Times,serif\" font-size=\"14.00\" fill=\"#000000\">petal length (cm) ≤ 3.0</text>\n",
       "<text text-anchor=\"start\" x=\"43.5\" y=\"-351.302\" font-family=\"Times,serif\" font-size=\"14.00\" fill=\"#000000\">gini = 1.0</text>\n",
       "<text text-anchor=\"start\" x=\"30.5\" y=\"-336.302\" font-family=\"Times,serif\" font-size=\"14.00\" fill=\"#000000\">samples = 120</text>\n",
       "<text text-anchor=\"start\" x=\"16\" y=\"-321.302\" font-family=\"Times,serif\" font-size=\"14.00\" fill=\"#000000\">value = [39, 37, 44]</text>\n",
       "</g>\n",
       "<!-- 1 -->\n",
       "<g id=\"node2\" class=\"node\">\n",
       "<title>1</title>\n",
       "<polygon fill=\"#e58139\" stroke=\"#000000\" points=\"307.5,-437.002 194.5,-437.002 194.5,-384.002 307.5,-384.002 307.5,-437.002\"/>\n",
       "<text text-anchor=\"start\" x=\"223.5\" y=\"-421.802\" font-family=\"Times,serif\" font-size=\"14.00\" fill=\"#000000\">gini = 0.0</text>\n",
       "<text text-anchor=\"start\" x=\"214\" y=\"-406.802\" font-family=\"Times,serif\" font-size=\"14.00\" fill=\"#000000\">samples = 39</text>\n",
       "<text text-anchor=\"start\" x=\"202.5\" y=\"-391.802\" font-family=\"Times,serif\" font-size=\"14.00\" fill=\"#000000\">value = [39, 0, 0]</text>\n",
       "</g>\n",
       "<!-- 0&#45;&gt;1 -->\n",
       "<g id=\"edge1\" class=\"edge\">\n",
       "<title>0&#45;&gt;1</title>\n",
       "<path fill=\"none\" stroke=\"#000000\" d=\"M142.658,-372.5823C156.4639,-377.4144 170.8712,-382.4569 184.5047,-387.2287\"/>\n",
       "<polygon fill=\"#000000\" stroke=\"#000000\" points=\"183.6808,-390.6484 194.2756,-390.6485 185.9933,-384.0414 183.6808,-390.6484\"/>\n",
       "<text text-anchor=\"middle\" x=\"176.2556\" y=\"-395.6248\" font-family=\"Times,serif\" font-size=\"14.00\" fill=\"#000000\">True</text>\n",
       "</g>\n",
       "<!-- 2 -->\n",
       "<g id=\"node3\" class=\"node\">\n",
       "<title>2</title>\n",
       "<polygon fill=\"#8139e5\" fill-opacity=\"0.160784\" stroke=\"#000000\" points=\"323.5,-319.502 178.5,-319.502 178.5,-251.502 323.5,-251.502 323.5,-319.502\"/>\n",
       "<text text-anchor=\"start\" x=\"186.5\" y=\"-304.302\" font-family=\"Times,serif\" font-size=\"14.00\" fill=\"#000000\">sepal length (cm) ≤ 6.0</text>\n",
       "<text text-anchor=\"start\" x=\"223.5\" y=\"-289.302\" font-family=\"Times,serif\" font-size=\"14.00\" fill=\"#000000\">gini = 0.0</text>\n",
       "<text text-anchor=\"start\" x=\"214\" y=\"-274.302\" font-family=\"Times,serif\" font-size=\"14.00\" fill=\"#000000\">samples = 81</text>\n",
       "<text text-anchor=\"start\" x=\"199.5\" y=\"-259.302\" font-family=\"Times,serif\" font-size=\"14.00\" fill=\"#000000\">value = [0, 37, 44]</text>\n",
       "</g>\n",
       "<!-- 0&#45;&gt;2 -->\n",
       "<g id=\"edge2\" class=\"edge\">\n",
       "<title>0&#45;&gt;2</title>\n",
       "<path fill=\"none\" stroke=\"#000000\" d=\"M142.658,-322.8198C151.2977,-319.8439 160.1729,-316.7869 168.9467,-313.7648\"/>\n",
       "<polygon fill=\"#000000\" stroke=\"#000000\" points=\"170.0963,-317.0707 178.4113,-310.5048 167.8166,-310.4523 170.0963,-317.0707\"/>\n",
       "<text text-anchor=\"middle\" x=\"160.4345\" y=\"-298.0392\" font-family=\"Times,serif\" font-size=\"14.00\" fill=\"#000000\">False</text>\n",
       "</g>\n",
       "<!-- 3 -->\n",
       "<g id=\"node4\" class=\"node\">\n",
       "<title>3</title>\n",
       "<polygon fill=\"#39e581\" fill-opacity=\"0.517647\" stroke=\"#000000\" points=\"500,-387.502 360,-387.502 360,-319.502 500,-319.502 500,-387.502\"/>\n",
       "<text text-anchor=\"start\" x=\"368\" y=\"-372.302\" font-family=\"Times,serif\" font-size=\"14.00\" fill=\"#000000\">petal width (cm) ≤ 2.0</text>\n",
       "<text text-anchor=\"start\" x=\"402.5\" y=\"-357.302\" font-family=\"Times,serif\" font-size=\"14.00\" fill=\"#000000\">gini = 0.0</text>\n",
       "<text text-anchor=\"start\" x=\"393\" y=\"-342.302\" font-family=\"Times,serif\" font-size=\"14.00\" fill=\"#000000\">samples = 40</text>\n",
       "<text text-anchor=\"start\" x=\"378.5\" y=\"-327.302\" font-family=\"Times,serif\" font-size=\"14.00\" fill=\"#000000\">value = [0, 27, 13]</text>\n",
       "</g>\n",
       "<!-- 2&#45;&gt;3 -->\n",
       "<g id=\"edge3\" class=\"edge\">\n",
       "<title>2&#45;&gt;3</title>\n",
       "<path fill=\"none\" stroke=\"#000000\" d=\"M323.5481,-313.0622C332.373,-316.4147 341.4262,-319.8539 350.3473,-323.2429\"/>\n",
       "<polygon fill=\"#000000\" stroke=\"#000000\" points=\"349.3676,-326.6147 359.9587,-326.8942 351.8535,-320.071 349.3676,-326.6147\"/>\n",
       "</g>\n",
       "<!-- 18 -->\n",
       "<g id=\"node19\" class=\"node\">\n",
       "<title>18</title>\n",
       "<polygon fill=\"#8139e5\" fill-opacity=\"0.678431\" stroke=\"#000000\" points=\"500,-200.502 360,-200.502 360,-132.502 500,-132.502 500,-200.502\"/>\n",
       "<text text-anchor=\"start\" x=\"368\" y=\"-185.302\" font-family=\"Times,serif\" font-size=\"14.00\" fill=\"#000000\">petal width (cm) ≤ 2.0</text>\n",
       "<text text-anchor=\"start\" x=\"402.5\" y=\"-170.302\" font-family=\"Times,serif\" font-size=\"14.00\" fill=\"#000000\">gini = 0.0</text>\n",
       "<text text-anchor=\"start\" x=\"393\" y=\"-155.302\" font-family=\"Times,serif\" font-size=\"14.00\" fill=\"#000000\">samples = 41</text>\n",
       "<text text-anchor=\"start\" x=\"378.5\" y=\"-140.302\" font-family=\"Times,serif\" font-size=\"14.00\" fill=\"#000000\">value = [0, 10, 31]</text>\n",
       "</g>\n",
       "<!-- 2&#45;&gt;18 -->\n",
       "<g id=\"edge18\" class=\"edge\">\n",
       "<title>2&#45;&gt;18</title>\n",
       "<path fill=\"none\" stroke=\"#000000\" d=\"M302.2942,-251.4014C323.4532,-237.3348 348.1193,-220.9366 370.101,-206.3232\"/>\n",
       "<polygon fill=\"#000000\" stroke=\"#000000\" points=\"372.3083,-209.0586 378.6983,-200.6076 368.4329,-203.2292 372.3083,-209.0586\"/>\n",
       "</g>\n",
       "<!-- 4 -->\n",
       "<g id=\"node5\" class=\"node\">\n",
       "<title>4</title>\n",
       "<polygon fill=\"#39e581\" fill-opacity=\"0.921569\" stroke=\"#000000\" points=\"677,-573.502 537,-573.502 537,-505.502 677,-505.502 677,-573.502\"/>\n",
       "<text text-anchor=\"start\" x=\"545\" y=\"-558.302\" font-family=\"Times,serif\" font-size=\"14.00\" fill=\"#000000\">petal width (cm) ≤ 1.0</text>\n",
       "<text text-anchor=\"start\" x=\"579.5\" y=\"-543.302\" font-family=\"Times,serif\" font-size=\"14.00\" fill=\"#000000\">gini = 0.0</text>\n",
       "<text text-anchor=\"start\" x=\"570\" y=\"-528.302\" font-family=\"Times,serif\" font-size=\"14.00\" fill=\"#000000\">samples = 28</text>\n",
       "<text text-anchor=\"start\" x=\"558.5\" y=\"-513.302\" font-family=\"Times,serif\" font-size=\"14.00\" fill=\"#000000\">value = [0, 26, 2]</text>\n",
       "</g>\n",
       "<!-- 3&#45;&gt;4 -->\n",
       "<g id=\"edge4\" class=\"edge\">\n",
       "<title>3&#45;&gt;4</title>\n",
       "<path fill=\"none\" stroke=\"#000000\" d=\"M462.4645,-387.6173C492.0627,-418.7205 535.8663,-464.7513 567.4879,-497.9808\"/>\n",
       "<polygon fill=\"#000000\" stroke=\"#000000\" points=\"565.0129,-500.4572 574.4421,-505.2886 570.0839,-495.6316 565.0129,-500.4572\"/>\n",
       "</g>\n",
       "<!-- 11 -->\n",
       "<g id=\"node12\" class=\"node\">\n",
       "<title>11</title>\n",
       "<polygon fill=\"#8139e5\" fill-opacity=\"0.909804\" stroke=\"#000000\" points=\"678.5,-387.502 535.5,-387.502 535.5,-319.502 678.5,-319.502 678.5,-387.502\"/>\n",
       "<text text-anchor=\"start\" x=\"543.5\" y=\"-372.302\" font-family=\"Times,serif\" font-size=\"14.00\" fill=\"#000000\">petal length (cm) ≤ 5.0</text>\n",
       "<text text-anchor=\"start\" x=\"579.5\" y=\"-357.302\" font-family=\"Times,serif\" font-size=\"14.00\" fill=\"#000000\">gini = 0.0</text>\n",
       "<text text-anchor=\"start\" x=\"570\" y=\"-342.302\" font-family=\"Times,serif\" font-size=\"14.00\" fill=\"#000000\">samples = 12</text>\n",
       "<text text-anchor=\"start\" x=\"558.5\" y=\"-327.302\" font-family=\"Times,serif\" font-size=\"14.00\" fill=\"#000000\">value = [0, 1, 11]</text>\n",
       "</g>\n",
       "<!-- 3&#45;&gt;11 -->\n",
       "<g id=\"edge11\" class=\"edge\">\n",
       "<title>3&#45;&gt;11</title>\n",
       "<path fill=\"none\" stroke=\"#000000\" d=\"M500.2093,-353.502C508.4435,-353.502 516.8986,-353.502 525.2724,-353.502\"/>\n",
       "<polygon fill=\"#000000\" stroke=\"#000000\" points=\"525.4259,-357.0021 535.4259,-353.502 525.4258,-350.0021 525.4259,-357.0021\"/>\n",
       "</g>\n",
       "<!-- 5 -->\n",
       "<g id=\"node6\" class=\"node\">\n",
       "<title>5</title>\n",
       "<polygon fill=\"#39e581\" stroke=\"#000000\" points=\"843.5,-691.002 730.5,-691.002 730.5,-638.002 843.5,-638.002 843.5,-691.002\"/>\n",
       "<text text-anchor=\"start\" x=\"759.5\" y=\"-675.802\" font-family=\"Times,serif\" font-size=\"14.00\" fill=\"#000000\">gini = 0.0</text>\n",
       "<text text-anchor=\"start\" x=\"750\" y=\"-660.802\" font-family=\"Times,serif\" font-size=\"14.00\" fill=\"#000000\">samples = 19</text>\n",
       "<text text-anchor=\"start\" x=\"738.5\" y=\"-645.802\" font-family=\"Times,serif\" font-size=\"14.00\" fill=\"#000000\">value = [0, 19, 0]</text>\n",
       "</g>\n",
       "<!-- 4&#45;&gt;5 -->\n",
       "<g id=\"edge5\" class=\"edge\">\n",
       "<title>4&#45;&gt;5</title>\n",
       "<path fill=\"none\" stroke=\"#000000\" d=\"M656.1858,-573.6588C682.3712,-591.8431 714.4047,-614.0886 740.2182,-632.0147\"/>\n",
       "<polygon fill=\"#000000\" stroke=\"#000000\" points=\"738.5064,-635.0871 748.7165,-637.9162 742.4992,-629.3374 738.5064,-635.0871\"/>\n",
       "</g>\n",
       "<!-- 6 -->\n",
       "<g id=\"node7\" class=\"node\">\n",
       "<title>6</title>\n",
       "<polygon fill=\"#39e581\" fill-opacity=\"0.713725\" stroke=\"#000000\" points=\"858.5,-573.502 715.5,-573.502 715.5,-505.502 858.5,-505.502 858.5,-573.502\"/>\n",
       "<text text-anchor=\"start\" x=\"723.5\" y=\"-558.302\" font-family=\"Times,serif\" font-size=\"14.00\" fill=\"#000000\">petal length (cm) ≤ 5.0</text>\n",
       "<text text-anchor=\"start\" x=\"759.5\" y=\"-543.302\" font-family=\"Times,serif\" font-size=\"14.00\" fill=\"#000000\">gini = 0.0</text>\n",
       "<text text-anchor=\"start\" x=\"753.5\" y=\"-528.302\" font-family=\"Times,serif\" font-size=\"14.00\" fill=\"#000000\">samples = 9</text>\n",
       "<text text-anchor=\"start\" x=\"742\" y=\"-513.302\" font-family=\"Times,serif\" font-size=\"14.00\" fill=\"#000000\">value = [0, 7, 2]</text>\n",
       "</g>\n",
       "<!-- 4&#45;&gt;6 -->\n",
       "<g id=\"edge6\" class=\"edge\">\n",
       "<title>4&#45;&gt;6</title>\n",
       "<path fill=\"none\" stroke=\"#000000\" d=\"M677.1081,-539.502C686.3146,-539.502 695.8135,-539.502 705.1927,-539.502\"/>\n",
       "<polygon fill=\"#000000\" stroke=\"#000000\" points=\"705.3037,-543.0021 715.3036,-539.502 705.3036,-536.0021 705.3037,-543.0021\"/>\n",
       "</g>\n",
       "<!-- 7 -->\n",
       "<g id=\"node8\" class=\"node\">\n",
       "<title>7</title>\n",
       "<polygon fill=\"#39e581\" stroke=\"#000000\" points=\"1019,-691.002 913,-691.002 913,-638.002 1019,-638.002 1019,-691.002\"/>\n",
       "<text text-anchor=\"start\" x=\"938.5\" y=\"-675.802\" font-family=\"Times,serif\" font-size=\"14.00\" fill=\"#000000\">gini = 0.0</text>\n",
       "<text text-anchor=\"start\" x=\"932.5\" y=\"-660.802\" font-family=\"Times,serif\" font-size=\"14.00\" fill=\"#000000\">samples = 6</text>\n",
       "<text text-anchor=\"start\" x=\"921\" y=\"-645.802\" font-family=\"Times,serif\" font-size=\"14.00\" fill=\"#000000\">value = [0, 6, 0]</text>\n",
       "</g>\n",
       "<!-- 6&#45;&gt;7 -->\n",
       "<g id=\"edge7\" class=\"edge\">\n",
       "<title>6&#45;&gt;7</title>\n",
       "<path fill=\"none\" stroke=\"#000000\" d=\"M835.9125,-573.6588C861.9525,-591.8431 893.808,-614.0886 919.4781,-632.0147\"/>\n",
       "<polygon fill=\"#000000\" stroke=\"#000000\" points=\"917.7265,-635.0604 927.9292,-637.9162 921.7343,-629.3212 917.7265,-635.0604\"/>\n",
       "</g>\n",
       "<!-- 8 -->\n",
       "<g id=\"node9\" class=\"node\">\n",
       "<title>8</title>\n",
       "<polygon fill=\"#8139e5\" fill-opacity=\"0.498039\" stroke=\"#000000\" points=\"1036,-573.502 896,-573.502 896,-505.502 1036,-505.502 1036,-573.502\"/>\n",
       "<text text-anchor=\"start\" x=\"904\" y=\"-558.302\" font-family=\"Times,serif\" font-size=\"14.00\" fill=\"#000000\">petal width (cm) ≤ 2.0</text>\n",
       "<text text-anchor=\"start\" x=\"938.5\" y=\"-543.302\" font-family=\"Times,serif\" font-size=\"14.00\" fill=\"#000000\">gini = 0.0</text>\n",
       "<text text-anchor=\"start\" x=\"932.5\" y=\"-528.302\" font-family=\"Times,serif\" font-size=\"14.00\" fill=\"#000000\">samples = 3</text>\n",
       "<text text-anchor=\"start\" x=\"921\" y=\"-513.302\" font-family=\"Times,serif\" font-size=\"14.00\" fill=\"#000000\">value = [0, 1, 2]</text>\n",
       "</g>\n",
       "<!-- 6&#45;&gt;8 -->\n",
       "<g id=\"edge8\" class=\"edge\">\n",
       "<title>6&#45;&gt;8</title>\n",
       "<path fill=\"none\" stroke=\"#000000\" d=\"M858.5172,-539.502C867.4321,-539.502 876.5952,-539.502 885.6327,-539.502\"/>\n",
       "<polygon fill=\"#000000\" stroke=\"#000000\" points=\"885.7632,-543.0021 895.7632,-539.502 885.7632,-536.0021 885.7632,-543.0021\"/>\n",
       "</g>\n",
       "<!-- 9 -->\n",
       "<g id=\"node10\" class=\"node\">\n",
       "<title>9</title>\n",
       "<polygon fill=\"#8139e5\" stroke=\"#000000\" points=\"1178,-672.002 1072,-672.002 1072,-619.002 1178,-619.002 1178,-672.002\"/>\n",
       "<text text-anchor=\"start\" x=\"1097.5\" y=\"-656.802\" font-family=\"Times,serif\" font-size=\"14.00\" fill=\"#000000\">gini = 0.0</text>\n",
       "<text text-anchor=\"start\" x=\"1091.5\" y=\"-641.802\" font-family=\"Times,serif\" font-size=\"14.00\" fill=\"#000000\">samples = 2</text>\n",
       "<text text-anchor=\"start\" x=\"1080\" y=\"-626.802\" font-family=\"Times,serif\" font-size=\"14.00\" fill=\"#000000\">value = [0, 0, 2]</text>\n",
       "</g>\n",
       "<!-- 8&#45;&gt;9 -->\n",
       "<g id=\"edge9\" class=\"edge\">\n",
       "<title>8&#45;&gt;9</title>\n",
       "<path fill=\"none\" stroke=\"#000000\" d=\"M1017.1838,-573.6246C1036.2354,-586.3256 1057.7827,-600.6904 1076.579,-613.2213\"/>\n",
       "<polygon fill=\"#000000\" stroke=\"#000000\" points=\"1074.7407,-616.2023 1085.0027,-618.8371 1078.6236,-610.3779 1074.7407,-616.2023\"/>\n",
       "</g>\n",
       "<!-- 10 -->\n",
       "<g id=\"node11\" class=\"node\">\n",
       "<title>10</title>\n",
       "<polygon fill=\"#39e581\" stroke=\"#000000\" points=\"1178,-560.002 1072,-560.002 1072,-507.002 1178,-507.002 1178,-560.002\"/>\n",
       "<text text-anchor=\"start\" x=\"1097.5\" y=\"-544.802\" font-family=\"Times,serif\" font-size=\"14.00\" fill=\"#000000\">gini = 0.0</text>\n",
       "<text text-anchor=\"start\" x=\"1091.5\" y=\"-529.802\" font-family=\"Times,serif\" font-size=\"14.00\" fill=\"#000000\">samples = 1</text>\n",
       "<text text-anchor=\"start\" x=\"1080\" y=\"-514.802\" font-family=\"Times,serif\" font-size=\"14.00\" fill=\"#000000\">value = [0, 1, 0]</text>\n",
       "</g>\n",
       "<!-- 8&#45;&gt;10 -->\n",
       "<g id=\"edge10\" class=\"edge\">\n",
       "<title>8&#45;&gt;10</title>\n",
       "<path fill=\"none\" stroke=\"#000000\" d=\"M1036.2025,-536.8529C1044.7192,-536.5315 1053.3803,-536.2046 1061.7874,-535.8874\"/>\n",
       "<polygon fill=\"#000000\" stroke=\"#000000\" points=\"1062.0287,-539.3809 1071.8895,-535.5062 1061.7646,-532.3859 1062.0287,-539.3809\"/>\n",
       "</g>\n",
       "<!-- 12 -->\n",
       "<g id=\"node13\" class=\"node\">\n",
       "<title>12</title>\n",
       "<polygon fill=\"#8139e5\" fill-opacity=\"0.666667\" stroke=\"#000000\" points=\"859.5,-437.502 714.5,-437.502 714.5,-369.502 859.5,-369.502 859.5,-437.502\"/>\n",
       "<text text-anchor=\"start\" x=\"722.5\" y=\"-422.302\" font-family=\"Times,serif\" font-size=\"14.00\" fill=\"#000000\">sepal length (cm) ≤ 6.0</text>\n",
       "<text text-anchor=\"start\" x=\"759.5\" y=\"-407.302\" font-family=\"Times,serif\" font-size=\"14.00\" fill=\"#000000\">gini = 0.0</text>\n",
       "<text text-anchor=\"start\" x=\"753.5\" y=\"-392.302\" font-family=\"Times,serif\" font-size=\"14.00\" fill=\"#000000\">samples = 4</text>\n",
       "<text text-anchor=\"start\" x=\"742\" y=\"-377.302\" font-family=\"Times,serif\" font-size=\"14.00\" fill=\"#000000\">value = [0, 1, 3]</text>\n",
       "</g>\n",
       "<!-- 11&#45;&gt;12 -->\n",
       "<g id=\"edge12\" class=\"edge\">\n",
       "<title>11&#45;&gt;12</title>\n",
       "<path fill=\"none\" stroke=\"#000000\" d=\"M678.658,-373.407C687.2058,-375.7814 695.9841,-378.2198 704.6666,-380.6316\"/>\n",
       "<polygon fill=\"#000000\" stroke=\"#000000\" points=\"703.8393,-384.0343 714.4113,-383.3385 705.7129,-377.2897 703.8393,-384.0343\"/>\n",
       "</g>\n",
       "<!-- 17 -->\n",
       "<g id=\"node18\" class=\"node\">\n",
       "<title>17</title>\n",
       "<polygon fill=\"#8139e5\" stroke=\"#000000\" points=\"840,-306.002 734,-306.002 734,-253.002 840,-253.002 840,-306.002\"/>\n",
       "<text text-anchor=\"start\" x=\"759.5\" y=\"-290.802\" font-family=\"Times,serif\" font-size=\"14.00\" fill=\"#000000\">gini = 0.0</text>\n",
       "<text text-anchor=\"start\" x=\"753.5\" y=\"-275.802\" font-family=\"Times,serif\" font-size=\"14.00\" fill=\"#000000\">samples = 8</text>\n",
       "<text text-anchor=\"start\" x=\"742\" y=\"-260.802\" font-family=\"Times,serif\" font-size=\"14.00\" fill=\"#000000\">value = [0, 0, 8]</text>\n",
       "</g>\n",
       "<!-- 11&#45;&gt;17 -->\n",
       "<g id=\"edge17\" class=\"edge\">\n",
       "<title>11&#45;&gt;17</title>\n",
       "<path fill=\"none\" stroke=\"#000000\" d=\"M678.658,-324.0426C693.7775,-317.8268 709.6183,-311.3145 724.374,-305.2482\"/>\n",
       "<polygon fill=\"#000000\" stroke=\"#000000\" points=\"725.9774,-308.3734 733.8955,-301.3339 723.3158,-301.8991 725.9774,-308.3734\"/>\n",
       "</g>\n",
       "<!-- 13 -->\n",
       "<g id=\"node14\" class=\"node\">\n",
       "<title>13</title>\n",
       "<polygon fill=\"transparent\" stroke=\"#000000\" points=\"1036,-437.502 896,-437.502 896,-369.502 1036,-369.502 1036,-437.502\"/>\n",
       "<text text-anchor=\"start\" x=\"904\" y=\"-422.302\" font-family=\"Times,serif\" font-size=\"14.00\" fill=\"#000000\">petal width (cm) ≤ 2.0</text>\n",
       "<text text-anchor=\"start\" x=\"938.5\" y=\"-407.302\" font-family=\"Times,serif\" font-size=\"14.00\" fill=\"#000000\">gini = 0.0</text>\n",
       "<text text-anchor=\"start\" x=\"932.5\" y=\"-392.302\" font-family=\"Times,serif\" font-size=\"14.00\" fill=\"#000000\">samples = 2</text>\n",
       "<text text-anchor=\"start\" x=\"921\" y=\"-377.302\" font-family=\"Times,serif\" font-size=\"14.00\" fill=\"#000000\">value = [0, 1, 1]</text>\n",
       "</g>\n",
       "<!-- 12&#45;&gt;13 -->\n",
       "<g id=\"edge13\" class=\"edge\">\n",
       "<title>12&#45;&gt;13</title>\n",
       "<path fill=\"none\" stroke=\"#000000\" d=\"M859.5481,-403.502C868.1853,-403.502 877.0411,-403.502 885.7777,-403.502\"/>\n",
       "<polygon fill=\"#000000\" stroke=\"#000000\" points=\"885.9587,-407.0021 895.9587,-403.502 885.9587,-400.0021 885.9587,-407.0021\"/>\n",
       "</g>\n",
       "<!-- 16 -->\n",
       "<g id=\"node17\" class=\"node\">\n",
       "<title>16</title>\n",
       "<polygon fill=\"#8139e5\" stroke=\"#000000\" points=\"1019,-306.002 913,-306.002 913,-253.002 1019,-253.002 1019,-306.002\"/>\n",
       "<text text-anchor=\"start\" x=\"938.5\" y=\"-290.802\" font-family=\"Times,serif\" font-size=\"14.00\" fill=\"#000000\">gini = 0.0</text>\n",
       "<text text-anchor=\"start\" x=\"932.5\" y=\"-275.802\" font-family=\"Times,serif\" font-size=\"14.00\" fill=\"#000000\">samples = 2</text>\n",
       "<text text-anchor=\"start\" x=\"921\" y=\"-260.802\" font-family=\"Times,serif\" font-size=\"14.00\" fill=\"#000000\">value = [0, 0, 2]</text>\n",
       "</g>\n",
       "<!-- 12&#45;&gt;16 -->\n",
       "<g id=\"edge16\" class=\"edge\">\n",
       "<title>12&#45;&gt;16</title>\n",
       "<path fill=\"none\" stroke=\"#000000\" d=\"M836.3864,-369.2902C862.2327,-351.3855 893.7065,-329.5824 919.1667,-311.9452\"/>\n",
       "<polygon fill=\"#000000\" stroke=\"#000000\" points=\"921.3264,-314.7069 927.5536,-306.1352 917.3403,-308.9527 921.3264,-314.7069\"/>\n",
       "</g>\n",
       "<!-- 14 -->\n",
       "<g id=\"node15\" class=\"node\">\n",
       "<title>14</title>\n",
       "<polygon fill=\"#8139e5\" stroke=\"#000000\" points=\"1178,-437.002 1072,-437.002 1072,-384.002 1178,-384.002 1178,-437.002\"/>\n",
       "<text text-anchor=\"start\" x=\"1097.5\" y=\"-421.802\" font-family=\"Times,serif\" font-size=\"14.00\" fill=\"#000000\">gini = 0.0</text>\n",
       "<text text-anchor=\"start\" x=\"1091.5\" y=\"-406.802\" font-family=\"Times,serif\" font-size=\"14.00\" fill=\"#000000\">samples = 1</text>\n",
       "<text text-anchor=\"start\" x=\"1080\" y=\"-391.802\" font-family=\"Times,serif\" font-size=\"14.00\" fill=\"#000000\">value = [0, 0, 1]</text>\n",
       "</g>\n",
       "<!-- 13&#45;&gt;14 -->\n",
       "<g id=\"edge14\" class=\"edge\">\n",
       "<title>13&#45;&gt;14</title>\n",
       "<path fill=\"none\" stroke=\"#000000\" d=\"M1036.2025,-406.5927C1044.7192,-406.9676 1053.3803,-407.3489 1061.7874,-407.7191\"/>\n",
       "<polygon fill=\"#000000\" stroke=\"#000000\" points=\"1061.7452,-411.2205 1071.8895,-408.1638 1062.0532,-404.2273 1061.7452,-411.2205\"/>\n",
       "</g>\n",
       "<!-- 15 -->\n",
       "<g id=\"node16\" class=\"node\">\n",
       "<title>15</title>\n",
       "<polygon fill=\"#39e581\" stroke=\"#000000\" points=\"1178,-325.002 1072,-325.002 1072,-272.002 1178,-272.002 1178,-325.002\"/>\n",
       "<text text-anchor=\"start\" x=\"1097.5\" y=\"-309.802\" font-family=\"Times,serif\" font-size=\"14.00\" fill=\"#000000\">gini = 0.0</text>\n",
       "<text text-anchor=\"start\" x=\"1091.5\" y=\"-294.802\" font-family=\"Times,serif\" font-size=\"14.00\" fill=\"#000000\">samples = 1</text>\n",
       "<text text-anchor=\"start\" x=\"1080\" y=\"-279.802\" font-family=\"Times,serif\" font-size=\"14.00\" fill=\"#000000\">value = [0, 1, 0]</text>\n",
       "</g>\n",
       "<!-- 13&#45;&gt;15 -->\n",
       "<g id=\"edge15\" class=\"edge\">\n",
       "<title>13&#45;&gt;15</title>\n",
       "<path fill=\"none\" stroke=\"#000000\" d=\"M1017.6227,-369.4115C1036.41,-357.0048 1057.5755,-343.0276 1076.118,-330.7825\"/>\n",
       "<polygon fill=\"#000000\" stroke=\"#000000\" points=\"1078.2947,-333.5395 1084.7106,-325.1082 1074.4372,-327.6982 1078.2947,-333.5395\"/>\n",
       "</g>\n",
       "<!-- 19 -->\n",
       "<g id=\"node20\" class=\"node\">\n",
       "<title>19</title>\n",
       "<polygon fill=\"#39e581\" fill-opacity=\"0.901961\" stroke=\"#000000\" points=\"678.5,-200.502 535.5,-200.502 535.5,-132.502 678.5,-132.502 678.5,-200.502\"/>\n",
       "<text text-anchor=\"start\" x=\"543.5\" y=\"-185.302\" font-family=\"Times,serif\" font-size=\"14.00\" fill=\"#000000\">petal length (cm) ≤ 5.0</text>\n",
       "<text text-anchor=\"start\" x=\"579.5\" y=\"-170.302\" font-family=\"Times,serif\" font-size=\"14.00\" fill=\"#000000\">gini = 0.0</text>\n",
       "<text text-anchor=\"start\" x=\"570\" y=\"-155.302\" font-family=\"Times,serif\" font-size=\"14.00\" fill=\"#000000\">samples = 11</text>\n",
       "<text text-anchor=\"start\" x=\"558.5\" y=\"-140.302\" font-family=\"Times,serif\" font-size=\"14.00\" fill=\"#000000\">value = [0, 10, 1]</text>\n",
       "</g>\n",
       "<!-- 18&#45;&gt;19 -->\n",
       "<g id=\"edge19\" class=\"edge\">\n",
       "<title>18&#45;&gt;19</title>\n",
       "<path fill=\"none\" stroke=\"#000000\" d=\"M500.2093,-166.502C508.4435,-166.502 516.8986,-166.502 525.2724,-166.502\"/>\n",
       "<polygon fill=\"#000000\" stroke=\"#000000\" points=\"525.4259,-170.0021 535.4259,-166.502 525.4258,-163.0021 525.4259,-170.0021\"/>\n",
       "</g>\n",
       "<!-- 22 -->\n",
       "<g id=\"node23\" class=\"node\">\n",
       "<title>22</title>\n",
       "<polygon fill=\"#8139e5\" stroke=\"#000000\" points=\"663.5,-68.002 550.5,-68.002 550.5,-15.002 663.5,-15.002 663.5,-68.002\"/>\n",
       "<text text-anchor=\"start\" x=\"579.5\" y=\"-52.802\" font-family=\"Times,serif\" font-size=\"14.00\" fill=\"#000000\">gini = 0.0</text>\n",
       "<text text-anchor=\"start\" x=\"570\" y=\"-37.802\" font-family=\"Times,serif\" font-size=\"14.00\" fill=\"#000000\">samples = 30</text>\n",
       "<text text-anchor=\"start\" x=\"558.5\" y=\"-22.802\" font-family=\"Times,serif\" font-size=\"14.00\" fill=\"#000000\">value = [0, 0, 30]</text>\n",
       "</g>\n",
       "<!-- 18&#45;&gt;22 -->\n",
       "<g id=\"edge22\" class=\"edge\">\n",
       "<title>18&#45;&gt;22</title>\n",
       "<path fill=\"none\" stroke=\"#000000\" d=\"M478.366,-132.3452C504.115,-114.1609 535.6147,-91.9154 560.9979,-73.9893\"/>\n",
       "<polygon fill=\"#000000\" stroke=\"#000000\" points=\"563.2052,-76.7154 569.3546,-68.0878 559.1671,-70.9975 563.2052,-76.7154\"/>\n",
       "</g>\n",
       "<!-- 20 -->\n",
       "<g id=\"node21\" class=\"node\">\n",
       "<title>20</title>\n",
       "<polygon fill=\"#39e581\" stroke=\"#000000\" points=\"843.5,-193.002 730.5,-193.002 730.5,-140.002 843.5,-140.002 843.5,-193.002\"/>\n",
       "<text text-anchor=\"start\" x=\"759.5\" y=\"-177.802\" font-family=\"Times,serif\" font-size=\"14.00\" fill=\"#000000\">gini = 0.0</text>\n",
       "<text text-anchor=\"start\" x=\"750\" y=\"-162.802\" font-family=\"Times,serif\" font-size=\"14.00\" fill=\"#000000\">samples = 10</text>\n",
       "<text text-anchor=\"start\" x=\"738.5\" y=\"-147.802\" font-family=\"Times,serif\" font-size=\"14.00\" fill=\"#000000\">value = [0, 10, 0]</text>\n",
       "</g>\n",
       "<!-- 19&#45;&gt;20 -->\n",
       "<g id=\"edge20\" class=\"edge\">\n",
       "<title>19&#45;&gt;20</title>\n",
       "<path fill=\"none\" stroke=\"#000000\" d=\"M678.658,-166.502C692.3299,-166.502 706.5915,-166.502 720.1074,-166.502\"/>\n",
       "<polygon fill=\"#000000\" stroke=\"#000000\" points=\"720.2756,-170.0021 730.2756,-166.502 720.2756,-163.0021 720.2756,-170.0021\"/>\n",
       "</g>\n",
       "<!-- 21 -->\n",
       "<g id=\"node22\" class=\"node\">\n",
       "<title>21</title>\n",
       "<polygon fill=\"#8139e5\" stroke=\"#000000\" points=\"840,-81.002 734,-81.002 734,-28.002 840,-28.002 840,-81.002\"/>\n",
       "<text text-anchor=\"start\" x=\"759.5\" y=\"-65.802\" font-family=\"Times,serif\" font-size=\"14.00\" fill=\"#000000\">gini = 0.0</text>\n",
       "<text text-anchor=\"start\" x=\"753.5\" y=\"-50.802\" font-family=\"Times,serif\" font-size=\"14.00\" fill=\"#000000\">samples = 1</text>\n",
       "<text text-anchor=\"start\" x=\"742\" y=\"-35.802\" font-family=\"Times,serif\" font-size=\"14.00\" fill=\"#000000\">value = [0, 0, 1]</text>\n",
       "</g>\n",
       "<!-- 19&#45;&gt;21 -->\n",
       "<g id=\"edge21\" class=\"edge\">\n",
       "<title>19&#45;&gt;21</title>\n",
       "<path fill=\"none\" stroke=\"#000000\" d=\"M661.984,-132.2897C685.4531,-117.6868 712.6858,-100.742 735.7316,-86.4024\"/>\n",
       "<polygon fill=\"#000000\" stroke=\"#000000\" points=\"737.701,-89.2992 744.3425,-81.0445 734.0029,-83.3558 737.701,-89.2992\"/>\n",
       "</g>\n",
       "</g>\n",
       "</svg>\n"
      ],
      "text/plain": [
       "<graphviz.files.Source at 0x7fb6bed74da0>"
      ]
     },
     "metadata": {},
     "output_type": "display_data"
    }
   ],
   "source": [
    "draw_tree(m.estimators_[0], df)"
   ]
  },
  {
   "cell_type": "markdown",
   "metadata": {},
   "source": [
    "## How many estimators?"
   ]
  },
  {
   "cell_type": "code",
   "execution_count": 20,
   "metadata": {},
   "outputs": [
    {
     "name": "stdout",
     "output_type": "stream",
     "text": [
      "Accuracy (Training): 1.0\n",
      "     Accuracy score: 0.96667\n"
     ]
    }
   ],
   "source": [
    "m = RandomForestClassifier(n_estimators=20, n_jobs=-1)\n",
    "train_classifier(m, X_train, y_train)\n",
    "m_preds = predict_and_evaluate_classifier(m, X_test, y_test)"
   ]
  },
  {
   "cell_type": "code",
   "execution_count": 21,
   "metadata": {},
   "outputs": [
    {
     "data": {
      "image/png": "[encoded data removed]",
      "text/plain": [
       "<Figure size 432x288 with 1 Axes>"
      ]
     },
     "metadata": {
      "needs_background": "light"
     },
     "output_type": "display_data"
    }
   ],
   "source": [
    "analyze_estimators_growth_accuracy(m, X_test, y_test)"
   ]
  },
  {
   "cell_type": "markdown",
   "metadata": {},
   "source": [
    "## Are we overfitting?"
   ]
  },
  {
   "cell_type": "code",
   "execution_count": 22,
   "metadata": {},
   "outputs": [
    {
     "name": "stdout",
     "output_type": "stream",
     "text": [
      "Accuracy (Training): 0.9916666666666667\n",
      "          OOB Score: 0.9416666666666667\n",
      "     Accuracy score: 0.96667\n"
     ]
    }
   ],
   "source": [
    "m = RandomForestClassifier(n_estimators=20, n_jobs=-1, oob_score=True)\n",
    "train_classifier(m, X_train, y_train)\n",
    "m_preds = predict_and_evaluate_classifier(m, X_test, y_test)"
   ]
  },
  {
   "cell_type": "code",
   "execution_count": 23,
   "metadata": {},
   "outputs": [
    {
     "data": {
      "text/plain": [
       "7"
      ]
     },
     "execution_count": 23,
     "metadata": {},
     "output_type": "execute_result"
    }
   ],
   "source": [
    "t=m.estimators_[0].tree_\n",
    "dectree_max_depth(t)"
   ]
  },
  {
   "cell_type": "code",
   "execution_count": 24,
   "metadata": {},
   "outputs": [
    {
     "name": "stdout",
     "output_type": "stream",
     "text": [
      "Accuracy (Training): 0.975\n",
      "          OOB Score: 0.9416666666666667\n",
      "     Accuracy score: 0.96667\n"
     ]
    }
   ],
   "source": [
    "m = RandomForestClassifier(n_estimators=20, n_jobs=-1, min_samples_leaf=5, oob_score=True)\n",
    "train_classifier(m, X_train, y_train)\n",
    "m_preds = predict_and_evaluate_classifier(m, X_test, y_test)"
   ]
  },
  {
   "cell_type": "code",
   "execution_count": 25,
   "metadata": {},
   "outputs": [
    {
     "data": {
      "text/plain": [
       "4"
      ]
     },
     "execution_count": 25,
     "metadata": {},
     "output_type": "execute_result"
    }
   ],
   "source": [
    "t=m.estimators_[0].tree_\n",
    "dectree_max_depth(t)"
   ]
  },
  {
   "cell_type": "markdown",
   "metadata": {},
   "source": [
    "## Confidence Level"
   ]
  },
  {
   "cell_type": "code",
   "execution_count": 26,
   "metadata": {},
   "outputs": [
    {
     "name": "stdout",
     "output_type": "stream",
     "text": [
      "Accuracy (Training): 0.9833333333333333\n",
      "          OOB Score: 0.975\n",
      "     Accuracy score: 0.96667\n"
     ]
    }
   ],
   "source": [
    "m = RandomForestClassifier(n_estimators=20, n_jobs=-1, min_samples_leaf=3, oob_score=True)\n",
    "train_classifier(m, X_train, y_train)\n",
    "m_preds = predict_and_evaluate_classifier(m, X_test, y_test)"
   ]
  },
  {
   "cell_type": "code",
   "execution_count": 27,
   "metadata": {},
   "outputs": [
    {
     "data": {
      "text/html": [
       "<div>\n",
       "<style scoped>\n",
       "    .dataframe tbody tr th:only-of-type {\n",
       "        vertical-align: middle;\n",
       "    }\n",
       "\n",
       "    .dataframe tbody tr th {\n",
       "        vertical-align: top;\n",
       "    }\n",
       "\n",
       "    .dataframe thead th {\n",
       "        text-align: right;\n",
       "    }\n",
       "</style>\n",
       "<table border=\"1\" class=\"dataframe\">\n",
       "  <thead>\n",
       "    <tr style=\"text-align: right;\">\n",
       "      <th></th>\n",
       "      <th>sepal length (cm)</th>\n",
       "      <th>sepal width (cm)</th>\n",
       "      <th>petal length (cm)</th>\n",
       "      <th>petal width (cm)</th>\n",
       "      <th>pred</th>\n",
       "      <th>truth</th>\n",
       "    </tr>\n",
       "  </thead>\n",
       "  <tbody>\n",
       "    <tr>\n",
       "      <th>0</th>\n",
       "      <td>5.8</td>\n",
       "      <td>4.0</td>\n",
       "      <td>1.2</td>\n",
       "      <td>0.2</td>\n",
       "      <td>0</td>\n",
       "      <td>0</td>\n",
       "    </tr>\n",
       "    <tr>\n",
       "      <th>1</th>\n",
       "      <td>5.1</td>\n",
       "      <td>2.5</td>\n",
       "      <td>3.0</td>\n",
       "      <td>1.1</td>\n",
       "      <td>1</td>\n",
       "      <td>1</td>\n",
       "    </tr>\n",
       "    <tr>\n",
       "      <th>2</th>\n",
       "      <td>6.6</td>\n",
       "      <td>3.0</td>\n",
       "      <td>4.4</td>\n",
       "      <td>1.4</td>\n",
       "      <td>1</td>\n",
       "      <td>1</td>\n",
       "    </tr>\n",
       "    <tr>\n",
       "      <th>3</th>\n",
       "      <td>5.4</td>\n",
       "      <td>3.9</td>\n",
       "      <td>1.3</td>\n",
       "      <td>0.4</td>\n",
       "      <td>0</td>\n",
       "      <td>0</td>\n",
       "    </tr>\n",
       "    <tr>\n",
       "      <th>4</th>\n",
       "      <td>7.9</td>\n",
       "      <td>3.8</td>\n",
       "      <td>6.4</td>\n",
       "      <td>2.0</td>\n",
       "      <td>2</td>\n",
       "      <td>2</td>\n",
       "    </tr>\n",
       "    <tr>\n",
       "      <th>5</th>\n",
       "      <td>6.3</td>\n",
       "      <td>3.3</td>\n",
       "      <td>4.7</td>\n",
       "      <td>1.6</td>\n",
       "      <td>1</td>\n",
       "      <td>1</td>\n",
       "    </tr>\n",
       "    <tr>\n",
       "      <th>6</th>\n",
       "      <td>6.9</td>\n",
       "      <td>3.1</td>\n",
       "      <td>5.1</td>\n",
       "      <td>2.3</td>\n",
       "      <td>2</td>\n",
       "      <td>2</td>\n",
       "    </tr>\n",
       "    <tr>\n",
       "      <th>7</th>\n",
       "      <td>5.1</td>\n",
       "      <td>3.8</td>\n",
       "      <td>1.9</td>\n",
       "      <td>0.4</td>\n",
       "      <td>0</td>\n",
       "      <td>0</td>\n",
       "    </tr>\n",
       "    <tr>\n",
       "      <th>8</th>\n",
       "      <td>4.7</td>\n",
       "      <td>3.2</td>\n",
       "      <td>1.6</td>\n",
       "      <td>0.2</td>\n",
       "      <td>0</td>\n",
       "      <td>0</td>\n",
       "    </tr>\n",
       "    <tr>\n",
       "      <th>9</th>\n",
       "      <td>6.9</td>\n",
       "      <td>3.2</td>\n",
       "      <td>5.7</td>\n",
       "      <td>2.3</td>\n",
       "      <td>2</td>\n",
       "      <td>2</td>\n",
       "    </tr>\n",
       "  </tbody>\n",
       "</table>\n",
       "</div>"
      ],
      "text/plain": [
       "   sepal length (cm)  sepal width (cm)  petal length (cm)  petal width (cm)  \\\n",
       "0                5.8               4.0                1.2               0.2   \n",
       "1                5.1               2.5                3.0               1.1   \n",
       "2                6.6               3.0                4.4               1.4   \n",
       "3                5.4               3.9                1.3               0.4   \n",
       "4                7.9               3.8                6.4               2.0   \n",
       "5                6.3               3.3                4.7               1.6   \n",
       "6                6.9               3.1                5.1               2.3   \n",
       "7                5.1               3.8                1.9               0.4   \n",
       "8                4.7               3.2                1.6               0.2   \n",
       "9                6.9               3.2                5.7               2.3   \n",
       "\n",
       "   pred  truth  \n",
       "0     0      0  \n",
       "1     1      1  \n",
       "2     1      1  \n",
       "3     0      0  \n",
       "4     2      2  \n",
       "5     1      1  \n",
       "6     2      2  \n",
       "7     0      0  \n",
       "8     0      0  \n",
       "9     2      2  "
      ]
     },
     "execution_count": 27,
     "metadata": {},
     "output_type": "execute_result"
    }
   ],
   "source": [
    "preds = np.stack([t.predict(X_test) for t in m.estimators_])\n",
    "x = X_test.copy()\n",
    "x['pred'] = stats.mode(preds, axis=0)[0][0].astype('int')\n",
    "x['truth'] = y_test\n",
    "x.reset_index(drop=True, inplace=True)\n",
    "x.head(10)"
   ]
  },
  {
   "cell_type": "code",
   "execution_count": 28,
   "metadata": {},
   "outputs": [
    {
     "data": {
      "text/html": [
       "<div>\n",
       "<style scoped>\n",
       "    .dataframe tbody tr th:only-of-type {\n",
       "        vertical-align: middle;\n",
       "    }\n",
       "\n",
       "    .dataframe tbody tr th {\n",
       "        vertical-align: top;\n",
       "    }\n",
       "\n",
       "    .dataframe thead th {\n",
       "        text-align: right;\n",
       "    }\n",
       "</style>\n",
       "<table border=\"1\" class=\"dataframe\">\n",
       "  <thead>\n",
       "    <tr style=\"text-align: right;\">\n",
       "      <th></th>\n",
       "      <th>sepal length (cm)</th>\n",
       "      <th>sepal width (cm)</th>\n",
       "      <th>petal length (cm)</th>\n",
       "      <th>petal width (cm)</th>\n",
       "      <th>pred</th>\n",
       "      <th>truth</th>\n",
       "    </tr>\n",
       "  </thead>\n",
       "  <tbody>\n",
       "    <tr>\n",
       "      <th>22</th>\n",
       "      <td>6.7</td>\n",
       "      <td>3.0</td>\n",
       "      <td>5.0</td>\n",
       "      <td>1.7</td>\n",
       "      <td>2</td>\n",
       "      <td>1</td>\n",
       "    </tr>\n",
       "  </tbody>\n",
       "</table>\n",
       "</div>"
      ],
      "text/plain": [
       "    sepal length (cm)  sepal width (cm)  petal length (cm)  petal width (cm)  \\\n",
       "22                6.7               3.0                5.0               1.7   \n",
       "\n",
       "    pred  truth  \n",
       "22     2      1  "
      ]
     },
     "execution_count": 28,
     "metadata": {},
     "output_type": "execute_result"
    }
   ],
   "source": [
    "x[x.truth != x.pred]"
   ]
  },
  {
   "cell_type": "code",
   "execution_count": 29,
   "metadata": {},
   "outputs": [],
   "source": [
    "cm = confusion_matrix(y_test, m_preds)"
   ]
  },
  {
   "cell_type": "code",
   "execution_count": 30,
   "metadata": {},
   "outputs": [
    {
     "data": {
      "image/png": "[encoded data removed]",
      "text/plain": [
       "<Figure size 648x432 with 2 Axes>"
      ]
     },
     "metadata": {
      "needs_background": "light"
     },
     "output_type": "display_data"
    }
   ],
   "source": [
    "plot_confusion_matrix(cm, iris.target_names)"
   ]
  },
  {
   "cell_type": "code",
   "execution_count": 31,
   "metadata": {},
   "outputs": [
    {
     "data": {
      "text/plain": [
       "(array([2.]), array([20]))"
      ]
     },
     "execution_count": 31,
     "metadata": {},
     "output_type": "execute_result"
    }
   ],
   "source": [
    "np.unique(preds[:,22], return_counts=True)"
   ]
  },
  {
   "cell_type": "markdown",
   "metadata": {},
   "source": [
    "## Feature Importance"
   ]
  },
  {
   "cell_type": "code",
   "execution_count": 32,
   "metadata": {},
   "outputs": [
    {
     "name": "stdout",
     "output_type": "stream",
     "text": [
      "Accuracy (Training): 0.975\n",
      "          OOB Score: 0.95\n",
      "     Accuracy score: 0.96667\n"
     ]
    }
   ],
   "source": [
    "m = RandomForestClassifier(n_estimators=20, n_jobs=-1, min_samples_leaf=3, oob_score=True)\n",
    "train_classifier(m, X_train, y_train)\n",
    "m_preds = predict_and_evaluate_classifier(m, X_test, y_test)"
   ]
  },
  {
   "cell_type": "code",
   "execution_count": 33,
   "metadata": {},
   "outputs": [
    {
     "data": {
      "text/html": [
       "<div>\n",
       "<style scoped>\n",
       "    .dataframe tbody tr th:only-of-type {\n",
       "        vertical-align: middle;\n",
       "    }\n",
       "\n",
       "    .dataframe tbody tr th {\n",
       "        vertical-align: top;\n",
       "    }\n",
       "\n",
       "    .dataframe thead th {\n",
       "        text-align: right;\n",
       "    }\n",
       "</style>\n",
       "<table border=\"1\" class=\"dataframe\">\n",
       "  <thead>\n",
       "    <tr style=\"text-align: right;\">\n",
       "      <th></th>\n",
       "      <th>cols</th>\n",
       "      <th>imp</th>\n",
       "    </tr>\n",
       "  </thead>\n",
       "  <tbody>\n",
       "    <tr>\n",
       "      <th>2</th>\n",
       "      <td>petal length (cm)</td>\n",
       "      <td>0.560011</td>\n",
       "    </tr>\n",
       "    <tr>\n",
       "      <th>3</th>\n",
       "      <td>petal width (cm)</td>\n",
       "      <td>0.332979</td>\n",
       "    </tr>\n",
       "    <tr>\n",
       "      <th>0</th>\n",
       "      <td>sepal length (cm)</td>\n",
       "      <td>0.096847</td>\n",
       "    </tr>\n",
       "    <tr>\n",
       "      <th>1</th>\n",
       "      <td>sepal width (cm)</td>\n",
       "      <td>0.010163</td>\n",
       "    </tr>\n",
       "  </tbody>\n",
       "</table>\n",
       "</div>"
      ],
      "text/plain": [
       "                cols       imp\n",
       "2  petal length (cm)  0.560011\n",
       "3   petal width (cm)  0.332979\n",
       "0  sepal length (cm)  0.096847\n",
       "1   sepal width (cm)  0.010163"
      ]
     },
     "execution_count": 33,
     "metadata": {},
     "output_type": "execute_result"
    }
   ],
   "source": [
    "fi = rf_feat_importance(m, X_train); fi"
   ]
  },
  {
   "cell_type": "code",
   "execution_count": 34,
   "metadata": {},
   "outputs": [
    {
     "data": {
      "image/png": "[encoded data removed]",
      "text/plain": [
       "<Figure size 720x432 with 1 Axes>"
      ]
     },
     "metadata": {
      "needs_background": "light"
     },
     "output_type": "display_data"
    }
   ],
   "source": [
    "fi.plot('cols', 'imp', figsize=(10,6), legend=False);"
   ]
  },
  {
   "cell_type": "code",
   "execution_count": 35,
   "metadata": {},
   "outputs": [
    {
     "data": {
      "image/png": "[encoded data removed]",
      "text/plain": [
       "<Figure size 864x432 with 1 Axes>"
      ]
     },
     "metadata": {
      "needs_background": "light"
     },
     "output_type": "display_data"
    },
    {
     "data": {
      "image/png": "[encoded data removed]",
      "text/plain": [
       "<Figure size 864x504 with 1 Axes>"
      ]
     },
     "metadata": {
      "needs_background": "light"
     },
     "output_type": "display_data"
    }
   ],
   "source": [
    "plot_feat_importance(fi)"
   ]
  },
  {
   "cell_type": "code",
   "execution_count": 36,
   "metadata": {},
   "outputs": [
    {
     "data": {
      "text/plain": [
       "2    petal length (cm)\n",
       "3     petal width (cm)\n",
       "0    sepal length (cm)\n",
       "Name: cols, dtype: object"
      ]
     },
     "execution_count": 36,
     "metadata": {},
     "output_type": "execute_result"
    }
   ],
   "source": [
    "# let's remove the least important features\n",
    "to_keep = fi[fi.imp>0.05].cols\n",
    "to_keep"
   ]
  },
  {
   "cell_type": "code",
   "execution_count": 37,
   "metadata": {},
   "outputs": [
    {
     "data": {
      "text/plain": [
       "array(['sepal width (cm)'], dtype=object)"
      ]
     },
     "execution_count": 37,
     "metadata": {},
     "output_type": "execute_result"
    }
   ],
   "source": [
    "# list of columns being removed\n",
    "np.setdiff1d(df.columns.values,to_keep.values)"
   ]
  },
  {
   "cell_type": "code",
   "execution_count": 38,
   "metadata": {},
   "outputs": [
    {
     "data": {
      "text/plain": [
       "((112, 3), (38, 3), (112,), (38,))"
      ]
     },
     "execution_count": 38,
     "metadata": {},
     "output_type": "execute_result"
    }
   ],
   "source": [
    "# remove columns and create new train and validation sets\n",
    "df_keep = df[to_keep].copy()\n",
    "X_train, X_test, y_train, y_test = train_test_split(df_keep, y, test_size=0.25, random_state=1)\n",
    "\n",
    "X_train.shape, X_test.shape, y_train.shape, y_test.shape"
   ]
  },
  {
   "cell_type": "code",
   "execution_count": 39,
   "metadata": {},
   "outputs": [
    {
     "name": "stdout",
     "output_type": "stream",
     "text": [
      "Accuracy (Training): 0.9821428571428571\n",
      "          OOB Score: 0.9464285714285714\n",
      "     Accuracy score: 0.97368\n"
     ]
    }
   ],
   "source": [
    "m = RandomForestClassifier(n_estimators=20, n_jobs=-1, min_samples_leaf=3, oob_score=True)\n",
    "train_classifier(m, X_train, y_train)\n",
    "m_preds = predict_and_evaluate_classifier(m, X_test, y_test)"
   ]
  },
  {
   "cell_type": "code",
   "execution_count": 40,
   "metadata": {},
   "outputs": [
    {
     "data": {
      "text/html": [
       "<div>\n",
       "<style scoped>\n",
       "    .dataframe tbody tr th:only-of-type {\n",
       "        vertical-align: middle;\n",
       "    }\n",
       "\n",
       "    .dataframe tbody tr th {\n",
       "        vertical-align: top;\n",
       "    }\n",
       "\n",
       "    .dataframe thead th {\n",
       "        text-align: right;\n",
       "    }\n",
       "</style>\n",
       "<table border=\"1\" class=\"dataframe\">\n",
       "  <thead>\n",
       "    <tr style=\"text-align: right;\">\n",
       "      <th></th>\n",
       "      <th>cols</th>\n",
       "      <th>imp</th>\n",
       "    </tr>\n",
       "  </thead>\n",
       "  <tbody>\n",
       "    <tr>\n",
       "      <th>1</th>\n",
       "      <td>petal width (cm)</td>\n",
       "      <td>0.482165</td>\n",
       "    </tr>\n",
       "    <tr>\n",
       "      <th>0</th>\n",
       "      <td>petal length (cm)</td>\n",
       "      <td>0.341801</td>\n",
       "    </tr>\n",
       "    <tr>\n",
       "      <th>2</th>\n",
       "      <td>sepal length (cm)</td>\n",
       "      <td>0.176034</td>\n",
       "    </tr>\n",
       "  </tbody>\n",
       "</table>\n",
       "</div>"
      ],
      "text/plain": [
       "                cols       imp\n",
       "1   petal width (cm)  0.482165\n",
       "0  petal length (cm)  0.341801\n",
       "2  sepal length (cm)  0.176034"
      ]
     },
     "execution_count": 40,
     "metadata": {},
     "output_type": "execute_result"
    }
   ],
   "source": [
    "fi = rf_feat_importance(m, X_train);\n",
    "fi"
   ]
  },
  {
   "cell_type": "code",
   "execution_count": 41,
   "metadata": {},
   "outputs": [
    {
     "data": {
      "image/png": "[encoded data removed]",
      "text/plain": [
       "<Figure size 864x432 with 1 Axes>"
      ]
     },
     "metadata": {
      "needs_background": "light"
     },
     "output_type": "display_data"
    },
    {
     "data": {
      "image/png": "[encoded data removed]",
      "text/plain": [
       "<Figure size 864x504 with 1 Axes>"
      ]
     },
     "metadata": {
      "needs_background": "light"
     },
     "output_type": "display_data"
    }
   ],
   "source": [
    "plot_feat_importance(fi)"
   ]
  },
  {
   "cell_type": "markdown",
   "metadata": {},
   "source": [
    "## Redundant features"
   ]
  },
  {
   "cell_type": "code",
   "execution_count": 42,
   "metadata": {},
   "outputs": [
    {
     "data": {
      "image/png": "[encoded data removed]",
      "text/plain": [
       "<Figure size 1152x720 with 1 Axes>"
      ]
     },
     "metadata": {
      "needs_background": "light"
     },
     "output_type": "display_data"
    }
   ],
   "source": [
    "corr = analyze_redundant_features(df)"
   ]
  },
  {
   "cell_type": "code",
   "execution_count": 43,
   "metadata": {},
   "outputs": [
    {
     "name": "stdout",
     "output_type": "stream",
     "text": [
      "Baseline - 0.9285714285714286\n",
      "------------------------------\n",
      "sepal length (cm) - 0.9375 (0.00893)\n",
      "sepal width (cm) - 0.9375 (0.00893)\n",
      "petal length (cm) - 0.9285714285714286 (0.0)\n",
      "petal width (cm) - 0.9196428571428571 (-0.00893)\n"
     ]
    }
   ],
   "source": [
    "X_train, X_test, y_train, y_test = train_test_split(df, y, test_size=0.25, random_state=1)\n",
    "analyze_single_feature_removal(m, X_train, y_train, X_train.columns)"
   ]
  },
  {
   "cell_type": "markdown",
   "metadata": {},
   "source": [
    "It seems sepal width is really not much correlated to the other features."
   ]
  },
  {
   "cell_type": "code",
   "execution_count": 44,
   "metadata": {},
   "outputs": [
    {
     "data": {
      "image/png": "[encoded data removed]",
      "text/plain": [
       "<Figure size 1152x720 with 1 Axes>"
      ]
     },
     "metadata": {
      "needs_background": "light"
     },
     "output_type": "display_data"
    }
   ],
   "source": [
    "# let's use the already removed dataset\n",
    "corr = analyze_redundant_features(df_keep)"
   ]
  },
  {
   "cell_type": "code",
   "execution_count": 45,
   "metadata": {},
   "outputs": [
    {
     "name": "stdout",
     "output_type": "stream",
     "text": [
      "Baseline - 0.9375\n",
      "------------------------------\n",
      "petal length (cm) - 0.9375 (0.0)\n",
      "petal width (cm) - 0.9107142857142857 (-0.02679)\n",
      "sepal length (cm) - 0.9464285714285714 (0.00893)\n"
     ]
    }
   ],
   "source": [
    "X_train, X_test, y_train, y_test = train_test_split(df_keep, y, test_size=0.25, random_state=1)\n",
    "analyze_single_feature_removal(m, X_train, y_train, X_train.columns)"
   ]
  },
  {
   "cell_type": "markdown",
   "metadata": {},
   "source": [
    "Also seems to indicate that removing sepal length might be good as well"
   ]
  },
  {
   "cell_type": "code",
   "execution_count": 46,
   "metadata": {},
   "outputs": [],
   "source": [
    "df_keep.drop('sepal length (cm)', axis=1, inplace=True)\n",
    "X_train, X_test, y_train, y_test = train_test_split(df_keep, y, test_size=0.25, random_state=1)"
   ]
  },
  {
   "cell_type": "code",
   "execution_count": 47,
   "metadata": {},
   "outputs": [
    {
     "name": "stdout",
     "output_type": "stream",
     "text": [
      "Accuracy (Training): 0.9821428571428571\n",
      "          OOB Score: 0.9464285714285714\n",
      "     Accuracy score: 0.97368\n"
     ]
    }
   ],
   "source": [
    "m = RandomForestClassifier(n_estimators=100, n_jobs=-1, min_samples_leaf=3, oob_score=True)\n",
    "train_classifier(m, X_train, y_train)\n",
    "m_preds = predict_and_evaluate_classifier(m, X_test, y_test)"
   ]
  },
  {
   "cell_type": "code",
   "execution_count": 48,
   "metadata": {},
   "outputs": [
    {
     "data": {
      "image/svg+xml": [
       "<?xml version=\"1.0\" encoding=\"UTF-8\" standalone=\"no\"?>\n",
       "<!DOCTYPE svg PUBLIC \"-//W3C//DTD SVG 1.1//EN\"\n",
       " \"http://www.w3.org/Graphics/SVG/1.1/DTD/svg11.dtd\">\n",
       "<!-- Generated by graphviz version 2.40.1 (20161225.0304)\n",
       " -->\n",
       "<!-- Title: Tree Pages: 1 -->\n",
       "<svg width=\"720pt\" height=\"435pt\"\n",
       " viewBox=\"0.00 0.00 720.00 434.76\" xmlns=\"http://www.w3.org/2000/svg\" xmlns:xlink=\"http://www.w3.org/1999/xlink\">\n",
       "<g id=\"graph0\" class=\"graph\" transform=\"scale(.8633 .8633) rotate(0) translate(4 499.6)\">\n",
       "<title>Tree</title>\n",
       "<polygon fill=\"#ffffff\" stroke=\"transparent\" points=\"-4,4 -4,-499.6 830,-499.6 830,4 -4,4\"/>\n",
       "<!-- 0 -->\n",
       "<g id=\"node1\" class=\"node\">\n",
       "<title>0</title>\n",
       "<polygon fill=\"#8139e5\" fill-opacity=\"0.129412\" stroke=\"#000000\" points=\"142.5,-394.5829 -.5,-394.5829 -.5,-326.5829 142.5,-326.5829 142.5,-394.5829\"/>\n",
       "<text text-anchor=\"start\" x=\"7.5\" y=\"-379.3829\" font-family=\"Times,serif\" font-size=\"14.00\" fill=\"#000000\">petal length (cm) ≤ 2.0</text>\n",
       "<text text-anchor=\"start\" x=\"43.5\" y=\"-364.3829\" font-family=\"Times,serif\" font-size=\"14.00\" fill=\"#000000\">gini = 1.0</text>\n",
       "<text text-anchor=\"start\" x=\"34\" y=\"-349.3829\" font-family=\"Times,serif\" font-size=\"14.00\" fill=\"#000000\">samples = 70</text>\n",
       "<text text-anchor=\"start\" x=\"16\" y=\"-334.3829\" font-family=\"Times,serif\" font-size=\"14.00\" fill=\"#000000\">value = [32, 35, 45]</text>\n",
       "</g>\n",
       "<!-- 1 -->\n",
       "<g id=\"node2\" class=\"node\">\n",
       "<title>1</title>\n",
       "<polygon fill=\"#e58139\" stroke=\"#000000\" points=\"306.5,-468.0829 193.5,-468.0829 193.5,-415.0829 306.5,-415.0829 306.5,-468.0829\"/>\n",
       "<text text-anchor=\"start\" x=\"222.5\" y=\"-452.8829\" font-family=\"Times,serif\" font-size=\"14.00\" fill=\"#000000\">gini = 0.0</text>\n",
       "<text text-anchor=\"start\" x=\"213\" y=\"-437.8829\" font-family=\"Times,serif\" font-size=\"14.00\" fill=\"#000000\">samples = 20</text>\n",
       "<text text-anchor=\"start\" x=\"201.5\" y=\"-422.8829\" font-family=\"Times,serif\" font-size=\"14.00\" fill=\"#000000\">value = [32, 0, 0]</text>\n",
       "</g>\n",
       "<!-- 0&#45;&gt;1 -->\n",
       "<g id=\"edge1\" class=\"edge\">\n",
       "<title>0&#45;&gt;1</title>\n",
       "<path fill=\"none\" stroke=\"#000000\" d=\"M142.5172,-392.9454C156.2843,-399.1752 170.6435,-405.6729 184.2181,-411.8156\"/>\n",
       "<polygon fill=\"#000000\" stroke=\"#000000\" points=\"182.9201,-415.0699 193.4737,-416.0039 185.806,-408.6924 182.9201,-415.0699\"/>\n",
       "<text text-anchor=\"middle\" x=\"174.759\" y=\"-419.3579\" font-family=\"Times,serif\" font-size=\"14.00\" fill=\"#000000\">True</text>\n",
       "</g>\n",
       "<!-- 2 -->\n",
       "<g id=\"node3\" class=\"node\">\n",
       "<title>2</title>\n",
       "<polygon fill=\"#8139e5\" fill-opacity=\"0.223529\" stroke=\"#000000\" points=\"321.5,-316.5829 178.5,-316.5829 178.5,-248.5829 321.5,-248.5829 321.5,-316.5829\"/>\n",
       "<text text-anchor=\"start\" x=\"186.5\" y=\"-301.3829\" font-family=\"Times,serif\" font-size=\"14.00\" fill=\"#000000\">petal length (cm) ≤ 5.0</text>\n",
       "<text text-anchor=\"start\" x=\"222.5\" y=\"-286.3829\" font-family=\"Times,serif\" font-size=\"14.00\" fill=\"#000000\">gini = 0.0</text>\n",
       "<text text-anchor=\"start\" x=\"213\" y=\"-271.3829\" font-family=\"Times,serif\" font-size=\"14.00\" fill=\"#000000\">samples = 50</text>\n",
       "<text text-anchor=\"start\" x=\"198.5\" y=\"-256.3829\" font-family=\"Times,serif\" font-size=\"14.00\" fill=\"#000000\">value = [0, 35, 45]</text>\n",
       "</g>\n",
       "<!-- 0&#45;&gt;2 -->\n",
       "<g id=\"edge2\" class=\"edge\">\n",
       "<title>0&#45;&gt;2</title>\n",
       "<path fill=\"none\" stroke=\"#000000\" d=\"M142.5172,-329.4189C151.2624,-325.6082 160.2465,-321.6933 169.1166,-317.8281\"/>\n",
       "<polygon fill=\"#000000\" stroke=\"#000000\" points=\"170.535,-321.028 178.3042,-313.8246 167.7386,-314.6108 170.535,-321.028\"/>\n",
       "<text text-anchor=\"middle\" x=\"159.6901\" y=\"-302.8093\" font-family=\"Times,serif\" font-size=\"14.00\" fill=\"#000000\">False</text>\n",
       "</g>\n",
       "<!-- 3 -->\n",
       "<g id=\"node4\" class=\"node\">\n",
       "<title>3</title>\n",
       "<polygon fill=\"#39e581\" stroke=\"#000000\" points=\"484.5,-390.0829 371.5,-390.0829 371.5,-337.0829 484.5,-337.0829 484.5,-390.0829\"/>\n",
       "<text text-anchor=\"start\" x=\"400.5\" y=\"-374.8829\" font-family=\"Times,serif\" font-size=\"14.00\" fill=\"#000000\">gini = 0.0</text>\n",
       "<text text-anchor=\"start\" x=\"391\" y=\"-359.8829\" font-family=\"Times,serif\" font-size=\"14.00\" fill=\"#000000\">samples = 20</text>\n",
       "<text text-anchor=\"start\" x=\"379.5\" y=\"-344.8829\" font-family=\"Times,serif\" font-size=\"14.00\" fill=\"#000000\">value = [0, 30, 0]</text>\n",
       "</g>\n",
       "<!-- 2&#45;&gt;3 -->\n",
       "<g id=\"edge3\" class=\"edge\">\n",
       "<title>2&#45;&gt;3</title>\n",
       "<path fill=\"none\" stroke=\"#000000\" d=\"M321.63,-315.1785C334.9229,-321.2276 348.7537,-327.5214 361.8732,-333.4914\"/>\n",
       "<polygon fill=\"#000000\" stroke=\"#000000\" points=\"360.731,-336.817 371.2826,-337.7733 363.6304,-330.4456 360.731,-336.817\"/>\n",
       "</g>\n",
       "<!-- 4 -->\n",
       "<g id=\"node5\" class=\"node\">\n",
       "<title>4</title>\n",
       "<polygon fill=\"#8139e5\" fill-opacity=\"0.890196\" stroke=\"#000000\" points=\"498,-237.5829 358,-237.5829 358,-169.5829 498,-169.5829 498,-237.5829\"/>\n",
       "<text text-anchor=\"start\" x=\"366\" y=\"-222.3829\" font-family=\"Times,serif\" font-size=\"14.00\" fill=\"#000000\">petal width (cm) ≤ 2.0</text>\n",
       "<text text-anchor=\"start\" x=\"400.5\" y=\"-207.3829\" font-family=\"Times,serif\" font-size=\"14.00\" fill=\"#000000\">gini = 0.0</text>\n",
       "<text text-anchor=\"start\" x=\"391\" y=\"-192.3829\" font-family=\"Times,serif\" font-size=\"14.00\" fill=\"#000000\">samples = 30</text>\n",
       "<text text-anchor=\"start\" x=\"379.5\" y=\"-177.3829\" font-family=\"Times,serif\" font-size=\"14.00\" fill=\"#000000\">value = [0, 5, 45]</text>\n",
       "</g>\n",
       "<!-- 2&#45;&gt;4 -->\n",
       "<g id=\"edge4\" class=\"edge\">\n",
       "<title>2&#45;&gt;4</title>\n",
       "<path fill=\"none\" stroke=\"#000000\" d=\"M321.63,-250.792C330.5206,-246.8462 339.6519,-242.7935 348.65,-238.8\"/>\n",
       "<polygon fill=\"#000000\" stroke=\"#000000\" points=\"350.2427,-241.9224 357.9631,-234.6667 347.403,-235.5243 350.2427,-241.9224\"/>\n",
       "</g>\n",
       "<!-- 5 -->\n",
       "<g id=\"node6\" class=\"node\">\n",
       "<title>5</title>\n",
       "<polygon fill=\"#39e581\" fill-opacity=\"0.749020\" stroke=\"#000000\" points=\"658,-311.0829 552,-311.0829 552,-258.0829 658,-258.0829 658,-311.0829\"/>\n",
       "<text text-anchor=\"start\" x=\"577.5\" y=\"-295.8829\" font-family=\"Times,serif\" font-size=\"14.00\" fill=\"#000000\">gini = 0.0</text>\n",
       "<text text-anchor=\"start\" x=\"571.5\" y=\"-280.8829\" font-family=\"Times,serif\" font-size=\"14.00\" fill=\"#000000\">samples = 4</text>\n",
       "<text text-anchor=\"start\" x=\"560\" y=\"-265.8829\" font-family=\"Times,serif\" font-size=\"14.00\" fill=\"#000000\">value = [0, 4, 1]</text>\n",
       "</g>\n",
       "<!-- 4&#45;&gt;5 -->\n",
       "<g id=\"edge5\" class=\"edge\">\n",
       "<title>4&#45;&gt;5</title>\n",
       "<path fill=\"none\" stroke=\"#000000\" d=\"M498.2093,-235.7125C512.8567,-242.4156 528.2031,-249.4385 542.5472,-256.0028\"/>\n",
       "<polygon fill=\"#000000\" stroke=\"#000000\" points=\"541.2617,-259.2635 551.8112,-260.2422 544.1746,-252.8983 541.2617,-259.2635\"/>\n",
       "</g>\n",
       "<!-- 6 -->\n",
       "<g id=\"node7\" class=\"node\">\n",
       "<title>6</title>\n",
       "<polygon fill=\"#8139e5\" fill-opacity=\"0.976471\" stroke=\"#000000\" points=\"676.5,-158.5829 533.5,-158.5829 533.5,-90.5829 676.5,-90.5829 676.5,-158.5829\"/>\n",
       "<text text-anchor=\"start\" x=\"541.5\" y=\"-143.3829\" font-family=\"Times,serif\" font-size=\"14.00\" fill=\"#000000\">petal length (cm) ≤ 5.0</text>\n",
       "<text text-anchor=\"start\" x=\"577.5\" y=\"-128.3829\" font-family=\"Times,serif\" font-size=\"14.00\" fill=\"#000000\">gini = 0.0</text>\n",
       "<text text-anchor=\"start\" x=\"568\" y=\"-113.3829\" font-family=\"Times,serif\" font-size=\"14.00\" fill=\"#000000\">samples = 26</text>\n",
       "<text text-anchor=\"start\" x=\"556.5\" y=\"-98.3829\" font-family=\"Times,serif\" font-size=\"14.00\" fill=\"#000000\">value = [0, 1, 44]</text>\n",
       "</g>\n",
       "<!-- 4&#45;&gt;6 -->\n",
       "<g id=\"edge6\" class=\"edge\">\n",
       "<title>4&#45;&gt;6</title>\n",
       "<path fill=\"none\" stroke=\"#000000\" d=\"M498.2093,-172.2465C506.715,-168.4502 515.4563,-164.5487 524.1003,-160.6906\"/>\n",
       "<polygon fill=\"#000000\" stroke=\"#000000\" points=\"525.7207,-163.8003 533.4259,-156.5284 522.8676,-157.4081 525.7207,-163.8003\"/>\n",
       "</g>\n",
       "<!-- 7 -->\n",
       "<g id=\"node8\" class=\"node\">\n",
       "<title>7</title>\n",
       "<polygon fill=\"#8139e5\" fill-opacity=\"0.800000\" stroke=\"#000000\" points=\"822,-224.0829 716,-224.0829 716,-171.0829 822,-171.0829 822,-224.0829\"/>\n",
       "<text text-anchor=\"start\" x=\"741.5\" y=\"-208.8829\" font-family=\"Times,serif\" font-size=\"14.00\" fill=\"#000000\">gini = 0.0</text>\n",
       "<text text-anchor=\"start\" x=\"735.5\" y=\"-193.8829\" font-family=\"Times,serif\" font-size=\"14.00\" fill=\"#000000\">samples = 3</text>\n",
       "<text text-anchor=\"start\" x=\"724\" y=\"-178.8829\" font-family=\"Times,serif\" font-size=\"14.00\" fill=\"#000000\">value = [0, 1, 5]</text>\n",
       "</g>\n",
       "<!-- 6&#45;&gt;7 -->\n",
       "<g id=\"edge7\" class=\"edge\">\n",
       "<title>6&#45;&gt;7</title>\n",
       "<path fill=\"none\" stroke=\"#000000\" d=\"M676.9328,-156.6017C686.8463,-161.0144 696.9591,-165.5159 706.6797,-169.8427\"/>\n",
       "<polygon fill=\"#000000\" stroke=\"#000000\" points=\"705.301,-173.06 715.8601,-173.9291 708.1476,-166.665 705.301,-173.06\"/>\n",
       "</g>\n",
       "<!-- 8 -->\n",
       "<g id=\"node9\" class=\"node\">\n",
       "<title>8</title>\n",
       "<polygon fill=\"#8139e5\" stroke=\"#000000\" points=\"825.5,-80.0829 712.5,-80.0829 712.5,-27.0829 825.5,-27.0829 825.5,-80.0829\"/>\n",
       "<text text-anchor=\"start\" x=\"741.5\" y=\"-64.8829\" font-family=\"Times,serif\" font-size=\"14.00\" fill=\"#000000\">gini = 0.0</text>\n",
       "<text text-anchor=\"start\" x=\"732\" y=\"-49.8829\" font-family=\"Times,serif\" font-size=\"14.00\" fill=\"#000000\">samples = 23</text>\n",
       "<text text-anchor=\"start\" x=\"720.5\" y=\"-34.8829\" font-family=\"Times,serif\" font-size=\"14.00\" fill=\"#000000\">value = [0, 0, 39]</text>\n",
       "</g>\n",
       "<!-- 6&#45;&gt;8 -->\n",
       "<g id=\"edge8\" class=\"edge\">\n",
       "<title>6&#45;&gt;8</title>\n",
       "<path fill=\"none\" stroke=\"#000000\" d=\"M676.9328,-93.4412C685.6548,-89.6652 694.5312,-85.8224 703.159,-82.0872\"/>\n",
       "<polygon fill=\"#000000\" stroke=\"#000000\" points=\"704.6181,-85.2695 712.4044,-78.0846 701.837,-78.8457 704.6181,-85.2695\"/>\n",
       "</g>\n",
       "</g>\n",
       "</svg>\n"
      ],
      "text/plain": [
       "<graphviz.files.Source at 0x7fb6be8cca90>"
      ]
     },
     "metadata": {},
     "output_type": "display_data"
    }
   ],
   "source": [
    "draw_tree(m.estimators_[0], X_train)"
   ]
  },
  {
   "cell_type": "markdown",
   "metadata": {},
   "source": [
    "This looks really good. I get the same results as before with a model with just two features"
   ]
  },
  {
   "cell_type": "markdown",
   "metadata": {},
   "source": [
    "## Scaling the data"
   ]
  },
  {
   "cell_type": "code",
   "execution_count": 49,
   "metadata": {},
   "outputs": [],
   "source": [
    "from sklearn.preprocessing import StandardScaler"
   ]
  },
  {
   "cell_type": "code",
   "execution_count": 50,
   "metadata": {},
   "outputs": [
    {
     "data": {
      "text/html": [
       "<div>\n",
       "<style scoped>\n",
       "    .dataframe tbody tr th:only-of-type {\n",
       "        vertical-align: middle;\n",
       "    }\n",
       "\n",
       "    .dataframe tbody tr th {\n",
       "        vertical-align: top;\n",
       "    }\n",
       "\n",
       "    .dataframe thead th {\n",
       "        text-align: right;\n",
       "    }\n",
       "</style>\n",
       "<table border=\"1\" class=\"dataframe\">\n",
       "  <thead>\n",
       "    <tr style=\"text-align: right;\">\n",
       "      <th></th>\n",
       "      <th>petal length (cm)</th>\n",
       "      <th>petal width (cm)</th>\n",
       "    </tr>\n",
       "  </thead>\n",
       "  <tbody>\n",
       "    <tr>\n",
       "      <th>0</th>\n",
       "      <td>1.4</td>\n",
       "      <td>0.2</td>\n",
       "    </tr>\n",
       "    <tr>\n",
       "      <th>1</th>\n",
       "      <td>1.4</td>\n",
       "      <td>0.2</td>\n",
       "    </tr>\n",
       "    <tr>\n",
       "      <th>2</th>\n",
       "      <td>1.3</td>\n",
       "      <td>0.2</td>\n",
       "    </tr>\n",
       "    <tr>\n",
       "      <th>3</th>\n",
       "      <td>1.5</td>\n",
       "      <td>0.2</td>\n",
       "    </tr>\n",
       "    <tr>\n",
       "      <th>4</th>\n",
       "      <td>1.4</td>\n",
       "      <td>0.2</td>\n",
       "    </tr>\n",
       "  </tbody>\n",
       "</table>\n",
       "</div>"
      ],
      "text/plain": [
       "   petal length (cm)  petal width (cm)\n",
       "0                1.4               0.2\n",
       "1                1.4               0.2\n",
       "2                1.3               0.2\n",
       "3                1.5               0.2\n",
       "4                1.4               0.2"
      ]
     },
     "execution_count": 50,
     "metadata": {},
     "output_type": "execute_result"
    }
   ],
   "source": [
    "df_keep.head()"
   ]
  },
  {
   "cell_type": "code",
   "execution_count": 51,
   "metadata": {},
   "outputs": [],
   "source": [
    "mean = df_keep.mean()\n",
    "std = df_keep.std()"
   ]
  },
  {
   "cell_type": "code",
   "execution_count": 52,
   "metadata": {},
   "outputs": [
    {
     "data": {
      "text/html": [
       "<div>\n",
       "<style scoped>\n",
       "    .dataframe tbody tr th:only-of-type {\n",
       "        vertical-align: middle;\n",
       "    }\n",
       "\n",
       "    .dataframe tbody tr th {\n",
       "        vertical-align: top;\n",
       "    }\n",
       "\n",
       "    .dataframe thead th {\n",
       "        text-align: right;\n",
       "    }\n",
       "</style>\n",
       "<table border=\"1\" class=\"dataframe\">\n",
       "  <thead>\n",
       "    <tr style=\"text-align: right;\">\n",
       "      <th></th>\n",
       "      <th>petal length (cm)</th>\n",
       "      <th>petal width (cm)</th>\n",
       "    </tr>\n",
       "  </thead>\n",
       "  <tbody>\n",
       "    <tr>\n",
       "      <th>count</th>\n",
       "      <td>1.500000e+02</td>\n",
       "      <td>1.500000e+02</td>\n",
       "    </tr>\n",
       "    <tr>\n",
       "      <th>mean</th>\n",
       "      <td>-1.292300e-15</td>\n",
       "      <td>-5.543714e-16</td>\n",
       "    </tr>\n",
       "    <tr>\n",
       "      <th>std</th>\n",
       "      <td>1.000000e+00</td>\n",
       "      <td>1.000000e+00</td>\n",
       "    </tr>\n",
       "    <tr>\n",
       "      <th>min</th>\n",
       "      <td>-1.562342e+00</td>\n",
       "      <td>-1.442245e+00</td>\n",
       "    </tr>\n",
       "    <tr>\n",
       "      <th>25%</th>\n",
       "      <td>-1.222456e+00</td>\n",
       "      <td>-1.179859e+00</td>\n",
       "    </tr>\n",
       "    <tr>\n",
       "      <th>50%</th>\n",
       "      <td>3.353541e-01</td>\n",
       "      <td>1.320673e-01</td>\n",
       "    </tr>\n",
       "    <tr>\n",
       "      <th>75%</th>\n",
       "      <td>7.602115e-01</td>\n",
       "      <td>7.880307e-01</td>\n",
       "    </tr>\n",
       "    <tr>\n",
       "      <th>max</th>\n",
       "      <td>1.779869e+00</td>\n",
       "      <td>1.706379e+00</td>\n",
       "    </tr>\n",
       "  </tbody>\n",
       "</table>\n",
       "</div>"
      ],
      "text/plain": [
       "       petal length (cm)  petal width (cm)\n",
       "count       1.500000e+02      1.500000e+02\n",
       "mean       -1.292300e-15     -5.543714e-16\n",
       "std         1.000000e+00      1.000000e+00\n",
       "min        -1.562342e+00     -1.442245e+00\n",
       "25%        -1.222456e+00     -1.179859e+00\n",
       "50%         3.353541e-01      1.320673e-01\n",
       "75%         7.602115e-01      7.880307e-01\n",
       "max         1.779869e+00      1.706379e+00"
      ]
     },
     "execution_count": 52,
     "metadata": {},
     "output_type": "execute_result"
    }
   ],
   "source": [
    "df_scaled = df_keep - mean\n",
    "df_scaled = df_scaled / std\n",
    "df_scaled.describe()"
   ]
  },
  {
   "cell_type": "code",
   "execution_count": 53,
   "metadata": {},
   "outputs": [
    {
     "data": {
      "text/html": [
       "<div>\n",
       "<style scoped>\n",
       "    .dataframe tbody tr th:only-of-type {\n",
       "        vertical-align: middle;\n",
       "    }\n",
       "\n",
       "    .dataframe tbody tr th {\n",
       "        vertical-align: top;\n",
       "    }\n",
       "\n",
       "    .dataframe thead th {\n",
       "        text-align: right;\n",
       "    }\n",
       "</style>\n",
       "<table border=\"1\" class=\"dataframe\">\n",
       "  <thead>\n",
       "    <tr style=\"text-align: right;\">\n",
       "      <th></th>\n",
       "      <th>petal length (cm)</th>\n",
       "      <th>petal width (cm)</th>\n",
       "    </tr>\n",
       "  </thead>\n",
       "  <tbody>\n",
       "    <tr>\n",
       "      <th>0</th>\n",
       "      <td>-1.335752</td>\n",
       "      <td>-1.311052</td>\n",
       "    </tr>\n",
       "    <tr>\n",
       "      <th>1</th>\n",
       "      <td>-1.335752</td>\n",
       "      <td>-1.311052</td>\n",
       "    </tr>\n",
       "    <tr>\n",
       "      <th>2</th>\n",
       "      <td>-1.392399</td>\n",
       "      <td>-1.311052</td>\n",
       "    </tr>\n",
       "    <tr>\n",
       "      <th>3</th>\n",
       "      <td>-1.279104</td>\n",
       "      <td>-1.311052</td>\n",
       "    </tr>\n",
       "    <tr>\n",
       "      <th>4</th>\n",
       "      <td>-1.335752</td>\n",
       "      <td>-1.311052</td>\n",
       "    </tr>\n",
       "  </tbody>\n",
       "</table>\n",
       "</div>"
      ],
      "text/plain": [
       "   petal length (cm)  petal width (cm)\n",
       "0          -1.335752         -1.311052\n",
       "1          -1.335752         -1.311052\n",
       "2          -1.392399         -1.311052\n",
       "3          -1.279104         -1.311052\n",
       "4          -1.335752         -1.311052"
      ]
     },
     "execution_count": 53,
     "metadata": {},
     "output_type": "execute_result"
    }
   ],
   "source": [
    "df_scaled.head()"
   ]
  },
  {
   "cell_type": "code",
   "execution_count": 54,
   "metadata": {},
   "outputs": [
    {
     "name": "stdout",
     "output_type": "stream",
     "text": [
      "Accuracy (Training): 0.9732142857142857\n",
      "          OOB Score: 0.9375\n",
      "     Accuracy score: 0.97368\n"
     ]
    }
   ],
   "source": [
    "X_train, X_test, y_train, y_test = train_test_split(df_scaled, y, test_size=0.25, random_state=1)\n",
    "\n",
    "m = RandomForestClassifier(n_estimators=100, n_jobs=-1, min_samples_leaf=3, oob_score=True)\n",
    "train_classifier(m, X_train, y_train)\n",
    "m_preds = predict_and_evaluate_classifier(m, X_test, y_test)"
   ]
  },
  {
   "cell_type": "markdown",
   "metadata": {},
   "source": [
    "## Cross-validation"
   ]
  },
  {
   "cell_type": "code",
   "execution_count": 55,
   "metadata": {},
   "outputs": [
    {
     "name": "stdout",
     "output_type": "stream",
     "text": [
      "Accuracy (Training):  0.9733333333333334\n",
      "Average accuracy score using 10-fold crossvalidation:  0.9666666666666666\n",
      "     Accuracy score: 0.97368\n"
     ]
    }
   ],
   "source": [
    "m = RandomForestClassifier(n_estimators=100, n_jobs=-1, min_samples_leaf=3, oob_score=True)\n",
    "train_classifier_cv(m, df_scaled, y, k_folds=10)\n",
    "m_preds = predict_and_evaluate_classifier(m, X_test, y_test)"
   ]
  },
  {
   "cell_type": "code",
   "execution_count": 56,
   "metadata": {},
   "outputs": [
    {
     "data": {
      "text/html": [
       "<div>\n",
       "<style scoped>\n",
       "    .dataframe tbody tr th:only-of-type {\n",
       "        vertical-align: middle;\n",
       "    }\n",
       "\n",
       "    .dataframe tbody tr th {\n",
       "        vertical-align: top;\n",
       "    }\n",
       "\n",
       "    .dataframe thead th {\n",
       "        text-align: right;\n",
       "    }\n",
       "</style>\n",
       "<table border=\"1\" class=\"dataframe\">\n",
       "  <thead>\n",
       "    <tr style=\"text-align: right;\">\n",
       "      <th></th>\n",
       "      <th>cols</th>\n",
       "      <th>imp</th>\n",
       "    </tr>\n",
       "  </thead>\n",
       "  <tbody>\n",
       "    <tr>\n",
       "      <th>1</th>\n",
       "      <td>petal width (cm)</td>\n",
       "      <td>0.503021</td>\n",
       "    </tr>\n",
       "    <tr>\n",
       "      <th>0</th>\n",
       "      <td>petal length (cm)</td>\n",
       "      <td>0.496979</td>\n",
       "    </tr>\n",
       "  </tbody>\n",
       "</table>\n",
       "</div>"
      ],
      "text/plain": [
       "                cols       imp\n",
       "1   petal width (cm)  0.503021\n",
       "0  petal length (cm)  0.496979"
      ]
     },
     "execution_count": 56,
     "metadata": {},
     "output_type": "execute_result"
    }
   ],
   "source": [
    "fi = rf_feat_importance(m, df_scaled)\n",
    "fi"
   ]
  },
  {
   "cell_type": "code",
   "execution_count": 57,
   "metadata": {},
   "outputs": [
    {
     "data": {
      "image/png": "[encoded data removed]",
      "text/plain": [
       "<Figure size 864x432 with 1 Axes>"
      ]
     },
     "metadata": {
      "needs_background": "light"
     },
     "output_type": "display_data"
    },
    {
     "data": {
      "image/png": "[encoded data removed]",
      "text/plain": [
       "<Figure size 864x504 with 1 Axes>"
      ]
     },
     "metadata": {
      "needs_background": "light"
     },
     "output_type": "display_data"
    }
   ],
   "source": [
    "plot_feat_importance(fi)"
   ]
  },
  {
   "cell_type": "markdown",
   "metadata": {},
   "source": [
    "## Analyzing Features"
   ]
  },
  {
   "cell_type": "code",
   "execution_count": 58,
   "metadata": {},
   "outputs": [
    {
     "data": {
      "image/png": "[encoded data removed]",
      "text/plain": [
       "<Figure size 945.725x900 with 30 Axes>"
      ]
     },
     "metadata": {
      "needs_background": "light"
     },
     "output_type": "display_data"
    }
   ],
   "source": [
    "X = df_raw.copy()\n",
    "X['label'] = y_raw\n",
    "sns.pairplot(X,vars=X.columns, hue='label');"
   ]
  },
  {
   "cell_type": "code",
   "execution_count": 59,
   "metadata": {},
   "outputs": [
    {
     "data": {
      "image/png": "[encoded data removed]",
      "text/plain": [
       "<Figure size 405.725x360 with 1 Axes>"
      ]
     },
     "metadata": {
      "needs_background": "light"
     },
     "output_type": "display_data"
    }
   ],
   "source": [
    "sns.lmplot(data=X, x='petal width (cm)', y='petal length (cm)', hue='label', fit_reg=False);"
   ]
  }
 ],
 "metadata": {
  "kernelspec": {
   "display_name": "Python 3",
   "language": "python",
   "name": "python3"
  },
  "language_info": {
   "codemirror_mode": {
    "name": "ipython",
    "version": 3
   },
   "file_extension": ".py",
   "mimetype": "text/x-python",
   "name": "python",
   "nbconvert_exporter": "python",
   "pygments_lexer": "ipython3",
   "version": "3.7.2"
  }
 },
 "nbformat": 4,
 "nbformat_minor": 2
}
