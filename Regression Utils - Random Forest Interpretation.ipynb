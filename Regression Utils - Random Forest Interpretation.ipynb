{
 "cells": [
  {
   "cell_type": "markdown",
   "metadata": {},
   "source": [
    "## Imports"
   ]
  },
  {
   "cell_type": "code",
   "execution_count": 1,
   "metadata": {},
   "outputs": [],
   "source": [
    "%load_ext autoreload\n",
    "%autoreload 2"
   ]
  },
  {
   "cell_type": "code",
   "execution_count": 2,
   "metadata": {},
   "outputs": [
    {
     "name": "stderr",
     "output_type": "stream",
     "text": [
      "/home/quick/anaconda3/lib/python3.7/site-packages/sklearn/ensemble/weight_boosting.py:29: DeprecationWarning: numpy.core.umath_tests is an internal NumPy module and should not be imported. It will be removed in a future NumPy release.\n",
      "  from numpy.core.umath_tests import inner1d\n"
     ]
    }
   ],
   "source": [
    "from pandas_summary import DataFrameSummary\n",
    "from sklearn.ensemble import RandomForestRegressor, RandomForestClassifier\n",
    "from sklearn import metrics\n",
    "from mlutils.features import *\n",
    "from mlutils.models.regression import *\n",
    "from mlutils.models.trees import *\n",
    "from mlutils.plot import *\n",
    "import seaborn as sns\n",
    "sns.set()"
   ]
  },
  {
   "cell_type": "code",
   "execution_count": 3,
   "metadata": {},
   "outputs": [],
   "source": [
    "set_plot_sizes(12, 14, 16)"
   ]
  },
  {
   "cell_type": "markdown",
   "metadata": {
    "heading_collapsed": true
   },
   "source": [
    "## Load data from previous workbook"
   ]
  },
  {
   "cell_type": "code",
   "execution_count": 4,
   "metadata": {
    "hidden": true
   },
   "outputs": [],
   "source": [
    "PATH = \"data/bulldozers/\"\n",
    "\n",
    "import feather\n",
    "df_raw = feather.read_dataframe('tmp/bulldozers-raw')\n",
    "\n",
    "df_trn, y_trn, nas = process_dataframe(df_raw, 'SalePrice')"
   ]
  },
  {
   "cell_type": "code",
   "execution_count": 5,
   "metadata": {
    "hidden": true
   },
   "outputs": [
    {
     "data": {
      "text/plain": [
       "((389125, 66), (12000, 66), (389125,), (12000,))"
      ]
     },
     "execution_count": 5,
     "metadata": {},
     "output_type": "execute_result"
    }
   ],
   "source": [
    "n_valid = 12000\n",
    "n_train = len(df_trn)-n_valid\n",
    "\n",
    "X_train, X_val = split_vals(df_trn, n_train)\n",
    "y_train, y_val = split_vals(y_trn, n_train)\n",
    "\n",
    "X_train.shape, X_val.shape, y_train.shape, y_val.shape"
   ]
  },
  {
   "cell_type": "code",
   "execution_count": 6,
   "metadata": {
    "hidden": true
   },
   "outputs": [
    {
     "data": {
      "text/html": [
       "<div>\n",
       "<style scoped>\n",
       "    .dataframe tbody tr th:only-of-type {\n",
       "        vertical-align: middle;\n",
       "    }\n",
       "\n",
       "    .dataframe tbody tr th {\n",
       "        vertical-align: top;\n",
       "    }\n",
       "\n",
       "    .dataframe thead th {\n",
       "        text-align: right;\n",
       "    }\n",
       "</style>\n",
       "<table border=\"1\" class=\"dataframe\">\n",
       "  <thead>\n",
       "    <tr style=\"text-align: right;\">\n",
       "      <th></th>\n",
       "      <th>SalesID</th>\n",
       "      <th>SalePrice</th>\n",
       "      <th>MachineID</th>\n",
       "      <th>ModelID</th>\n",
       "      <th>datasource</th>\n",
       "      <th>auctioneerID</th>\n",
       "      <th>YearMade</th>\n",
       "      <th>MachineHoursCurrentMeter</th>\n",
       "      <th>UsageBand</th>\n",
       "      <th>fiModelDesc</th>\n",
       "      <th>...</th>\n",
       "      <th>saleDay</th>\n",
       "      <th>saleDayofweek</th>\n",
       "      <th>saleDayofyear</th>\n",
       "      <th>saleIs_month_end</th>\n",
       "      <th>saleIs_month_start</th>\n",
       "      <th>saleIs_quarter_end</th>\n",
       "      <th>saleIs_quarter_start</th>\n",
       "      <th>saleIs_year_end</th>\n",
       "      <th>saleIs_year_start</th>\n",
       "      <th>saleElapsed</th>\n",
       "    </tr>\n",
       "  </thead>\n",
       "  <tbody>\n",
       "    <tr>\n",
       "      <th>0</th>\n",
       "      <td>1139246</td>\n",
       "      <td>11.097410</td>\n",
       "      <td>999089</td>\n",
       "      <td>3157</td>\n",
       "      <td>121</td>\n",
       "      <td>3.0</td>\n",
       "      <td>2004</td>\n",
       "      <td>68.0</td>\n",
       "      <td>Low</td>\n",
       "      <td>521D</td>\n",
       "      <td>...</td>\n",
       "      <td>16</td>\n",
       "      <td>3</td>\n",
       "      <td>320</td>\n",
       "      <td>False</td>\n",
       "      <td>False</td>\n",
       "      <td>False</td>\n",
       "      <td>False</td>\n",
       "      <td>False</td>\n",
       "      <td>False</td>\n",
       "      <td>1163635200</td>\n",
       "    </tr>\n",
       "    <tr>\n",
       "      <th>1</th>\n",
       "      <td>1139248</td>\n",
       "      <td>10.950807</td>\n",
       "      <td>117657</td>\n",
       "      <td>77</td>\n",
       "      <td>121</td>\n",
       "      <td>3.0</td>\n",
       "      <td>1996</td>\n",
       "      <td>4640.0</td>\n",
       "      <td>Low</td>\n",
       "      <td>950FII</td>\n",
       "      <td>...</td>\n",
       "      <td>26</td>\n",
       "      <td>4</td>\n",
       "      <td>86</td>\n",
       "      <td>False</td>\n",
       "      <td>False</td>\n",
       "      <td>False</td>\n",
       "      <td>False</td>\n",
       "      <td>False</td>\n",
       "      <td>False</td>\n",
       "      <td>1080259200</td>\n",
       "    </tr>\n",
       "    <tr>\n",
       "      <th>2</th>\n",
       "      <td>1139249</td>\n",
       "      <td>9.210340</td>\n",
       "      <td>434808</td>\n",
       "      <td>7009</td>\n",
       "      <td>121</td>\n",
       "      <td>3.0</td>\n",
       "      <td>2001</td>\n",
       "      <td>2838.0</td>\n",
       "      <td>High</td>\n",
       "      <td>226</td>\n",
       "      <td>...</td>\n",
       "      <td>26</td>\n",
       "      <td>3</td>\n",
       "      <td>57</td>\n",
       "      <td>False</td>\n",
       "      <td>False</td>\n",
       "      <td>False</td>\n",
       "      <td>False</td>\n",
       "      <td>False</td>\n",
       "      <td>False</td>\n",
       "      <td>1077753600</td>\n",
       "    </tr>\n",
       "    <tr>\n",
       "      <th>3</th>\n",
       "      <td>1139251</td>\n",
       "      <td>10.558414</td>\n",
       "      <td>1026470</td>\n",
       "      <td>332</td>\n",
       "      <td>121</td>\n",
       "      <td>3.0</td>\n",
       "      <td>2001</td>\n",
       "      <td>3486.0</td>\n",
       "      <td>High</td>\n",
       "      <td>PC120-6E</td>\n",
       "      <td>...</td>\n",
       "      <td>19</td>\n",
       "      <td>3</td>\n",
       "      <td>139</td>\n",
       "      <td>False</td>\n",
       "      <td>False</td>\n",
       "      <td>False</td>\n",
       "      <td>False</td>\n",
       "      <td>False</td>\n",
       "      <td>False</td>\n",
       "      <td>1305763200</td>\n",
       "    </tr>\n",
       "    <tr>\n",
       "      <th>4</th>\n",
       "      <td>1139253</td>\n",
       "      <td>9.305651</td>\n",
       "      <td>1057373</td>\n",
       "      <td>17311</td>\n",
       "      <td>121</td>\n",
       "      <td>3.0</td>\n",
       "      <td>2007</td>\n",
       "      <td>722.0</td>\n",
       "      <td>Medium</td>\n",
       "      <td>S175</td>\n",
       "      <td>...</td>\n",
       "      <td>23</td>\n",
       "      <td>3</td>\n",
       "      <td>204</td>\n",
       "      <td>False</td>\n",
       "      <td>False</td>\n",
       "      <td>False</td>\n",
       "      <td>False</td>\n",
       "      <td>False</td>\n",
       "      <td>False</td>\n",
       "      <td>1248307200</td>\n",
       "    </tr>\n",
       "    <tr>\n",
       "      <th>5</th>\n",
       "      <td>1139255</td>\n",
       "      <td>10.184900</td>\n",
       "      <td>1001274</td>\n",
       "      <td>4605</td>\n",
       "      <td>121</td>\n",
       "      <td>3.0</td>\n",
       "      <td>2004</td>\n",
       "      <td>508.0</td>\n",
       "      <td>Low</td>\n",
       "      <td>310G</td>\n",
       "      <td>...</td>\n",
       "      <td>18</td>\n",
       "      <td>3</td>\n",
       "      <td>353</td>\n",
       "      <td>False</td>\n",
       "      <td>False</td>\n",
       "      <td>False</td>\n",
       "      <td>False</td>\n",
       "      <td>False</td>\n",
       "      <td>False</td>\n",
       "      <td>1229558400</td>\n",
       "    </tr>\n",
       "    <tr>\n",
       "      <th>6</th>\n",
       "      <td>1139256</td>\n",
       "      <td>9.952278</td>\n",
       "      <td>772701</td>\n",
       "      <td>1937</td>\n",
       "      <td>121</td>\n",
       "      <td>3.0</td>\n",
       "      <td>1993</td>\n",
       "      <td>11540.0</td>\n",
       "      <td>High</td>\n",
       "      <td>790ELC</td>\n",
       "      <td>...</td>\n",
       "      <td>26</td>\n",
       "      <td>3</td>\n",
       "      <td>239</td>\n",
       "      <td>False</td>\n",
       "      <td>False</td>\n",
       "      <td>False</td>\n",
       "      <td>False</td>\n",
       "      <td>False</td>\n",
       "      <td>False</td>\n",
       "      <td>1093478400</td>\n",
       "    </tr>\n",
       "    <tr>\n",
       "      <th>7</th>\n",
       "      <td>1139261</td>\n",
       "      <td>10.203592</td>\n",
       "      <td>902002</td>\n",
       "      <td>3539</td>\n",
       "      <td>121</td>\n",
       "      <td>3.0</td>\n",
       "      <td>2001</td>\n",
       "      <td>4883.0</td>\n",
       "      <td>High</td>\n",
       "      <td>416D</td>\n",
       "      <td>...</td>\n",
       "      <td>17</td>\n",
       "      <td>3</td>\n",
       "      <td>321</td>\n",
       "      <td>False</td>\n",
       "      <td>False</td>\n",
       "      <td>False</td>\n",
       "      <td>False</td>\n",
       "      <td>False</td>\n",
       "      <td>False</td>\n",
       "      <td>1132185600</td>\n",
       "    </tr>\n",
       "    <tr>\n",
       "      <th>8</th>\n",
       "      <td>1139272</td>\n",
       "      <td>9.975808</td>\n",
       "      <td>1036251</td>\n",
       "      <td>36003</td>\n",
       "      <td>121</td>\n",
       "      <td>3.0</td>\n",
       "      <td>2008</td>\n",
       "      <td>302.0</td>\n",
       "      <td>Low</td>\n",
       "      <td>430HAG</td>\n",
       "      <td>...</td>\n",
       "      <td>27</td>\n",
       "      <td>3</td>\n",
       "      <td>239</td>\n",
       "      <td>False</td>\n",
       "      <td>False</td>\n",
       "      <td>False</td>\n",
       "      <td>False</td>\n",
       "      <td>False</td>\n",
       "      <td>False</td>\n",
       "      <td>1251331200</td>\n",
       "    </tr>\n",
       "    <tr>\n",
       "      <th>9</th>\n",
       "      <td>1139275</td>\n",
       "      <td>11.082143</td>\n",
       "      <td>1016474</td>\n",
       "      <td>3883</td>\n",
       "      <td>121</td>\n",
       "      <td>3.0</td>\n",
       "      <td>1000</td>\n",
       "      <td>20700.0</td>\n",
       "      <td>Medium</td>\n",
       "      <td>988B</td>\n",
       "      <td>...</td>\n",
       "      <td>9</td>\n",
       "      <td>3</td>\n",
       "      <td>221</td>\n",
       "      <td>False</td>\n",
       "      <td>False</td>\n",
       "      <td>False</td>\n",
       "      <td>False</td>\n",
       "      <td>False</td>\n",
       "      <td>False</td>\n",
       "      <td>1186617600</td>\n",
       "    </tr>\n",
       "    <tr>\n",
       "      <th>10</th>\n",
       "      <td>1139278</td>\n",
       "      <td>10.085809</td>\n",
       "      <td>1024998</td>\n",
       "      <td>4605</td>\n",
       "      <td>121</td>\n",
       "      <td>3.0</td>\n",
       "      <td>2004</td>\n",
       "      <td>1414.0</td>\n",
       "      <td>Medium</td>\n",
       "      <td>310G</td>\n",
       "      <td>...</td>\n",
       "      <td>21</td>\n",
       "      <td>3</td>\n",
       "      <td>234</td>\n",
       "      <td>False</td>\n",
       "      <td>False</td>\n",
       "      <td>False</td>\n",
       "      <td>False</td>\n",
       "      <td>False</td>\n",
       "      <td>False</td>\n",
       "      <td>1219276800</td>\n",
       "    </tr>\n",
       "    <tr>\n",
       "      <th>11</th>\n",
       "      <td>1139282</td>\n",
       "      <td>10.021271</td>\n",
       "      <td>319906</td>\n",
       "      <td>5255</td>\n",
       "      <td>121</td>\n",
       "      <td>3.0</td>\n",
       "      <td>1998</td>\n",
       "      <td>2764.0</td>\n",
       "      <td>Low</td>\n",
       "      <td>D31E</td>\n",
       "      <td>...</td>\n",
       "      <td>24</td>\n",
       "      <td>3</td>\n",
       "      <td>236</td>\n",
       "      <td>False</td>\n",
       "      <td>False</td>\n",
       "      <td>False</td>\n",
       "      <td>False</td>\n",
       "      <td>False</td>\n",
       "      <td>False</td>\n",
       "      <td>1156377600</td>\n",
       "    </tr>\n",
       "    <tr>\n",
       "      <th>12</th>\n",
       "      <td>1139283</td>\n",
       "      <td>10.491274</td>\n",
       "      <td>1052214</td>\n",
       "      <td>2232</td>\n",
       "      <td>121</td>\n",
       "      <td>3.0</td>\n",
       "      <td>1998</td>\n",
       "      <td>0.0</td>\n",
       "      <td>NaN</td>\n",
       "      <td>PC200LC6</td>\n",
       "      <td>...</td>\n",
       "      <td>20</td>\n",
       "      <td>3</td>\n",
       "      <td>293</td>\n",
       "      <td>False</td>\n",
       "      <td>False</td>\n",
       "      <td>False</td>\n",
       "      <td>False</td>\n",
       "      <td>False</td>\n",
       "      <td>False</td>\n",
       "      <td>1129766400</td>\n",
       "    </tr>\n",
       "    <tr>\n",
       "      <th>13</th>\n",
       "      <td>1139284</td>\n",
       "      <td>10.325482</td>\n",
       "      <td>1068082</td>\n",
       "      <td>3542</td>\n",
       "      <td>121</td>\n",
       "      <td>3.0</td>\n",
       "      <td>2001</td>\n",
       "      <td>1921.0</td>\n",
       "      <td>Medium</td>\n",
       "      <td>420D</td>\n",
       "      <td>...</td>\n",
       "      <td>26</td>\n",
       "      <td>3</td>\n",
       "      <td>26</td>\n",
       "      <td>False</td>\n",
       "      <td>False</td>\n",
       "      <td>False</td>\n",
       "      <td>False</td>\n",
       "      <td>False</td>\n",
       "      <td>False</td>\n",
       "      <td>1138233600</td>\n",
       "    </tr>\n",
       "    <tr>\n",
       "      <th>14</th>\n",
       "      <td>1139290</td>\n",
       "      <td>10.239960</td>\n",
       "      <td>1058450</td>\n",
       "      <td>5162</td>\n",
       "      <td>121</td>\n",
       "      <td>3.0</td>\n",
       "      <td>2004</td>\n",
       "      <td>320.0</td>\n",
       "      <td>Low</td>\n",
       "      <td>214E</td>\n",
       "      <td>...</td>\n",
       "      <td>3</td>\n",
       "      <td>1</td>\n",
       "      <td>3</td>\n",
       "      <td>False</td>\n",
       "      <td>False</td>\n",
       "      <td>False</td>\n",
       "      <td>False</td>\n",
       "      <td>False</td>\n",
       "      <td>False</td>\n",
       "      <td>1136246400</td>\n",
       "    </tr>\n",
       "    <tr>\n",
       "      <th>15</th>\n",
       "      <td>1139291</td>\n",
       "      <td>9.852194</td>\n",
       "      <td>1004810</td>\n",
       "      <td>4604</td>\n",
       "      <td>121</td>\n",
       "      <td>3.0</td>\n",
       "      <td>1999</td>\n",
       "      <td>2450.0</td>\n",
       "      <td>Medium</td>\n",
       "      <td>310E</td>\n",
       "      <td>...</td>\n",
       "      <td>16</td>\n",
       "      <td>3</td>\n",
       "      <td>320</td>\n",
       "      <td>False</td>\n",
       "      <td>False</td>\n",
       "      <td>False</td>\n",
       "      <td>False</td>\n",
       "      <td>False</td>\n",
       "      <td>False</td>\n",
       "      <td>1163635200</td>\n",
       "    </tr>\n",
       "    <tr>\n",
       "      <th>16</th>\n",
       "      <td>1139292</td>\n",
       "      <td>9.510445</td>\n",
       "      <td>1026973</td>\n",
       "      <td>9510</td>\n",
       "      <td>121</td>\n",
       "      <td>3.0</td>\n",
       "      <td>1999</td>\n",
       "      <td>1972.0</td>\n",
       "      <td>Low</td>\n",
       "      <td>334</td>\n",
       "      <td>...</td>\n",
       "      <td>14</td>\n",
       "      <td>3</td>\n",
       "      <td>165</td>\n",
       "      <td>False</td>\n",
       "      <td>False</td>\n",
       "      <td>False</td>\n",
       "      <td>False</td>\n",
       "      <td>False</td>\n",
       "      <td>False</td>\n",
       "      <td>1181779200</td>\n",
       "    </tr>\n",
       "    <tr>\n",
       "      <th>17</th>\n",
       "      <td>1139299</td>\n",
       "      <td>9.159047</td>\n",
       "      <td>1002713</td>\n",
       "      <td>21442</td>\n",
       "      <td>121</td>\n",
       "      <td>3.0</td>\n",
       "      <td>2003</td>\n",
       "      <td>0.0</td>\n",
       "      <td>NaN</td>\n",
       "      <td>45NX</td>\n",
       "      <td>...</td>\n",
       "      <td>28</td>\n",
       "      <td>3</td>\n",
       "      <td>28</td>\n",
       "      <td>False</td>\n",
       "      <td>False</td>\n",
       "      <td>False</td>\n",
       "      <td>False</td>\n",
       "      <td>False</td>\n",
       "      <td>False</td>\n",
       "      <td>1264636800</td>\n",
       "    </tr>\n",
       "    <tr>\n",
       "      <th>18</th>\n",
       "      <td>1139301</td>\n",
       "      <td>9.433484</td>\n",
       "      <td>125790</td>\n",
       "      <td>7040</td>\n",
       "      <td>121</td>\n",
       "      <td>3.0</td>\n",
       "      <td>2001</td>\n",
       "      <td>994.0</td>\n",
       "      <td>Low</td>\n",
       "      <td>302.5</td>\n",
       "      <td>...</td>\n",
       "      <td>9</td>\n",
       "      <td>3</td>\n",
       "      <td>68</td>\n",
       "      <td>False</td>\n",
       "      <td>False</td>\n",
       "      <td>False</td>\n",
       "      <td>False</td>\n",
       "      <td>False</td>\n",
       "      <td>False</td>\n",
       "      <td>1141862400</td>\n",
       "    </tr>\n",
       "    <tr>\n",
       "      <th>19</th>\n",
       "      <td>1139304</td>\n",
       "      <td>9.350102</td>\n",
       "      <td>1011914</td>\n",
       "      <td>3177</td>\n",
       "      <td>121</td>\n",
       "      <td>3.0</td>\n",
       "      <td>1991</td>\n",
       "      <td>8005.0</td>\n",
       "      <td>Medium</td>\n",
       "      <td>580SUPER K</td>\n",
       "      <td>...</td>\n",
       "      <td>17</td>\n",
       "      <td>3</td>\n",
       "      <td>321</td>\n",
       "      <td>False</td>\n",
       "      <td>False</td>\n",
       "      <td>False</td>\n",
       "      <td>False</td>\n",
       "      <td>False</td>\n",
       "      <td>False</td>\n",
       "      <td>1132185600</td>\n",
       "    </tr>\n",
       "    <tr>\n",
       "      <th>20</th>\n",
       "      <td>1139311</td>\n",
       "      <td>10.621327</td>\n",
       "      <td>1014135</td>\n",
       "      <td>8867</td>\n",
       "      <td>121</td>\n",
       "      <td>3.0</td>\n",
       "      <td>2000</td>\n",
       "      <td>3259.0</td>\n",
       "      <td>Medium</td>\n",
       "      <td>JS260</td>\n",
       "      <td>...</td>\n",
       "      <td>18</td>\n",
       "      <td>3</td>\n",
       "      <td>138</td>\n",
       "      <td>False</td>\n",
       "      <td>False</td>\n",
       "      <td>False</td>\n",
       "      <td>False</td>\n",
       "      <td>False</td>\n",
       "      <td>False</td>\n",
       "      <td>1147910400</td>\n",
       "    </tr>\n",
       "    <tr>\n",
       "      <th>21</th>\n",
       "      <td>1139333</td>\n",
       "      <td>10.448715</td>\n",
       "      <td>999192</td>\n",
       "      <td>3350</td>\n",
       "      <td>121</td>\n",
       "      <td>3.0</td>\n",
       "      <td>1000</td>\n",
       "      <td>16328.0</td>\n",
       "      <td>Medium</td>\n",
       "      <td>120G</td>\n",
       "      <td>...</td>\n",
       "      <td>19</td>\n",
       "      <td>3</td>\n",
       "      <td>292</td>\n",
       "      <td>False</td>\n",
       "      <td>False</td>\n",
       "      <td>False</td>\n",
       "      <td>False</td>\n",
       "      <td>False</td>\n",
       "      <td>False</td>\n",
       "      <td>1161216000</td>\n",
       "    </tr>\n",
       "    <tr>\n",
       "      <th>22</th>\n",
       "      <td>1139344</td>\n",
       "      <td>10.165852</td>\n",
       "      <td>1044500</td>\n",
       "      <td>7040</td>\n",
       "      <td>121</td>\n",
       "      <td>3.0</td>\n",
       "      <td>2005</td>\n",
       "      <td>109.0</td>\n",
       "      <td>Low</td>\n",
       "      <td>302.5</td>\n",
       "      <td>...</td>\n",
       "      <td>25</td>\n",
       "      <td>3</td>\n",
       "      <td>298</td>\n",
       "      <td>False</td>\n",
       "      <td>False</td>\n",
       "      <td>False</td>\n",
       "      <td>False</td>\n",
       "      <td>False</td>\n",
       "      <td>False</td>\n",
       "      <td>1193270400</td>\n",
       "    </tr>\n",
       "    <tr>\n",
       "      <th>23</th>\n",
       "      <td>1139346</td>\n",
       "      <td>11.198215</td>\n",
       "      <td>821452</td>\n",
       "      <td>85</td>\n",
       "      <td>121</td>\n",
       "      <td>3.0</td>\n",
       "      <td>1996</td>\n",
       "      <td>17033.0</td>\n",
       "      <td>High</td>\n",
       "      <td>966FII</td>\n",
       "      <td>...</td>\n",
       "      <td>19</td>\n",
       "      <td>3</td>\n",
       "      <td>292</td>\n",
       "      <td>False</td>\n",
       "      <td>False</td>\n",
       "      <td>False</td>\n",
       "      <td>False</td>\n",
       "      <td>False</td>\n",
       "      <td>False</td>\n",
       "      <td>1161216000</td>\n",
       "    </tr>\n",
       "    <tr>\n",
       "      <th>24</th>\n",
       "      <td>1139348</td>\n",
       "      <td>10.404263</td>\n",
       "      <td>294562</td>\n",
       "      <td>3542</td>\n",
       "      <td>121</td>\n",
       "      <td>3.0</td>\n",
       "      <td>2001</td>\n",
       "      <td>1877.0</td>\n",
       "      <td>Medium</td>\n",
       "      <td>420D</td>\n",
       "      <td>...</td>\n",
       "      <td>20</td>\n",
       "      <td>3</td>\n",
       "      <td>141</td>\n",
       "      <td>False</td>\n",
       "      <td>False</td>\n",
       "      <td>False</td>\n",
       "      <td>False</td>\n",
       "      <td>False</td>\n",
       "      <td>False</td>\n",
       "      <td>1085011200</td>\n",
       "    </tr>\n",
       "    <tr>\n",
       "      <th>25</th>\n",
       "      <td>1139351</td>\n",
       "      <td>9.433484</td>\n",
       "      <td>833838</td>\n",
       "      <td>7009</td>\n",
       "      <td>121</td>\n",
       "      <td>3.0</td>\n",
       "      <td>2003</td>\n",
       "      <td>1028.0</td>\n",
       "      <td>Medium</td>\n",
       "      <td>226</td>\n",
       "      <td>...</td>\n",
       "      <td>9</td>\n",
       "      <td>3</td>\n",
       "      <td>68</td>\n",
       "      <td>False</td>\n",
       "      <td>False</td>\n",
       "      <td>False</td>\n",
       "      <td>False</td>\n",
       "      <td>False</td>\n",
       "      <td>False</td>\n",
       "      <td>1141862400</td>\n",
       "    </tr>\n",
       "    <tr>\n",
       "      <th>26</th>\n",
       "      <td>1139354</td>\n",
       "      <td>9.648595</td>\n",
       "      <td>565440</td>\n",
       "      <td>7040</td>\n",
       "      <td>121</td>\n",
       "      <td>3.0</td>\n",
       "      <td>2003</td>\n",
       "      <td>356.0</td>\n",
       "      <td>Low</td>\n",
       "      <td>302.5</td>\n",
       "      <td>...</td>\n",
       "      <td>9</td>\n",
       "      <td>3</td>\n",
       "      <td>68</td>\n",
       "      <td>False</td>\n",
       "      <td>False</td>\n",
       "      <td>False</td>\n",
       "      <td>False</td>\n",
       "      <td>False</td>\n",
       "      <td>False</td>\n",
       "      <td>1141862400</td>\n",
       "    </tr>\n",
       "    <tr>\n",
       "      <th>27</th>\n",
       "      <td>1139356</td>\n",
       "      <td>10.878047</td>\n",
       "      <td>1004127</td>\n",
       "      <td>25458</td>\n",
       "      <td>121</td>\n",
       "      <td>3.0</td>\n",
       "      <td>2000</td>\n",
       "      <td>0.0</td>\n",
       "      <td>NaN</td>\n",
       "      <td>EX550STD</td>\n",
       "      <td>...</td>\n",
       "      <td>22</td>\n",
       "      <td>3</td>\n",
       "      <td>53</td>\n",
       "      <td>False</td>\n",
       "      <td>False</td>\n",
       "      <td>False</td>\n",
       "      <td>False</td>\n",
       "      <td>False</td>\n",
       "      <td>False</td>\n",
       "      <td>1172102400</td>\n",
       "    </tr>\n",
       "    <tr>\n",
       "      <th>28</th>\n",
       "      <td>1139357</td>\n",
       "      <td>10.736397</td>\n",
       "      <td>44800</td>\n",
       "      <td>19167</td>\n",
       "      <td>121</td>\n",
       "      <td>3.0</td>\n",
       "      <td>2004</td>\n",
       "      <td>904.0</td>\n",
       "      <td>Low</td>\n",
       "      <td>685B</td>\n",
       "      <td>...</td>\n",
       "      <td>9</td>\n",
       "      <td>3</td>\n",
       "      <td>221</td>\n",
       "      <td>False</td>\n",
       "      <td>False</td>\n",
       "      <td>False</td>\n",
       "      <td>False</td>\n",
       "      <td>False</td>\n",
       "      <td>False</td>\n",
       "      <td>1186617600</td>\n",
       "    </tr>\n",
       "    <tr>\n",
       "      <th>29</th>\n",
       "      <td>1139358</td>\n",
       "      <td>11.396392</td>\n",
       "      <td>1018076</td>\n",
       "      <td>1333</td>\n",
       "      <td>121</td>\n",
       "      <td>3.0</td>\n",
       "      <td>1998</td>\n",
       "      <td>10466.0</td>\n",
       "      <td>Medium</td>\n",
       "      <td>345BL</td>\n",
       "      <td>...</td>\n",
       "      <td>1</td>\n",
       "      <td>3</td>\n",
       "      <td>152</td>\n",
       "      <td>False</td>\n",
       "      <td>True</td>\n",
       "      <td>False</td>\n",
       "      <td>False</td>\n",
       "      <td>False</td>\n",
       "      <td>False</td>\n",
       "      <td>1149120000</td>\n",
       "    </tr>\n",
       "    <tr>\n",
       "      <th>...</th>\n",
       "      <td>...</td>\n",
       "      <td>...</td>\n",
       "      <td>...</td>\n",
       "      <td>...</td>\n",
       "      <td>...</td>\n",
       "      <td>...</td>\n",
       "      <td>...</td>\n",
       "      <td>...</td>\n",
       "      <td>...</td>\n",
       "      <td>...</td>\n",
       "      <td>...</td>\n",
       "      <td>...</td>\n",
       "      <td>...</td>\n",
       "      <td>...</td>\n",
       "      <td>...</td>\n",
       "      <td>...</td>\n",
       "      <td>...</td>\n",
       "      <td>...</td>\n",
       "      <td>...</td>\n",
       "      <td>...</td>\n",
       "      <td>...</td>\n",
       "    </tr>\n",
       "    <tr>\n",
       "      <th>401095</th>\n",
       "      <td>6333259</td>\n",
       "      <td>9.259131</td>\n",
       "      <td>1872639</td>\n",
       "      <td>21437</td>\n",
       "      <td>149</td>\n",
       "      <td>1.0</td>\n",
       "      <td>2003</td>\n",
       "      <td>NaN</td>\n",
       "      <td>NaN</td>\n",
       "      <td>35N</td>\n",
       "      <td>...</td>\n",
       "      <td>14</td>\n",
       "      <td>2</td>\n",
       "      <td>348</td>\n",
       "      <td>False</td>\n",
       "      <td>False</td>\n",
       "      <td>False</td>\n",
       "      <td>False</td>\n",
       "      <td>False</td>\n",
       "      <td>False</td>\n",
       "      <td>1323820800</td>\n",
       "    </tr>\n",
       "    <tr>\n",
       "      <th>401096</th>\n",
       "      <td>6333260</td>\n",
       "      <td>9.210340</td>\n",
       "      <td>1816341</td>\n",
       "      <td>21437</td>\n",
       "      <td>149</td>\n",
       "      <td>2.0</td>\n",
       "      <td>2004</td>\n",
       "      <td>NaN</td>\n",
       "      <td>NaN</td>\n",
       "      <td>35N</td>\n",
       "      <td>...</td>\n",
       "      <td>15</td>\n",
       "      <td>3</td>\n",
       "      <td>258</td>\n",
       "      <td>False</td>\n",
       "      <td>False</td>\n",
       "      <td>False</td>\n",
       "      <td>False</td>\n",
       "      <td>False</td>\n",
       "      <td>False</td>\n",
       "      <td>1316044800</td>\n",
       "    </tr>\n",
       "    <tr>\n",
       "      <th>401097</th>\n",
       "      <td>6333261</td>\n",
       "      <td>9.047821</td>\n",
       "      <td>1843949</td>\n",
       "      <td>21437</td>\n",
       "      <td>149</td>\n",
       "      <td>1.0</td>\n",
       "      <td>2005</td>\n",
       "      <td>NaN</td>\n",
       "      <td>NaN</td>\n",
       "      <td>35N</td>\n",
       "      <td>...</td>\n",
       "      <td>28</td>\n",
       "      <td>4</td>\n",
       "      <td>301</td>\n",
       "      <td>False</td>\n",
       "      <td>False</td>\n",
       "      <td>False</td>\n",
       "      <td>False</td>\n",
       "      <td>False</td>\n",
       "      <td>False</td>\n",
       "      <td>1319760000</td>\n",
       "    </tr>\n",
       "    <tr>\n",
       "      <th>401098</th>\n",
       "      <td>6333262</td>\n",
       "      <td>9.259131</td>\n",
       "      <td>1791341</td>\n",
       "      <td>21437</td>\n",
       "      <td>149</td>\n",
       "      <td>2.0</td>\n",
       "      <td>2004</td>\n",
       "      <td>NaN</td>\n",
       "      <td>NaN</td>\n",
       "      <td>35N</td>\n",
       "      <td>...</td>\n",
       "      <td>16</td>\n",
       "      <td>1</td>\n",
       "      <td>228</td>\n",
       "      <td>False</td>\n",
       "      <td>False</td>\n",
       "      <td>False</td>\n",
       "      <td>False</td>\n",
       "      <td>False</td>\n",
       "      <td>False</td>\n",
       "      <td>1313452800</td>\n",
       "    </tr>\n",
       "    <tr>\n",
       "      <th>401099</th>\n",
       "      <td>6333263</td>\n",
       "      <td>9.305651</td>\n",
       "      <td>1833174</td>\n",
       "      <td>21437</td>\n",
       "      <td>149</td>\n",
       "      <td>1.0</td>\n",
       "      <td>2004</td>\n",
       "      <td>NaN</td>\n",
       "      <td>NaN</td>\n",
       "      <td>35N</td>\n",
       "      <td>...</td>\n",
       "      <td>14</td>\n",
       "      <td>2</td>\n",
       "      <td>348</td>\n",
       "      <td>False</td>\n",
       "      <td>False</td>\n",
       "      <td>False</td>\n",
       "      <td>False</td>\n",
       "      <td>False</td>\n",
       "      <td>False</td>\n",
       "      <td>1323820800</td>\n",
       "    </tr>\n",
       "    <tr>\n",
       "      <th>401100</th>\n",
       "      <td>6333264</td>\n",
       "      <td>9.259131</td>\n",
       "      <td>1791370</td>\n",
       "      <td>21437</td>\n",
       "      <td>149</td>\n",
       "      <td>2.0</td>\n",
       "      <td>2004</td>\n",
       "      <td>NaN</td>\n",
       "      <td>NaN</td>\n",
       "      <td>35N</td>\n",
       "      <td>...</td>\n",
       "      <td>16</td>\n",
       "      <td>1</td>\n",
       "      <td>228</td>\n",
       "      <td>False</td>\n",
       "      <td>False</td>\n",
       "      <td>False</td>\n",
       "      <td>False</td>\n",
       "      <td>False</td>\n",
       "      <td>False</td>\n",
       "      <td>1313452800</td>\n",
       "    </tr>\n",
       "    <tr>\n",
       "      <th>401101</th>\n",
       "      <td>6333270</td>\n",
       "      <td>9.210340</td>\n",
       "      <td>1799208</td>\n",
       "      <td>21437</td>\n",
       "      <td>149</td>\n",
       "      <td>1.0</td>\n",
       "      <td>2004</td>\n",
       "      <td>NaN</td>\n",
       "      <td>NaN</td>\n",
       "      <td>35N</td>\n",
       "      <td>...</td>\n",
       "      <td>14</td>\n",
       "      <td>2</td>\n",
       "      <td>348</td>\n",
       "      <td>False</td>\n",
       "      <td>False</td>\n",
       "      <td>False</td>\n",
       "      <td>False</td>\n",
       "      <td>False</td>\n",
       "      <td>False</td>\n",
       "      <td>1323820800</td>\n",
       "    </tr>\n",
       "    <tr>\n",
       "      <th>401102</th>\n",
       "      <td>6333272</td>\n",
       "      <td>9.259131</td>\n",
       "      <td>1927142</td>\n",
       "      <td>21437</td>\n",
       "      <td>149</td>\n",
       "      <td>2.0</td>\n",
       "      <td>2005</td>\n",
       "      <td>NaN</td>\n",
       "      <td>NaN</td>\n",
       "      <td>35N</td>\n",
       "      <td>...</td>\n",
       "      <td>16</td>\n",
       "      <td>1</td>\n",
       "      <td>228</td>\n",
       "      <td>False</td>\n",
       "      <td>False</td>\n",
       "      <td>False</td>\n",
       "      <td>False</td>\n",
       "      <td>False</td>\n",
       "      <td>False</td>\n",
       "      <td>1313452800</td>\n",
       "    </tr>\n",
       "    <tr>\n",
       "      <th>401103</th>\n",
       "      <td>6333273</td>\n",
       "      <td>9.433484</td>\n",
       "      <td>1789856</td>\n",
       "      <td>21437</td>\n",
       "      <td>149</td>\n",
       "      <td>2.0</td>\n",
       "      <td>2005</td>\n",
       "      <td>NaN</td>\n",
       "      <td>NaN</td>\n",
       "      <td>35N</td>\n",
       "      <td>...</td>\n",
       "      <td>15</td>\n",
       "      <td>3</td>\n",
       "      <td>258</td>\n",
       "      <td>False</td>\n",
       "      <td>False</td>\n",
       "      <td>False</td>\n",
       "      <td>False</td>\n",
       "      <td>False</td>\n",
       "      <td>False</td>\n",
       "      <td>1316044800</td>\n",
       "    </tr>\n",
       "    <tr>\n",
       "      <th>401104</th>\n",
       "      <td>6333275</td>\n",
       "      <td>9.259131</td>\n",
       "      <td>1924623</td>\n",
       "      <td>21437</td>\n",
       "      <td>149</td>\n",
       "      <td>2.0</td>\n",
       "      <td>2005</td>\n",
       "      <td>NaN</td>\n",
       "      <td>NaN</td>\n",
       "      <td>35N</td>\n",
       "      <td>...</td>\n",
       "      <td>16</td>\n",
       "      <td>1</td>\n",
       "      <td>228</td>\n",
       "      <td>False</td>\n",
       "      <td>False</td>\n",
       "      <td>False</td>\n",
       "      <td>False</td>\n",
       "      <td>False</td>\n",
       "      <td>False</td>\n",
       "      <td>1313452800</td>\n",
       "    </tr>\n",
       "    <tr>\n",
       "      <th>401105</th>\n",
       "      <td>6333276</td>\n",
       "      <td>9.210340</td>\n",
       "      <td>1835350</td>\n",
       "      <td>21437</td>\n",
       "      <td>149</td>\n",
       "      <td>2.0</td>\n",
       "      <td>2005</td>\n",
       "      <td>NaN</td>\n",
       "      <td>NaN</td>\n",
       "      <td>35N</td>\n",
       "      <td>...</td>\n",
       "      <td>25</td>\n",
       "      <td>1</td>\n",
       "      <td>298</td>\n",
       "      <td>False</td>\n",
       "      <td>False</td>\n",
       "      <td>False</td>\n",
       "      <td>False</td>\n",
       "      <td>False</td>\n",
       "      <td>False</td>\n",
       "      <td>1319500800</td>\n",
       "    </tr>\n",
       "    <tr>\n",
       "      <th>401106</th>\n",
       "      <td>6333278</td>\n",
       "      <td>9.259131</td>\n",
       "      <td>1944702</td>\n",
       "      <td>21437</td>\n",
       "      <td>149</td>\n",
       "      <td>2.0</td>\n",
       "      <td>2005</td>\n",
       "      <td>NaN</td>\n",
       "      <td>NaN</td>\n",
       "      <td>35N</td>\n",
       "      <td>...</td>\n",
       "      <td>16</td>\n",
       "      <td>1</td>\n",
       "      <td>228</td>\n",
       "      <td>False</td>\n",
       "      <td>False</td>\n",
       "      <td>False</td>\n",
       "      <td>False</td>\n",
       "      <td>False</td>\n",
       "      <td>False</td>\n",
       "      <td>1313452800</td>\n",
       "    </tr>\n",
       "    <tr>\n",
       "      <th>401107</th>\n",
       "      <td>6333279</td>\n",
       "      <td>9.433484</td>\n",
       "      <td>1866563</td>\n",
       "      <td>21437</td>\n",
       "      <td>149</td>\n",
       "      <td>2.0</td>\n",
       "      <td>2005</td>\n",
       "      <td>NaN</td>\n",
       "      <td>NaN</td>\n",
       "      <td>35N</td>\n",
       "      <td>...</td>\n",
       "      <td>15</td>\n",
       "      <td>3</td>\n",
       "      <td>258</td>\n",
       "      <td>False</td>\n",
       "      <td>False</td>\n",
       "      <td>False</td>\n",
       "      <td>False</td>\n",
       "      <td>False</td>\n",
       "      <td>False</td>\n",
       "      <td>1316044800</td>\n",
       "    </tr>\n",
       "    <tr>\n",
       "      <th>401108</th>\n",
       "      <td>6333280</td>\n",
       "      <td>9.259131</td>\n",
       "      <td>1851633</td>\n",
       "      <td>21437</td>\n",
       "      <td>149</td>\n",
       "      <td>2.0</td>\n",
       "      <td>2005</td>\n",
       "      <td>NaN</td>\n",
       "      <td>NaN</td>\n",
       "      <td>35N</td>\n",
       "      <td>...</td>\n",
       "      <td>16</td>\n",
       "      <td>1</td>\n",
       "      <td>228</td>\n",
       "      <td>False</td>\n",
       "      <td>False</td>\n",
       "      <td>False</td>\n",
       "      <td>False</td>\n",
       "      <td>False</td>\n",
       "      <td>False</td>\n",
       "      <td>1313452800</td>\n",
       "    </tr>\n",
       "    <tr>\n",
       "      <th>401109</th>\n",
       "      <td>6333281</td>\n",
       "      <td>9.259131</td>\n",
       "      <td>1798958</td>\n",
       "      <td>21437</td>\n",
       "      <td>149</td>\n",
       "      <td>2.0</td>\n",
       "      <td>2005</td>\n",
       "      <td>NaN</td>\n",
       "      <td>NaN</td>\n",
       "      <td>35N</td>\n",
       "      <td>...</td>\n",
       "      <td>16</td>\n",
       "      <td>1</td>\n",
       "      <td>228</td>\n",
       "      <td>False</td>\n",
       "      <td>False</td>\n",
       "      <td>False</td>\n",
       "      <td>False</td>\n",
       "      <td>False</td>\n",
       "      <td>False</td>\n",
       "      <td>1313452800</td>\n",
       "    </tr>\n",
       "    <tr>\n",
       "      <th>401110</th>\n",
       "      <td>6333282</td>\n",
       "      <td>9.259131</td>\n",
       "      <td>1878866</td>\n",
       "      <td>21437</td>\n",
       "      <td>149</td>\n",
       "      <td>2.0</td>\n",
       "      <td>2005</td>\n",
       "      <td>NaN</td>\n",
       "      <td>NaN</td>\n",
       "      <td>35N</td>\n",
       "      <td>...</td>\n",
       "      <td>15</td>\n",
       "      <td>3</td>\n",
       "      <td>258</td>\n",
       "      <td>False</td>\n",
       "      <td>False</td>\n",
       "      <td>False</td>\n",
       "      <td>False</td>\n",
       "      <td>False</td>\n",
       "      <td>False</td>\n",
       "      <td>1316044800</td>\n",
       "    </tr>\n",
       "    <tr>\n",
       "      <th>401111</th>\n",
       "      <td>6333283</td>\n",
       "      <td>9.210340</td>\n",
       "      <td>1874235</td>\n",
       "      <td>21437</td>\n",
       "      <td>149</td>\n",
       "      <td>2.0</td>\n",
       "      <td>2005</td>\n",
       "      <td>NaN</td>\n",
       "      <td>NaN</td>\n",
       "      <td>35N</td>\n",
       "      <td>...</td>\n",
       "      <td>25</td>\n",
       "      <td>1</td>\n",
       "      <td>298</td>\n",
       "      <td>False</td>\n",
       "      <td>False</td>\n",
       "      <td>False</td>\n",
       "      <td>False</td>\n",
       "      <td>False</td>\n",
       "      <td>False</td>\n",
       "      <td>1319500800</td>\n",
       "    </tr>\n",
       "    <tr>\n",
       "      <th>401112</th>\n",
       "      <td>6333284</td>\n",
       "      <td>9.259131</td>\n",
       "      <td>1887654</td>\n",
       "      <td>21437</td>\n",
       "      <td>149</td>\n",
       "      <td>2.0</td>\n",
       "      <td>2005</td>\n",
       "      <td>NaN</td>\n",
       "      <td>NaN</td>\n",
       "      <td>35N</td>\n",
       "      <td>...</td>\n",
       "      <td>25</td>\n",
       "      <td>1</td>\n",
       "      <td>298</td>\n",
       "      <td>False</td>\n",
       "      <td>False</td>\n",
       "      <td>False</td>\n",
       "      <td>False</td>\n",
       "      <td>False</td>\n",
       "      <td>False</td>\n",
       "      <td>1319500800</td>\n",
       "    </tr>\n",
       "    <tr>\n",
       "      <th>401113</th>\n",
       "      <td>6333285</td>\n",
       "      <td>9.259131</td>\n",
       "      <td>1817165</td>\n",
       "      <td>21437</td>\n",
       "      <td>149</td>\n",
       "      <td>2.0</td>\n",
       "      <td>2005</td>\n",
       "      <td>NaN</td>\n",
       "      <td>NaN</td>\n",
       "      <td>35N</td>\n",
       "      <td>...</td>\n",
       "      <td>25</td>\n",
       "      <td>1</td>\n",
       "      <td>298</td>\n",
       "      <td>False</td>\n",
       "      <td>False</td>\n",
       "      <td>False</td>\n",
       "      <td>False</td>\n",
       "      <td>False</td>\n",
       "      <td>False</td>\n",
       "      <td>1319500800</td>\n",
       "    </tr>\n",
       "    <tr>\n",
       "      <th>401114</th>\n",
       "      <td>6333287</td>\n",
       "      <td>9.433484</td>\n",
       "      <td>1918242</td>\n",
       "      <td>21437</td>\n",
       "      <td>149</td>\n",
       "      <td>2.0</td>\n",
       "      <td>2005</td>\n",
       "      <td>NaN</td>\n",
       "      <td>NaN</td>\n",
       "      <td>35N</td>\n",
       "      <td>...</td>\n",
       "      <td>15</td>\n",
       "      <td>1</td>\n",
       "      <td>319</td>\n",
       "      <td>False</td>\n",
       "      <td>False</td>\n",
       "      <td>False</td>\n",
       "      <td>False</td>\n",
       "      <td>False</td>\n",
       "      <td>False</td>\n",
       "      <td>1321315200</td>\n",
       "    </tr>\n",
       "    <tr>\n",
       "      <th>401115</th>\n",
       "      <td>6333290</td>\n",
       "      <td>9.210340</td>\n",
       "      <td>1843374</td>\n",
       "      <td>21437</td>\n",
       "      <td>149</td>\n",
       "      <td>2.0</td>\n",
       "      <td>2005</td>\n",
       "      <td>NaN</td>\n",
       "      <td>NaN</td>\n",
       "      <td>35N</td>\n",
       "      <td>...</td>\n",
       "      <td>25</td>\n",
       "      <td>1</td>\n",
       "      <td>298</td>\n",
       "      <td>False</td>\n",
       "      <td>False</td>\n",
       "      <td>False</td>\n",
       "      <td>False</td>\n",
       "      <td>False</td>\n",
       "      <td>False</td>\n",
       "      <td>1319500800</td>\n",
       "    </tr>\n",
       "    <tr>\n",
       "      <th>401116</th>\n",
       "      <td>6333302</td>\n",
       "      <td>9.047821</td>\n",
       "      <td>1825337</td>\n",
       "      <td>21437</td>\n",
       "      <td>149</td>\n",
       "      <td>2.0</td>\n",
       "      <td>2005</td>\n",
       "      <td>NaN</td>\n",
       "      <td>NaN</td>\n",
       "      <td>35N</td>\n",
       "      <td>...</td>\n",
       "      <td>25</td>\n",
       "      <td>1</td>\n",
       "      <td>298</td>\n",
       "      <td>False</td>\n",
       "      <td>False</td>\n",
       "      <td>False</td>\n",
       "      <td>False</td>\n",
       "      <td>False</td>\n",
       "      <td>False</td>\n",
       "      <td>1319500800</td>\n",
       "    </tr>\n",
       "    <tr>\n",
       "      <th>401117</th>\n",
       "      <td>6333307</td>\n",
       "      <td>9.210340</td>\n",
       "      <td>1821747</td>\n",
       "      <td>21437</td>\n",
       "      <td>149</td>\n",
       "      <td>2.0</td>\n",
       "      <td>2005</td>\n",
       "      <td>NaN</td>\n",
       "      <td>NaN</td>\n",
       "      <td>35N</td>\n",
       "      <td>...</td>\n",
       "      <td>25</td>\n",
       "      <td>1</td>\n",
       "      <td>298</td>\n",
       "      <td>False</td>\n",
       "      <td>False</td>\n",
       "      <td>False</td>\n",
       "      <td>False</td>\n",
       "      <td>False</td>\n",
       "      <td>False</td>\n",
       "      <td>1319500800</td>\n",
       "    </tr>\n",
       "    <tr>\n",
       "      <th>401118</th>\n",
       "      <td>6333311</td>\n",
       "      <td>9.159047</td>\n",
       "      <td>1828862</td>\n",
       "      <td>21437</td>\n",
       "      <td>149</td>\n",
       "      <td>2.0</td>\n",
       "      <td>2006</td>\n",
       "      <td>NaN</td>\n",
       "      <td>NaN</td>\n",
       "      <td>35N</td>\n",
       "      <td>...</td>\n",
       "      <td>25</td>\n",
       "      <td>1</td>\n",
       "      <td>298</td>\n",
       "      <td>False</td>\n",
       "      <td>False</td>\n",
       "      <td>False</td>\n",
       "      <td>False</td>\n",
       "      <td>False</td>\n",
       "      <td>False</td>\n",
       "      <td>1319500800</td>\n",
       "    </tr>\n",
       "    <tr>\n",
       "      <th>401119</th>\n",
       "      <td>6333335</td>\n",
       "      <td>9.047821</td>\n",
       "      <td>1798293</td>\n",
       "      <td>21435</td>\n",
       "      <td>149</td>\n",
       "      <td>2.0</td>\n",
       "      <td>2005</td>\n",
       "      <td>NaN</td>\n",
       "      <td>NaN</td>\n",
       "      <td>30NX</td>\n",
       "      <td>...</td>\n",
       "      <td>25</td>\n",
       "      <td>1</td>\n",
       "      <td>298</td>\n",
       "      <td>False</td>\n",
       "      <td>False</td>\n",
       "      <td>False</td>\n",
       "      <td>False</td>\n",
       "      <td>False</td>\n",
       "      <td>False</td>\n",
       "      <td>1319500800</td>\n",
       "    </tr>\n",
       "    <tr>\n",
       "      <th>401120</th>\n",
       "      <td>6333336</td>\n",
       "      <td>9.259131</td>\n",
       "      <td>1840702</td>\n",
       "      <td>21439</td>\n",
       "      <td>149</td>\n",
       "      <td>1.0</td>\n",
       "      <td>2005</td>\n",
       "      <td>NaN</td>\n",
       "      <td>NaN</td>\n",
       "      <td>35NX2</td>\n",
       "      <td>...</td>\n",
       "      <td>2</td>\n",
       "      <td>2</td>\n",
       "      <td>306</td>\n",
       "      <td>False</td>\n",
       "      <td>False</td>\n",
       "      <td>False</td>\n",
       "      <td>False</td>\n",
       "      <td>False</td>\n",
       "      <td>False</td>\n",
       "      <td>1320192000</td>\n",
       "    </tr>\n",
       "    <tr>\n",
       "      <th>401121</th>\n",
       "      <td>6333337</td>\n",
       "      <td>9.305651</td>\n",
       "      <td>1830472</td>\n",
       "      <td>21439</td>\n",
       "      <td>149</td>\n",
       "      <td>1.0</td>\n",
       "      <td>2005</td>\n",
       "      <td>NaN</td>\n",
       "      <td>NaN</td>\n",
       "      <td>35NX2</td>\n",
       "      <td>...</td>\n",
       "      <td>2</td>\n",
       "      <td>2</td>\n",
       "      <td>306</td>\n",
       "      <td>False</td>\n",
       "      <td>False</td>\n",
       "      <td>False</td>\n",
       "      <td>False</td>\n",
       "      <td>False</td>\n",
       "      <td>False</td>\n",
       "      <td>1320192000</td>\n",
       "    </tr>\n",
       "    <tr>\n",
       "      <th>401122</th>\n",
       "      <td>6333338</td>\n",
       "      <td>9.350102</td>\n",
       "      <td>1887659</td>\n",
       "      <td>21439</td>\n",
       "      <td>149</td>\n",
       "      <td>1.0</td>\n",
       "      <td>2005</td>\n",
       "      <td>NaN</td>\n",
       "      <td>NaN</td>\n",
       "      <td>35NX2</td>\n",
       "      <td>...</td>\n",
       "      <td>2</td>\n",
       "      <td>2</td>\n",
       "      <td>306</td>\n",
       "      <td>False</td>\n",
       "      <td>False</td>\n",
       "      <td>False</td>\n",
       "      <td>False</td>\n",
       "      <td>False</td>\n",
       "      <td>False</td>\n",
       "      <td>1320192000</td>\n",
       "    </tr>\n",
       "    <tr>\n",
       "      <th>401123</th>\n",
       "      <td>6333341</td>\n",
       "      <td>9.104980</td>\n",
       "      <td>1903570</td>\n",
       "      <td>21435</td>\n",
       "      <td>149</td>\n",
       "      <td>2.0</td>\n",
       "      <td>2005</td>\n",
       "      <td>NaN</td>\n",
       "      <td>NaN</td>\n",
       "      <td>30NX</td>\n",
       "      <td>...</td>\n",
       "      <td>25</td>\n",
       "      <td>1</td>\n",
       "      <td>298</td>\n",
       "      <td>False</td>\n",
       "      <td>False</td>\n",
       "      <td>False</td>\n",
       "      <td>False</td>\n",
       "      <td>False</td>\n",
       "      <td>False</td>\n",
       "      <td>1319500800</td>\n",
       "    </tr>\n",
       "    <tr>\n",
       "      <th>401124</th>\n",
       "      <td>6333342</td>\n",
       "      <td>8.955448</td>\n",
       "      <td>1926965</td>\n",
       "      <td>21435</td>\n",
       "      <td>149</td>\n",
       "      <td>2.0</td>\n",
       "      <td>2005</td>\n",
       "      <td>NaN</td>\n",
       "      <td>NaN</td>\n",
       "      <td>30NX</td>\n",
       "      <td>...</td>\n",
       "      <td>25</td>\n",
       "      <td>1</td>\n",
       "      <td>298</td>\n",
       "      <td>False</td>\n",
       "      <td>False</td>\n",
       "      <td>False</td>\n",
       "      <td>False</td>\n",
       "      <td>False</td>\n",
       "      <td>False</td>\n",
       "      <td>1319500800</td>\n",
       "    </tr>\n",
       "  </tbody>\n",
       "</table>\n",
       "<p>401125 rows × 65 columns</p>\n",
       "</div>"
      ],
      "text/plain": [
       "        SalesID  SalePrice  MachineID  ModelID  datasource  auctioneerID  \\\n",
       "0       1139246  11.097410     999089     3157         121           3.0   \n",
       "1       1139248  10.950807     117657       77         121           3.0   \n",
       "2       1139249   9.210340     434808     7009         121           3.0   \n",
       "3       1139251  10.558414    1026470      332         121           3.0   \n",
       "4       1139253   9.305651    1057373    17311         121           3.0   \n",
       "5       1139255  10.184900    1001274     4605         121           3.0   \n",
       "6       1139256   9.952278     772701     1937         121           3.0   \n",
       "7       1139261  10.203592     902002     3539         121           3.0   \n",
       "8       1139272   9.975808    1036251    36003         121           3.0   \n",
       "9       1139275  11.082143    1016474     3883         121           3.0   \n",
       "10      1139278  10.085809    1024998     4605         121           3.0   \n",
       "11      1139282  10.021271     319906     5255         121           3.0   \n",
       "12      1139283  10.491274    1052214     2232         121           3.0   \n",
       "13      1139284  10.325482    1068082     3542         121           3.0   \n",
       "14      1139290  10.239960    1058450     5162         121           3.0   \n",
       "15      1139291   9.852194    1004810     4604         121           3.0   \n",
       "16      1139292   9.510445    1026973     9510         121           3.0   \n",
       "17      1139299   9.159047    1002713    21442         121           3.0   \n",
       "18      1139301   9.433484     125790     7040         121           3.0   \n",
       "19      1139304   9.350102    1011914     3177         121           3.0   \n",
       "20      1139311  10.621327    1014135     8867         121           3.0   \n",
       "21      1139333  10.448715     999192     3350         121           3.0   \n",
       "22      1139344  10.165852    1044500     7040         121           3.0   \n",
       "23      1139346  11.198215     821452       85         121           3.0   \n",
       "24      1139348  10.404263     294562     3542         121           3.0   \n",
       "25      1139351   9.433484     833838     7009         121           3.0   \n",
       "26      1139354   9.648595     565440     7040         121           3.0   \n",
       "27      1139356  10.878047    1004127    25458         121           3.0   \n",
       "28      1139357  10.736397      44800    19167         121           3.0   \n",
       "29      1139358  11.396392    1018076     1333         121           3.0   \n",
       "...         ...        ...        ...      ...         ...           ...   \n",
       "401095  6333259   9.259131    1872639    21437         149           1.0   \n",
       "401096  6333260   9.210340    1816341    21437         149           2.0   \n",
       "401097  6333261   9.047821    1843949    21437         149           1.0   \n",
       "401098  6333262   9.259131    1791341    21437         149           2.0   \n",
       "401099  6333263   9.305651    1833174    21437         149           1.0   \n",
       "401100  6333264   9.259131    1791370    21437         149           2.0   \n",
       "401101  6333270   9.210340    1799208    21437         149           1.0   \n",
       "401102  6333272   9.259131    1927142    21437         149           2.0   \n",
       "401103  6333273   9.433484    1789856    21437         149           2.0   \n",
       "401104  6333275   9.259131    1924623    21437         149           2.0   \n",
       "401105  6333276   9.210340    1835350    21437         149           2.0   \n",
       "401106  6333278   9.259131    1944702    21437         149           2.0   \n",
       "401107  6333279   9.433484    1866563    21437         149           2.0   \n",
       "401108  6333280   9.259131    1851633    21437         149           2.0   \n",
       "401109  6333281   9.259131    1798958    21437         149           2.0   \n",
       "401110  6333282   9.259131    1878866    21437         149           2.0   \n",
       "401111  6333283   9.210340    1874235    21437         149           2.0   \n",
       "401112  6333284   9.259131    1887654    21437         149           2.0   \n",
       "401113  6333285   9.259131    1817165    21437         149           2.0   \n",
       "401114  6333287   9.433484    1918242    21437         149           2.0   \n",
       "401115  6333290   9.210340    1843374    21437         149           2.0   \n",
       "401116  6333302   9.047821    1825337    21437         149           2.0   \n",
       "401117  6333307   9.210340    1821747    21437         149           2.0   \n",
       "401118  6333311   9.159047    1828862    21437         149           2.0   \n",
       "401119  6333335   9.047821    1798293    21435         149           2.0   \n",
       "401120  6333336   9.259131    1840702    21439         149           1.0   \n",
       "401121  6333337   9.305651    1830472    21439         149           1.0   \n",
       "401122  6333338   9.350102    1887659    21439         149           1.0   \n",
       "401123  6333341   9.104980    1903570    21435         149           2.0   \n",
       "401124  6333342   8.955448    1926965    21435         149           2.0   \n",
       "\n",
       "        YearMade  MachineHoursCurrentMeter UsageBand fiModelDesc     ...      \\\n",
       "0           2004                      68.0       Low        521D     ...       \n",
       "1           1996                    4640.0       Low      950FII     ...       \n",
       "2           2001                    2838.0      High         226     ...       \n",
       "3           2001                    3486.0      High    PC120-6E     ...       \n",
       "4           2007                     722.0    Medium        S175     ...       \n",
       "5           2004                     508.0       Low        310G     ...       \n",
       "6           1993                   11540.0      High      790ELC     ...       \n",
       "7           2001                    4883.0      High        416D     ...       \n",
       "8           2008                     302.0       Low      430HAG     ...       \n",
       "9           1000                   20700.0    Medium        988B     ...       \n",
       "10          2004                    1414.0    Medium        310G     ...       \n",
       "11          1998                    2764.0       Low        D31E     ...       \n",
       "12          1998                       0.0       NaN    PC200LC6     ...       \n",
       "13          2001                    1921.0    Medium        420D     ...       \n",
       "14          2004                     320.0       Low        214E     ...       \n",
       "15          1999                    2450.0    Medium        310E     ...       \n",
       "16          1999                    1972.0       Low         334     ...       \n",
       "17          2003                       0.0       NaN        45NX     ...       \n",
       "18          2001                     994.0       Low       302.5     ...       \n",
       "19          1991                    8005.0    Medium  580SUPER K     ...       \n",
       "20          2000                    3259.0    Medium       JS260     ...       \n",
       "21          1000                   16328.0    Medium        120G     ...       \n",
       "22          2005                     109.0       Low       302.5     ...       \n",
       "23          1996                   17033.0      High      966FII     ...       \n",
       "24          2001                    1877.0    Medium        420D     ...       \n",
       "25          2003                    1028.0    Medium         226     ...       \n",
       "26          2003                     356.0       Low       302.5     ...       \n",
       "27          2000                       0.0       NaN    EX550STD     ...       \n",
       "28          2004                     904.0       Low        685B     ...       \n",
       "29          1998                   10466.0    Medium       345BL     ...       \n",
       "...          ...                       ...       ...         ...     ...       \n",
       "401095      2003                       NaN       NaN         35N     ...       \n",
       "401096      2004                       NaN       NaN         35N     ...       \n",
       "401097      2005                       NaN       NaN         35N     ...       \n",
       "401098      2004                       NaN       NaN         35N     ...       \n",
       "401099      2004                       NaN       NaN         35N     ...       \n",
       "401100      2004                       NaN       NaN         35N     ...       \n",
       "401101      2004                       NaN       NaN         35N     ...       \n",
       "401102      2005                       NaN       NaN         35N     ...       \n",
       "401103      2005                       NaN       NaN         35N     ...       \n",
       "401104      2005                       NaN       NaN         35N     ...       \n",
       "401105      2005                       NaN       NaN         35N     ...       \n",
       "401106      2005                       NaN       NaN         35N     ...       \n",
       "401107      2005                       NaN       NaN         35N     ...       \n",
       "401108      2005                       NaN       NaN         35N     ...       \n",
       "401109      2005                       NaN       NaN         35N     ...       \n",
       "401110      2005                       NaN       NaN         35N     ...       \n",
       "401111      2005                       NaN       NaN         35N     ...       \n",
       "401112      2005                       NaN       NaN         35N     ...       \n",
       "401113      2005                       NaN       NaN         35N     ...       \n",
       "401114      2005                       NaN       NaN         35N     ...       \n",
       "401115      2005                       NaN       NaN         35N     ...       \n",
       "401116      2005                       NaN       NaN         35N     ...       \n",
       "401117      2005                       NaN       NaN         35N     ...       \n",
       "401118      2006                       NaN       NaN         35N     ...       \n",
       "401119      2005                       NaN       NaN        30NX     ...       \n",
       "401120      2005                       NaN       NaN       35NX2     ...       \n",
       "401121      2005                       NaN       NaN       35NX2     ...       \n",
       "401122      2005                       NaN       NaN       35NX2     ...       \n",
       "401123      2005                       NaN       NaN        30NX     ...       \n",
       "401124      2005                       NaN       NaN        30NX     ...       \n",
       "\n",
       "       saleDay saleDayofweek saleDayofyear saleIs_month_end  \\\n",
       "0           16             3           320            False   \n",
       "1           26             4            86            False   \n",
       "2           26             3            57            False   \n",
       "3           19             3           139            False   \n",
       "4           23             3           204            False   \n",
       "5           18             3           353            False   \n",
       "6           26             3           239            False   \n",
       "7           17             3           321            False   \n",
       "8           27             3           239            False   \n",
       "9            9             3           221            False   \n",
       "10          21             3           234            False   \n",
       "11          24             3           236            False   \n",
       "12          20             3           293            False   \n",
       "13          26             3            26            False   \n",
       "14           3             1             3            False   \n",
       "15          16             3           320            False   \n",
       "16          14             3           165            False   \n",
       "17          28             3            28            False   \n",
       "18           9             3            68            False   \n",
       "19          17             3           321            False   \n",
       "20          18             3           138            False   \n",
       "21          19             3           292            False   \n",
       "22          25             3           298            False   \n",
       "23          19             3           292            False   \n",
       "24          20             3           141            False   \n",
       "25           9             3            68            False   \n",
       "26           9             3            68            False   \n",
       "27          22             3            53            False   \n",
       "28           9             3           221            False   \n",
       "29           1             3           152            False   \n",
       "...        ...           ...           ...              ...   \n",
       "401095      14             2           348            False   \n",
       "401096      15             3           258            False   \n",
       "401097      28             4           301            False   \n",
       "401098      16             1           228            False   \n",
       "401099      14             2           348            False   \n",
       "401100      16             1           228            False   \n",
       "401101      14             2           348            False   \n",
       "401102      16             1           228            False   \n",
       "401103      15             3           258            False   \n",
       "401104      16             1           228            False   \n",
       "401105      25             1           298            False   \n",
       "401106      16             1           228            False   \n",
       "401107      15             3           258            False   \n",
       "401108      16             1           228            False   \n",
       "401109      16             1           228            False   \n",
       "401110      15             3           258            False   \n",
       "401111      25             1           298            False   \n",
       "401112      25             1           298            False   \n",
       "401113      25             1           298            False   \n",
       "401114      15             1           319            False   \n",
       "401115      25             1           298            False   \n",
       "401116      25             1           298            False   \n",
       "401117      25             1           298            False   \n",
       "401118      25             1           298            False   \n",
       "401119      25             1           298            False   \n",
       "401120       2             2           306            False   \n",
       "401121       2             2           306            False   \n",
       "401122       2             2           306            False   \n",
       "401123      25             1           298            False   \n",
       "401124      25             1           298            False   \n",
       "\n",
       "       saleIs_month_start saleIs_quarter_end saleIs_quarter_start  \\\n",
       "0                   False              False                False   \n",
       "1                   False              False                False   \n",
       "2                   False              False                False   \n",
       "3                   False              False                False   \n",
       "4                   False              False                False   \n",
       "5                   False              False                False   \n",
       "6                   False              False                False   \n",
       "7                   False              False                False   \n",
       "8                   False              False                False   \n",
       "9                   False              False                False   \n",
       "10                  False              False                False   \n",
       "11                  False              False                False   \n",
       "12                  False              False                False   \n",
       "13                  False              False                False   \n",
       "14                  False              False                False   \n",
       "15                  False              False                False   \n",
       "16                  False              False                False   \n",
       "17                  False              False                False   \n",
       "18                  False              False                False   \n",
       "19                  False              False                False   \n",
       "20                  False              False                False   \n",
       "21                  False              False                False   \n",
       "22                  False              False                False   \n",
       "23                  False              False                False   \n",
       "24                  False              False                False   \n",
       "25                  False              False                False   \n",
       "26                  False              False                False   \n",
       "27                  False              False                False   \n",
       "28                  False              False                False   \n",
       "29                   True              False                False   \n",
       "...                   ...                ...                  ...   \n",
       "401095              False              False                False   \n",
       "401096              False              False                False   \n",
       "401097              False              False                False   \n",
       "401098              False              False                False   \n",
       "401099              False              False                False   \n",
       "401100              False              False                False   \n",
       "401101              False              False                False   \n",
       "401102              False              False                False   \n",
       "401103              False              False                False   \n",
       "401104              False              False                False   \n",
       "401105              False              False                False   \n",
       "401106              False              False                False   \n",
       "401107              False              False                False   \n",
       "401108              False              False                False   \n",
       "401109              False              False                False   \n",
       "401110              False              False                False   \n",
       "401111              False              False                False   \n",
       "401112              False              False                False   \n",
       "401113              False              False                False   \n",
       "401114              False              False                False   \n",
       "401115              False              False                False   \n",
       "401116              False              False                False   \n",
       "401117              False              False                False   \n",
       "401118              False              False                False   \n",
       "401119              False              False                False   \n",
       "401120              False              False                False   \n",
       "401121              False              False                False   \n",
       "401122              False              False                False   \n",
       "401123              False              False                False   \n",
       "401124              False              False                False   \n",
       "\n",
       "       saleIs_year_end saleIs_year_start saleElapsed  \n",
       "0                False             False  1163635200  \n",
       "1                False             False  1080259200  \n",
       "2                False             False  1077753600  \n",
       "3                False             False  1305763200  \n",
       "4                False             False  1248307200  \n",
       "5                False             False  1229558400  \n",
       "6                False             False  1093478400  \n",
       "7                False             False  1132185600  \n",
       "8                False             False  1251331200  \n",
       "9                False             False  1186617600  \n",
       "10               False             False  1219276800  \n",
       "11               False             False  1156377600  \n",
       "12               False             False  1129766400  \n",
       "13               False             False  1138233600  \n",
       "14               False             False  1136246400  \n",
       "15               False             False  1163635200  \n",
       "16               False             False  1181779200  \n",
       "17               False             False  1264636800  \n",
       "18               False             False  1141862400  \n",
       "19               False             False  1132185600  \n",
       "20               False             False  1147910400  \n",
       "21               False             False  1161216000  \n",
       "22               False             False  1193270400  \n",
       "23               False             False  1161216000  \n",
       "24               False             False  1085011200  \n",
       "25               False             False  1141862400  \n",
       "26               False             False  1141862400  \n",
       "27               False             False  1172102400  \n",
       "28               False             False  1186617600  \n",
       "29               False             False  1149120000  \n",
       "...                ...               ...         ...  \n",
       "401095           False             False  1323820800  \n",
       "401096           False             False  1316044800  \n",
       "401097           False             False  1319760000  \n",
       "401098           False             False  1313452800  \n",
       "401099           False             False  1323820800  \n",
       "401100           False             False  1313452800  \n",
       "401101           False             False  1323820800  \n",
       "401102           False             False  1313452800  \n",
       "401103           False             False  1316044800  \n",
       "401104           False             False  1313452800  \n",
       "401105           False             False  1319500800  \n",
       "401106           False             False  1313452800  \n",
       "401107           False             False  1316044800  \n",
       "401108           False             False  1313452800  \n",
       "401109           False             False  1313452800  \n",
       "401110           False             False  1316044800  \n",
       "401111           False             False  1319500800  \n",
       "401112           False             False  1319500800  \n",
       "401113           False             False  1319500800  \n",
       "401114           False             False  1321315200  \n",
       "401115           False             False  1319500800  \n",
       "401116           False             False  1319500800  \n",
       "401117           False             False  1319500800  \n",
       "401118           False             False  1319500800  \n",
       "401119           False             False  1319500800  \n",
       "401120           False             False  1320192000  \n",
       "401121           False             False  1320192000  \n",
       "401122           False             False  1320192000  \n",
       "401123           False             False  1319500800  \n",
       "401124           False             False  1319500800  \n",
       "\n",
       "[401125 rows x 65 columns]"
      ]
     },
     "execution_count": 6,
     "metadata": {},
     "output_type": "execute_result"
    }
   ],
   "source": [
    "df_raw"
   ]
  },
  {
   "cell_type": "markdown",
   "metadata": {},
   "source": [
    "## Confidence based on tree variance"
   ]
  },
  {
   "cell_type": "markdown",
   "metadata": {},
   "source": [
    "For model interpretation, there's no need to use the full dataset on each tree - using a subset will be both faster, and also provide better interpretability (since an overfit model will not provide much variance across trees)."
   ]
  },
  {
   "cell_type": "code",
   "execution_count": 7,
   "metadata": {},
   "outputs": [],
   "source": [
    "set_rf_samples(50000)"
   ]
  },
  {
   "cell_type": "code",
   "execution_count": 8,
   "metadata": {},
   "outputs": [
    {
     "name": "stdout",
     "output_type": "stream",
     "text": [
      "  R2 (Training): 0.9114362300975053\n",
      "RMSE (Training): 0.04237612771563255\n",
      "      OOB Score: 0.8943533911246724\n",
      "             R2: 0.88874\n",
      "           RMSE: 0.24960\n"
     ]
    }
   ],
   "source": [
    "m = RandomForestRegressor(n_estimators=40, min_samples_leaf=3, max_features=0.5, n_jobs=-1, oob_score=True)\n",
    "train_regressor(m, X_train, y_train)\n",
    "m_preds = predict_and_evaluate_regressor(m, X_val, y_val)"
   ]
  },
  {
   "cell_type": "markdown",
   "metadata": {},
   "source": [
    "We saw how the model averages predictions across the trees to get an estimate - but how can we know the confidence of the estimate? One simple way is to use the standard deviation of predictions, instead of just the mean. This tells us the *relative* confidence of predictions - that is, for rows where the trees give very different results, you would want to be more cautious of using those results, compared to cases where they are more consistent."
   ]
  },
  {
   "cell_type": "code",
   "execution_count": 9,
   "metadata": {},
   "outputs": [
    {
     "name": "stdout",
     "output_type": "stream",
     "text": [
      "CPU times: user 955 ms, sys: 40 ms, total: 995 ms\n",
      "Wall time: 994 ms\n"
     ]
    },
    {
     "data": {
      "text/plain": [
       "(9.373449406275078, 0.3904263775306407)"
      ]
     },
     "execution_count": 9,
     "metadata": {},
     "output_type": "execute_result"
    }
   ],
   "source": [
    "%time preds = np.stack([t.predict(X_val) for t in m.estimators_])\n",
    "# example prediction mean and std\n",
    "np.mean(preds[:,0]), np.std(preds[:,0])"
   ]
  },
  {
   "cell_type": "code",
   "execution_count": 10,
   "metadata": {},
   "outputs": [
    {
     "data": {
      "text/plain": [
       "array([ 9.70123389,  9.44766501,  9.00235298, ..., 10.58482498,\n",
       "        9.20068606,  9.20068606])"
      ]
     },
     "execution_count": 10,
     "metadata": {},
     "output_type": "execute_result"
    }
   ],
   "source": [
    "# same thing as before, but running in parallel\n",
    "def get_preds(t): return t.predict(X_val)\n",
    "preds = np.stack(parallel_trees(m, get_preds))\n",
    "preds[0]"
   ]
  },
  {
   "cell_type": "markdown",
   "metadata": {},
   "source": [
    "We can see that different trees are giving different estimates to this auction. In order to see how prediction confidence varies, we can add this into our dataset."
   ]
  },
  {
   "cell_type": "code",
   "execution_count": 11,
   "metadata": {},
   "outputs": [],
   "source": [
    "# let's get our validation data from the original dataset\n",
    "raw_train, raw_valid = split_vals(df_raw, n_train)"
   ]
  },
  {
   "cell_type": "markdown",
   "metadata": {},
   "source": [
    "We can now look at predictions confidence in specific groups. Let's look at a feature called Enclosure, starting by plotting a simple histogram"
   ]
  },
  {
   "cell_type": "code",
   "execution_count": 12,
   "metadata": {},
   "outputs": [
    {
     "data": {
      "image/png": "[encoded data removed]",
      "text/plain": [
       "<Figure size 864x432 with 1 Axes>"
      ]
     },
     "metadata": {
      "needs_background": "light"
     },
     "output_type": "display_data"
    },
    {
     "name": "stdout",
     "output_type": "stream",
     "text": [
      "             Enclosure  SalePrice       pred  pred_std\n",
      "0                EROPS   9.849178   9.841446  0.276273\n",
      "1             EROPS AC        NaN        NaN       NaN\n",
      "2           EROPS w AC  10.623971  10.572645  0.268527\n",
      "3              NO ROPS        NaN        NaN       NaN\n",
      "4  None or Unspecified        NaN        NaN       NaN\n",
      "5                OROPS   9.682064   9.680686  0.226977\n"
     ]
    },
    {
     "data": {
      "image/png": "[encoded data removed]",
      "text/plain": [
       "<Figure size 1440x432 with 2 Axes>"
      ]
     },
     "metadata": {
      "needs_background": "light"
     },
     "output_type": "display_data"
    },
    {
     "name": "stdout",
     "output_type": "stream",
     "text": [
      "Weighted Standard Deviation\n",
      "    Enclosure  weighed_std\n",
      "0       EROPS     0.028072\n",
      "2  EROPS w AC     0.025398\n",
      "5       OROPS     0.023446\n"
     ]
    }
   ],
   "source": [
    "analyze_predictions_in_group(raw_valid, 'Enclosure', 'SalePrice', preds)"
   ]
  },
  {
   "cell_type": "markdown",
   "metadata": {},
   "source": [
    "Standard deviation is fairly constant across all the Enclosure values. Let's see another example."
   ]
  },
  {
   "cell_type": "code",
   "execution_count": 13,
   "metadata": {},
   "outputs": [
    {
     "data": {
      "image/png": "[encoded data removed]",
      "text/plain": [
       "<Figure size 864x432 with 1 Axes>"
      ]
     },
     "metadata": {
      "needs_background": "light"
     },
     "output_type": "display_data"
    },
    {
     "name": "stdout",
     "output_type": "stream",
     "text": [
      "      ProductSize  SalePrice       pred  pred_std\n",
      "0         Compact   9.735093   9.838298  0.345654\n",
      "1           Large  10.470589  10.392118  0.373831\n",
      "2  Large / Medium  10.691871  10.652338  0.298491\n",
      "3          Medium  10.681511  10.618396  0.293187\n",
      "4            Mini   9.535147   9.562230  0.253737\n",
      "5           Small  10.324448  10.331786  0.314086\n"
     ]
    },
    {
     "data": {
      "image/png": "[encoded data removed]",
      "text/plain": [
       "<Figure size 1440x432 with 2 Axes>"
      ]
     },
     "metadata": {
      "needs_background": "light"
     },
     "output_type": "display_data"
    },
    {
     "name": "stdout",
     "output_type": "stream",
     "text": [
      "Weighted Standard Deviation\n",
      "      ProductSize  weighed_std\n",
      "1           Large     0.035973\n",
      "0         Compact     0.035134\n",
      "5           Small     0.030400\n",
      "2  Large / Medium     0.028021\n",
      "3          Medium     0.027611\n",
      "4            Mini     0.026535\n"
     ]
    }
   ],
   "source": [
    "analyze_predictions_in_group(raw_valid, 'ProductSize','SalePrice', preds)"
   ]
  },
  {
   "cell_type": "markdown",
   "metadata": {},
   "source": [
    "In this case we notice a higher deviation in Compat, Large and Small. When we compare that to the histogram, we see these are the less representative values in the dataset"
   ]
  },
  {
   "cell_type": "markdown",
   "metadata": {},
   "source": [
    "## Feature Importance"
   ]
  },
  {
   "cell_type": "markdown",
   "metadata": {},
   "source": [
    "It's not normally enough to just to know that a model can make accurate predictions - we also want to know *how* it's making predictions. The most important way to see this is with *feature importance*."
   ]
  },
  {
   "cell_type": "code",
   "execution_count": 19,
   "metadata": {},
   "outputs": [
    {
     "data": {
      "text/html": [
       "<div>\n",
       "<style scoped>\n",
       "    .dataframe tbody tr th:only-of-type {\n",
       "        vertical-align: middle;\n",
       "    }\n",
       "\n",
       "    .dataframe tbody tr th {\n",
       "        vertical-align: top;\n",
       "    }\n",
       "\n",
       "    .dataframe thead th {\n",
       "        text-align: right;\n",
       "    }\n",
       "</style>\n",
       "<table border=\"1\" class=\"dataframe\">\n",
       "  <thead>\n",
       "    <tr style=\"text-align: right;\">\n",
       "      <th></th>\n",
       "      <th>cols</th>\n",
       "      <th>imp</th>\n",
       "    </tr>\n",
       "  </thead>\n",
       "  <tbody>\n",
       "    <tr>\n",
       "      <th>5</th>\n",
       "      <td>YearMade</td>\n",
       "      <td>0.170777</td>\n",
       "    </tr>\n",
       "    <tr>\n",
       "      <th>37</th>\n",
       "      <td>Coupler_System</td>\n",
       "      <td>0.106546</td>\n",
       "    </tr>\n",
       "    <tr>\n",
       "      <th>13</th>\n",
       "      <td>ProductSize</td>\n",
       "      <td>0.099386</td>\n",
       "    </tr>\n",
       "    <tr>\n",
       "      <th>14</th>\n",
       "      <td>fiProductClassDesc</td>\n",
       "      <td>0.075836</td>\n",
       "    </tr>\n",
       "    <tr>\n",
       "      <th>2</th>\n",
       "      <td>ModelID</td>\n",
       "      <td>0.051163</td>\n",
       "    </tr>\n",
       "    <tr>\n",
       "      <th>63</th>\n",
       "      <td>saleElapsed</td>\n",
       "      <td>0.049745</td>\n",
       "    </tr>\n",
       "    <tr>\n",
       "      <th>10</th>\n",
       "      <td>fiSecondaryDesc</td>\n",
       "      <td>0.047889</td>\n",
       "    </tr>\n",
       "    <tr>\n",
       "      <th>39</th>\n",
       "      <td>Hydraulics_Flow</td>\n",
       "      <td>0.047851</td>\n",
       "    </tr>\n",
       "    <tr>\n",
       "      <th>38</th>\n",
       "      <td>Grouser_Tracks</td>\n",
       "      <td>0.041389</td>\n",
       "    </tr>\n",
       "    <tr>\n",
       "      <th>19</th>\n",
       "      <td>Enclosure</td>\n",
       "      <td>0.035696</td>\n",
       "    </tr>\n",
       "  </tbody>\n",
       "</table>\n",
       "</div>"
      ],
      "text/plain": [
       "                  cols       imp\n",
       "5             YearMade  0.170777\n",
       "37      Coupler_System  0.106546\n",
       "13         ProductSize  0.099386\n",
       "14  fiProductClassDesc  0.075836\n",
       "2              ModelID  0.051163\n",
       "63         saleElapsed  0.049745\n",
       "10     fiSecondaryDesc  0.047889\n",
       "39     Hydraulics_Flow  0.047851\n",
       "38      Grouser_Tracks  0.041389\n",
       "19           Enclosure  0.035696"
      ]
     },
     "execution_count": 19,
     "metadata": {},
     "output_type": "execute_result"
    }
   ],
   "source": [
    "# to make analysis faster\n",
    "set_rf_samples(50000)\n",
    "\n",
    "fi = rf_feat_importance(m, X_train)\n",
    "fi[:10]"
   ]
  },
  {
   "cell_type": "code",
   "execution_count": 20,
   "metadata": {},
   "outputs": [
    {
     "data": {
      "image/png": "[encoded data removed]",
      "text/plain": [
       "<Figure size 720x432 with 1 Axes>"
      ]
     },
     "metadata": {
      "needs_background": "light"
     },
     "output_type": "display_data"
    }
   ],
   "source": [
    "fi.plot('cols', 'imp', figsize=(10,6), legend=False);"
   ]
  },
  {
   "cell_type": "code",
   "execution_count": 30,
   "metadata": {},
   "outputs": [
    {
     "data": {
      "image/png": "[encoded data removed]",
      "text/plain": [
       "<Figure size 864x432 with 1 Axes>"
      ]
     },
     "metadata": {
      "needs_background": "light"
     },
     "output_type": "display_data"
    },
    {
     "data": {
      "image/png": "[encoded data removed]",
      "text/plain": [
       "<Figure size 864x504 with 1 Axes>"
      ]
     },
     "metadata": {
      "needs_background": "light"
     },
     "output_type": "display_data"
    }
   ],
   "source": [
    "# a better plot is on the plot_feat_importance method\n",
    "plot_feat_importance(fi,top=30)"
   ]
  },
  {
   "cell_type": "code",
   "execution_count": 31,
   "metadata": {},
   "outputs": [
    {
     "data": {
      "text/plain": [
       "23"
      ]
     },
     "execution_count": 31,
     "metadata": {},
     "output_type": "execute_result"
    }
   ],
   "source": [
    "# let's remove the least important features\n",
    "to_keep = fi[fi.imp>0.005].cols; len(to_keep)"
   ]
  },
  {
   "cell_type": "code",
   "execution_count": 32,
   "metadata": {},
   "outputs": [
    {
     "data": {
      "text/plain": [
       "array(['YearMade', 'Coupler_System', 'ProductSize', 'fiProductClassDesc',\n",
       "       'ModelID', 'saleElapsed', 'Hydraulics_Flow', 'Grouser_Tracks',\n",
       "       'fiSecondaryDesc', 'fiModelDesc', 'Enclosure', 'SalesID',\n",
       "       'fiBaseModel', 'fiModelDescriptor', 'saleYear', 'MachineID',\n",
       "       'Hydraulics', 'ProductGroupDesc', 'saleDayofyear', 'Drive_System',\n",
       "       'Tire_Size', 'saleDay', 'state'], dtype=object)"
      ]
     },
     "execution_count": 32,
     "metadata": {},
     "output_type": "execute_result"
    }
   ],
   "source": [
    "# columns being kept\n",
    "to_keep.values"
   ]
  },
  {
   "cell_type": "code",
   "execution_count": 33,
   "metadata": {},
   "outputs": [
    {
     "data": {
      "text/plain": [
       "array(['Backhoe_Mounting', 'Blade_Extension', 'Blade_Type', 'Blade_Width',\n",
       "       'Coupler', 'Differential_Type', 'Enclosure_Type',\n",
       "       'Engine_Horsepower', 'Forks', 'Grouser_Type',\n",
       "       'MachineHoursCurrentMeter', 'MachineHoursCurrentMeter_na',\n",
       "       'Pad_Type', 'Pattern_Changer', 'ProductGroup', 'Pushblock',\n",
       "       'Ride_Control', 'Ripper', 'Scarifier', 'Steering_Controls',\n",
       "       'Stick', 'Stick_Length', 'Thumb', 'Tip_Control', 'Track_Type',\n",
       "       'Transmission', 'Travel_Controls', 'Turbocharged',\n",
       "       'Undercarriage_Pad_Width', 'UsageBand', 'auctioneerID',\n",
       "       'auctioneerID_na', 'datasource', 'fiModelSeries', 'saleDayofweek',\n",
       "       'saleIs_month_end', 'saleIs_month_start', 'saleIs_quarter_end',\n",
       "       'saleIs_quarter_start', 'saleIs_year_end', 'saleIs_year_start',\n",
       "       'saleMonth', 'saleWeek'], dtype=object)"
      ]
     },
     "execution_count": 33,
     "metadata": {},
     "output_type": "execute_result"
    }
   ],
   "source": [
    "# list of columns being removed\n",
    "np.setdiff1d(df_trn.columns.values,to_keep.values)"
   ]
  },
  {
   "cell_type": "code",
   "execution_count": 34,
   "metadata": {},
   "outputs": [],
   "source": [
    "# remove columns and create new train and validation sets\n",
    "df_keep = df_trn[to_keep].copy()\n",
    "X_train, X_val = split_vals(df_keep, n_train)"
   ]
  },
  {
   "cell_type": "code",
   "execution_count": 35,
   "metadata": {},
   "outputs": [
    {
     "name": "stdout",
     "output_type": "stream",
     "text": [
      "  R2 (Training): 0.9105988505443179\n",
      "RMSE (Training): 0.04277679836155694\n",
      "      OOB Score: 0.8942864928879559\n",
      "             R2: 0.89286\n",
      "           RMSE: 0.24493\n"
     ]
    }
   ],
   "source": [
    "m = RandomForestRegressor(n_estimators=40, min_samples_leaf=3, max_features=0.5, n_jobs=-1, oob_score=True)\n",
    "train_regressor(m, X_train, y_train)\n",
    "m_preds, r2, rmse = predict_and_evaluate_regressor(m, X_val, y_val)"
   ]
  },
  {
   "cell_type": "code",
   "execution_count": 36,
   "metadata": {},
   "outputs": [
    {
     "data": {
      "image/png": "[encoded data removed]",
      "text/plain": [
       "<Figure size 864x432 with 1 Axes>"
      ]
     },
     "metadata": {
      "needs_background": "light"
     },
     "output_type": "display_data"
    },
    {
     "data": {
      "image/png": "[encoded data removed]",
      "text/plain": [
       "<Figure size 864x504 with 1 Axes>"
      ]
     },
     "metadata": {
      "needs_background": "light"
     },
     "output_type": "display_data"
    }
   ],
   "source": [
    "# let's look at the new feature importance\n",
    "fi = rf_feat_importance(m, df_keep)\n",
    "plot_feat_importance(fi);"
   ]
  },
  {
   "cell_type": "markdown",
   "metadata": {},
   "source": [
    "## One-hot Encoding"
   ]
  },
  {
   "cell_type": "markdown",
   "metadata": {},
   "source": [
    "process_dataframe's optional *max_n_cat* argument will turn some categorical variables into new columns.\n",
    "\n",
    "For example, the column **ProductSize** which has 6 categories:\n",
    "\n",
    "* Large\n",
    "* Large / Medium\n",
    "* Medium\n",
    "* Compact\n",
    "* Small\n",
    "* Mini\n",
    "\n",
    "gets turned into 6 new columns:\n",
    "\n",
    "* ProductSize_Large\n",
    "* ProductSize_Large / Medium\n",
    "* ProductSize_Medium\n",
    "* ProductSize_Compact\n",
    "* ProductSize_Small\n",
    "* ProductSize_Mini\n",
    "\n",
    "and the column **ProductSize** gets removed.\n",
    "\n",
    "It will only happen to columns whose number of categories is no bigger than the value of the *max_n_cat* argument.\n",
    "\n",
    "Now some of these new columns may prove to have more important features than in the earlier situation, where all categories were in one column."
   ]
  },
  {
   "cell_type": "code",
   "execution_count": 37,
   "metadata": {},
   "outputs": [],
   "source": [
    "df_trn2, y_trn, nas = process_dataframe(df_raw, 'SalePrice', max_n_cat=7)\n",
    "X_train, X_val = split_vals(df_trn2, n_train)"
   ]
  },
  {
   "cell_type": "code",
   "execution_count": 38,
   "metadata": {},
   "outputs": [
    {
     "name": "stdout",
     "output_type": "stream",
     "text": [
      "  R2 (Training): 0.9100728675113297\n",
      "RMSE (Training): 0.04302847152550097\n",
      "      OOB Score: 0.8923702260347591\n",
      "             R2: 0.88525\n",
      "           RMSE: 0.25348\n"
     ]
    }
   ],
   "source": [
    "m = RandomForestRegressor(n_estimators=40, min_samples_leaf=3, max_features=0.6, n_jobs=-1, oob_score=True)\n",
    "train_regressor(m, X_train, y_train)\n",
    "m_preds, r2, rmse = predict_and_evaluate_regressor(m, X_val, y_val)"
   ]
  },
  {
   "cell_type": "code",
   "execution_count": 39,
   "metadata": {},
   "outputs": [
    {
     "data": {
      "image/png": "[encoded data removed]",
      "text/plain": [
       "<Figure size 864x432 with 1 Axes>"
      ]
     },
     "metadata": {
      "needs_background": "light"
     },
     "output_type": "display_data"
    },
    {
     "data": {
      "image/png": "[encoded data removed]",
      "text/plain": [
       "<Figure size 864x504 with 1 Axes>"
      ]
     },
     "metadata": {
      "needs_background": "light"
     },
     "output_type": "display_data"
    }
   ],
   "source": [
    "fi = rf_feat_importance(m, df_trn2)\n",
    "plot_feat_importance(fi,top=25)"
   ]
  },
  {
   "cell_type": "markdown",
   "metadata": {},
   "source": [
    "Interesting part here is, although results haven't improved much, the Enclosure feature that was mid-table in terms of feature importance, now actually shows that a specific value is the most important feature in the dataset. We probably need to take a look at what **Enclosure_EROPCS w AC** means"
   ]
  },
  {
   "cell_type": "markdown",
   "metadata": {},
   "source": [
    "## Removing redundant features"
   ]
  },
  {
   "cell_type": "markdown",
   "metadata": {},
   "source": [
    "One thing that makes this harder to interpret is that there seem to be some variables with very similar meanings. Let's try to remove redundent features."
   ]
  },
  {
   "cell_type": "code",
   "execution_count": 40,
   "metadata": {},
   "outputs": [
    {
     "data": {
      "image/png": "[encoded data removed]",
      "text/plain": [
       "<Figure size 1152x720 with 1 Axes>"
      ]
     },
     "metadata": {
      "needs_background": "light"
     },
     "output_type": "display_data"
    }
   ],
   "source": [
    "corr = analyze_redundant_features(df_keep)"
   ]
  },
  {
   "cell_type": "markdown",
   "metadata": {},
   "source": [
    "Looking at this, we can identify clusters of features that seem to be very correlated. Looking to the right, we find groups that are close together. In this case, there are 4 group (from bottom to top):\n",
    "\n",
    "- fiBaseModel and fiModelDesc\n",
    "- ProductGroup and ProductGroupDesc\n",
    "- Grouser_Tracks_ Hydraulics_Flow, Coupler_System\n",
    "- saleYear, saleElapsed"
   ]
  },
  {
   "cell_type": "code",
   "execution_count": 41,
   "metadata": {},
   "outputs": [
    {
     "name": "stdout",
     "output_type": "stream",
     "text": [
      "inside: 0.9981, outside: 0.0804\n"
     ]
    }
   ],
   "source": [
    "# just to check the values of correlation within a group and outside of it (this is what the function above does)\n",
    "inside_group = np.round(scipy.stats.spearmanr(df_keep[['Grouser_Tracks','Coupler_System']]).correlation, 4)\n",
    "outside_group = np.round(scipy.stats.spearmanr(df_keep[['Grouser_Tracks','saleYear']]).correlation, 4)\n",
    "\n",
    "print(f\"inside: {inside_group}, outside: {outside_group}\")"
   ]
  },
  {
   "cell_type": "markdown",
   "metadata": {},
   "source": [
    "Let's try removing some of these related features to see if the model can be simplified without impacting the accuracy. The **analyze_single_feature_removal_regression** function eliminated one feature at a time and measures the impact to the oob_score on a default RandomForestRegressor"
   ]
  },
  {
   "cell_type": "code",
   "execution_count": 44,
   "metadata": {},
   "outputs": [
    {
     "name": "stdout",
     "output_type": "stream",
     "text": [
      "Baseline - 0.8941644312685431\n",
      "------------------------------\n",
      "saleYear - 0.89441163156211 (0.00025)\n",
      "saleElapsed - 0.8917819029572467 (-0.00238)\n",
      "fiModelDesc - 0.8936593409894772 (-0.00051)\n",
      "fiBaseModel - 0.8937845650943704 (-0.00038)\n",
      "Grouser_Tracks - 0.895116689105009 (0.00095)\n",
      "Coupler_System - 0.8950771124610073 (0.00091)\n"
     ]
    }
   ],
   "source": [
    "# create new training set\n",
    "x, _ = split_vals(df_keep, n_train)\n",
    "f_list = ['saleYear', 'saleElapsed', 'fiModelDesc', 'fiBaseModel', 'Grouser_Tracks', 'Coupler_System']\n",
    "analyze_single_feature_removal(m, x, y_train, f_list, metric='oob')"
   ]
  },
  {
   "cell_type": "markdown",
   "metadata": {},
   "source": [
    "It looks like we can try one from each group for removal. Let's see what that does."
   ]
  },
  {
   "cell_type": "code",
   "execution_count": 45,
   "metadata": {},
   "outputs": [
    {
     "name": "stdout",
     "output_type": "stream",
     "text": [
      "Baseline - 0.8943636382537202\n",
      "------------------------------\n",
      "Result - 0.8934200413379603 (-0.00094)\n"
     ]
    }
   ],
   "source": [
    "x, _ = split_vals(df_keep, n_train)\n",
    "to_drop = ['saleYear', 'fiBaseModel', 'Grouser_Tracks']\n",
    "analyze_multiple_feature_removal(m, x, y_train, to_drop, metric='oob')"
   ]
  },
  {
   "cell_type": "markdown",
   "metadata": {},
   "source": [
    "This looks really good! Results are very similar and we are simplifying our model.\n",
    "\n",
    "Let's use this new dataframe. We'll save the list of columns so we can reuse it later."
   ]
  },
  {
   "cell_type": "code",
   "execution_count": 46,
   "metadata": {},
   "outputs": [],
   "source": [
    "df_keep.drop(to_drop, axis=1, inplace=True)\n",
    "X_train, X_val = split_vals(df_keep, n_train)"
   ]
  },
  {
   "cell_type": "code",
   "execution_count": 47,
   "metadata": {},
   "outputs": [],
   "source": [
    "np.save('tmp/keep_cols.npy', np.array(df_keep.columns))"
   ]
  },
  {
   "cell_type": "code",
   "execution_count": 48,
   "metadata": {},
   "outputs": [],
   "source": [
    "keep_cols = np.load('tmp/keep_cols.npy')\n",
    "df_keep = df_trn[keep_cols]"
   ]
  },
  {
   "cell_type": "code",
   "execution_count": 49,
   "metadata": {},
   "outputs": [
    {
     "name": "stdout",
     "output_type": "stream",
     "text": [
      "Total number of features: 20\n"
     ]
    }
   ],
   "source": [
    "print(f\"Total number of features: {len(df_keep.columns)}\")"
   ]
  },
  {
   "cell_type": "markdown",
   "metadata": {},
   "source": [
    "Let's try it with the whole dataset now"
   ]
  },
  {
   "cell_type": "code",
   "execution_count": 50,
   "metadata": {},
   "outputs": [],
   "source": [
    "reset_rf_samples()"
   ]
  },
  {
   "cell_type": "code",
   "execution_count": 51,
   "metadata": {},
   "outputs": [
    {
     "name": "stdout",
     "output_type": "stream",
     "text": [
      "  R2 (Training): 0.9674098084785991\n",
      "RMSE (Training): 0.015593804551322591\n",
      "      OOB Score: 0.9089895476635986\n",
      "             R2: 0.90864\n",
      "           RMSE: 0.22618\n"
     ]
    }
   ],
   "source": [
    "m = RandomForestRegressor(n_estimators=40, min_samples_leaf=3, max_features=0.5, n_jobs=-1, oob_score=True)\n",
    "train_regressor(m, X_train, y_train)\n",
    "_ = predict_and_evaluate_regressor(m, X_val, y_val)"
   ]
  },
  {
   "cell_type": "markdown",
   "metadata": {},
   "source": [
    "### Summary\n",
    "\n",
    "The steps so far are: \n",
    "- use **set_rf_samples** to a smaller number so we can analyze quickly\n",
    "- use **process_dataframe** to prepare dataset\n",
    "- create a simple RandomForest\n",
    "- used **rf_feat_importance** to get most important features\n",
    "- removed the features that were less important (< 0.005) and saved it into df_keep\n",
    "- OneHotEncoding everything under 7 distinct values (didn't help from a results perspective so we didn't do it)\n",
    "- Using df_keep (not one-hot encoded), ran **analyze_redundant_features** to find out clusters of similar features\n",
    "- Removed one feature in each group and ended up with just 21 features in the model\n",
    "- Used **reset_rf_samples** to test bootstrap model"
   ]
  },
  {
   "cell_type": "markdown",
   "metadata": {},
   "source": [
    "## Partial dependence"
   ]
  },
  {
   "cell_type": "code",
   "execution_count": 52,
   "metadata": {},
   "outputs": [],
   "source": [
    "# as we're doing analysis, let's speed it up\n",
    "set_rf_samples(50000)"
   ]
  },
  {
   "cell_type": "code",
   "execution_count": 53,
   "metadata": {},
   "outputs": [
    {
     "name": "stdout",
     "output_type": "stream",
     "text": [
      "  R2 (Training): 0.9099765349470176\n",
      "RMSE (Training): 0.04307456487781594\n"
     ]
    }
   ],
   "source": [
    "# this analysis is easier with one-hot encoded variables, so let's do that again\n",
    "df_trn2, y_trn, nas = process_dataframe(df_raw, 'SalePrice', max_n_cat=7)\n",
    "X_train, X_val = split_vals(df_trn2, n_train)\n",
    "m = RandomForestRegressor(n_estimators=40, min_samples_leaf=3, max_features=0.6, n_jobs=-1)\n",
    "train_regressor(m, X_train, y_train)"
   ]
  },
  {
   "cell_type": "code",
   "execution_count": 54,
   "metadata": {},
   "outputs": [
    {
     "data": {
      "image/png": "[encoded data removed]",
      "text/plain": [
       "<Figure size 864x432 with 1 Axes>"
      ]
     },
     "metadata": {
      "needs_background": "light"
     },
     "output_type": "display_data"
    },
    {
     "data": {
      "image/png": "[encoded data removed]",
      "text/plain": [
       "<Figure size 864x504 with 1 Axes>"
      ]
     },
     "metadata": {
      "needs_background": "light"
     },
     "output_type": "display_data"
    }
   ],
   "source": [
    "plot_feat_importance(rf_feat_importance(m, df_trn2)[:10])"
   ]
  },
  {
   "cell_type": "code",
   "execution_count": 57,
   "metadata": {},
   "outputs": [
    {
     "data": {
      "image/png": "[encoded data removed]",
      "text/plain": [
       "<Figure size 576x576 with 1 Axes>"
      ]
     },
     "metadata": {
      "needs_background": "light"
     },
     "output_type": "display_data"
    }
   ],
   "source": [
    "plot_scatter(df_raw, 'YearMade','saleElapsed', title='YearMade vs saleElapsed')"
   ]
  },
  {
   "cell_type": "markdown",
   "metadata": {},
   "source": [
    "Obviously bulldozers were not done in the year 1000, which means this is a substitute for missing data of some sort"
   ]
  },
  {
   "cell_type": "code",
   "execution_count": 58,
   "metadata": {},
   "outputs": [],
   "source": [
    "# let's remove those values and sample our dataset\n",
    "x_all = get_sample(df_raw[df_raw.YearMade > 1930], 500)"
   ]
  },
  {
   "cell_type": "code",
   "execution_count": 59,
   "metadata": {},
   "outputs": [
    {
     "data": {
      "image/png": "[encoded data removed]",
      "text/plain": [
       "<Figure size 864x432 with 1 Axes>"
      ]
     },
     "metadata": {
      "needs_background": "light"
     },
     "output_type": "display_data"
    }
   ],
   "source": [
    "plot_line(x_all, 'YearMade', 'SalePrice')"
   ]
  },
  {
   "cell_type": "code",
   "execution_count": 60,
   "metadata": {},
   "outputs": [
    {
     "data": {
      "image/png": "[encoded data removed]",
      "text/plain": [
       "<Figure size 640x480 with 1 Axes>"
      ]
     },
     "metadata": {},
     "output_type": "display_data"
    },
    {
     "data": {
      "text/plain": [
       "<ggplot: (8761359087848)>"
      ]
     },
     "execution_count": 60,
     "metadata": {},
     "output_type": "execute_result"
    }
   ],
   "source": [
    "# use ggplot to smooth the curve and get a more easy to comprehend graphic\n",
    "from plotnine import *\n",
    "ggplot(x_all, aes('YearMade', 'SalePrice'))+stat_smooth(se=True, method='loess')"
   ]
  },
  {
   "cell_type": "markdown",
   "metadata": {},
   "source": [
    "This might indicate a weird aspect of YearMade. We would supposed that more recent vehicles would get a higher price. That dip we see between 1990 and 2000 is probably related to something else.\n",
    "\n",
    "An interesting way of looking into this is to use a partial dependence plot. We use the trained model to run predictions along all the values of a particular variable (like YearMade), by forcing the same value across the entire dataset and averaging predictions. This allows us to see how the target variable evolves with our feature, all other things being equal (basically removing outside factors)"
   ]
  },
  {
   "cell_type": "code",
   "execution_count": null,
   "metadata": {},
   "outputs": [],
   "source": [
    "x = get_sample(X_train[X_train.YearMade>1930], 500)"
   ]
  },
  {
   "cell_type": "code",
   "execution_count": null,
   "metadata": {},
   "outputs": [],
   "source": [
    "plot_partial_dependence(m, x, 'YearMade');"
   ]
  },
  {
   "cell_type": "code",
   "execution_count": null,
   "metadata": {},
   "outputs": [],
   "source": [
    "plot_partial_dependence(m, x, 'YearMade', clusters=5);"
   ]
  },
  {
   "cell_type": "markdown",
   "metadata": {},
   "source": [
    "By looking at this, we realize that in fact SalePrice keeps rising as YearMade evolves. As we are using log of price, this is almost a direct relationship.\n",
    "\n",
    "So the process is: look at important features and look at them independently using a partial dependence plot. This is not necessarily actionable data, but it provides insights about the dataset. \n",
    "\n",
    "We can also look at interactions between two variables."
   ]
  },
  {
   "cell_type": "code",
   "execution_count": null,
   "metadata": {},
   "outputs": [],
   "source": [
    "# this is throwing an error with new matplotlib\n",
    "\n",
    "#feats = ['saleElapsed', 'YearMade']\n",
    "#p = pdp.pdp_interact(m, x, x.columns, feats)\n",
    "#pdp.pdp_interact_plot(p, feats)"
   ]
  },
  {
   "cell_type": "code",
   "execution_count": null,
   "metadata": {},
   "outputs": [],
   "source": [
    "plot_partial_dependence(m, x, ['Enclosure_EROPS w AC', 'Enclosure_EROPS', 'Enclosure_OROPS'], 5, 'Enclosure');"
   ]
  },
  {
   "cell_type": "markdown",
   "metadata": {},
   "source": [
    "Turns out this is the type of cabin.\n",
    "OROPS is open cabin, the other two are closed with our without AC. That makes sense and we see how the price shifts in this category"
   ]
  },
  {
   "cell_type": "code",
   "execution_count": null,
   "metadata": {},
   "outputs": [],
   "source": [
    "# based on some of this insights, let's make a couple of changes\n",
    "# start by setting a more sensible low YearMade of 1950\n",
    "df_raw.YearMade[df_raw.YearMade<1950] = 1950\n",
    "# create age feature\n",
    "df_keep['age'] = df_raw['age'] = df_raw.saleYear-df_raw.YearMade"
   ]
  },
  {
   "cell_type": "code",
   "execution_count": null,
   "metadata": {},
   "outputs": [],
   "source": [
    "# let's evaluate this on the bootstrap model\n",
    "reset_rf_samples()\n",
    "\n",
    "X_train, X_val = split_vals(df_keep, n_train)\n",
    "m = RandomForestRegressor(n_estimators=40, min_samples_leaf=3, max_features=0.6, n_jobs=-1, oob_score=True)\n",
    "train_regressor(m, X_train, y_train)\n",
    "predict_and_evaluate_regressor(m, X_val, y_val)\n",
    "plot_feat_importance(rf_feat_importance(m, df_keep));"
   ]
  },
  {
   "cell_type": "markdown",
   "metadata": {},
   "source": [
    "Slight improvement with the **age** feature. Might be interesting to add it. Notice however how YearMade dropped significantly because age already encompasses some of that information."
   ]
  },
  {
   "cell_type": "markdown",
   "metadata": {},
   "source": [
    "## Tree interpreter"
   ]
  },
  {
   "cell_type": "code",
   "execution_count": null,
   "metadata": {},
   "outputs": [],
   "source": [
    "from treeinterpreter import treeinterpreter as ti"
   ]
  },
  {
   "cell_type": "code",
   "execution_count": null,
   "metadata": {},
   "outputs": [],
   "source": [
    "# take one specific pre-processed row\n",
    "row = df_keep.values[None, 0]\n",
    "row"
   ]
  },
  {
   "cell_type": "code",
   "execution_count": null,
   "metadata": {},
   "outputs": [],
   "source": [
    "# create an unprocessed validation set with the same indexes, to print the actual category values instead of codes\n",
    "_, df_valid = split_vals(df_raw[df_keep.columns], n_train)"
   ]
  },
  {
   "cell_type": "code",
   "execution_count": null,
   "metadata": {},
   "outputs": [],
   "source": [
    "prediction, bias, contribution_sum = tree_interpret_prediction(m, df_valid, row)"
   ]
  },
  {
   "cell_type": "code",
   "execution_count": null,
   "metadata": {},
   "outputs": [],
   "source": [
    "# prediction is the predicted value, bias is the average and contribution is how much it differs from each other\n",
    "prediction, bias, contribution_sum"
   ]
  },
  {
   "cell_type": "markdown",
   "metadata": {},
   "source": [
    "## Extrapolation"
   ]
  },
  {
   "cell_type": "markdown",
   "metadata": {},
   "source": [
    "We still have a big difference between our training score and our validation score.\n",
    "We should try and understand that difference. Usually it's related to temporal components. "
   ]
  },
  {
   "cell_type": "code",
   "execution_count": null,
   "metadata": {},
   "outputs": [],
   "source": [
    "# create a dataset with a column identifiying if a row is on the validation set or not\n",
    "df_ext = df_keep.copy()\n",
    "df_ext['is_valid'] = 1\n",
    "df_ext.is_valid[:n_train] = 0\n",
    "x, y, nas = process_dataframe(df_ext, 'is_valid')"
   ]
  },
  {
   "cell_type": "code",
   "execution_count": null,
   "metadata": {},
   "outputs": [],
   "source": [
    "from mlutils.models.classification import *\n",
    "# we create a classifier that tries to predict wether or not a row is in the validation set\n",
    "m = RandomForestClassifier(n_estimators=40, min_samples_leaf=3, max_features=0.5, n_jobs=-1, oob_score=True)\n",
    "train_classifier(m, x, y)"
   ]
  },
  {
   "cell_type": "markdown",
   "metadata": {},
   "source": [
    "The fact that we get that score means the validation set is definetely not a random sample. In something like Kaggle, we can grab the test set, stack it with the training set and try to predict if is test or not. If we can, it's not a random sample."
   ]
  },
  {
   "cell_type": "code",
   "execution_count": null,
   "metadata": {},
   "outputs": [],
   "source": [
    "# get most important features\n",
    "fi = rf_feat_importance(m, x); fi[:10]"
   ]
  },
  {
   "cell_type": "code",
   "execution_count": null,
   "metadata": {},
   "outputs": [],
   "source": [
    "feats=['SalesID', 'saleElapsed', 'MachineID']\n",
    "X_train, X_val = split_vals(df_keep, n_train)"
   ]
  },
  {
   "cell_type": "code",
   "execution_count": null,
   "metadata": {},
   "outputs": [],
   "source": [
    "(X_train[feats]/1000).describe()"
   ]
  },
  {
   "cell_type": "code",
   "execution_count": null,
   "metadata": {},
   "outputs": [],
   "source": [
    "(X_val[feats]/1000).describe()"
   ]
  },
  {
   "cell_type": "markdown",
   "metadata": {},
   "source": [
    "SalesID is clearly an ID that is auto-incremented. We can see the distributions are quite different. \n",
    "So let's try to drop them as they might not make good predictors for our validation data"
   ]
  },
  {
   "cell_type": "code",
   "execution_count": null,
   "metadata": {},
   "outputs": [],
   "source": [
    "x.drop(feats, axis=1, inplace=True)\n",
    "m = RandomForestClassifier(n_estimators=40, min_samples_leaf=3, max_features=0.5, n_jobs=-1, oob_score=True)\n",
    "train_classifier(m, x, y)"
   ]
  },
  {
   "cell_type": "markdown",
   "metadata": {},
   "source": [
    "We still can predict it fairly accurately. Now that we dropped it, other features come to light."
   ]
  },
  {
   "cell_type": "code",
   "execution_count": null,
   "metadata": {},
   "outputs": [],
   "source": [
    "fi = rf_feat_importance(m, x); fi[:10]"
   ]
  },
  {
   "cell_type": "code",
   "execution_count": null,
   "metadata": {},
   "outputs": [],
   "source": [
    "set_rf_samples(50000)\n",
    "feats=['SalesID', 'saleElapsed', 'MachineID', 'age', 'YearMade', 'saleDayofyear']"
   ]
  },
  {
   "cell_type": "code",
   "execution_count": null,
   "metadata": {},
   "outputs": [],
   "source": [
    "# get a baseline\n",
    "X_train, X_val = split_vals(df_keep, n_train)\n",
    "m = RandomForestRegressor(n_estimators=40, min_samples_leaf=3, max_features=0.5, n_jobs=-1, oob_score=True)\n",
    "train_regressor(m, X_train, y_train)\n",
    "preds, r2, rmse = predict_and_evaluate_regressor(m, X_val, y_val)"
   ]
  },
  {
   "cell_type": "code",
   "execution_count": null,
   "metadata": {
    "scrolled": true
   },
   "outputs": [],
   "source": [
    "# check the impact on Val R2 score by removing each feature (one at a time)\n",
    "analyze_single_feature_removal_regression_r2(X_train, y_train, X_val, y_val, feats, n_estimators=40, min_samples_leaf=3, max_features=0.5)"
   ]
  },
  {
   "cell_type": "code",
   "execution_count": null,
   "metadata": {},
   "outputs": [],
   "source": [
    "reset_rf_samples()"
   ]
  },
  {
   "cell_type": "code",
   "execution_count": null,
   "metadata": {},
   "outputs": [],
   "source": [
    "to_drop = ['SalesID', 'MachineID', 'saleDayofyear'] # potentially age as well"
   ]
  },
  {
   "cell_type": "code",
   "execution_count": null,
   "metadata": {},
   "outputs": [],
   "source": [
    "X_train, X_val = split_vals(df_keep, n_train)\n",
    "analyze_multiple_feature_removal_regression_r2(X_train, y_train, X_val, y_val, to_drop, n_estimators=40, min_samples_leaf=3, max_features=0.5)"
   ]
  },
  {
   "cell_type": "code",
   "execution_count": null,
   "metadata": {},
   "outputs": [],
   "source": [
    "# check to see if age should be dropped too\n",
    "to_drop2 = to_drop.copy()\n",
    "to_drop2.append('age')\n",
    "analyze_multiple_feature_removal_regression_r2(X_train, y_train, X_val, y_val, to_drop2, n_estimators=40, min_samples_leaf=3, max_features=0.5)"
   ]
  },
  {
   "cell_type": "markdown",
   "metadata": {},
   "source": [
    "So removing these 3 time dependent variables, we get a super high score"
   ]
  },
  {
   "cell_type": "code",
   "execution_count": null,
   "metadata": {},
   "outputs": [],
   "source": [
    "# let's go ahead and test out model then\n",
    "df_subs = df_keep.drop(to_drop, axis=1)\n",
    "X_train, X_val = split_vals(df_subs, n_train)\n",
    "m = RandomForestRegressor(n_estimators=40, min_samples_leaf=3, max_features=0.5, n_jobs=-1, oob_score=True)\n",
    "train_regressor(m, X_train, y_train)\n",
    "predict_and_evaluate_regressor(m, X_val, y_val)"
   ]
  },
  {
   "cell_type": "code",
   "execution_count": null,
   "metadata": {},
   "outputs": [],
   "source": [
    "plot_feat_importance(rf_feat_importance(m, X_train))"
   ]
  },
  {
   "cell_type": "code",
   "execution_count": null,
   "metadata": {},
   "outputs": [],
   "source": [
    "np.save('tmp/subs_cols.npy', np.array(df_subs.columns))"
   ]
  },
  {
   "cell_type": "markdown",
   "metadata": {},
   "source": [
    "## Our final model!"
   ]
  },
  {
   "cell_type": "code",
   "execution_count": null,
   "metadata": {},
   "outputs": [],
   "source": [
    "%%time\n",
    "m = RandomForestRegressor(n_estimators=200, max_features=0.5, n_jobs=-1, oob_score=True)\n",
    "train_regressor(m, X_train, y_train)\n",
    "predict_and_evaluate_regressor(m, X_val, y_val)"
   ]
  },
  {
   "cell_type": "markdown",
   "metadata": {},
   "source": [
    "That would be enough to score us the first place!!!\n",
    "\n",
    "### Recap\n",
    "\n",
    "The steps taken:\n",
    "- use **set_rf_samples** to a smaller number so we can analyze quickly\n",
    "- use **process_dataframe** to prepare dataset\n",
    "- create a simple RandomForest\n",
    "- used **rf_feat_importance** to get most important features\n",
    "- removed the features that were less important (< 0.005) and saved it into df_keep\n",
    "- OneHotEncoding everything under 7 distinct values (didn't help from a results perspective so we didn't do it)\n",
    "- Using df_keep (not one-hot encoded), ran **analyze_redundant_features** to find out clusters of similar features\n",
    "- Removed one feature in each group and ended up with just 21 features in the model\n",
    "- Used **reset_rf_samples** to test bootstrap model\n",
    "- Added the age column based on the insights from dependant plots\n",
    "- Through extrapolation, removed all time-sensitive variables **'SalesID', 'MachineID', 'saleDayofyear'** that were causing differences between train and validation data"
   ]
  },
  {
   "cell_type": "markdown",
   "metadata": {},
   "source": [
    "### Note: we should train the model in with the full data now (train + validation) and predict against the test set"
   ]
  },
  {
   "cell_type": "code",
   "execution_count": null,
   "metadata": {},
   "outputs": [],
   "source": []
  }
 ],
 "metadata": {
  "kernelspec": {
   "display_name": "Python 3",
   "language": "python",
   "name": "python3"
  },
  "language_info": {
   "codemirror_mode": {
    "name": "ipython",
    "version": 3
   },
   "file_extension": ".py",
   "mimetype": "text/x-python",
   "name": "python",
   "nbconvert_exporter": "python",
   "pygments_lexer": "ipython3",
   "version": "3.7.0"
  }
 },
 "nbformat": 4,
 "nbformat_minor": 2
}
