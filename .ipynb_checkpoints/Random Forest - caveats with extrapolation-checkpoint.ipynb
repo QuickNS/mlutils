{
 "cells": [
  {
   "cell_type": "code",
   "execution_count": 55,
   "metadata": {},
   "outputs": [
    {
     "name": "stdout",
     "output_type": "stream",
     "text": [
      "The autoreload extension is already loaded. To reload it, use:\n",
      "  %reload_ext autoreload\n"
     ]
    }
   ],
   "source": [
    "%load_ext autoreload\n",
    "%autoreload 2"
   ]
  },
  {
   "cell_type": "code",
   "execution_count": 56,
   "metadata": {},
   "outputs": [],
   "source": [
    "from sklearn.ensemble import RandomForestRegressor\n",
    "import pandas as pd\n",
    "import numpy as np\n",
    "import seaborn as sns\n",
    "from mlutils.plot import *\n",
    "from mlutils.features import *\n",
    "from mlutils.models.trees import draw_tree\n",
    "from sklearn.model_selection import train_test_split\n",
    "from sklearn.linear_model import LinearRegression\n",
    "sns.set()"
   ]
  },
  {
   "cell_type": "markdown",
   "metadata": {},
   "source": [
    "## Generating a synthetic dataset"
   ]
  },
  {
   "cell_type": "code",
   "execution_count": 57,
   "metadata": {},
   "outputs": [],
   "source": [
    "# creating a linear space dataset\n",
    "x = np.linspace(0,1)"
   ]
  },
  {
   "cell_type": "code",
   "execution_count": 58,
   "metadata": {},
   "outputs": [],
   "source": [
    "# adding random noise\n",
    "y = x + np.random.uniform(-0.2, 0.2, x.shape)"
   ]
  },
  {
   "cell_type": "code",
   "execution_count": 59,
   "metadata": {},
   "outputs": [
    {
     "data": {
      "text/plain": [
       "(50,)"
      ]
     },
     "execution_count": 59,
     "metadata": {},
     "output_type": "execute_result"
    }
   ],
   "source": [
    "x.shape"
   ]
  },
  {
   "cell_type": "code",
   "execution_count": 60,
   "metadata": {},
   "outputs": [
    {
     "data": {
      "text/html": [
       "<div>\n",
       "<style scoped>\n",
       "    .dataframe tbody tr th:only-of-type {\n",
       "        vertical-align: middle;\n",
       "    }\n",
       "\n",
       "    .dataframe tbody tr th {\n",
       "        vertical-align: top;\n",
       "    }\n",
       "\n",
       "    .dataframe thead th {\n",
       "        text-align: right;\n",
       "    }\n",
       "</style>\n",
       "<table border=\"1\" class=\"dataframe\">\n",
       "  <thead>\n",
       "    <tr style=\"text-align: right;\">\n",
       "      <th></th>\n",
       "      <th>x</th>\n",
       "      <th>y</th>\n",
       "    </tr>\n",
       "  </thead>\n",
       "  <tbody>\n",
       "    <tr>\n",
       "      <th>0</th>\n",
       "      <td>0.000000</td>\n",
       "      <td>0.151300</td>\n",
       "    </tr>\n",
       "    <tr>\n",
       "      <th>1</th>\n",
       "      <td>0.020408</td>\n",
       "      <td>-0.084991</td>\n",
       "    </tr>\n",
       "    <tr>\n",
       "      <th>2</th>\n",
       "      <td>0.040816</td>\n",
       "      <td>0.048199</td>\n",
       "    </tr>\n",
       "    <tr>\n",
       "      <th>3</th>\n",
       "      <td>0.061224</td>\n",
       "      <td>-0.097417</td>\n",
       "    </tr>\n",
       "    <tr>\n",
       "      <th>4</th>\n",
       "      <td>0.081633</td>\n",
       "      <td>0.198164</td>\n",
       "    </tr>\n",
       "  </tbody>\n",
       "</table>\n",
       "</div>"
      ],
      "text/plain": [
       "          x         y\n",
       "0  0.000000  0.151300\n",
       "1  0.020408 -0.084991\n",
       "2  0.040816  0.048199\n",
       "3  0.061224 -0.097417\n",
       "4  0.081633  0.198164"
      ]
     },
     "execution_count": 60,
     "metadata": {},
     "output_type": "execute_result"
    }
   ],
   "source": [
    "# converting to pandas\n",
    "df_raw = pd.DataFrame(columns=['x','y'])\n",
    "df_raw.x = x\n",
    "df_raw.y = y\n",
    "df_raw.head()"
   ]
  },
  {
   "cell_type": "code",
   "execution_count": 61,
   "metadata": {},
   "outputs": [
    {
     "data": {
      "image/png": "[encoded data removed]",
      "text/plain": [
       "<Figure size 864x432 with 1 Axes>"
      ]
     },
     "metadata": {},
     "output_type": "display_data"
    }
   ],
   "source": [
    "plot_scatter(df_raw, 'x', 'y')"
   ]
  },
  {
   "cell_type": "code",
   "execution_count": 62,
   "metadata": {},
   "outputs": [
    {
     "data": {
      "text/plain": [
       "((50, 1), (50,), {})"
      ]
     },
     "execution_count": 62,
     "metadata": {},
     "output_type": "execute_result"
    }
   ],
   "source": [
    "# preprocess and extract dependant variable\n",
    "df, y, nas = process_dataframe(df_raw, y_fld='y')\n",
    "df.shape, y.shape, nas"
   ]
  },
  {
   "cell_type": "code",
   "execution_count": 63,
   "metadata": {},
   "outputs": [
    {
     "data": {
      "text/plain": [
       "((40, 1), (10, 1), (40,), (10,))"
      ]
     },
     "execution_count": 63,
     "metadata": {},
     "output_type": "execute_result"
    }
   ],
   "source": [
    "# do train/val split\n",
    "x_train, x_val = split_vals(df, 40)\n",
    "y_train, y_val = split_vals(y, 40)\n",
    "\n",
    "x_train.shape, x_val.shape, y_train.shape, y_val.shape"
   ]
  },
  {
   "cell_type": "code",
   "execution_count": 64,
   "metadata": {},
   "outputs": [],
   "source": [
    "m = RandomForestRegressor().fit(x_train, y_train)"
   ]
  },
  {
   "cell_type": "code",
   "execution_count": 65,
   "metadata": {},
   "outputs": [
    {
     "data": {
      "image/png": "[encoded data removed]",
      "text/plain": [
       "<Figure size 432x288 with 1 Axes>"
      ]
     },
     "metadata": {},
     "output_type": "display_data"
    }
   ],
   "source": [
    "# let's compare predictions agains training data\n",
    "plt.scatter(y_train, m.predict(x_train));"
   ]
  },
  {
   "cell_type": "code",
   "execution_count": 66,
   "metadata": {},
   "outputs": [
    {
     "data": {
      "image/png": "[encoded data removed]",
      "text/plain": [
       "<Figure size 432x288 with 1 Axes>"
      ]
     },
     "metadata": {},
     "output_type": "display_data"
    }
   ],
   "source": [
    "# let's do the same on validation data\n",
    "plt.scatter(y_val, m.predict(x_val));"
   ]
  },
  {
   "cell_type": "code",
   "execution_count": 67,
   "metadata": {},
   "outputs": [
    {
     "data": {
      "text/plain": [
       "-0.3017921800398973"
      ]
     },
     "execution_count": 67,
     "metadata": {},
     "output_type": "execute_result"
    }
   ],
   "source": [
    "m.score(x_val, y_val)"
   ]
  },
  {
   "cell_type": "markdown",
   "metadata": {},
   "source": [
    "Interesting right? It's because validation data is completely different from train data as we didn't generate a random sample, but rather split on what is essentially ordered data. As random forests basically split on values and average results in each leaf, the highest prediction possible is the highest value found inside the training data, but that will be only in a single tree. As random forests average their predictions, the actual result will be even lower"
   ]
  },
  {
   "cell_type": "code",
   "execution_count": 68,
   "metadata": {},
   "outputs": [
    {
     "data": {
      "text/plain": [
       "0.9480702585834582"
      ]
     },
     "execution_count": 68,
     "metadata": {},
     "output_type": "execute_result"
    }
   ],
   "source": [
    "y_train.max()"
   ]
  },
  {
   "cell_type": "code",
   "execution_count": 69,
   "metadata": {},
   "outputs": [
    {
     "data": {
      "text/plain": [
       "0.9480702585834582"
      ]
     },
     "execution_count": 69,
     "metadata": {},
     "output_type": "execute_result"
    }
   ],
   "source": [
    "m.predict(x_val).max()"
   ]
  },
  {
   "cell_type": "code",
   "execution_count": 70,
   "metadata": {},
   "outputs": [],
   "source": [
    "# let's try just one tree so it uses all the data\n",
    "m = RandomForestRegressor(n_estimators=1).fit(x_train, y_train)"
   ]
  },
  {
   "cell_type": "code",
   "execution_count": 71,
   "metadata": {},
   "outputs": [
    {
     "data": {
      "image/svg+xml": [
       "<?xml version=\"1.0\" encoding=\"UTF-8\" standalone=\"no\"?>\n",
       "<!DOCTYPE svg PUBLIC \"-//W3C//DTD SVG 1.1//EN\"\n",
       " \"http://www.w3.org/Graphics/SVG/1.1/DTD/svg11.dtd\">\n",
       "<!-- Generated by graphviz version 2.40.1 (20161225.0304)\n",
       " -->\n",
       "<!-- Title: Tree Pages: 1 -->\n",
       "<svg width=\"720pt\" height=\"433pt\"\n",
       " viewBox=\"0.00 0.00 720.00 433.32\" xmlns=\"http://www.w3.org/2000/svg\" xmlns:xlink=\"http://www.w3.org/1999/xlink\">\n",
       "<g id=\"graph0\" class=\"graph\" transform=\"scale(.4119 .4119) rotate(0) translate(4 1048)\">\n",
       "<title>Tree</title>\n",
       "<polygon fill=\"#ffffff\" stroke=\"transparent\" points=\"-4,4 -4,-1048 1744,-1048 1744,4 -4,4\"/>\n",
       "<!-- 0 -->\n",
       "<g id=\"node1\" class=\"node\">\n",
       "<title>0</title>\n",
       "<polygon fill=\"#e58139\" fill-opacity=\"0.482353\" stroke=\"#000000\" points=\"126,-560.5 34,-560.5 34,-492.5 126,-492.5 126,-560.5\"/>\n",
       "<text text-anchor=\"start\" x=\"53\" y=\"-545.3\" font-family=\"Times,serif\" font-size=\"14.00\" fill=\"#000000\">x ≤ 0.418</text>\n",
       "<text text-anchor=\"start\" x=\"45\" y=\"-530.3\" font-family=\"Times,serif\" font-size=\"14.00\" fill=\"#000000\">mse = 0.073</text>\n",
       "<text text-anchor=\"start\" x=\"43\" y=\"-515.3\" font-family=\"Times,serif\" font-size=\"14.00\" fill=\"#000000\">samples = 25</text>\n",
       "<text text-anchor=\"start\" x=\"42\" y=\"-500.3\" font-family=\"Times,serif\" font-size=\"14.00\" fill=\"#000000\">value = 0.436</text>\n",
       "</g>\n",
       "<!-- 1 -->\n",
       "<g id=\"node2\" class=\"node\">\n",
       "<title>1</title>\n",
       "<polygon fill=\"#e58139\" fill-opacity=\"0.200000\" stroke=\"#000000\" points=\"349,-719.5 257,-719.5 257,-651.5 349,-651.5 349,-719.5\"/>\n",
       "<text text-anchor=\"start\" x=\"276\" y=\"-704.3\" font-family=\"Times,serif\" font-size=\"14.00\" fill=\"#000000\">x ≤ 0.276</text>\n",
       "<text text-anchor=\"start\" x=\"268\" y=\"-689.3\" font-family=\"Times,serif\" font-size=\"14.00\" fill=\"#000000\">mse = 0.016</text>\n",
       "<text text-anchor=\"start\" x=\"266\" y=\"-674.3\" font-family=\"Times,serif\" font-size=\"14.00\" fill=\"#000000\">samples = 10</text>\n",
       "<text text-anchor=\"start\" x=\"265\" y=\"-659.3\" font-family=\"Times,serif\" font-size=\"14.00\" fill=\"#000000\">value = 0.154</text>\n",
       "</g>\n",
       "<!-- 0&#45;&gt;1 -->\n",
       "<g id=\"edge1\" class=\"edge\">\n",
       "<title>0&#45;&gt;1</title>\n",
       "<path fill=\"none\" stroke=\"#000000\" d=\"M126.2057,-559.4449C161.787,-584.8145 211.0653,-619.9501 248.5596,-646.6837\"/>\n",
       "<polygon fill=\"#000000\" stroke=\"#000000\" points=\"246.6792,-649.6416 256.8534,-652.5973 250.7431,-643.942 246.6792,-649.6416\"/>\n",
       "<text text-anchor=\"middle\" x=\"237.1284\" y=\"-652.202\" font-family=\"Times,serif\" font-size=\"14.00\" fill=\"#000000\">True</text>\n",
       "</g>\n",
       "<!-- 20 -->\n",
       "<g id=\"node21\" class=\"node\">\n",
       "<title>20</title>\n",
       "<polygon fill=\"#e58139\" fill-opacity=\"0.654902\" stroke=\"#000000\" points=\"349,-442.5 257,-442.5 257,-374.5 349,-374.5 349,-442.5\"/>\n",
       "<text text-anchor=\"start\" x=\"276\" y=\"-427.3\" font-family=\"Times,serif\" font-size=\"14.00\" fill=\"#000000\">x ≤ 0.714</text>\n",
       "<text text-anchor=\"start\" x=\"271.5\" y=\"-412.3\" font-family=\"Times,serif\" font-size=\"14.00\" fill=\"#000000\">mse = 0.03</text>\n",
       "<text text-anchor=\"start\" x=\"266\" y=\"-397.3\" font-family=\"Times,serif\" font-size=\"14.00\" fill=\"#000000\">samples = 15</text>\n",
       "<text text-anchor=\"start\" x=\"265\" y=\"-382.3\" font-family=\"Times,serif\" font-size=\"14.00\" fill=\"#000000\">value = 0.605</text>\n",
       "</g>\n",
       "<!-- 0&#45;&gt;20 -->\n",
       "<g id=\"edge20\" class=\"edge\">\n",
       "<title>0&#45;&gt;20</title>\n",
       "<path fill=\"none\" stroke=\"#000000\" d=\"M126.2057,-502.0503C161.488,-483.3808 210.2381,-457.5848 247.6119,-437.8085\"/>\n",
       "<polygon fill=\"#000000\" stroke=\"#000000\" points=\"249.6516,-440.6891 256.8534,-432.9184 246.3776,-434.5019 249.6516,-440.6891\"/>\n",
       "<text text-anchor=\"middle\" x=\"237.7391\" y=\"-423.3327\" font-family=\"Times,serif\" font-size=\"14.00\" fill=\"#000000\">False</text>\n",
       "</g>\n",
       "<!-- 2 -->\n",
       "<g id=\"node3\" class=\"node\">\n",
       "<title>2</title>\n",
       "<polygon fill=\"#e58139\" fill-opacity=\"0.137255\" stroke=\"#000000\" points=\"573,-854.5 481,-854.5 481,-786.5 573,-786.5 573,-854.5\"/>\n",
       "<text text-anchor=\"start\" x=\"500\" y=\"-839.3\" font-family=\"Times,serif\" font-size=\"14.00\" fill=\"#000000\">x ≤ 0.143</text>\n",
       "<text text-anchor=\"start\" x=\"492\" y=\"-824.3\" font-family=\"Times,serif\" font-size=\"14.00\" fill=\"#000000\">mse = 0.009</text>\n",
       "<text text-anchor=\"start\" x=\"493.5\" y=\"-809.3\" font-family=\"Times,serif\" font-size=\"14.00\" fill=\"#000000\">samples = 7</text>\n",
       "<text text-anchor=\"start\" x=\"489\" y=\"-794.3\" font-family=\"Times,serif\" font-size=\"14.00\" fill=\"#000000\">value = 0.095</text>\n",
       "</g>\n",
       "<!-- 1&#45;&gt;2 -->\n",
       "<g id=\"edge2\" class=\"edge\">\n",
       "<title>1&#45;&gt;2</title>\n",
       "<path fill=\"none\" stroke=\"#000000\" d=\"M349.1413,-713.3084C384.83,-734.8172 434.3557,-764.6653 472.085,-787.4039\"/>\n",
       "<polygon fill=\"#000000\" stroke=\"#000000\" points=\"470.5471,-790.5635 480.9185,-792.7277 474.1604,-784.5681 470.5471,-790.5635\"/>\n",
       "</g>\n",
       "<!-- 15 -->\n",
       "<g id=\"node16\" class=\"node\">\n",
       "<title>15</title>\n",
       "<polygon fill=\"#e58139\" fill-opacity=\"0.364706\" stroke=\"#000000\" points=\"573,-719.5 481,-719.5 481,-651.5 573,-651.5 573,-719.5\"/>\n",
       "<text text-anchor=\"start\" x=\"500\" y=\"-704.3\" font-family=\"Times,serif\" font-size=\"14.00\" fill=\"#000000\">x ≤ 0.296</text>\n",
       "<text text-anchor=\"start\" x=\"492\" y=\"-689.3\" font-family=\"Times,serif\" font-size=\"14.00\" fill=\"#000000\">mse = 0.001</text>\n",
       "<text text-anchor=\"start\" x=\"493.5\" y=\"-674.3\" font-family=\"Times,serif\" font-size=\"14.00\" fill=\"#000000\">samples = 3</text>\n",
       "<text text-anchor=\"start\" x=\"489\" y=\"-659.3\" font-family=\"Times,serif\" font-size=\"14.00\" fill=\"#000000\">value = 0.317</text>\n",
       "</g>\n",
       "<!-- 1&#45;&gt;15 -->\n",
       "<g id=\"edge15\" class=\"edge\">\n",
       "<title>1&#45;&gt;15</title>\n",
       "<path fill=\"none\" stroke=\"#000000\" d=\"M349.1413,-685.5C384.3782,-685.5 433.1041,-685.5 470.6467,-685.5\"/>\n",
       "<polygon fill=\"#000000\" stroke=\"#000000\" points=\"470.9186,-689.0001 480.9185,-685.5 470.9185,-682.0001 470.9186,-689.0001\"/>\n",
       "</g>\n",
       "<!-- 3 -->\n",
       "<g id=\"node4\" class=\"node\">\n",
       "<title>3</title>\n",
       "<polygon fill=\"#e58139\" fill-opacity=\"0.098039\" stroke=\"#000000\" points=\"796,-972.5 704,-972.5 704,-904.5 796,-904.5 796,-972.5\"/>\n",
       "<text text-anchor=\"start\" x=\"726.5\" y=\"-957.3\" font-family=\"Times,serif\" font-size=\"14.00\" fill=\"#000000\">x ≤ 0.02</text>\n",
       "<text text-anchor=\"start\" x=\"715\" y=\"-942.3\" font-family=\"Times,serif\" font-size=\"14.00\" fill=\"#000000\">mse = 0.008</text>\n",
       "<text text-anchor=\"start\" x=\"716.5\" y=\"-927.3\" font-family=\"Times,serif\" font-size=\"14.00\" fill=\"#000000\">samples = 3</text>\n",
       "<text text-anchor=\"start\" x=\"712\" y=\"-912.3\" font-family=\"Times,serif\" font-size=\"14.00\" fill=\"#000000\">value = 0.053</text>\n",
       "</g>\n",
       "<!-- 2&#45;&gt;3 -->\n",
       "<g id=\"edge3\" class=\"edge\">\n",
       "<title>2&#45;&gt;3</title>\n",
       "<path fill=\"none\" stroke=\"#000000\" d=\"M573.2057,-844.9497C608.488,-863.6192 657.2381,-889.4152 694.6119,-909.1915\"/>\n",
       "<polygon fill=\"#000000\" stroke=\"#000000\" points=\"693.3776,-912.4981 703.8534,-914.0816 696.6516,-906.3109 693.3776,-912.4981\"/>\n",
       "</g>\n",
       "<!-- 8 -->\n",
       "<g id=\"node9\" class=\"node\">\n",
       "<title>8</title>\n",
       "<polygon fill=\"#e58139\" fill-opacity=\"0.172549\" stroke=\"#000000\" points=\"796,-854.5 704,-854.5 704,-786.5 796,-786.5 796,-854.5\"/>\n",
       "<text text-anchor=\"start\" x=\"723\" y=\"-839.3\" font-family=\"Times,serif\" font-size=\"14.00\" fill=\"#000000\">x ≤ 0.204</text>\n",
       "<text text-anchor=\"start\" x=\"715\" y=\"-824.3\" font-family=\"Times,serif\" font-size=\"14.00\" fill=\"#000000\">mse = 0.007</text>\n",
       "<text text-anchor=\"start\" x=\"716.5\" y=\"-809.3\" font-family=\"Times,serif\" font-size=\"14.00\" fill=\"#000000\">samples = 4</text>\n",
       "<text text-anchor=\"start\" x=\"712\" y=\"-794.3\" font-family=\"Times,serif\" font-size=\"14.00\" fill=\"#000000\">value = 0.129</text>\n",
       "</g>\n",
       "<!-- 2&#45;&gt;8 -->\n",
       "<g id=\"edge8\" class=\"edge\">\n",
       "<title>2&#45;&gt;8</title>\n",
       "<path fill=\"none\" stroke=\"#000000\" d=\"M573.2057,-820.5C608.189,-820.5 656.4127,-820.5 693.6592,-820.5\"/>\n",
       "<polygon fill=\"#000000\" stroke=\"#000000\" points=\"693.8535,-824.0001 703.8534,-820.5 693.8534,-817.0001 693.8535,-824.0001\"/>\n",
       "</g>\n",
       "<!-- 4 -->\n",
       "<g id=\"node5\" class=\"node\">\n",
       "<title>4</title>\n",
       "<polygon fill=\"#e58139\" fill-opacity=\"0.196078\" stroke=\"#000000\" points=\"1023,-1044 931,-1044 931,-991 1023,-991 1023,-1044\"/>\n",
       "<text text-anchor=\"start\" x=\"949\" y=\"-1028.8\" font-family=\"Times,serif\" font-size=\"14.00\" fill=\"#000000\">mse = 0.0</text>\n",
       "<text text-anchor=\"start\" x=\"943.5\" y=\"-1013.8\" font-family=\"Times,serif\" font-size=\"14.00\" fill=\"#000000\">samples = 1</text>\n",
       "<text text-anchor=\"start\" x=\"939\" y=\"-998.8\" font-family=\"Times,serif\" font-size=\"14.00\" fill=\"#000000\">value = 0.151</text>\n",
       "</g>\n",
       "<!-- 3&#45;&gt;4 -->\n",
       "<g id=\"edge4\" class=\"edge\">\n",
       "<title>3&#45;&gt;4</title>\n",
       "<path fill=\"none\" stroke=\"#000000\" d=\"M796.2104,-954.5821C832.4202,-967.1837 882.9306,-984.7622 921.3603,-998.1364\"/>\n",
       "<polygon fill=\"#000000\" stroke=\"#000000\" points=\"920.2594,-1001.4591 930.8543,-1001.4405 922.5603,-994.848 920.2594,-1001.4591\"/>\n",
       "</g>\n",
       "<!-- 5 -->\n",
       "<g id=\"node6\" class=\"node\">\n",
       "<title>5</title>\n",
       "<polygon fill=\"#e58139\" fill-opacity=\"0.031373\" stroke=\"#000000\" points=\"1025.5,-972.5 928.5,-972.5 928.5,-904.5 1025.5,-904.5 1025.5,-972.5\"/>\n",
       "<text text-anchor=\"start\" x=\"950\" y=\"-957.3\" font-family=\"Times,serif\" font-size=\"14.00\" fill=\"#000000\">x ≤ 0.071</text>\n",
       "<text text-anchor=\"start\" x=\"942\" y=\"-942.3\" font-family=\"Times,serif\" font-size=\"14.00\" fill=\"#000000\">mse = 0.002</text>\n",
       "<text text-anchor=\"start\" x=\"943.5\" y=\"-927.3\" font-family=\"Times,serif\" font-size=\"14.00\" fill=\"#000000\">samples = 2</text>\n",
       "<text text-anchor=\"start\" x=\"936.5\" y=\"-912.3\" font-family=\"Times,serif\" font-size=\"14.00\" fill=\"#000000\">value = &#45;0.013</text>\n",
       "</g>\n",
       "<!-- 3&#45;&gt;5 -->\n",
       "<g id=\"edge5\" class=\"edge\">\n",
       "<title>3&#45;&gt;5</title>\n",
       "<path fill=\"none\" stroke=\"#000000\" d=\"M796.2104,-938.5C831.2839,-938.5 879.7745,-938.5 917.7075,-938.5\"/>\n",
       "<polygon fill=\"#000000\" stroke=\"#000000\" points=\"918.1068,-942.0001 928.1067,-938.5 918.1067,-935.0001 918.1068,-942.0001\"/>\n",
       "</g>\n",
       "<!-- 6 -->\n",
       "<g id=\"node7\" class=\"node\">\n",
       "<title>6</title>\n",
       "<polygon fill=\"#e58139\" fill-opacity=\"0.090196\" stroke=\"#000000\" points=\"1255,-1029 1163,-1029 1163,-976 1255,-976 1255,-1029\"/>\n",
       "<text text-anchor=\"start\" x=\"1181\" y=\"-1013.8\" font-family=\"Times,serif\" font-size=\"14.00\" fill=\"#000000\">mse = 0.0</text>\n",
       "<text text-anchor=\"start\" x=\"1175.5\" y=\"-998.8\" font-family=\"Times,serif\" font-size=\"14.00\" fill=\"#000000\">samples = 1</text>\n",
       "<text text-anchor=\"start\" x=\"1171\" y=\"-983.8\" font-family=\"Times,serif\" font-size=\"14.00\" fill=\"#000000\">value = 0.048</text>\n",
       "</g>\n",
       "<!-- 5&#45;&gt;6 -->\n",
       "<g id=\"edge6\" class=\"edge\">\n",
       "<title>5&#45;&gt;6</title>\n",
       "<path fill=\"none\" stroke=\"#000000\" d=\"M1025.6348,-951.9165C1062.7141,-962.1453 1113.8465,-976.2508 1152.6977,-986.9683\"/>\n",
       "<polygon fill=\"#000000\" stroke=\"#000000\" points=\"1152.2294,-990.4698 1162.8001,-989.7552 1154.0909,-983.7219 1152.2294,-990.4698\"/>\n",
       "</g>\n",
       "<!-- 7 -->\n",
       "<g id=\"node8\" class=\"node\">\n",
       "<title>7</title>\n",
       "<polygon fill=\"transparent\" stroke=\"#000000\" points=\"1257.5,-958 1160.5,-958 1160.5,-905 1257.5,-905 1257.5,-958\"/>\n",
       "<text text-anchor=\"start\" x=\"1181\" y=\"-942.8\" font-family=\"Times,serif\" font-size=\"14.00\" fill=\"#000000\">mse = 0.0</text>\n",
       "<text text-anchor=\"start\" x=\"1175.5\" y=\"-927.8\" font-family=\"Times,serif\" font-size=\"14.00\" fill=\"#000000\">samples = 1</text>\n",
       "<text text-anchor=\"start\" x=\"1168.5\" y=\"-912.8\" font-family=\"Times,serif\" font-size=\"14.00\" fill=\"#000000\">value = &#45;0.043</text>\n",
       "</g>\n",
       "<!-- 5&#45;&gt;7 -->\n",
       "<g id=\"edge7\" class=\"edge\">\n",
       "<title>5&#45;&gt;7</title>\n",
       "<path fill=\"none\" stroke=\"#000000\" d=\"M1025.6348,-937.0326C1061.9822,-935.9359 1111.8336,-934.4317 1150.3831,-933.2686\"/>\n",
       "<polygon fill=\"#000000\" stroke=\"#000000\" points=\"1150.5394,-936.7656 1160.4292,-932.9655 1150.3282,-929.7688 1150.5394,-936.7656\"/>\n",
       "</g>\n",
       "<!-- 9 -->\n",
       "<g id=\"node10\" class=\"node\">\n",
       "<title>9</title>\n",
       "<polygon fill=\"#e58139\" fill-opacity=\"0.290196\" stroke=\"#000000\" points=\"1023,-886 931,-886 931,-833 1023,-833 1023,-886\"/>\n",
       "<text text-anchor=\"start\" x=\"949\" y=\"-870.8\" font-family=\"Times,serif\" font-size=\"14.00\" fill=\"#000000\">mse = 0.0</text>\n",
       "<text text-anchor=\"start\" x=\"943.5\" y=\"-855.8\" font-family=\"Times,serif\" font-size=\"14.00\" fill=\"#000000\">samples = 1</text>\n",
       "<text text-anchor=\"start\" x=\"939\" y=\"-840.8\" font-family=\"Times,serif\" font-size=\"14.00\" fill=\"#000000\">value = 0.246</text>\n",
       "</g>\n",
       "<!-- 8&#45;&gt;9 -->\n",
       "<g id=\"edge9\" class=\"edge\">\n",
       "<title>8&#45;&gt;9</title>\n",
       "<path fill=\"none\" stroke=\"#000000\" d=\"M796.2104,-828.4392C832.2668,-834.6339 882.5028,-843.2648 920.8712,-849.8567\"/>\n",
       "<polygon fill=\"#000000\" stroke=\"#000000\" points=\"920.406,-853.328 930.8543,-851.5719 921.5913,-846.4291 920.406,-853.328\"/>\n",
       "</g>\n",
       "<!-- 10 -->\n",
       "<g id=\"node11\" class=\"node\">\n",
       "<title>10</title>\n",
       "<polygon fill=\"#e58139\" fill-opacity=\"0.113725\" stroke=\"#000000\" points=\"1023,-814.5 931,-814.5 931,-746.5 1023,-746.5 1023,-814.5\"/>\n",
       "<text text-anchor=\"start\" x=\"950\" y=\"-799.3\" font-family=\"Times,serif\" font-size=\"14.00\" fill=\"#000000\">x ≤ 0.235</text>\n",
       "<text text-anchor=\"start\" x=\"949\" y=\"-784.3\" font-family=\"Times,serif\" font-size=\"14.00\" fill=\"#000000\">mse = 0.0</text>\n",
       "<text text-anchor=\"start\" x=\"943.5\" y=\"-769.3\" font-family=\"Times,serif\" font-size=\"14.00\" fill=\"#000000\">samples = 3</text>\n",
       "<text text-anchor=\"start\" x=\"939\" y=\"-754.3\" font-family=\"Times,serif\" font-size=\"14.00\" fill=\"#000000\">value = 0.071</text>\n",
       "</g>\n",
       "<!-- 8&#45;&gt;10 -->\n",
       "<g id=\"edge10\" class=\"edge\">\n",
       "<title>8&#45;&gt;10</title>\n",
       "<path fill=\"none\" stroke=\"#000000\" d=\"M796.2104,-812.3572C832.2668,-806.0036 882.5028,-797.1515 920.8712,-790.3905\"/>\n",
       "<polygon fill=\"#000000\" stroke=\"#000000\" points=\"921.6134,-793.8138 930.8543,-788.6314 920.3986,-786.92 921.6134,-793.8138\"/>\n",
       "</g>\n",
       "<!-- 11 -->\n",
       "<g id=\"node12\" class=\"node\">\n",
       "<title>11</title>\n",
       "<polygon fill=\"#e58139\" fill-opacity=\"0.105882\" stroke=\"#000000\" points=\"1255,-880 1163,-880 1163,-827 1255,-827 1255,-880\"/>\n",
       "<text text-anchor=\"start\" x=\"1181\" y=\"-864.8\" font-family=\"Times,serif\" font-size=\"14.00\" fill=\"#000000\">mse = 0.0</text>\n",
       "<text text-anchor=\"start\" x=\"1175.5\" y=\"-849.8\" font-family=\"Times,serif\" font-size=\"14.00\" fill=\"#000000\">samples = 1</text>\n",
       "<text text-anchor=\"start\" x=\"1171\" y=\"-834.8\" font-family=\"Times,serif\" font-size=\"14.00\" fill=\"#000000\">value = 0.062</text>\n",
       "</g>\n",
       "<!-- 10&#45;&gt;11 -->\n",
       "<g id=\"edge11\" class=\"edge\">\n",
       "<title>10&#45;&gt;11</title>\n",
       "<path fill=\"none\" stroke=\"#000000\" d=\"M1023.1131,-795.0097C1060.5914,-806.8025 1113.5871,-823.4778 1153.4087,-836.0079\"/>\n",
       "<polygon fill=\"#000000\" stroke=\"#000000\" points=\"1152.3847,-839.3548 1162.9742,-839.0177 1154.4858,-832.6776 1152.3847,-839.3548\"/>\n",
       "</g>\n",
       "<!-- 12 -->\n",
       "<g id=\"node13\" class=\"node\">\n",
       "<title>12</title>\n",
       "<polygon fill=\"#e58139\" fill-opacity=\"0.117647\" stroke=\"#000000\" points=\"1255,-808.5 1163,-808.5 1163,-740.5 1255,-740.5 1255,-808.5\"/>\n",
       "<text text-anchor=\"start\" x=\"1182\" y=\"-793.3\" font-family=\"Times,serif\" font-size=\"14.00\" fill=\"#000000\">x ≤ 0.255</text>\n",
       "<text text-anchor=\"start\" x=\"1181\" y=\"-778.3\" font-family=\"Times,serif\" font-size=\"14.00\" fill=\"#000000\">mse = 0.0</text>\n",
       "<text text-anchor=\"start\" x=\"1175.5\" y=\"-763.3\" font-family=\"Times,serif\" font-size=\"14.00\" fill=\"#000000\">samples = 2</text>\n",
       "<text text-anchor=\"start\" x=\"1171\" y=\"-748.3\" font-family=\"Times,serif\" font-size=\"14.00\" fill=\"#000000\">value = 0.074</text>\n",
       "</g>\n",
       "<!-- 10&#45;&gt;12 -->\n",
       "<g id=\"edge12\" class=\"edge\">\n",
       "<title>10&#45;&gt;12</title>\n",
       "<path fill=\"none\" stroke=\"#000000\" d=\"M1023.1131,-779.3074C1060.433,-778.3423 1113.1392,-776.9792 1152.9029,-775.9508\"/>\n",
       "<polygon fill=\"#000000\" stroke=\"#000000\" points=\"1153.068,-779.4478 1162.9742,-775.6903 1152.887,-772.4501 1153.068,-779.4478\"/>\n",
       "</g>\n",
       "<!-- 13 -->\n",
       "<g id=\"node14\" class=\"node\">\n",
       "<title>13</title>\n",
       "<polygon fill=\"#e58139\" fill-opacity=\"0.121569\" stroke=\"#000000\" points=\"1483,-861 1391,-861 1391,-808 1483,-808 1483,-861\"/>\n",
       "<text text-anchor=\"start\" x=\"1409\" y=\"-845.8\" font-family=\"Times,serif\" font-size=\"14.00\" fill=\"#000000\">mse = 0.0</text>\n",
       "<text text-anchor=\"start\" x=\"1403.5\" y=\"-830.8\" font-family=\"Times,serif\" font-size=\"14.00\" fill=\"#000000\">samples = 1</text>\n",
       "<text text-anchor=\"start\" x=\"1399\" y=\"-815.8\" font-family=\"Times,serif\" font-size=\"14.00\" fill=\"#000000\">value = 0.078</text>\n",
       "</g>\n",
       "<!-- 12&#45;&gt;13 -->\n",
       "<g id=\"edge13\" class=\"edge\">\n",
       "<title>12&#45;&gt;13</title>\n",
       "<path fill=\"none\" stroke=\"#000000\" d=\"M1255.1392,-786.6419C1291.4513,-796.1977 1342.2059,-809.5542 1380.8721,-819.7295\"/>\n",
       "<polygon fill=\"#000000\" stroke=\"#000000\" points=\"1380.3679,-823.2159 1390.9294,-822.3762 1382.1494,-816.4464 1380.3679,-823.2159\"/>\n",
       "</g>\n",
       "<!-- 14 -->\n",
       "<g id=\"node15\" class=\"node\">\n",
       "<title>14</title>\n",
       "<polygon fill=\"#e58139\" fill-opacity=\"0.113725\" stroke=\"#000000\" points=\"1483,-790 1391,-790 1391,-737 1483,-737 1483,-790\"/>\n",
       "<text text-anchor=\"start\" x=\"1409\" y=\"-774.8\" font-family=\"Times,serif\" font-size=\"14.00\" fill=\"#000000\">mse = 0.0</text>\n",
       "<text text-anchor=\"start\" x=\"1403.5\" y=\"-759.8\" font-family=\"Times,serif\" font-size=\"14.00\" fill=\"#000000\">samples = 1</text>\n",
       "<text text-anchor=\"start\" x=\"1399\" y=\"-744.8\" font-family=\"Times,serif\" font-size=\"14.00\" fill=\"#000000\">value = 0.068</text>\n",
       "</g>\n",
       "<!-- 12&#45;&gt;14 -->\n",
       "<g id=\"edge14\" class=\"edge\">\n",
       "<title>12&#45;&gt;14</title>\n",
       "<path fill=\"none\" stroke=\"#000000\" d=\"M1255.1392,-772.274C1291.4513,-770.5221 1342.2059,-768.0734 1380.8721,-766.2079\"/>\n",
       "<polygon fill=\"#000000\" stroke=\"#000000\" points=\"1381.1097,-769.7006 1390.9294,-765.7227 1380.7723,-762.7088 1381.1097,-769.7006\"/>\n",
       "</g>\n",
       "<!-- 16 -->\n",
       "<g id=\"node17\" class=\"node\">\n",
       "<title>16</title>\n",
       "<polygon fill=\"#e58139\" fill-opacity=\"0.423529\" stroke=\"#000000\" points=\"796,-752 704,-752 704,-699 796,-699 796,-752\"/>\n",
       "<text text-anchor=\"start\" x=\"722\" y=\"-736.8\" font-family=\"Times,serif\" font-size=\"14.00\" fill=\"#000000\">mse = 0.0</text>\n",
       "<text text-anchor=\"start\" x=\"716.5\" y=\"-721.8\" font-family=\"Times,serif\" font-size=\"14.00\" fill=\"#000000\">samples = 1</text>\n",
       "<text text-anchor=\"start\" x=\"712\" y=\"-706.8\" font-family=\"Times,serif\" font-size=\"14.00\" fill=\"#000000\">value = 0.378</text>\n",
       "</g>\n",
       "<!-- 15&#45;&gt;16 -->\n",
       "<g id=\"edge16\" class=\"edge\">\n",
       "<title>15&#45;&gt;16</title>\n",
       "<path fill=\"none\" stroke=\"#000000\" d=\"M573.2057,-693.788C608.189,-700.0631 656.4127,-708.713 693.6592,-715.394\"/>\n",
       "<polygon fill=\"#000000\" stroke=\"#000000\" points=\"693.3926,-718.902 703.8534,-717.2226 694.6285,-712.0119 693.3926,-718.902\"/>\n",
       "</g>\n",
       "<!-- 17 -->\n",
       "<g id=\"node18\" class=\"node\">\n",
       "<title>17</title>\n",
       "<polygon fill=\"#e58139\" fill-opacity=\"0.345098\" stroke=\"#000000\" points=\"796,-680.5 704,-680.5 704,-612.5 796,-612.5 796,-680.5\"/>\n",
       "<text text-anchor=\"start\" x=\"723\" y=\"-665.3\" font-family=\"Times,serif\" font-size=\"14.00\" fill=\"#000000\">x ≤ 0.357</text>\n",
       "<text text-anchor=\"start\" x=\"722\" y=\"-650.3\" font-family=\"Times,serif\" font-size=\"14.00\" fill=\"#000000\">mse = 0.0</text>\n",
       "<text text-anchor=\"start\" x=\"716.5\" y=\"-635.3\" font-family=\"Times,serif\" font-size=\"14.00\" fill=\"#000000\">samples = 2</text>\n",
       "<text text-anchor=\"start\" x=\"712\" y=\"-620.3\" font-family=\"Times,serif\" font-size=\"14.00\" fill=\"#000000\">value = 0.297</text>\n",
       "</g>\n",
       "<!-- 15&#45;&gt;17 -->\n",
       "<g id=\"edge17\" class=\"edge\">\n",
       "<title>15&#45;&gt;17</title>\n",
       "<path fill=\"none\" stroke=\"#000000\" d=\"M573.2057,-677.4192C608.189,-671.301 656.4127,-662.8673 693.6592,-656.3533\"/>\n",
       "<polygon fill=\"#000000\" stroke=\"#000000\" points=\"694.6059,-659.741 703.8534,-654.5705 693.4,-652.8456 694.6059,-659.741\"/>\n",
       "</g>\n",
       "<!-- 18 -->\n",
       "<g id=\"node19\" class=\"node\">\n",
       "<title>18</title>\n",
       "<polygon fill=\"#e58139\" fill-opacity=\"0.333333\" stroke=\"#000000\" points=\"1023,-728 931,-728 931,-675 1023,-675 1023,-728\"/>\n",
       "<text text-anchor=\"start\" x=\"949\" y=\"-712.8\" font-family=\"Times,serif\" font-size=\"14.00\" fill=\"#000000\">mse = 0.0</text>\n",
       "<text text-anchor=\"start\" x=\"943.5\" y=\"-697.8\" font-family=\"Times,serif\" font-size=\"14.00\" fill=\"#000000\">samples = 1</text>\n",
       "<text text-anchor=\"start\" x=\"939\" y=\"-682.8\" font-family=\"Times,serif\" font-size=\"14.00\" fill=\"#000000\">value = 0.287</text>\n",
       "</g>\n",
       "<!-- 17&#45;&gt;18 -->\n",
       "<g id=\"edge18\" class=\"edge\">\n",
       "<title>17&#45;&gt;18</title>\n",
       "<path fill=\"none\" stroke=\"#000000\" d=\"M796.2104,-657.6964C832.2668,-666.4325 882.5028,-678.6042 920.8712,-687.9005\"/>\n",
       "<polygon fill=\"#000000\" stroke=\"#000000\" points=\"920.3113,-691.366 930.8543,-690.3193 921.9597,-684.5629 920.3113,-691.366\"/>\n",
       "</g>\n",
       "<!-- 19 -->\n",
       "<g id=\"node20\" class=\"node\">\n",
       "<title>19</title>\n",
       "<polygon fill=\"#e58139\" fill-opacity=\"0.364706\" stroke=\"#000000\" points=\"1023,-657 931,-657 931,-604 1023,-604 1023,-657\"/>\n",
       "<text text-anchor=\"start\" x=\"946.5\" y=\"-641.8\" font-family=\"Times,serif\" font-size=\"14.00\" fill=\"#000000\">mse = &#45;0.0</text>\n",
       "<text text-anchor=\"start\" x=\"943.5\" y=\"-626.8\" font-family=\"Times,serif\" font-size=\"14.00\" fill=\"#000000\">samples = 1</text>\n",
       "<text text-anchor=\"start\" x=\"939\" y=\"-611.8\" font-family=\"Times,serif\" font-size=\"14.00\" fill=\"#000000\">value = 0.318</text>\n",
       "</g>\n",
       "<!-- 17&#45;&gt;19 -->\n",
       "<g id=\"edge19\" class=\"edge\">\n",
       "<title>17&#45;&gt;19</title>\n",
       "<path fill=\"none\" stroke=\"#000000\" d=\"M796.2104,-643.2429C832.2668,-640.7015 882.5028,-637.1606 920.8712,-634.4562\"/>\n",
       "<polygon fill=\"#000000\" stroke=\"#000000\" points=\"921.1251,-637.9471 930.8543,-633.7526 920.6329,-630.9644 921.1251,-637.9471\"/>\n",
       "</g>\n",
       "<!-- 21 -->\n",
       "<g id=\"node22\" class=\"node\">\n",
       "<title>21</title>\n",
       "<polygon fill=\"#e58139\" fill-opacity=\"0.549020\" stroke=\"#000000\" points=\"573,-442.5 481,-442.5 481,-374.5 573,-374.5 573,-442.5\"/>\n",
       "<text text-anchor=\"start\" x=\"503.5\" y=\"-427.3\" font-family=\"Times,serif\" font-size=\"14.00\" fill=\"#000000\">x ≤ 0.52</text>\n",
       "<text text-anchor=\"start\" x=\"492\" y=\"-412.3\" font-family=\"Times,serif\" font-size=\"14.00\" fill=\"#000000\">mse = 0.016</text>\n",
       "<text text-anchor=\"start\" x=\"490\" y=\"-397.3\" font-family=\"Times,serif\" font-size=\"14.00\" fill=\"#000000\">samples = 11</text>\n",
       "<text text-anchor=\"start\" x=\"489\" y=\"-382.3\" font-family=\"Times,serif\" font-size=\"14.00\" fill=\"#000000\">value = 0.502</text>\n",
       "</g>\n",
       "<!-- 20&#45;&gt;21 -->\n",
       "<g id=\"edge21\" class=\"edge\">\n",
       "<title>20&#45;&gt;21</title>\n",
       "<path fill=\"none\" stroke=\"#000000\" d=\"M349.1413,-408.5C384.3782,-408.5 433.1041,-408.5 470.6467,-408.5\"/>\n",
       "<polygon fill=\"#000000\" stroke=\"#000000\" points=\"470.9186,-412.0001 480.9185,-408.5 470.9185,-405.0001 470.9186,-412.0001\"/>\n",
       "</g>\n",
       "<!-- 42 -->\n",
       "<g id=\"node43\" class=\"node\">\n",
       "<title>42</title>\n",
       "<polygon fill=\"#e58139\" fill-opacity=\"0.839216\" stroke=\"#000000\" points=\"573,-206.5 481,-206.5 481,-138.5 573,-138.5 573,-206.5\"/>\n",
       "<text text-anchor=\"start\" x=\"500\" y=\"-191.3\" font-family=\"Times,serif\" font-size=\"14.00\" fill=\"#000000\">x ≤ 0.786</text>\n",
       "<text text-anchor=\"start\" x=\"492\" y=\"-176.3\" font-family=\"Times,serif\" font-size=\"14.00\" fill=\"#000000\">mse = 0.004</text>\n",
       "<text text-anchor=\"start\" x=\"493.5\" y=\"-161.3\" font-family=\"Times,serif\" font-size=\"14.00\" fill=\"#000000\">samples = 4</text>\n",
       "<text text-anchor=\"start\" x=\"489\" y=\"-146.3\" font-family=\"Times,serif\" font-size=\"14.00\" fill=\"#000000\">value = 0.789</text>\n",
       "</g>\n",
       "<!-- 20&#45;&gt;42 -->\n",
       "<g id=\"edge42\" class=\"edge\">\n",
       "<title>20&#45;&gt;42</title>\n",
       "<path fill=\"none\" stroke=\"#000000\" d=\"M335.3323,-374.4356C375.6159,-331.994 444.4085,-259.5161 487.6947,-213.9109\"/>\n",
       "<polygon fill=\"#000000\" stroke=\"#000000\" points=\"490.3318,-216.2167 494.6775,-206.5541 485.2546,-211.3976 490.3318,-216.2167\"/>\n",
       "</g>\n",
       "<!-- 22 -->\n",
       "<g id=\"node23\" class=\"node\">\n",
       "<title>22</title>\n",
       "<polygon fill=\"#e58139\" fill-opacity=\"0.470588\" stroke=\"#000000\" points=\"796,-514.5 704,-514.5 704,-446.5 796,-446.5 796,-514.5\"/>\n",
       "<text text-anchor=\"start\" x=\"723\" y=\"-499.3\" font-family=\"Times,serif\" font-size=\"14.00\" fill=\"#000000\">x ≤ 0.439</text>\n",
       "<text text-anchor=\"start\" x=\"715\" y=\"-484.3\" font-family=\"Times,serif\" font-size=\"14.00\" fill=\"#000000\">mse = 0.012</text>\n",
       "<text text-anchor=\"start\" x=\"716.5\" y=\"-469.3\" font-family=\"Times,serif\" font-size=\"14.00\" fill=\"#000000\">samples = 5</text>\n",
       "<text text-anchor=\"start\" x=\"712\" y=\"-454.3\" font-family=\"Times,serif\" font-size=\"14.00\" fill=\"#000000\">value = 0.422</text>\n",
       "</g>\n",
       "<!-- 21&#45;&gt;22 -->\n",
       "<g id=\"edge22\" class=\"edge\">\n",
       "<title>21&#45;&gt;22</title>\n",
       "<path fill=\"none\" stroke=\"#000000\" d=\"M573.2057,-423.4184C608.3385,-434.7618 656.8252,-450.4166 694.1362,-462.4632\"/>\n",
       "<polygon fill=\"#000000\" stroke=\"#000000\" points=\"693.2618,-465.8588 703.8534,-465.6007 695.4126,-459.1974 693.2618,-465.8588\"/>\n",
       "</g>\n",
       "<!-- 31 -->\n",
       "<g id=\"node32\" class=\"node\">\n",
       "<title>31</title>\n",
       "<polygon fill=\"#e58139\" fill-opacity=\"0.611765\" stroke=\"#000000\" points=\"796,-399.5 704,-399.5 704,-331.5 796,-331.5 796,-399.5\"/>\n",
       "<text text-anchor=\"start\" x=\"723\" y=\"-384.3\" font-family=\"Times,serif\" font-size=\"14.00\" fill=\"#000000\">x ≤ 0.643</text>\n",
       "<text text-anchor=\"start\" x=\"718.5\" y=\"-369.3\" font-family=\"Times,serif\" font-size=\"14.00\" fill=\"#000000\">mse = 0.01</text>\n",
       "<text text-anchor=\"start\" x=\"716.5\" y=\"-354.3\" font-family=\"Times,serif\" font-size=\"14.00\" fill=\"#000000\">samples = 6</text>\n",
       "<text text-anchor=\"start\" x=\"712\" y=\"-339.3\" font-family=\"Times,serif\" font-size=\"14.00\" fill=\"#000000\">value = 0.565</text>\n",
       "</g>\n",
       "<!-- 21&#45;&gt;31 -->\n",
       "<g id=\"edge31\" class=\"edge\">\n",
       "<title>21&#45;&gt;31</title>\n",
       "<path fill=\"none\" stroke=\"#000000\" d=\"M573.2057,-399.5904C608.189,-392.8447 656.4127,-383.546 693.6592,-376.3639\"/>\n",
       "<polygon fill=\"#000000\" stroke=\"#000000\" points=\"694.697,-379.7284 703.8534,-374.3982 693.3716,-372.855 694.697,-379.7284\"/>\n",
       "</g>\n",
       "<!-- 23 -->\n",
       "<g id=\"node24\" class=\"node\">\n",
       "<title>23</title>\n",
       "<polygon fill=\"#e58139\" fill-opacity=\"0.596078\" stroke=\"#000000\" points=\"1023,-586 931,-586 931,-533 1023,-533 1023,-586\"/>\n",
       "<text text-anchor=\"start\" x=\"949\" y=\"-570.8\" font-family=\"Times,serif\" font-size=\"14.00\" fill=\"#000000\">mse = 0.0</text>\n",
       "<text text-anchor=\"start\" x=\"943.5\" y=\"-555.8\" font-family=\"Times,serif\" font-size=\"14.00\" fill=\"#000000\">samples = 1</text>\n",
       "<text text-anchor=\"start\" x=\"939\" y=\"-540.8\" font-family=\"Times,serif\" font-size=\"14.00\" fill=\"#000000\">value = 0.547</text>\n",
       "</g>\n",
       "<!-- 22&#45;&gt;23 -->\n",
       "<g id=\"edge23\" class=\"edge\">\n",
       "<title>22&#45;&gt;23</title>\n",
       "<path fill=\"none\" stroke=\"#000000\" d=\"M796.2104,-496.5821C832.4202,-509.1837 882.9306,-526.7622 921.3603,-540.1364\"/>\n",
       "<polygon fill=\"#000000\" stroke=\"#000000\" points=\"920.2594,-543.4591 930.8543,-543.4405 922.5603,-536.848 920.2594,-543.4591\"/>\n",
       "</g>\n",
       "<!-- 24 -->\n",
       "<g id=\"node25\" class=\"node\">\n",
       "<title>24</title>\n",
       "<polygon fill=\"#e58139\" fill-opacity=\"0.372549\" stroke=\"#000000\" points=\"1023,-514.5 931,-514.5 931,-446.5 1023,-446.5 1023,-514.5\"/>\n",
       "<text text-anchor=\"start\" x=\"953.5\" y=\"-499.3\" font-family=\"Times,serif\" font-size=\"14.00\" fill=\"#000000\">x ≤ 0.48</text>\n",
       "<text text-anchor=\"start\" x=\"942\" y=\"-484.3\" font-family=\"Times,serif\" font-size=\"14.00\" fill=\"#000000\">mse = 0.001</text>\n",
       "<text text-anchor=\"start\" x=\"943.5\" y=\"-469.3\" font-family=\"Times,serif\" font-size=\"14.00\" fill=\"#000000\">samples = 4</text>\n",
       "<text text-anchor=\"start\" x=\"939\" y=\"-454.3\" font-family=\"Times,serif\" font-size=\"14.00\" fill=\"#000000\">value = 0.328</text>\n",
       "</g>\n",
       "<!-- 22&#45;&gt;24 -->\n",
       "<g id=\"edge24\" class=\"edge\">\n",
       "<title>22&#45;&gt;24</title>\n",
       "<path fill=\"none\" stroke=\"#000000\" d=\"M796.2104,-480.5C832.1134,-480.5 882.0755,-480.5 920.3807,-480.5\"/>\n",
       "<polygon fill=\"#000000\" stroke=\"#000000\" points=\"920.8543,-484.0001 930.8543,-480.5 920.8542,-477.0001 920.8543,-484.0001\"/>\n",
       "</g>\n",
       "<!-- 25 -->\n",
       "<g id=\"node26\" class=\"node\">\n",
       "<title>25</title>\n",
       "<polygon fill=\"#e58139\" fill-opacity=\"0.345098\" stroke=\"#000000\" points=\"1252,-652.5 1166,-652.5 1166,-584.5 1252,-584.5 1252,-652.5\"/>\n",
       "<text text-anchor=\"start\" x=\"1182\" y=\"-637.3\" font-family=\"Times,serif\" font-size=\"14.00\" fill=\"#000000\">x ≤ 0.459</text>\n",
       "<text text-anchor=\"start\" x=\"1174\" y=\"-622.3\" font-family=\"Times,serif\" font-size=\"14.00\" fill=\"#000000\">mse = 0.001</text>\n",
       "<text text-anchor=\"start\" x=\"1175.5\" y=\"-607.3\" font-family=\"Times,serif\" font-size=\"14.00\" fill=\"#000000\">samples = 2</text>\n",
       "<text text-anchor=\"start\" x=\"1177.5\" y=\"-592.3\" font-family=\"Times,serif\" font-size=\"14.00\" fill=\"#000000\">value = 0.3</text>\n",
       "</g>\n",
       "<!-- 24&#45;&gt;25 -->\n",
       "<g id=\"edge25\" class=\"edge\">\n",
       "<title>24&#45;&gt;25</title>\n",
       "<path fill=\"none\" stroke=\"#000000\" d=\"M1023.1131,-507.9294C1061.6891,-530.8754 1116.7047,-563.6002 1156.8731,-587.4935\"/>\n",
       "<polygon fill=\"#000000\" stroke=\"#000000\" points=\"1155.3348,-590.6508 1165.7186,-592.755 1158.9134,-584.6347 1155.3348,-590.6508\"/>\n",
       "</g>\n",
       "<!-- 28 -->\n",
       "<g id=\"node29\" class=\"node\">\n",
       "<title>28</title>\n",
       "<polygon fill=\"#e58139\" fill-opacity=\"0.400000\" stroke=\"#000000\" points=\"1255,-517.5 1163,-517.5 1163,-449.5 1255,-449.5 1255,-517.5\"/>\n",
       "<text text-anchor=\"start\" x=\"1189\" y=\"-502.3\" font-family=\"Times,serif\" font-size=\"14.00\" fill=\"#000000\">x ≤ 0.5</text>\n",
       "<text text-anchor=\"start\" x=\"1181\" y=\"-487.3\" font-family=\"Times,serif\" font-size=\"14.00\" fill=\"#000000\">mse = 0.0</text>\n",
       "<text text-anchor=\"start\" x=\"1175.5\" y=\"-472.3\" font-family=\"Times,serif\" font-size=\"14.00\" fill=\"#000000\">samples = 2</text>\n",
       "<text text-anchor=\"start\" x=\"1171\" y=\"-457.3\" font-family=\"Times,serif\" font-size=\"14.00\" fill=\"#000000\">value = 0.355</text>\n",
       "</g>\n",
       "<!-- 24&#45;&gt;28 -->\n",
       "<g id=\"edge28\" class=\"edge\">\n",
       "<title>24&#45;&gt;28</title>\n",
       "<path fill=\"none\" stroke=\"#000000\" d=\"M1023.1131,-481.0963C1060.433,-481.5789 1113.1392,-482.2604 1152.9029,-482.7746\"/>\n",
       "<polygon fill=\"#000000\" stroke=\"#000000\" points=\"1152.9297,-486.2751 1162.9742,-482.9048 1153.0203,-479.2757 1152.9297,-486.2751\"/>\n",
       "</g>\n",
       "<!-- 26 -->\n",
       "<g id=\"node27\" class=\"node\">\n",
       "<title>26</title>\n",
       "<polygon fill=\"#e58139\" fill-opacity=\"0.372549\" stroke=\"#000000\" points=\"1483,-716 1391,-716 1391,-663 1483,-663 1483,-716\"/>\n",
       "<text text-anchor=\"start\" x=\"1409\" y=\"-700.8\" font-family=\"Times,serif\" font-size=\"14.00\" fill=\"#000000\">mse = 0.0</text>\n",
       "<text text-anchor=\"start\" x=\"1403.5\" y=\"-685.8\" font-family=\"Times,serif\" font-size=\"14.00\" fill=\"#000000\">samples = 1</text>\n",
       "<text text-anchor=\"start\" x=\"1399\" y=\"-670.8\" font-family=\"Times,serif\" font-size=\"14.00\" fill=\"#000000\">value = 0.328</text>\n",
       "</g>\n",
       "<!-- 25&#45;&gt;26 -->\n",
       "<g id=\"edge26\" class=\"edge\">\n",
       "<title>25&#45;&gt;26</title>\n",
       "<path fill=\"none\" stroke=\"#000000\" d=\"M1252.1531,-631.938C1288.768,-643.34 1341.5377,-659.7727 1381.3296,-672.164\"/>\n",
       "<polygon fill=\"#000000\" stroke=\"#000000\" points=\"1380.3029,-675.51 1390.8914,-675.1416 1382.3842,-668.8266 1380.3029,-675.51\"/>\n",
       "</g>\n",
       "<!-- 27 -->\n",
       "<g id=\"node28\" class=\"node\">\n",
       "<title>27</title>\n",
       "<polygon fill=\"#e58139\" fill-opacity=\"0.317647\" stroke=\"#000000\" points=\"1483,-645 1391,-645 1391,-592 1483,-592 1483,-645\"/>\n",
       "<text text-anchor=\"start\" x=\"1409\" y=\"-629.8\" font-family=\"Times,serif\" font-size=\"14.00\" fill=\"#000000\">mse = 0.0</text>\n",
       "<text text-anchor=\"start\" x=\"1403.5\" y=\"-614.8\" font-family=\"Times,serif\" font-size=\"14.00\" fill=\"#000000\">samples = 1</text>\n",
       "<text text-anchor=\"start\" x=\"1399\" y=\"-599.8\" font-family=\"Times,serif\" font-size=\"14.00\" fill=\"#000000\">value = 0.273</text>\n",
       "</g>\n",
       "<!-- 25&#45;&gt;27 -->\n",
       "<g id=\"edge27\" class=\"edge\">\n",
       "<title>25&#45;&gt;27</title>\n",
       "<path fill=\"none\" stroke=\"#000000\" d=\"M1252.1531,-618.5C1288.6132,-618.5 1341.0917,-618.5 1380.8241,-618.5\"/>\n",
       "<polygon fill=\"#000000\" stroke=\"#000000\" points=\"1380.8914,-622.0001 1390.8914,-618.5 1380.8913,-615.0001 1380.8914,-622.0001\"/>\n",
       "</g>\n",
       "<!-- 29 -->\n",
       "<g id=\"node30\" class=\"node\">\n",
       "<title>29</title>\n",
       "<polygon fill=\"#e58139\" fill-opacity=\"0.403922\" stroke=\"#000000\" points=\"1483,-574 1391,-574 1391,-521 1483,-521 1483,-574\"/>\n",
       "<text text-anchor=\"start\" x=\"1409\" y=\"-558.8\" font-family=\"Times,serif\" font-size=\"14.00\" fill=\"#000000\">mse = 0.0</text>\n",
       "<text text-anchor=\"start\" x=\"1403.5\" y=\"-543.8\" font-family=\"Times,serif\" font-size=\"14.00\" fill=\"#000000\">samples = 1</text>\n",
       "<text text-anchor=\"start\" x=\"1399\" y=\"-528.8\" font-family=\"Times,serif\" font-size=\"14.00\" fill=\"#000000\">value = 0.358</text>\n",
       "</g>\n",
       "<!-- 28&#45;&gt;29 -->\n",
       "<g id=\"edge29\" class=\"edge\">\n",
       "<title>28&#45;&gt;29</title>\n",
       "<path fill=\"none\" stroke=\"#000000\" d=\"M1255.1392,-496.4514C1291.4513,-506.6442 1342.2059,-520.8911 1380.8721,-531.7448\"/>\n",
       "<polygon fill=\"#000000\" stroke=\"#000000\" points=\"1380.3556,-535.235 1390.9294,-534.5679 1382.2475,-528.4955 1380.3556,-535.235\"/>\n",
       "</g>\n",
       "<!-- 30 -->\n",
       "<g id=\"node31\" class=\"node\">\n",
       "<title>30</title>\n",
       "<polygon fill=\"#e58139\" fill-opacity=\"0.400000\" stroke=\"#000000\" points=\"1483,-503 1391,-503 1391,-450 1483,-450 1483,-503\"/>\n",
       "<text text-anchor=\"start\" x=\"1409\" y=\"-487.8\" font-family=\"Times,serif\" font-size=\"14.00\" fill=\"#000000\">mse = 0.0</text>\n",
       "<text text-anchor=\"start\" x=\"1403.5\" y=\"-472.8\" font-family=\"Times,serif\" font-size=\"14.00\" fill=\"#000000\">samples = 1</text>\n",
       "<text text-anchor=\"start\" x=\"1399\" y=\"-457.8\" font-family=\"Times,serif\" font-size=\"14.00\" fill=\"#000000\">value = 0.352</text>\n",
       "</g>\n",
       "<!-- 28&#45;&gt;30 -->\n",
       "<g id=\"edge30\" class=\"edge\">\n",
       "<title>28&#45;&gt;30</title>\n",
       "<path fill=\"none\" stroke=\"#000000\" d=\"M1255.1392,-482.0834C1291.4513,-480.9686 1342.2059,-479.4103 1380.8721,-478.2232\"/>\n",
       "<polygon fill=\"#000000\" stroke=\"#000000\" points=\"1381.0416,-481.7198 1390.9294,-477.9144 1380.8267,-474.7231 1381.0416,-481.7198\"/>\n",
       "</g>\n",
       "<!-- 32 -->\n",
       "<g id=\"node33\" class=\"node\">\n",
       "<title>32</title>\n",
       "<polygon fill=\"#e58139\" fill-opacity=\"0.666667\" stroke=\"#000000\" points=\"1023,-399.5 931,-399.5 931,-331.5 1023,-331.5 1023,-399.5\"/>\n",
       "<text text-anchor=\"start\" x=\"950\" y=\"-384.3\" font-family=\"Times,serif\" font-size=\"14.00\" fill=\"#000000\">x ≤ 0.622</text>\n",
       "<text text-anchor=\"start\" x=\"942\" y=\"-369.3\" font-family=\"Times,serif\" font-size=\"14.00\" fill=\"#000000\">mse = 0.015</text>\n",
       "<text text-anchor=\"start\" x=\"943.5\" y=\"-354.3\" font-family=\"Times,serif\" font-size=\"14.00\" fill=\"#000000\">samples = 4</text>\n",
       "<text text-anchor=\"start\" x=\"939\" y=\"-339.3\" font-family=\"Times,serif\" font-size=\"14.00\" fill=\"#000000\">value = 0.617</text>\n",
       "</g>\n",
       "<!-- 31&#45;&gt;32 -->\n",
       "<g id=\"edge32\" class=\"edge\">\n",
       "<title>31&#45;&gt;32</title>\n",
       "<path fill=\"none\" stroke=\"#000000\" d=\"M796.2104,-365.5C832.1134,-365.5 882.0755,-365.5 920.3807,-365.5\"/>\n",
       "<polygon fill=\"#000000\" stroke=\"#000000\" points=\"920.8543,-369.0001 930.8543,-365.5 920.8542,-362.0001 920.8543,-369.0001\"/>\n",
       "</g>\n",
       "<!-- 39 -->\n",
       "<g id=\"node40\" class=\"node\">\n",
       "<title>39</title>\n",
       "<polygon fill=\"#e58139\" fill-opacity=\"0.572549\" stroke=\"#000000\" points=\"1023,-285.5 931,-285.5 931,-217.5 1023,-217.5 1023,-285.5\"/>\n",
       "<text text-anchor=\"start\" x=\"950\" y=\"-270.3\" font-family=\"Times,serif\" font-size=\"14.00\" fill=\"#000000\">x ≤ 0.673</text>\n",
       "<text text-anchor=\"start\" x=\"942\" y=\"-255.3\" font-family=\"Times,serif\" font-size=\"14.00\" fill=\"#000000\">mse = 0.002</text>\n",
       "<text text-anchor=\"start\" x=\"943.5\" y=\"-240.3\" font-family=\"Times,serif\" font-size=\"14.00\" fill=\"#000000\">samples = 2</text>\n",
       "<text text-anchor=\"start\" x=\"939\" y=\"-225.3\" font-family=\"Times,serif\" font-size=\"14.00\" fill=\"#000000\">value = 0.524</text>\n",
       "</g>\n",
       "<!-- 31&#45;&gt;39 -->\n",
       "<g id=\"edge39\" class=\"edge\">\n",
       "<title>31&#45;&gt;39</title>\n",
       "<path fill=\"none\" stroke=\"#000000\" d=\"M796.2104,-342.293C832.5737,-324.0313 883.3589,-298.5268 921.8482,-279.1974\"/>\n",
       "<polygon fill=\"#000000\" stroke=\"#000000\" points=\"923.4886,-282.2902 930.8543,-274.6745 920.3471,-276.0347 923.4886,-282.2902\"/>\n",
       "</g>\n",
       "<!-- 33 -->\n",
       "<g id=\"node34\" class=\"node\">\n",
       "<title>33</title>\n",
       "<polygon fill=\"#e58139\" fill-opacity=\"0.603922\" stroke=\"#000000\" points=\"1255,-431.5 1163,-431.5 1163,-363.5 1255,-363.5 1255,-431.5\"/>\n",
       "<text text-anchor=\"start\" x=\"1182\" y=\"-416.3\" font-family=\"Times,serif\" font-size=\"14.00\" fill=\"#000000\">x ≤ 0.602</text>\n",
       "<text text-anchor=\"start\" x=\"1174\" y=\"-401.3\" font-family=\"Times,serif\" font-size=\"14.00\" fill=\"#000000\">mse = 0.005</text>\n",
       "<text text-anchor=\"start\" x=\"1175.5\" y=\"-386.3\" font-family=\"Times,serif\" font-size=\"14.00\" fill=\"#000000\">samples = 3</text>\n",
       "<text text-anchor=\"start\" x=\"1171\" y=\"-371.3\" font-family=\"Times,serif\" font-size=\"14.00\" fill=\"#000000\">value = 0.556</text>\n",
       "</g>\n",
       "<!-- 32&#45;&gt;33 -->\n",
       "<g id=\"edge33\" class=\"edge\">\n",
       "<title>32&#45;&gt;33</title>\n",
       "<path fill=\"none\" stroke=\"#000000\" d=\"M1023.1131,-371.8604C1060.433,-377.008 1113.1392,-384.2778 1152.9029,-389.7625\"/>\n",
       "<polygon fill=\"#000000\" stroke=\"#000000\" points=\"1152.5897,-393.2523 1162.9742,-391.1516 1153.5462,-386.318 1152.5897,-393.2523\"/>\n",
       "</g>\n",
       "<!-- 38 -->\n",
       "<g id=\"node39\" class=\"node\">\n",
       "<title>38</title>\n",
       "<polygon fill=\"#e58139\" fill-opacity=\"0.847059\" stroke=\"#000000\" points=\"1255,-345 1163,-345 1163,-292 1255,-292 1255,-345\"/>\n",
       "<text text-anchor=\"start\" x=\"1178.5\" y=\"-329.8\" font-family=\"Times,serif\" font-size=\"14.00\" fill=\"#000000\">mse = &#45;0.0</text>\n",
       "<text text-anchor=\"start\" x=\"1175.5\" y=\"-314.8\" font-family=\"Times,serif\" font-size=\"14.00\" fill=\"#000000\">samples = 1</text>\n",
       "<text text-anchor=\"start\" x=\"1171\" y=\"-299.8\" font-family=\"Times,serif\" font-size=\"14.00\" fill=\"#000000\">value = 0.798</text>\n",
       "</g>\n",
       "<!-- 32&#45;&gt;38 -->\n",
       "<g id=\"edge38\" class=\"edge\">\n",
       "<title>32&#45;&gt;38</title>\n",
       "<path fill=\"none\" stroke=\"#000000\" d=\"M1023.1131,-356.1581C1060.5122,-348.5816 1113.363,-337.8747 1153.156,-329.8132\"/>\n",
       "<polygon fill=\"#000000\" stroke=\"#000000\" points=\"1153.8682,-333.2401 1162.9742,-327.8242 1152.4783,-326.3795 1153.8682,-333.2401\"/>\n",
       "</g>\n",
       "<!-- 34 -->\n",
       "<g id=\"node35\" class=\"node\">\n",
       "<title>34</title>\n",
       "<polygon fill=\"#e58139\" fill-opacity=\"0.564706\" stroke=\"#000000\" points=\"1483,-431.5 1391,-431.5 1391,-363.5 1483,-363.5 1483,-431.5\"/>\n",
       "<text text-anchor=\"start\" x=\"1410\" y=\"-416.3\" font-family=\"Times,serif\" font-size=\"14.00\" fill=\"#000000\">x ≤ 0.561</text>\n",
       "<text text-anchor=\"start\" x=\"1402\" y=\"-401.3\" font-family=\"Times,serif\" font-size=\"14.00\" fill=\"#000000\">mse = 0.003</text>\n",
       "<text text-anchor=\"start\" x=\"1403.5\" y=\"-386.3\" font-family=\"Times,serif\" font-size=\"14.00\" fill=\"#000000\">samples = 2</text>\n",
       "<text text-anchor=\"start\" x=\"1399\" y=\"-371.3\" font-family=\"Times,serif\" font-size=\"14.00\" fill=\"#000000\">value = 0.518</text>\n",
       "</g>\n",
       "<!-- 33&#45;&gt;34 -->\n",
       "<g id=\"edge34\" class=\"edge\">\n",
       "<title>33&#45;&gt;34</title>\n",
       "<path fill=\"none\" stroke=\"#000000\" d=\"M1255.1392,-397.5C1291.4513,-397.5 1342.2059,-397.5 1380.8721,-397.5\"/>\n",
       "<polygon fill=\"#000000\" stroke=\"#000000\" points=\"1380.9295,-401.0001 1390.9294,-397.5 1380.9294,-394.0001 1380.9295,-401.0001\"/>\n",
       "</g>\n",
       "<!-- 37 -->\n",
       "<g id=\"node38\" class=\"node\">\n",
       "<title>37</title>\n",
       "<polygon fill=\"#e58139\" fill-opacity=\"0.682353\" stroke=\"#000000\" points=\"1483,-345 1391,-345 1391,-292 1483,-292 1483,-345\"/>\n",
       "<text text-anchor=\"start\" x=\"1406.5\" y=\"-329.8\" font-family=\"Times,serif\" font-size=\"14.00\" fill=\"#000000\">mse = &#45;0.0</text>\n",
       "<text text-anchor=\"start\" x=\"1403.5\" y=\"-314.8\" font-family=\"Times,serif\" font-size=\"14.00\" fill=\"#000000\">samples = 1</text>\n",
       "<text text-anchor=\"start\" x=\"1399\" y=\"-299.8\" font-family=\"Times,serif\" font-size=\"14.00\" fill=\"#000000\">value = 0.632</text>\n",
       "</g>\n",
       "<!-- 33&#45;&gt;37 -->\n",
       "<g id=\"edge37\" class=\"edge\">\n",
       "<title>33&#45;&gt;37</title>\n",
       "<path fill=\"none\" stroke=\"#000000\" d=\"M1255.1392,-381.5132C1291.6058,-368.8778 1342.6381,-351.1956 1381.3651,-337.777\"/>\n",
       "<polygon fill=\"#000000\" stroke=\"#000000\" points=\"1382.6264,-341.0442 1390.9294,-334.4631 1380.3346,-334.43 1382.6264,-341.0442\"/>\n",
       "</g>\n",
       "<!-- 35 -->\n",
       "<g id=\"node36\" class=\"node\">\n",
       "<title>35</title>\n",
       "<polygon fill=\"#e58139\" fill-opacity=\"0.627451\" stroke=\"#000000\" points=\"1706,-459 1614,-459 1614,-406 1706,-406 1706,-459\"/>\n",
       "<text text-anchor=\"start\" x=\"1632\" y=\"-443.8\" font-family=\"Times,serif\" font-size=\"14.00\" fill=\"#000000\">mse = 0.0</text>\n",
       "<text text-anchor=\"start\" x=\"1626.5\" y=\"-428.8\" font-family=\"Times,serif\" font-size=\"14.00\" fill=\"#000000\">samples = 1</text>\n",
       "<text text-anchor=\"start\" x=\"1622\" y=\"-413.8\" font-family=\"Times,serif\" font-size=\"14.00\" fill=\"#000000\">value = 0.577</text>\n",
       "</g>\n",
       "<!-- 34&#45;&gt;35 -->\n",
       "<g id=\"edge35\" class=\"edge\">\n",
       "<title>34&#45;&gt;35</title>\n",
       "<path fill=\"none\" stroke=\"#000000\" d=\"M1483.2057,-404.752C1518.189,-410.2427 1566.4127,-417.8114 1603.6592,-423.6573\"/>\n",
       "<polygon fill=\"#000000\" stroke=\"#000000\" points=\"1603.4317,-427.1643 1613.8534,-425.2573 1604.5171,-420.249 1603.4317,-427.1643\"/>\n",
       "</g>\n",
       "<!-- 36 -->\n",
       "<g id=\"node37\" class=\"node\">\n",
       "<title>36</title>\n",
       "<polygon fill=\"#e58139\" fill-opacity=\"0.505882\" stroke=\"#000000\" points=\"1703,-388 1617,-388 1617,-335 1703,-335 1703,-388\"/>\n",
       "<text text-anchor=\"start\" x=\"1632\" y=\"-372.8\" font-family=\"Times,serif\" font-size=\"14.00\" fill=\"#000000\">mse = 0.0</text>\n",
       "<text text-anchor=\"start\" x=\"1626.5\" y=\"-357.8\" font-family=\"Times,serif\" font-size=\"14.00\" fill=\"#000000\">samples = 1</text>\n",
       "<text text-anchor=\"start\" x=\"1625\" y=\"-342.8\" font-family=\"Times,serif\" font-size=\"14.00\" fill=\"#000000\">value = 0.46</text>\n",
       "</g>\n",
       "<!-- 34&#45;&gt;36 -->\n",
       "<g id=\"edge36\" class=\"edge\">\n",
       "<title>34&#45;&gt;36</title>\n",
       "<path fill=\"none\" stroke=\"#000000\" d=\"M1483.2057,-390.0408C1519.1219,-384.2427 1568.9941,-376.1915 1606.6151,-370.1182\"/>\n",
       "<polygon fill=\"#000000\" stroke=\"#000000\" points=\"1607.5651,-373.5102 1616.8795,-368.4612 1606.4495,-366.5997 1607.5651,-373.5102\"/>\n",
       "</g>\n",
       "<!-- 40 -->\n",
       "<g id=\"node41\" class=\"node\">\n",
       "<title>40</title>\n",
       "<polygon fill=\"#e58139\" fill-opacity=\"0.549020\" stroke=\"#000000\" points=\"1255,-274 1163,-274 1163,-221 1255,-221 1255,-274\"/>\n",
       "<text text-anchor=\"start\" x=\"1181\" y=\"-258.8\" font-family=\"Times,serif\" font-size=\"14.00\" fill=\"#000000\">mse = 0.0</text>\n",
       "<text text-anchor=\"start\" x=\"1175.5\" y=\"-243.8\" font-family=\"Times,serif\" font-size=\"14.00\" fill=\"#000000\">samples = 1</text>\n",
       "<text text-anchor=\"start\" x=\"1171\" y=\"-228.8\" font-family=\"Times,serif\" font-size=\"14.00\" fill=\"#000000\">value = 0.502</text>\n",
       "</g>\n",
       "<!-- 39&#45;&gt;40 -->\n",
       "<g id=\"edge40\" class=\"edge\">\n",
       "<title>39&#45;&gt;40</title>\n",
       "<path fill=\"none\" stroke=\"#000000\" d=\"M1023.1131,-250.7049C1060.433,-250.0615 1113.1392,-249.1528 1152.9029,-248.4672\"/>\n",
       "<polygon fill=\"#000000\" stroke=\"#000000\" points=\"1153.036,-251.9655 1162.9742,-248.2935 1152.9153,-244.9666 1153.036,-251.9655\"/>\n",
       "</g>\n",
       "<!-- 41 -->\n",
       "<g id=\"node42\" class=\"node\">\n",
       "<title>41</title>\n",
       "<polygon fill=\"#e58139\" fill-opacity=\"0.658824\" stroke=\"#000000\" points=\"1255,-203 1163,-203 1163,-150 1255,-150 1255,-203\"/>\n",
       "<text text-anchor=\"start\" x=\"1178.5\" y=\"-187.8\" font-family=\"Times,serif\" font-size=\"14.00\" fill=\"#000000\">mse = &#45;0.0</text>\n",
       "<text text-anchor=\"start\" x=\"1175.5\" y=\"-172.8\" font-family=\"Times,serif\" font-size=\"14.00\" fill=\"#000000\">samples = 1</text>\n",
       "<text text-anchor=\"start\" x=\"1171\" y=\"-157.8\" font-family=\"Times,serif\" font-size=\"14.00\" fill=\"#000000\">value = 0.611</text>\n",
       "</g>\n",
       "<!-- 39&#45;&gt;41 -->\n",
       "<g id=\"edge41\" class=\"edge\">\n",
       "<title>39&#45;&gt;41</title>\n",
       "<path fill=\"none\" stroke=\"#000000\" d=\"M1023.1131,-236.5927C1060.5914,-224.4769 1113.5871,-207.3447 1153.4087,-194.4713\"/>\n",
       "<polygon fill=\"#000000\" stroke=\"#000000\" points=\"1154.5356,-197.7854 1162.9742,-191.379 1152.3824,-191.1248 1154.5356,-197.7854\"/>\n",
       "</g>\n",
       "<!-- 43 -->\n",
       "<g id=\"node44\" class=\"node\">\n",
       "<title>43</title>\n",
       "<polygon fill=\"#e58139\" fill-opacity=\"0.819608\" stroke=\"#000000\" points=\"796,-206.5 704,-206.5 704,-138.5 796,-138.5 796,-206.5\"/>\n",
       "<text text-anchor=\"start\" x=\"723\" y=\"-191.3\" font-family=\"Times,serif\" font-size=\"14.00\" fill=\"#000000\">x ≤ 0.745</text>\n",
       "<text text-anchor=\"start\" x=\"715\" y=\"-176.3\" font-family=\"Times,serif\" font-size=\"14.00\" fill=\"#000000\">mse = 0.001</text>\n",
       "<text text-anchor=\"start\" x=\"716.5\" y=\"-161.3\" font-family=\"Times,serif\" font-size=\"14.00\" fill=\"#000000\">samples = 3</text>\n",
       "<text text-anchor=\"start\" x=\"712\" y=\"-146.3\" font-family=\"Times,serif\" font-size=\"14.00\" fill=\"#000000\">value = 0.769</text>\n",
       "</g>\n",
       "<!-- 42&#45;&gt;43 -->\n",
       "<g id=\"edge43\" class=\"edge\">\n",
       "<title>42&#45;&gt;43</title>\n",
       "<path fill=\"none\" stroke=\"#000000\" d=\"M573.2057,-172.5C608.189,-172.5 656.4127,-172.5 693.6592,-172.5\"/>\n",
       "<polygon fill=\"#000000\" stroke=\"#000000\" points=\"693.8535,-176.0001 703.8534,-172.5 693.8534,-169.0001 693.8535,-176.0001\"/>\n",
       "</g>\n",
       "<!-- 48 -->\n",
       "<g id=\"node49\" class=\"node\">\n",
       "<title>48</title>\n",
       "<polygon fill=\"#e58139\" stroke=\"#000000\" points=\"796,-120 704,-120 704,-67 796,-67 796,-120\"/>\n",
       "<text text-anchor=\"start\" x=\"719.5\" y=\"-104.8\" font-family=\"Times,serif\" font-size=\"14.00\" fill=\"#000000\">mse = &#45;0.0</text>\n",
       "<text text-anchor=\"start\" x=\"716.5\" y=\"-89.8\" font-family=\"Times,serif\" font-size=\"14.00\" fill=\"#000000\">samples = 1</text>\n",
       "<text text-anchor=\"start\" x=\"712\" y=\"-74.8\" font-family=\"Times,serif\" font-size=\"14.00\" fill=\"#000000\">value = 0.948</text>\n",
       "</g>\n",
       "<!-- 42&#45;&gt;48 -->\n",
       "<g id=\"edge48\" class=\"edge\">\n",
       "<title>42&#45;&gt;48</title>\n",
       "<path fill=\"none\" stroke=\"#000000\" d=\"M573.2057,-156.1311C608.3385,-143.685 656.8252,-126.5081 694.1362,-113.2903\"/>\n",
       "<polygon fill=\"#000000\" stroke=\"#000000\" points=\"695.5962,-116.4863 703.8534,-109.8479 693.2587,-109.8881 695.5962,-116.4863\"/>\n",
       "</g>\n",
       "<!-- 44 -->\n",
       "<g id=\"node45\" class=\"node\">\n",
       "<title>44</title>\n",
       "<polygon fill=\"#e58139\" fill-opacity=\"0.843137\" stroke=\"#000000\" points=\"1023,-199 931,-199 931,-146 1023,-146 1023,-199\"/>\n",
       "<text text-anchor=\"start\" x=\"949\" y=\"-183.8\" font-family=\"Times,serif\" font-size=\"14.00\" fill=\"#000000\">mse = 0.0</text>\n",
       "<text text-anchor=\"start\" x=\"943.5\" y=\"-168.8\" font-family=\"Times,serif\" font-size=\"14.00\" fill=\"#000000\">samples = 1</text>\n",
       "<text text-anchor=\"start\" x=\"939\" y=\"-153.8\" font-family=\"Times,serif\" font-size=\"14.00\" fill=\"#000000\">value = 0.792</text>\n",
       "</g>\n",
       "<!-- 43&#45;&gt;44 -->\n",
       "<g id=\"edge44\" class=\"edge\">\n",
       "<title>43&#45;&gt;44</title>\n",
       "<path fill=\"none\" stroke=\"#000000\" d=\"M796.2104,-172.5C832.1134,-172.5 882.0755,-172.5 920.3807,-172.5\"/>\n",
       "<polygon fill=\"#000000\" stroke=\"#000000\" points=\"920.8543,-176.0001 930.8543,-172.5 920.8542,-169.0001 920.8543,-176.0001\"/>\n",
       "</g>\n",
       "<!-- 45 -->\n",
       "<g id=\"node46\" class=\"node\">\n",
       "<title>45</title>\n",
       "<polygon fill=\"#e58139\" fill-opacity=\"0.807843\" stroke=\"#000000\" points=\"1023,-127.5 931,-127.5 931,-59.5 1023,-59.5 1023,-127.5\"/>\n",
       "<text text-anchor=\"start\" x=\"950\" y=\"-112.3\" font-family=\"Times,serif\" font-size=\"14.00\" fill=\"#000000\">x ≤ 0.765</text>\n",
       "<text text-anchor=\"start\" x=\"949\" y=\"-97.3\" font-family=\"Times,serif\" font-size=\"14.00\" fill=\"#000000\">mse = 0.0</text>\n",
       "<text text-anchor=\"start\" x=\"943.5\" y=\"-82.3\" font-family=\"Times,serif\" font-size=\"14.00\" fill=\"#000000\">samples = 2</text>\n",
       "<text text-anchor=\"start\" x=\"939\" y=\"-67.3\" font-family=\"Times,serif\" font-size=\"14.00\" fill=\"#000000\">value = 0.756</text>\n",
       "</g>\n",
       "<!-- 43&#45;&gt;45 -->\n",
       "<g id=\"edge45\" class=\"edge\">\n",
       "<title>43&#45;&gt;45</title>\n",
       "<path fill=\"none\" stroke=\"#000000\" d=\"M796.2104,-156.4179C832.4202,-143.8163 882.9306,-126.2378 921.3603,-112.8636\"/>\n",
       "<polygon fill=\"#000000\" stroke=\"#000000\" points=\"922.5603,-116.152 930.8543,-109.5595 920.2594,-109.5409 922.5603,-116.152\"/>\n",
       "</g>\n",
       "<!-- 46 -->\n",
       "<g id=\"node47\" class=\"node\">\n",
       "<title>46</title>\n",
       "<polygon fill=\"#e58139\" fill-opacity=\"0.792157\" stroke=\"#000000\" points=\"1255,-124 1163,-124 1163,-71 1255,-71 1255,-124\"/>\n",
       "<text text-anchor=\"start\" x=\"1178.5\" y=\"-108.8\" font-family=\"Times,serif\" font-size=\"14.00\" fill=\"#000000\">mse = &#45;0.0</text>\n",
       "<text text-anchor=\"start\" x=\"1175.5\" y=\"-93.8\" font-family=\"Times,serif\" font-size=\"14.00\" fill=\"#000000\">samples = 1</text>\n",
       "<text text-anchor=\"start\" x=\"1171\" y=\"-78.8\" font-family=\"Times,serif\" font-size=\"14.00\" fill=\"#000000\">value = 0.741</text>\n",
       "</g>\n",
       "<!-- 45&#45;&gt;46 -->\n",
       "<g id=\"edge46\" class=\"edge\">\n",
       "<title>45&#45;&gt;46</title>\n",
       "<path fill=\"none\" stroke=\"#000000\" d=\"M1023.1131,-94.2951C1060.433,-94.9385 1113.1392,-95.8472 1152.9029,-96.5328\"/>\n",
       "<polygon fill=\"#000000\" stroke=\"#000000\" points=\"1152.9153,-100.0334 1162.9742,-96.7065 1153.036,-93.0345 1152.9153,-100.0334\"/>\n",
       "</g>\n",
       "<!-- 47 -->\n",
       "<g id=\"node48\" class=\"node\">\n",
       "<title>47</title>\n",
       "<polygon fill=\"#e58139\" fill-opacity=\"0.827451\" stroke=\"#000000\" points=\"1255,-53 1163,-53 1163,0 1255,0 1255,-53\"/>\n",
       "<text text-anchor=\"start\" x=\"1181\" y=\"-37.8\" font-family=\"Times,serif\" font-size=\"14.00\" fill=\"#000000\">mse = 0.0</text>\n",
       "<text text-anchor=\"start\" x=\"1175.5\" y=\"-22.8\" font-family=\"Times,serif\" font-size=\"14.00\" fill=\"#000000\">samples = 1</text>\n",
       "<text text-anchor=\"start\" x=\"1171\" y=\"-7.8\" font-family=\"Times,serif\" font-size=\"14.00\" fill=\"#000000\">value = 0.778</text>\n",
       "</g>\n",
       "<!-- 45&#45;&gt;47 -->\n",
       "<g id=\"edge47\" class=\"edge\">\n",
       "<title>45&#45;&gt;47</title>\n",
       "<path fill=\"none\" stroke=\"#000000\" d=\"M1023.1131,-80.1828C1060.5122,-69.3823 1113.363,-54.1193 1153.156,-42.6274\"/>\n",
       "<polygon fill=\"#000000\" stroke=\"#000000\" points=\"1154.3379,-45.9291 1162.9742,-39.7919 1152.3957,-39.204 1154.3379,-45.9291\"/>\n",
       "</g>\n",
       "</g>\n",
       "</svg>\n"
      ],
      "text/plain": [
       "<graphviz.files.Source at 0x7efbdfa5ae10>"
      ]
     },
     "metadata": {},
     "output_type": "display_data"
    }
   ],
   "source": [
    "draw_tree(m.estimators_[0],x_train,precision=3)"
   ]
  },
  {
   "cell_type": "code",
   "execution_count": 72,
   "metadata": {},
   "outputs": [
    {
     "data": {
      "text/plain": [
       "array([0.94807026, 0.94807026, 0.94807026, 0.94807026, 0.94807026,\n",
       "       0.94807026, 0.94807026, 0.94807026, 0.94807026, 0.94807026])"
      ]
     },
     "execution_count": 72,
     "metadata": {},
     "output_type": "execute_result"
    }
   ],
   "source": [
    "m.estimators_[0].predict(x_val)"
   ]
  },
  {
   "cell_type": "code",
   "execution_count": 73,
   "metadata": {},
   "outputs": [
    {
     "data": {
      "text/plain": [
       "0.9480702585834582"
      ]
     },
     "execution_count": 73,
     "metadata": {},
     "output_type": "execute_result"
    }
   ],
   "source": [
    "y_train.max()"
   ]
  },
  {
   "cell_type": "markdown",
   "metadata": {},
   "source": [
    "Notice how, by using just one tree, all the predictions against the validation data end up being the highest value of y on the training data.\n",
    "\n",
    "A possible solution is using a GBM that is able to extrapolate better. In this case, we can quickly fix the problem by using a random split of validation data"
   ]
  },
  {
   "cell_type": "code",
   "execution_count": 74,
   "metadata": {},
   "outputs": [
    {
     "data": {
      "text/plain": [
       "((40, 1), (40,), (10, 1), (10,))"
      ]
     },
     "execution_count": 74,
     "metadata": {},
     "output_type": "execute_result"
    }
   ],
   "source": [
    "x_train, x_val, y_train, y_val = train_test_split(df, y, test_size=0.2, random_state=111)\n",
    "\n",
    "x_train.shape, y_train.shape, x_val.shape, y_val.shape"
   ]
  },
  {
   "cell_type": "code",
   "execution_count": 75,
   "metadata": {},
   "outputs": [],
   "source": [
    "m = RandomForestRegressor().fit(x_train, y_train)"
   ]
  },
  {
   "cell_type": "code",
   "execution_count": 76,
   "metadata": {},
   "outputs": [
    {
     "data": {
      "image/png": "[encoded data removed]",
      "text/plain": [
       "<Figure size 432x288 with 1 Axes>"
      ]
     },
     "metadata": {},
     "output_type": "display_data"
    }
   ],
   "source": [
    "# let's compare predictions agains training data\n",
    "plt.scatter(y_train, m.predict(x_train));"
   ]
  },
  {
   "cell_type": "code",
   "execution_count": 77,
   "metadata": {},
   "outputs": [
    {
     "data": {
      "image/png": "[encoded data removed]",
      "text/plain": [
       "<Figure size 432x288 with 1 Axes>"
      ]
     },
     "metadata": {},
     "output_type": "display_data"
    }
   ],
   "source": [
    "# let's compare predictions agains validation data\n",
    "plt.scatter(y_val, m.predict(x_val));"
   ]
  },
  {
   "cell_type": "code",
   "execution_count": 78,
   "metadata": {},
   "outputs": [
    {
     "data": {
      "text/plain": [
       "0.3395781961224199"
      ]
     },
     "execution_count": 78,
     "metadata": {},
     "output_type": "execute_result"
    }
   ],
   "source": [
    "# this value will highly depend on the random split above\n",
    "m.score(x_val, y_val)"
   ]
  },
  {
   "cell_type": "code",
   "execution_count": 79,
   "metadata": {},
   "outputs": [],
   "source": [
    "# obviously, a linear model would potentially work better here\n",
    "lm = LinearRegression().fit(x_train, y_train)"
   ]
  },
  {
   "cell_type": "code",
   "execution_count": 80,
   "metadata": {},
   "outputs": [
    {
     "data": {
      "image/png": "[encoded data removed]",
      "text/plain": [
       "<Figure size 432x288 with 1 Axes>"
      ]
     },
     "metadata": {},
     "output_type": "display_data"
    }
   ],
   "source": [
    "plt.scatter(y_val, lm.predict(x_val));"
   ]
  },
  {
   "cell_type": "code",
   "execution_count": 81,
   "metadata": {},
   "outputs": [
    {
     "data": {
      "text/plain": [
       "0.5932097215836236"
      ]
     },
     "execution_count": 81,
     "metadata": {},
     "output_type": "execute_result"
    }
   ],
   "source": [
    "lm.score(x_val, y_val)"
   ]
  }
 ],
 "metadata": {
  "kernelspec": {
   "display_name": "Python 3",
   "language": "python",
   "name": "python3"
  },
  "language_info": {
   "codemirror_mode": {
    "name": "ipython",
    "version": 3
   },
   "file_extension": ".py",
   "mimetype": "text/x-python",
   "name": "python",
   "nbconvert_exporter": "python",
   "pygments_lexer": "ipython3",
   "version": "3.7.0"
  }
 },
 "nbformat": 4,
 "nbformat_minor": 2
}
