{
 "cells": [
  {
   "cell_type": "markdown",
   "metadata": {},
   "source": [
    "## Analyzing Feature Importance with mlutils"
   ]
  },
  {
   "cell_type": "markdown",
   "metadata": {},
   "source": [
    "In this notebook we look at how we can use mlutils to analyze Feature Importance.\n",
    "\n",
    "Most of these tasks are done through the use of RandomForests in scikit-learn, as they are able to report feature importance. We'll also use scikit-learn to generate synthetic datasets to test our API, which is better than using real datasets because we won't have any predefined notions of what the features mean, and as such, we analyze them without any implicit bias.\n",
    "\n",
    "The techniques show here work for both Regression and Classification problems"
   ]
  },
  {
   "cell_type": "code",
   "execution_count": 59,
   "metadata": {},
   "outputs": [],
   "source": [
    "%matplotlib inline\n",
    "%reload_ext autoreload\n",
    "%autoreload 2"
   ]
  },
  {
   "cell_type": "code",
   "execution_count": 60,
   "metadata": {},
   "outputs": [],
   "source": [
    "from mlutils.features import *\n",
    "from mlutils.models.trees import *\n",
    "from mlutils.models.classification import *\n",
    "from mlutils.models.regression import *\n",
    "from mlutils.plot import *\n",
    "from sklearn.datasets import make_classification, make_regression\n",
    "from sklearn.ensemble import RandomForestClassifier, RandomForestRegressor, ExtraTreesClassifier, ExtraTreesRegressor\n",
    "import pandas as pd\n",
    "import numpy as np\n",
    "import seaborn\n",
    "\n",
    "sns.set()\n",
    "sns.set_style('whitegrid')\n",
    "sns.set_palette('Dark2')"
   ]
  },
  {
   "cell_type": "markdown",
   "metadata": {},
   "source": [
    "## Feature Importance using RandomForest"
   ]
  },
  {
   "cell_type": "markdown",
   "metadata": {},
   "source": [
    "Let's generate a classification dataset with a few significant features"
   ]
  },
  {
   "cell_type": "code",
   "execution_count": 61,
   "metadata": {},
   "outputs": [],
   "source": [
    "# Build a classification task using 3 informative features\n",
    "X, y = make_classification(n_samples=10000,\n",
    "                           n_features=20,\n",
    "                           n_informative=3,\n",
    "                           n_redundant=4,\n",
    "                           n_repeated=2,\n",
    "                           n_classes=2,\n",
    "                           random_state=0,\n",
    "                           shuffle=False)"
   ]
  },
  {
   "cell_type": "code",
   "execution_count": 62,
   "metadata": {},
   "outputs": [
    {
     "data": {
      "text/plain": [
       "array(['col1', 'col2', 'col3', 'col4', 'col5', 'col6', 'col7', 'col8',\n",
       "       'col9', 'col10', 'col11', 'col12', 'col13', 'col14', 'col15',\n",
       "       'col16', 'col17', 'col18', 'col19', 'col20'], dtype='<U5')"
      ]
     },
     "execution_count": 62,
     "metadata": {},
     "output_type": "execute_result"
    }
   ],
   "source": [
    "# setup some columns names\n",
    "x = np.arange(1, 21)\n",
    "\n",
    "# Obtain array of square of each element in x\n",
    "namer = lambda t: f\"col{t}\"\n",
    "column_names = np.array([namer(xi) for xi in x])\n",
    "column_names"
   ]
  },
  {
   "cell_type": "code",
   "execution_count": 63,
   "metadata": {},
   "outputs": [
    {
     "data": {
      "text/html": [
       "<div>\n",
       "<style scoped>\n",
       "    .dataframe tbody tr th:only-of-type {\n",
       "        vertical-align: middle;\n",
       "    }\n",
       "\n",
       "    .dataframe tbody tr th {\n",
       "        vertical-align: top;\n",
       "    }\n",
       "\n",
       "    .dataframe thead th {\n",
       "        text-align: right;\n",
       "    }\n",
       "</style>\n",
       "<table border=\"1\" class=\"dataframe\">\n",
       "  <thead>\n",
       "    <tr style=\"text-align: right;\">\n",
       "      <th></th>\n",
       "      <th>col1</th>\n",
       "      <th>col2</th>\n",
       "      <th>col3</th>\n",
       "      <th>col4</th>\n",
       "      <th>col5</th>\n",
       "      <th>col6</th>\n",
       "      <th>col7</th>\n",
       "      <th>col8</th>\n",
       "      <th>col9</th>\n",
       "      <th>col10</th>\n",
       "      <th>col11</th>\n",
       "      <th>col12</th>\n",
       "      <th>col13</th>\n",
       "      <th>col14</th>\n",
       "      <th>col15</th>\n",
       "      <th>col16</th>\n",
       "      <th>col17</th>\n",
       "      <th>col18</th>\n",
       "      <th>col19</th>\n",
       "      <th>col20</th>\n",
       "    </tr>\n",
       "  </thead>\n",
       "  <tbody>\n",
       "    <tr>\n",
       "      <th>0</th>\n",
       "      <td>1.748267</td>\n",
       "      <td>2.690969</td>\n",
       "      <td>-0.762359</td>\n",
       "      <td>0.035483</td>\n",
       "      <td>-3.398872</td>\n",
       "      <td>-0.449087</td>\n",
       "      <td>0.395920</td>\n",
       "      <td>-3.398872</td>\n",
       "      <td>-3.398872</td>\n",
       "      <td>-0.835943</td>\n",
       "      <td>-0.619195</td>\n",
       "      <td>1.211445</td>\n",
       "      <td>-0.977753</td>\n",
       "      <td>-0.350975</td>\n",
       "      <td>-0.713529</td>\n",
       "      <td>1.245046</td>\n",
       "      <td>-1.492278</td>\n",
       "      <td>-1.642324</td>\n",
       "      <td>-0.216367</td>\n",
       "      <td>-0.410060</td>\n",
       "    </tr>\n",
       "    <tr>\n",
       "      <th>1</th>\n",
       "      <td>2.089446</td>\n",
       "      <td>2.897283</td>\n",
       "      <td>-0.347177</td>\n",
       "      <td>-0.315395</td>\n",
       "      <td>-3.319302</td>\n",
       "      <td>-0.383794</td>\n",
       "      <td>0.298654</td>\n",
       "      <td>-3.319302</td>\n",
       "      <td>-3.319302</td>\n",
       "      <td>1.158787</td>\n",
       "      <td>0.319880</td>\n",
       "      <td>-0.717324</td>\n",
       "      <td>0.537883</td>\n",
       "      <td>-0.841434</td>\n",
       "      <td>0.915618</td>\n",
       "      <td>0.381529</td>\n",
       "      <td>0.928201</td>\n",
       "      <td>-0.191589</td>\n",
       "      <td>-1.450351</td>\n",
       "      <td>-1.277512</td>\n",
       "    </tr>\n",
       "    <tr>\n",
       "      <th>2</th>\n",
       "      <td>1.359057</td>\n",
       "      <td>1.124433</td>\n",
       "      <td>-0.449752</td>\n",
       "      <td>-0.133905</td>\n",
       "      <td>-1.811808</td>\n",
       "      <td>-0.764300</td>\n",
       "      <td>0.239303</td>\n",
       "      <td>-1.811808</td>\n",
       "      <td>-1.811808</td>\n",
       "      <td>1.104101</td>\n",
       "      <td>0.832162</td>\n",
       "      <td>0.519420</td>\n",
       "      <td>-1.123108</td>\n",
       "      <td>0.002859</td>\n",
       "      <td>0.759708</td>\n",
       "      <td>-0.001906</td>\n",
       "      <td>-0.783813</td>\n",
       "      <td>-0.382345</td>\n",
       "      <td>-0.157327</td>\n",
       "      <td>-0.327187</td>\n",
       "    </tr>\n",
       "    <tr>\n",
       "      <th>3</th>\n",
       "      <td>0.942504</td>\n",
       "      <td>-0.076773</td>\n",
       "      <td>0.246008</td>\n",
       "      <td>-0.490059</td>\n",
       "      <td>-0.129660</td>\n",
       "      <td>-0.655792</td>\n",
       "      <td>-0.021506</td>\n",
       "      <td>-0.129660</td>\n",
       "      <td>-0.129660</td>\n",
       "      <td>0.709807</td>\n",
       "      <td>0.493653</td>\n",
       "      <td>0.027510</td>\n",
       "      <td>-1.247057</td>\n",
       "      <td>-1.421111</td>\n",
       "      <td>0.601274</td>\n",
       "      <td>-1.647467</td>\n",
       "      <td>-0.359601</td>\n",
       "      <td>2.528175</td>\n",
       "      <td>-1.887663</td>\n",
       "      <td>0.041040</td>\n",
       "    </tr>\n",
       "    <tr>\n",
       "      <th>4</th>\n",
       "      <td>1.076313</td>\n",
       "      <td>1.796803</td>\n",
       "      <td>-1.741340</td>\n",
       "      <td>0.782606</td>\n",
       "      <td>-3.348680</td>\n",
       "      <td>-0.917844</td>\n",
       "      <td>0.621559</td>\n",
       "      <td>-3.348680</td>\n",
       "      <td>-3.348680</td>\n",
       "      <td>-0.179285</td>\n",
       "      <td>-1.430903</td>\n",
       "      <td>-1.063582</td>\n",
       "      <td>-0.621017</td>\n",
       "      <td>0.056493</td>\n",
       "      <td>-0.411359</td>\n",
       "      <td>-1.467355</td>\n",
       "      <td>-1.391466</td>\n",
       "      <td>0.548117</td>\n",
       "      <td>0.308911</td>\n",
       "      <td>-1.093658</td>\n",
       "    </tr>\n",
       "  </tbody>\n",
       "</table>\n",
       "</div>"
      ],
      "text/plain": [
       "       col1      col2      col3      col4      col5      col6      col7  \\\n",
       "0  1.748267  2.690969 -0.762359  0.035483 -3.398872 -0.449087  0.395920   \n",
       "1  2.089446  2.897283 -0.347177 -0.315395 -3.319302 -0.383794  0.298654   \n",
       "2  1.359057  1.124433 -0.449752 -0.133905 -1.811808 -0.764300  0.239303   \n",
       "3  0.942504 -0.076773  0.246008 -0.490059 -0.129660 -0.655792 -0.021506   \n",
       "4  1.076313  1.796803 -1.741340  0.782606 -3.348680 -0.917844  0.621559   \n",
       "\n",
       "       col8      col9     col10     col11     col12     col13     col14  \\\n",
       "0 -3.398872 -3.398872 -0.835943 -0.619195  1.211445 -0.977753 -0.350975   \n",
       "1 -3.319302 -3.319302  1.158787  0.319880 -0.717324  0.537883 -0.841434   \n",
       "2 -1.811808 -1.811808  1.104101  0.832162  0.519420 -1.123108  0.002859   \n",
       "3 -0.129660 -0.129660  0.709807  0.493653  0.027510 -1.247057 -1.421111   \n",
       "4 -3.348680 -3.348680 -0.179285 -1.430903 -1.063582 -0.621017  0.056493   \n",
       "\n",
       "      col15     col16     col17     col18     col19     col20  \n",
       "0 -0.713529  1.245046 -1.492278 -1.642324 -0.216367 -0.410060  \n",
       "1  0.915618  0.381529  0.928201 -0.191589 -1.450351 -1.277512  \n",
       "2  0.759708 -0.001906 -0.783813 -0.382345 -0.157327 -0.327187  \n",
       "3  0.601274 -1.647467 -0.359601  2.528175 -1.887663  0.041040  \n",
       "4 -0.411359 -1.467355 -1.391466  0.548117  0.308911 -1.093658  "
      ]
     },
     "execution_count": 63,
     "metadata": {},
     "output_type": "execute_result"
    }
   ],
   "source": [
    "# create a pandas dataframe as most of the mlutils functions expect it\n",
    "df = pd.DataFrame(X, columns = column_names)\n",
    "df.head()"
   ]
  },
  {
   "cell_type": "code",
   "execution_count": 64,
   "metadata": {},
   "outputs": [
    {
     "name": "stdout",
     "output_type": "stream",
     "text": [
      "n_train: 8000\n"
     ]
    },
    {
     "data": {
      "text/plain": [
       "((8000, 20), (2000, 20), (8000,), (2000,))"
      ]
     },
     "execution_count": 64,
     "metadata": {},
     "output_type": "execute_result"
    }
   ],
   "source": [
    "# let's create a training and validation set\n",
    "n_train = int(len(df) * 0.8)\n",
    "print(\"n_train:\", n_train)\n",
    "\n",
    "X_train, X_val = split_vals(df, n_train)\n",
    "y_train, y_val = split_vals(y, n_train)\n",
    "\n",
    "X_train.shape, X_val.shape, y_train.shape, y_val.shape"
   ]
  },
  {
   "cell_type": "code",
   "execution_count": 65,
   "metadata": {},
   "outputs": [
    {
     "name": "stdout",
     "output_type": "stream",
     "text": [
      "Accuracy (Training): 0.997\n",
      "          OOB Score: 0.953875\n",
      "     Accuracy score: 0.89050\n"
     ]
    }
   ],
   "source": [
    "# we start by creating a simple RandomForestClassifier to model our data\n",
    "m = RandomForestClassifier(n_jobs=-1, oob_score=True)\n",
    "train_classifier(m, X_train, y_train)\n",
    "predict_and_evaluate_classifier(m, X_val, y_val);"
   ]
  },
  {
   "cell_type": "markdown",
   "metadata": {},
   "source": [
    "Result above shows that we can model our data very well with a RandomTree even though we are overfitting.\n",
    "In any case, let's look at feature importance"
   ]
  },
  {
   "cell_type": "code",
   "execution_count": 66,
   "metadata": {},
   "outputs": [
    {
     "data": {
      "text/html": [
       "<div>\n",
       "<style scoped>\n",
       "    .dataframe tbody tr th:only-of-type {\n",
       "        vertical-align: middle;\n",
       "    }\n",
       "\n",
       "    .dataframe tbody tr th {\n",
       "        vertical-align: top;\n",
       "    }\n",
       "\n",
       "    .dataframe thead th {\n",
       "        text-align: right;\n",
       "    }\n",
       "</style>\n",
       "<table border=\"1\" class=\"dataframe\">\n",
       "  <thead>\n",
       "    <tr style=\"text-align: right;\">\n",
       "      <th></th>\n",
       "      <th>cols</th>\n",
       "      <th>imp</th>\n",
       "    </tr>\n",
       "  </thead>\n",
       "  <tbody>\n",
       "    <tr>\n",
       "      <th>0</th>\n",
       "      <td>col6</td>\n",
       "      <td>0.297161</td>\n",
       "    </tr>\n",
       "    <tr>\n",
       "      <th>1</th>\n",
       "      <td>col2</td>\n",
       "      <td>0.210496</td>\n",
       "    </tr>\n",
       "    <tr>\n",
       "      <th>2</th>\n",
       "      <td>col9</td>\n",
       "      <td>0.158393</td>\n",
       "    </tr>\n",
       "    <tr>\n",
       "      <th>3</th>\n",
       "      <td>col1</td>\n",
       "      <td>0.085391</td>\n",
       "    </tr>\n",
       "    <tr>\n",
       "      <th>4</th>\n",
       "      <td>col3</td>\n",
       "      <td>0.052718</td>\n",
       "    </tr>\n",
       "    <tr>\n",
       "      <th>5</th>\n",
       "      <td>col8</td>\n",
       "      <td>0.046073</td>\n",
       "    </tr>\n",
       "    <tr>\n",
       "      <th>6</th>\n",
       "      <td>col5</td>\n",
       "      <td>0.036615</td>\n",
       "    </tr>\n",
       "    <tr>\n",
       "      <th>7</th>\n",
       "      <td>col4</td>\n",
       "      <td>0.030431</td>\n",
       "    </tr>\n",
       "    <tr>\n",
       "      <th>8</th>\n",
       "      <td>col7</td>\n",
       "      <td>0.021991</td>\n",
       "    </tr>\n",
       "    <tr>\n",
       "      <th>9</th>\n",
       "      <td>col16</td>\n",
       "      <td>0.007763</td>\n",
       "    </tr>\n",
       "  </tbody>\n",
       "</table>\n",
       "</div>"
      ],
      "text/plain": [
       "    cols       imp\n",
       "0   col6  0.297161\n",
       "1   col2  0.210496\n",
       "2   col9  0.158393\n",
       "3   col1  0.085391\n",
       "4   col3  0.052718\n",
       "5   col8  0.046073\n",
       "6   col5  0.036615\n",
       "7   col4  0.030431\n",
       "8   col7  0.021991\n",
       "9  col16  0.007763"
      ]
     },
     "execution_count": 66,
     "metadata": {},
     "output_type": "execute_result"
    }
   ],
   "source": [
    "fi = rf_feat_importance(m, df)\n",
    "fi.reset_index(inplace=True, drop=True)\n",
    "fi[:10]"
   ]
  },
  {
   "cell_type": "code",
   "execution_count": 67,
   "metadata": {},
   "outputs": [
    {
     "data": {
      "image/png": "[encoded data removed]",
      "text/plain": [
       "<Figure size 864x432 with 1 Axes>"
      ]
     },
     "metadata": {},
     "output_type": "display_data"
    },
    {
     "data": {
      "image/png": "[encoded data removed]",
      "text/plain": [
       "<Figure size 864x504 with 1 Axes>"
      ]
     },
     "metadata": {},
     "output_type": "display_data"
    }
   ],
   "source": [
    "plot_feat_importance(fi)"
   ]
  },
  {
   "cell_type": "markdown",
   "metadata": {},
   "source": [
    "Based on this, we can see there are a few features that stand out as being more important than the rest"
   ]
  },
  {
   "cell_type": "markdown",
   "metadata": {},
   "source": [
    "Let's remove the other columns and generate new training and validation sets"
   ]
  },
  {
   "cell_type": "code",
   "execution_count": 68,
   "metadata": {},
   "outputs": [
    {
     "data": {
      "text/plain": [
       "(10000, 5)"
      ]
     },
     "execution_count": 68,
     "metadata": {},
     "output_type": "execute_result"
    }
   ],
   "source": [
    "df_keep = select_features(df, fi, threshold='mean')\n",
    "df_keep.shape"
   ]
  },
  {
   "cell_type": "code",
   "execution_count": 69,
   "metadata": {},
   "outputs": [
    {
     "data": {
      "text/html": [
       "<div>\n",
       "<style scoped>\n",
       "    .dataframe tbody tr th:only-of-type {\n",
       "        vertical-align: middle;\n",
       "    }\n",
       "\n",
       "    .dataframe tbody tr th {\n",
       "        vertical-align: top;\n",
       "    }\n",
       "\n",
       "    .dataframe thead th {\n",
       "        text-align: right;\n",
       "    }\n",
       "</style>\n",
       "<table border=\"1\" class=\"dataframe\">\n",
       "  <thead>\n",
       "    <tr style=\"text-align: right;\">\n",
       "      <th></th>\n",
       "      <th>col6</th>\n",
       "      <th>col2</th>\n",
       "      <th>col9</th>\n",
       "      <th>col1</th>\n",
       "      <th>col3</th>\n",
       "    </tr>\n",
       "  </thead>\n",
       "  <tbody>\n",
       "    <tr>\n",
       "      <th>0</th>\n",
       "      <td>-0.449087</td>\n",
       "      <td>2.690969</td>\n",
       "      <td>-3.398872</td>\n",
       "      <td>1.748267</td>\n",
       "      <td>-0.762359</td>\n",
       "    </tr>\n",
       "    <tr>\n",
       "      <th>1</th>\n",
       "      <td>-0.383794</td>\n",
       "      <td>2.897283</td>\n",
       "      <td>-3.319302</td>\n",
       "      <td>2.089446</td>\n",
       "      <td>-0.347177</td>\n",
       "    </tr>\n",
       "    <tr>\n",
       "      <th>2</th>\n",
       "      <td>-0.764300</td>\n",
       "      <td>1.124433</td>\n",
       "      <td>-1.811808</td>\n",
       "      <td>1.359057</td>\n",
       "      <td>-0.449752</td>\n",
       "    </tr>\n",
       "    <tr>\n",
       "      <th>3</th>\n",
       "      <td>-0.655792</td>\n",
       "      <td>-0.076773</td>\n",
       "      <td>-0.129660</td>\n",
       "      <td>0.942504</td>\n",
       "      <td>0.246008</td>\n",
       "    </tr>\n",
       "    <tr>\n",
       "      <th>4</th>\n",
       "      <td>-0.917844</td>\n",
       "      <td>1.796803</td>\n",
       "      <td>-3.348680</td>\n",
       "      <td>1.076313</td>\n",
       "      <td>-1.741340</td>\n",
       "    </tr>\n",
       "  </tbody>\n",
       "</table>\n",
       "</div>"
      ],
      "text/plain": [
       "       col6      col2      col9      col1      col3\n",
       "0 -0.449087  2.690969 -3.398872  1.748267 -0.762359\n",
       "1 -0.383794  2.897283 -3.319302  2.089446 -0.347177\n",
       "2 -0.764300  1.124433 -1.811808  1.359057 -0.449752\n",
       "3 -0.655792 -0.076773 -0.129660  0.942504  0.246008\n",
       "4 -0.917844  1.796803 -3.348680  1.076313 -1.741340"
      ]
     },
     "execution_count": 69,
     "metadata": {},
     "output_type": "execute_result"
    }
   ],
   "source": [
    "df_keep.head()"
   ]
  },
  {
   "cell_type": "markdown",
   "metadata": {},
   "source": [
    "Let's create new training and validation sets and repeat our test"
   ]
  },
  {
   "cell_type": "code",
   "execution_count": 70,
   "metadata": {},
   "outputs": [
    {
     "name": "stdout",
     "output_type": "stream",
     "text": [
      "Accuracy (Training): 0.983125\n",
      "          OOB Score: 0.9685\n",
      "     Accuracy score: 0.90950\n"
     ]
    }
   ],
   "source": [
    "X_train, X_val = split_vals(df_keep, n_train)\n",
    "\n",
    "m = RandomForestClassifier(n_estimators=30, n_jobs=-1, min_samples_leaf=3, oob_score=True)\n",
    "train_classifier(m, X_train, y_train)\n",
    "predict_and_evaluate_classifier(m, X_val, y_val);"
   ]
  },
  {
   "cell_type": "code",
   "execution_count": 71,
   "metadata": {},
   "outputs": [
    {
     "data": {
      "image/png": "[encoded data removed]",
      "text/plain": [
       "<Figure size 864x432 with 1 Axes>"
      ]
     },
     "metadata": {},
     "output_type": "display_data"
    },
    {
     "data": {
      "image/png": "[encoded data removed]",
      "text/plain": [
       "<Figure size 864x504 with 1 Axes>"
      ]
     },
     "metadata": {},
     "output_type": "display_data"
    }
   ],
   "source": [
    "# let's look at the new feature importance\n",
    "fi = rf_feat_importance(m, df_keep)\n",
    "plot_feat_importance(fi);"
   ]
  },
  {
   "cell_type": "markdown",
   "metadata": {},
   "source": [
    "## Redundant Features"
   ]
  },
  {
   "cell_type": "code",
   "execution_count": 520,
   "metadata": {},
   "outputs": [
    {
     "data": {
      "text/html": [
       "<div>\n",
       "<style scoped>\n",
       "    .dataframe tbody tr th:only-of-type {\n",
       "        vertical-align: middle;\n",
       "    }\n",
       "\n",
       "    .dataframe tbody tr th {\n",
       "        vertical-align: top;\n",
       "    }\n",
       "\n",
       "    .dataframe thead th {\n",
       "        text-align: right;\n",
       "    }\n",
       "</style>\n",
       "<table border=\"1\" class=\"dataframe\">\n",
       "  <thead>\n",
       "    <tr style=\"text-align: right;\">\n",
       "      <th></th>\n",
       "      <th>col1</th>\n",
       "      <th>col2</th>\n",
       "      <th>col3</th>\n",
       "      <th>col4</th>\n",
       "      <th>col5</th>\n",
       "      <th>col6</th>\n",
       "      <th>col7</th>\n",
       "      <th>col8</th>\n",
       "      <th>col9</th>\n",
       "      <th>col10</th>\n",
       "      <th>col11</th>\n",
       "      <th>col12</th>\n",
       "      <th>col13</th>\n",
       "      <th>col14</th>\n",
       "      <th>col15</th>\n",
       "      <th>col16</th>\n",
       "      <th>col17</th>\n",
       "      <th>col18</th>\n",
       "      <th>col19</th>\n",
       "      <th>col20</th>\n",
       "    </tr>\n",
       "  </thead>\n",
       "  <tbody>\n",
       "    <tr>\n",
       "      <th>0</th>\n",
       "      <td>-0.836379</td>\n",
       "      <td>-1.623224</td>\n",
       "      <td>-1.805722</td>\n",
       "      <td>-1.922155</td>\n",
       "      <td>-0.159956</td>\n",
       "      <td>-0.616689</td>\n",
       "      <td>-0.765533</td>\n",
       "      <td>-2.311872</td>\n",
       "      <td>0.256003</td>\n",
       "      <td>0.800436</td>\n",
       "      <td>-0.305339</td>\n",
       "      <td>1.051078</td>\n",
       "      <td>0.841900</td>\n",
       "      <td>0.085418</td>\n",
       "      <td>-1.574438</td>\n",
       "      <td>-2.311872</td>\n",
       "      <td>-0.681646</td>\n",
       "      <td>-1.346693</td>\n",
       "      <td>-1.922155</td>\n",
       "      <td>1.275311</td>\n",
       "    </tr>\n",
       "    <tr>\n",
       "      <th>1</th>\n",
       "      <td>1.353351</td>\n",
       "      <td>-0.314671</td>\n",
       "      <td>-0.837255</td>\n",
       "      <td>0.484717</td>\n",
       "      <td>-0.695820</td>\n",
       "      <td>-0.715266</td>\n",
       "      <td>1.253507</td>\n",
       "      <td>-0.690017</td>\n",
       "      <td>0.355269</td>\n",
       "      <td>-0.601974</td>\n",
       "      <td>0.378684</td>\n",
       "      <td>-0.586424</td>\n",
       "      <td>1.961510</td>\n",
       "      <td>-1.218650</td>\n",
       "      <td>-0.905413</td>\n",
       "      <td>-0.690017</td>\n",
       "      <td>-0.789670</td>\n",
       "      <td>0.335882</td>\n",
       "      <td>0.484717</td>\n",
       "      <td>0.711793</td>\n",
       "    </tr>\n",
       "    <tr>\n",
       "      <th>2</th>\n",
       "      <td>1.725677</td>\n",
       "      <td>-2.963083</td>\n",
       "      <td>-2.652620</td>\n",
       "      <td>-0.488984</td>\n",
       "      <td>-1.406491</td>\n",
       "      <td>-0.139674</td>\n",
       "      <td>0.271939</td>\n",
       "      <td>-2.748124</td>\n",
       "      <td>1.969210</td>\n",
       "      <td>1.447318</td>\n",
       "      <td>-1.170388</td>\n",
       "      <td>-1.054998</td>\n",
       "      <td>-0.497737</td>\n",
       "      <td>1.297277</td>\n",
       "      <td>0.537382</td>\n",
       "      <td>-2.748124</td>\n",
       "      <td>-1.804952</td>\n",
       "      <td>-0.348900</td>\n",
       "      <td>-0.488984</td>\n",
       "      <td>0.272441</td>\n",
       "    </tr>\n",
       "    <tr>\n",
       "      <th>3</th>\n",
       "      <td>-0.632404</td>\n",
       "      <td>-0.558853</td>\n",
       "      <td>1.359769</td>\n",
       "      <td>0.449964</td>\n",
       "      <td>1.740229</td>\n",
       "      <td>0.831117</td>\n",
       "      <td>-0.327239</td>\n",
       "      <td>1.464046</td>\n",
       "      <td>-0.362704</td>\n",
       "      <td>1.220200</td>\n",
       "      <td>0.067216</td>\n",
       "      <td>0.559588</td>\n",
       "      <td>-1.679996</td>\n",
       "      <td>0.343957</td>\n",
       "      <td>-0.654417</td>\n",
       "      <td>1.464046</td>\n",
       "      <td>0.856641</td>\n",
       "      <td>0.317948</td>\n",
       "      <td>0.449964</td>\n",
       "      <td>0.753999</td>\n",
       "    </tr>\n",
       "    <tr>\n",
       "      <th>4</th>\n",
       "      <td>1.036217</td>\n",
       "      <td>0.886669</td>\n",
       "      <td>-1.550409</td>\n",
       "      <td>-0.264000</td>\n",
       "      <td>0.524717</td>\n",
       "      <td>-0.856235</td>\n",
       "      <td>0.408957</td>\n",
       "      <td>-1.600178</td>\n",
       "      <td>1.660428</td>\n",
       "      <td>1.220847</td>\n",
       "      <td>2.366008</td>\n",
       "      <td>-0.206575</td>\n",
       "      <td>1.352272</td>\n",
       "      <td>0.340539</td>\n",
       "      <td>0.408867</td>\n",
       "      <td>-1.600178</td>\n",
       "      <td>-1.062467</td>\n",
       "      <td>-0.188709</td>\n",
       "      <td>-0.264000</td>\n",
       "      <td>1.171701</td>\n",
       "    </tr>\n",
       "  </tbody>\n",
       "</table>\n",
       "</div>"
      ],
      "text/plain": [
       "       col1      col2      col3      col4      col5      col6      col7  \\\n",
       "0 -0.836379 -1.623224 -1.805722 -1.922155 -0.159956 -0.616689 -0.765533   \n",
       "1  1.353351 -0.314671 -0.837255  0.484717 -0.695820 -0.715266  1.253507   \n",
       "2  1.725677 -2.963083 -2.652620 -0.488984 -1.406491 -0.139674  0.271939   \n",
       "3 -0.632404 -0.558853  1.359769  0.449964  1.740229  0.831117 -0.327239   \n",
       "4  1.036217  0.886669 -1.550409 -0.264000  0.524717 -0.856235  0.408957   \n",
       "\n",
       "       col8      col9     col10     col11     col12     col13     col14  \\\n",
       "0 -2.311872  0.256003  0.800436 -0.305339  1.051078  0.841900  0.085418   \n",
       "1 -0.690017  0.355269 -0.601974  0.378684 -0.586424  1.961510 -1.218650   \n",
       "2 -2.748124  1.969210  1.447318 -1.170388 -1.054998 -0.497737  1.297277   \n",
       "3  1.464046 -0.362704  1.220200  0.067216  0.559588 -1.679996  0.343957   \n",
       "4 -1.600178  1.660428  1.220847  2.366008 -0.206575  1.352272  0.340539   \n",
       "\n",
       "      col15     col16     col17     col18     col19     col20  \n",
       "0 -1.574438 -2.311872 -0.681646 -1.346693 -1.922155  1.275311  \n",
       "1 -0.905413 -0.690017 -0.789670  0.335882  0.484717  0.711793  \n",
       "2  0.537382 -2.748124 -1.804952 -0.348900 -0.488984  0.272441  \n",
       "3 -0.654417  1.464046  0.856641  0.317948  0.449964  0.753999  \n",
       "4  0.408867 -1.600178 -1.062467 -0.188709 -0.264000  1.171701  "
      ]
     },
     "execution_count": 520,
     "metadata": {},
     "output_type": "execute_result"
    }
   ],
   "source": [
    "# Build a classification task using 3 informative features\n",
    "X, y = make_classification(n_samples=10000,\n",
    "                           n_features=20,\n",
    "                           n_informative=2,\n",
    "                           n_redundant=4,\n",
    "                           n_repeated=2,\n",
    "                           n_classes=2,\n",
    "                           random_state=0,\n",
    "                           shuffle=True)\n",
    "\n",
    "# setup some columns names\n",
    "x = np.arange(1, 21)\n",
    "\n",
    "# Obtain array of square of each element in x\n",
    "namer = lambda t: f\"col{t}\"\n",
    "column_names = np.array([namer(xi) for xi in x])\n",
    "\n",
    "# create a pandas dataframe as most of the mlutils functions expect it\n",
    "df = pd.DataFrame(X, columns = column_names)\n",
    "df.head()"
   ]
  },
  {
   "cell_type": "code",
   "execution_count": 595,
   "metadata": {
    "scrolled": false
   },
   "outputs": [
    {
     "data": {
      "image/png": "[encoded data removed]",
      "text/plain": [
       "<Figure size 1152x720 with 1 Axes>"
      ]
     },
     "metadata": {},
     "output_type": "display_data"
    }
   ],
   "source": [
    "clusters, f_list = analyze_redundant_features(df, threshold=0.5)"
   ]
  },
  {
   "cell_type": "code",
   "execution_count": null,
   "metadata": {},
   "outputs": [],
   "source": []
  },
  {
   "cell_type": "markdown",
   "metadata": {},
   "source": [
    "Looking at this, we can clearly identify a few redudant features by looking at how close to the right side they join up. This analysis clusters features together and measures distance between features and clusters.\n",
    "\n",
    "The analyze_redundant_features also returns all the same information in a DataFrame and a flat list of features whose distance to other features or clusters."
   ]
  },
  {
   "cell_type": "code",
   "execution_count": 596,
   "metadata": {},
   "outputs": [
    {
     "data": {
      "text/plain": [
       "array([list(['col8', 'col16', 'col3', 'col17']),\n",
       "       list(['col4', 'col18', 'col19', 'col1'])], dtype=object)"
      ]
     },
     "execution_count": 596,
     "metadata": {},
     "output_type": "execute_result"
    }
   ],
   "source": [
    "f_list"
   ]
  },
  {
   "cell_type": "code",
   "execution_count": 597,
   "metadata": {},
   "outputs": [
    {
     "data": {
      "text/html": [
       "<div>\n",
       "<style scoped>\n",
       "    .dataframe tbody tr th:only-of-type {\n",
       "        vertical-align: middle;\n",
       "    }\n",
       "\n",
       "    .dataframe tbody tr th {\n",
       "        vertical-align: top;\n",
       "    }\n",
       "\n",
       "    .dataframe thead th {\n",
       "        text-align: right;\n",
       "    }\n",
       "</style>\n",
       "<table border=\"1\" class=\"dataframe\">\n",
       "  <thead>\n",
       "    <tr style=\"text-align: right;\">\n",
       "      <th></th>\n",
       "      <th>a</th>\n",
       "      <th>b</th>\n",
       "      <th>distance</th>\n",
       "    </tr>\n",
       "    <tr>\n",
       "      <th>cluster</th>\n",
       "      <th></th>\n",
       "      <th></th>\n",
       "      <th></th>\n",
       "    </tr>\n",
       "  </thead>\n",
       "  <tbody>\n",
       "    <tr>\n",
       "      <th>cluster_0</th>\n",
       "      <td>col4</td>\n",
       "      <td>col18</td>\n",
       "      <td>0.0000</td>\n",
       "    </tr>\n",
       "    <tr>\n",
       "      <th>cluster_1</th>\n",
       "      <td>col19</td>\n",
       "      <td>cluster_0</td>\n",
       "      <td>0.0000</td>\n",
       "    </tr>\n",
       "    <tr>\n",
       "      <th>cluster_2</th>\n",
       "      <td>col8</td>\n",
       "      <td>col16</td>\n",
       "      <td>0.0000</td>\n",
       "    </tr>\n",
       "    <tr>\n",
       "      <th>cluster_3</th>\n",
       "      <td>col3</td>\n",
       "      <td>cluster_2</td>\n",
       "      <td>0.0124</td>\n",
       "    </tr>\n",
       "    <tr>\n",
       "      <th>cluster_4</th>\n",
       "      <td>col17</td>\n",
       "      <td>cluster_3</td>\n",
       "      <td>0.1445</td>\n",
       "    </tr>\n",
       "    <tr>\n",
       "      <th>cluster_5</th>\n",
       "      <td>col1</td>\n",
       "      <td>cluster_1</td>\n",
       "      <td>0.2860</td>\n",
       "    </tr>\n",
       "  </tbody>\n",
       "</table>\n",
       "</div>"
      ],
      "text/plain": [
       "               a          b  distance\n",
       "cluster                              \n",
       "cluster_0   col4      col18    0.0000\n",
       "cluster_1  col19  cluster_0    0.0000\n",
       "cluster_2   col8      col16    0.0000\n",
       "cluster_3   col3  cluster_2    0.0124\n",
       "cluster_4  col17  cluster_3    0.1445\n",
       "cluster_5   col1  cluster_1    0.2860"
      ]
     },
     "execution_count": 597,
     "metadata": {},
     "output_type": "execute_result"
    }
   ],
   "source": [
    "clusters"
   ]
  },
  {
   "cell_type": "code",
   "execution_count": 523,
   "metadata": {},
   "outputs": [
    {
     "data": {
      "text/plain": [
       "array(['col4', 'col18', 'col19', 'col8', 'col16', 'col3'], dtype='<U5')"
      ]
     },
     "execution_count": 523,
     "metadata": {},
     "output_type": "execute_result"
    }
   ],
   "source": [
    "f_list"
   ]
  },
  {
   "cell_type": "markdown",
   "metadata": {},
   "source": [
    "Let's analyze the impact of removing these features to our OOB score"
   ]
  },
  {
   "cell_type": "code",
   "execution_count": 524,
   "metadata": {},
   "outputs": [
    {
     "name": "stdout",
     "output_type": "stream",
     "text": [
      "Accuracy (Training): 0.974625\n",
      "          OOB Score: 0.905625\n",
      "     Accuracy score: 0.89900\n"
     ]
    }
   ],
   "source": [
    "X_train, X_val = split_vals(df, n_train)\n",
    "y_train, y_val = split_vals(y, n_train)\n",
    "\n",
    "# get a baseline\n",
    "m = RandomForestClassifier(n_estimators=30, n_jobs=-1, min_samples_leaf=3, oob_score=True)\n",
    "train_classifier(m, X_train, y_train)\n",
    "predict_and_evaluate_classifier(m, X_val, y_val);"
   ]
  },
  {
   "cell_type": "code",
   "execution_count": 525,
   "metadata": {},
   "outputs": [
    {
     "name": "stdout",
     "output_type": "stream",
     "text": [
      "Baseline - 0.9043\n",
      "------------------------------\n",
      "col4 - 0.9042 (-0.0001)\n",
      "col18 - 0.9061 (0.0018)\n",
      "col19 - 0.9058 (0.0015)\n",
      "col8 - 0.9045 (0.0002)\n",
      "col16 - 0.9064 (0.0021)\n",
      "col3 - 0.9044 (0.0001)\n"
     ]
    }
   ],
   "source": [
    "analyze_single_feature_removal(m, df, y, f_list, metric='oob')"
   ]
  },
  {
   "cell_type": "markdown",
   "metadata": {},
   "source": [
    "We should't remove all features, but rather remove one from each pair"
   ]
  },
  {
   "cell_type": "code",
   "execution_count": 526,
   "metadata": {},
   "outputs": [
    {
     "name": "stdout",
     "output_type": "stream",
     "text": [
      "Baseline - 0.9044\n",
      "------------------------------\n",
      "Result - 0.9063 (0.0019)\n"
     ]
    }
   ],
   "source": [
    "# this might be dangerous to do blindly, but works in this scenario\n",
    "to_drop = f_list[0::2]\n",
    "analyze_multiple_feature_removal(m, df, y, to_drop, metric='oob')"
   ]
  },
  {
   "cell_type": "markdown",
   "metadata": {},
   "source": [
    "oob_score varies significantly, but looking at oob_score, even it slightly lower, can still mean it's a good idea to remove them because we're building a more generalized model.\n",
    "\n",
    "We can also look at the features from an accuracy impact perspective"
   ]
  },
  {
   "cell_type": "code",
   "execution_count": 517,
   "metadata": {},
   "outputs": [
    {
     "name": "stdout",
     "output_type": "stream",
     "text": [
      "Baseline - 0.9805\n",
      "------------------------------\n",
      "col1 - 0.9815 (0.001)\n",
      "col4 - 0.9795 (-0.001)\n",
      "col7 - 0.978 (-0.0025)\n",
      "col8 - 0.981 (0.0005)\n",
      "col3 - 0.981 (0.0005)\n",
      "col5 - 0.9795 (-0.001)\n",
      "col6 - 0.982 (0.0015)\n",
      "col10 - 0.981 (0.0005)\n"
     ]
    }
   ],
   "source": [
    "analyze_single_feature_removal(m, df, y, f_list, metric='accuracy', val_data=(X_val, y_val))"
   ]
  },
  {
   "cell_type": "code",
   "execution_count": 518,
   "metadata": {},
   "outputs": [
    {
     "name": "stdout",
     "output_type": "stream",
     "text": [
      "Baseline - 0.978\n",
      "------------------------------\n",
      "Result - 0.9785 (0.0005)\n"
     ]
    }
   ],
   "source": [
    "to_drop = f_list[0:6:2]\n",
    "analyze_multiple_feature_removal(m, df, y, to_drop, metric='accuracy', val_data=(X_val, y_val))"
   ]
  },
  {
   "cell_type": "markdown",
   "metadata": {},
   "source": [
    "## Extrapolation"
   ]
  },
  {
   "cell_type": "code",
   "execution_count": 79,
   "metadata": {},
   "outputs": [],
   "source": [
    "m.oob_score = True"
   ]
  },
  {
   "cell_type": "code",
   "execution_count": 80,
   "metadata": {},
   "outputs": [
    {
     "data": {
      "text/plain": [
       "RandomForestClassifier(bootstrap=True, class_weight=None, criterion='gini',\n",
       "            max_depth=None, max_features='auto', max_leaf_nodes=None,\n",
       "            min_impurity_decrease=0.0, min_impurity_split=None,\n",
       "            min_samples_leaf=3, min_samples_split=2,\n",
       "            min_weight_fraction_leaf=0.0, n_estimators=30, n_jobs=-1,\n",
       "            oob_score=True, random_state=None, verbose=0, warm_start=False)"
      ]
     },
     "execution_count": 80,
     "metadata": {},
     "output_type": "execute_result"
    }
   ],
   "source": [
    "m.fit(X_val, y_val)"
   ]
  },
  {
   "cell_type": "code",
   "execution_count": 81,
   "metadata": {},
   "outputs": [
    {
     "data": {
      "text/plain": [
       "0.899"
      ]
     },
     "execution_count": 81,
     "metadata": {},
     "output_type": "execute_result"
    }
   ],
   "source": [
    "m.oob_score_"
   ]
  },
  {
   "cell_type": "code",
   "execution_count": null,
   "metadata": {},
   "outputs": [],
   "source": []
  }
 ],
 "metadata": {
  "kernelspec": {
   "display_name": "Python 3",
   "language": "python",
   "name": "python3"
  },
  "language_info": {
   "codemirror_mode": {
    "name": "ipython",
    "version": 3
   },
   "file_extension": ".py",
   "mimetype": "text/x-python",
   "name": "python",
   "nbconvert_exporter": "python",
   "pygments_lexer": "ipython3",
   "version": "3.7.0"
  }
 },
 "nbformat": 4,
 "nbformat_minor": 2
}
