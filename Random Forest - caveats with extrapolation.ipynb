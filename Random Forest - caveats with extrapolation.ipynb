{
 "cells": [
  {
   "cell_type": "code",
   "execution_count": 1,
   "metadata": {},
   "outputs": [],
   "source": [
    "%load_ext autoreload\n",
    "%autoreload 2"
   ]
  },
  {
   "cell_type": "code",
   "execution_count": 2,
   "metadata": {},
   "outputs": [
    {
     "name": "stderr",
     "output_type": "stream",
     "text": [
      "/home/quick/anaconda3/lib/python3.7/site-packages/sklearn/ensemble/weight_boosting.py:29: DeprecationWarning: numpy.core.umath_tests is an internal NumPy module and should not be imported. It will be removed in a future NumPy release.\n",
      "  from numpy.core.umath_tests import inner1d\n"
     ]
    }
   ],
   "source": [
    "from sklearn.ensemble import RandomForestRegressor\n",
    "import pandas as pd\n",
    "import numpy as np\n",
    "import seaborn as sns\n",
    "from mlutils.plot import *\n",
    "from mlutils.features import *\n",
    "from mlutils.models.trees import draw_tree\n",
    "from sklearn.model_selection import train_test_split\n",
    "from sklearn.linear_model import LinearRegression\n",
    "sns.set()"
   ]
  },
  {
   "cell_type": "markdown",
   "metadata": {},
   "source": [
    "## Generating a synthetic dataset"
   ]
  },
  {
   "cell_type": "code",
   "execution_count": 3,
   "metadata": {},
   "outputs": [],
   "source": [
    "# creating a linear space dataset\n",
    "x = np.linspace(0,1)"
   ]
  },
  {
   "cell_type": "code",
   "execution_count": 4,
   "metadata": {},
   "outputs": [],
   "source": [
    "# adding random noise\n",
    "y = x + np.random.uniform(-0.2, 0.2, x.shape)"
   ]
  },
  {
   "cell_type": "code",
   "execution_count": 5,
   "metadata": {},
   "outputs": [
    {
     "data": {
      "text/plain": [
       "(50,)"
      ]
     },
     "execution_count": 5,
     "metadata": {},
     "output_type": "execute_result"
    }
   ],
   "source": [
    "x.shape"
   ]
  },
  {
   "cell_type": "code",
   "execution_count": 6,
   "metadata": {},
   "outputs": [
    {
     "data": {
      "text/html": [
       "<div>\n",
       "<style scoped>\n",
       "    .dataframe tbody tr th:only-of-type {\n",
       "        vertical-align: middle;\n",
       "    }\n",
       "\n",
       "    .dataframe tbody tr th {\n",
       "        vertical-align: top;\n",
       "    }\n",
       "\n",
       "    .dataframe thead th {\n",
       "        text-align: right;\n",
       "    }\n",
       "</style>\n",
       "<table border=\"1\" class=\"dataframe\">\n",
       "  <thead>\n",
       "    <tr style=\"text-align: right;\">\n",
       "      <th></th>\n",
       "      <th>x</th>\n",
       "      <th>y</th>\n",
       "    </tr>\n",
       "  </thead>\n",
       "  <tbody>\n",
       "    <tr>\n",
       "      <th>0</th>\n",
       "      <td>0.000000</td>\n",
       "      <td>0.017539</td>\n",
       "    </tr>\n",
       "    <tr>\n",
       "      <th>1</th>\n",
       "      <td>0.020408</td>\n",
       "      <td>0.210245</td>\n",
       "    </tr>\n",
       "    <tr>\n",
       "      <th>2</th>\n",
       "      <td>0.040816</td>\n",
       "      <td>0.226248</td>\n",
       "    </tr>\n",
       "    <tr>\n",
       "      <th>3</th>\n",
       "      <td>0.061224</td>\n",
       "      <td>0.163454</td>\n",
       "    </tr>\n",
       "    <tr>\n",
       "      <th>4</th>\n",
       "      <td>0.081633</td>\n",
       "      <td>0.001484</td>\n",
       "    </tr>\n",
       "  </tbody>\n",
       "</table>\n",
       "</div>"
      ],
      "text/plain": [
       "          x         y\n",
       "0  0.000000  0.017539\n",
       "1  0.020408  0.210245\n",
       "2  0.040816  0.226248\n",
       "3  0.061224  0.163454\n",
       "4  0.081633  0.001484"
      ]
     },
     "execution_count": 6,
     "metadata": {},
     "output_type": "execute_result"
    }
   ],
   "source": [
    "# converting to pandas\n",
    "df_raw = pd.DataFrame(columns=['x','y'])\n",
    "df_raw.x = x\n",
    "df_raw.y = y\n",
    "df_raw.head()"
   ]
  },
  {
   "cell_type": "code",
   "execution_count": 7,
   "metadata": {},
   "outputs": [
    {
     "data": {
      "image/png": "[encoded data removed]",
      "text/plain": [
       "<Figure size 576x576 with 1 Axes>"
      ]
     },
     "metadata": {
      "needs_background": "light"
     },
     "output_type": "display_data"
    }
   ],
   "source": [
    "plot_scatter(df_raw, 'x', 'y')"
   ]
  },
  {
   "cell_type": "code",
   "execution_count": 8,
   "metadata": {},
   "outputs": [
    {
     "data": {
      "text/plain": [
       "((50, 1), (50,), {})"
      ]
     },
     "execution_count": 8,
     "metadata": {},
     "output_type": "execute_result"
    }
   ],
   "source": [
    "# preprocess and extract dependant variable\n",
    "df, y, nas = process_dataframe(df_raw, y_fld='y')\n",
    "df.shape, y.shape, nas"
   ]
  },
  {
   "cell_type": "code",
   "execution_count": 9,
   "metadata": {},
   "outputs": [
    {
     "data": {
      "text/plain": [
       "((40, 1), (10, 1), (40,), (10,))"
      ]
     },
     "execution_count": 9,
     "metadata": {},
     "output_type": "execute_result"
    }
   ],
   "source": [
    "# do train/val split\n",
    "x_train, x_val = split_vals(df, 40)\n",
    "y_train, y_val = split_vals(y, 40)\n",
    "\n",
    "x_train.shape, x_val.shape, y_train.shape, y_val.shape"
   ]
  },
  {
   "cell_type": "code",
   "execution_count": 10,
   "metadata": {},
   "outputs": [],
   "source": [
    "m = RandomForestRegressor().fit(x_train, y_train)"
   ]
  },
  {
   "cell_type": "code",
   "execution_count": 11,
   "metadata": {},
   "outputs": [
    {
     "data": {
      "image/png": "[encoded data removed]",
      "text/plain": [
       "<Figure size 432x288 with 1 Axes>"
      ]
     },
     "metadata": {
      "needs_background": "light"
     },
     "output_type": "display_data"
    }
   ],
   "source": [
    "# let's compare predictions agains training data\n",
    "plt.scatter(y_train, m.predict(x_train));"
   ]
  },
  {
   "cell_type": "code",
   "execution_count": 12,
   "metadata": {},
   "outputs": [
    {
     "data": {
      "image/png": "[encoded data removed]",
      "text/plain": [
       "<Figure size 432x288 with 1 Axes>"
      ]
     },
     "metadata": {
      "needs_background": "light"
     },
     "output_type": "display_data"
    }
   ],
   "source": [
    "# let's do the same on validation data\n",
    "plt.scatter(y_val, m.predict(x_val));"
   ]
  },
  {
   "cell_type": "code",
   "execution_count": 13,
   "metadata": {},
   "outputs": [
    {
     "data": {
      "text/plain": [
       "-0.013724698323679174"
      ]
     },
     "execution_count": 13,
     "metadata": {},
     "output_type": "execute_result"
    }
   ],
   "source": [
    "m.score(x_val, y_val)"
   ]
  },
  {
   "cell_type": "markdown",
   "metadata": {},
   "source": [
    "Interesting right? It's because validation data is completely different from train data as we didn't generate a random sample, but rather split on what is essentially ordered data. As random forests basically split on values and average results in each leaf, the highest prediction possible is the highest value found inside the training data, but that will be only in a single tree. As random forests average their predictions, the actual result will be even lower"
   ]
  },
  {
   "cell_type": "code",
   "execution_count": 14,
   "metadata": {},
   "outputs": [
    {
     "data": {
      "text/plain": [
       "0.8884832381336294"
      ]
     },
     "execution_count": 14,
     "metadata": {},
     "output_type": "execute_result"
    }
   ],
   "source": [
    "y_train.max()"
   ]
  },
  {
   "cell_type": "code",
   "execution_count": 15,
   "metadata": {},
   "outputs": [
    {
     "data": {
      "text/plain": [
       "0.8631191207447074"
      ]
     },
     "execution_count": 15,
     "metadata": {},
     "output_type": "execute_result"
    }
   ],
   "source": [
    "m.predict(x_val).max()"
   ]
  },
  {
   "cell_type": "code",
   "execution_count": 16,
   "metadata": {},
   "outputs": [],
   "source": [
    "# let's try just one tree so it uses all the data\n",
    "m = RandomForestRegressor(n_estimators=1).fit(x_train, y_train)"
   ]
  },
  {
   "cell_type": "code",
   "execution_count": 17,
   "metadata": {},
   "outputs": [
    {
     "data": {
      "image/svg+xml": [
       "<?xml version=\"1.0\" encoding=\"UTF-8\" standalone=\"no\"?>\n",
       "<!DOCTYPE svg PUBLIC \"-//W3C//DTD SVG 1.1//EN\"\n",
       " \"http://www.w3.org/Graphics/SVG/1.1/DTD/svg11.dtd\">\n",
       "<!-- Generated by graphviz version 2.40.1 (20161225.0304)\n",
       " -->\n",
       "<!-- Title: Tree Pages: 1 -->\n",
       "<svg width=\"720pt\" height=\"433pt\"\n",
       " viewBox=\"0.00 0.00 720.00 433.03\" xmlns=\"http://www.w3.org/2000/svg\" xmlns:xlink=\"http://www.w3.org/1999/xlink\">\n",
       "<g id=\"graph0\" class=\"graph\" transform=\"scale(.3217 .3217) rotate(0) translate(4 1342)\">\n",
       "<title>Tree</title>\n",
       "<polygon fill=\"#ffffff\" stroke=\"transparent\" points=\"-4,4 -4,-1342 2234,-1342 2234,4 -4,4\"/>\n",
       "<!-- 0 -->\n",
       "<g id=\"node1\" class=\"node\">\n",
       "<title>0</title>\n",
       "<polygon fill=\"#e58139\" fill-opacity=\"0.482353\" stroke=\"#000000\" points=\"147,-750.5 57,-750.5 57,-682.5 147,-682.5 147,-750.5\"/>\n",
       "<text text-anchor=\"start\" x=\"75\" y=\"-735.3\" font-family=\"Times,serif\" font-size=\"14.00\" fill=\"#000000\">x ≤ 0.418</text>\n",
       "<text text-anchor=\"start\" x=\"67\" y=\"-720.3\" font-family=\"Times,serif\" font-size=\"14.00\" fill=\"#000000\">mse = 0.058</text>\n",
       "<text text-anchor=\"start\" x=\"65\" y=\"-705.3\" font-family=\"Times,serif\" font-size=\"14.00\" fill=\"#000000\">samples = 30</text>\n",
       "<text text-anchor=\"start\" x=\"67\" y=\"-690.3\" font-family=\"Times,serif\" font-size=\"14.00\" fill=\"#000000\">value = 0.43</text>\n",
       "</g>\n",
       "<!-- 1 -->\n",
       "<g id=\"node2\" class=\"node\">\n",
       "<title>1</title>\n",
       "<polygon fill=\"#e58139\" fill-opacity=\"0.258824\" stroke=\"#000000\" points=\"435,-1020.5 343,-1020.5 343,-952.5 435,-952.5 435,-1020.5\"/>\n",
       "<text text-anchor=\"start\" x=\"362\" y=\"-1005.3\" font-family=\"Times,serif\" font-size=\"14.00\" fill=\"#000000\">x ≤ 0.102</text>\n",
       "<text text-anchor=\"start\" x=\"354\" y=\"-990.3\" font-family=\"Times,serif\" font-size=\"14.00\" fill=\"#000000\">mse = 0.013</text>\n",
       "<text text-anchor=\"start\" x=\"352\" y=\"-975.3\" font-family=\"Times,serif\" font-size=\"14.00\" fill=\"#000000\">samples = 14</text>\n",
       "<text text-anchor=\"start\" x=\"351\" y=\"-960.3\" font-family=\"Times,serif\" font-size=\"14.00\" fill=\"#000000\">value = 0.231</text>\n",
       "</g>\n",
       "<!-- 0&#45;&gt;1 -->\n",
       "<g id=\"edge1\" class=\"edge\">\n",
       "<title>0&#45;&gt;1</title>\n",
       "<path fill=\"none\" stroke=\"#000000\" d=\"M138.3487,-750.6957C191.038,-800.264 288.5042,-891.9569 345.1228,-945.2218\"/>\n",
       "<polygon fill=\"#000000\" stroke=\"#000000\" points=\"342.8125,-947.8537 352.4942,-952.1566 347.6089,-942.7553 342.8125,-947.8537\"/>\n",
       "<text text-anchor=\"middle\" x=\"332.5035\" y=\"-949.0667\" font-family=\"Times,serif\" font-size=\"14.00\" fill=\"#000000\">True</text>\n",
       "</g>\n",
       "<!-- 28 -->\n",
       "<g id=\"node29\" class=\"node\">\n",
       "<title>28</title>\n",
       "<polygon fill=\"#e58139\" fill-opacity=\"0.705882\" stroke=\"#000000\" points=\"435,-486.5 343,-486.5 343,-418.5 435,-418.5 435,-486.5\"/>\n",
       "<text text-anchor=\"start\" x=\"362\" y=\"-471.3\" font-family=\"Times,serif\" font-size=\"14.00\" fill=\"#000000\">x ≤ 0.582</text>\n",
       "<text text-anchor=\"start\" x=\"354\" y=\"-456.3\" font-family=\"Times,serif\" font-size=\"14.00\" fill=\"#000000\">mse = 0.023</text>\n",
       "<text text-anchor=\"start\" x=\"352\" y=\"-441.3\" font-family=\"Times,serif\" font-size=\"14.00\" fill=\"#000000\">samples = 16</text>\n",
       "<text text-anchor=\"start\" x=\"351\" y=\"-426.3\" font-family=\"Times,serif\" font-size=\"14.00\" fill=\"#000000\">value = 0.628</text>\n",
       "</g>\n",
       "<!-- 0&#45;&gt;28 -->\n",
       "<g id=\"edge28\" class=\"edge\">\n",
       "<title>0&#45;&gt;28</title>\n",
       "<path fill=\"none\" stroke=\"#000000\" d=\"M139.226,-682.2573C191.8091,-633.8882 287.7049,-545.6774 344.1463,-493.7592\"/>\n",
       "<polygon fill=\"#000000\" stroke=\"#000000\" points=\"346.8496,-496.0281 351.84,-486.6821 342.1106,-490.8762 346.8496,-496.0281\"/>\n",
       "<text text-anchor=\"middle\" x=\"331.8574\" y=\"-482.1479\" font-family=\"Times,serif\" font-size=\"14.00\" fill=\"#000000\">False</text>\n",
       "</g>\n",
       "<!-- 2 -->\n",
       "<g id=\"node3\" class=\"node\">\n",
       "<title>2</title>\n",
       "<polygon fill=\"#e58139\" fill-opacity=\"0.129412\" stroke=\"#000000\" points=\"724,-1192.5 632,-1192.5 632,-1124.5 724,-1124.5 724,-1192.5\"/>\n",
       "<text text-anchor=\"start\" x=\"651\" y=\"-1177.3\" font-family=\"Times,serif\" font-size=\"14.00\" fill=\"#000000\">x ≤ 0.071</text>\n",
       "<text text-anchor=\"start\" x=\"643\" y=\"-1162.3\" font-family=\"Times,serif\" font-size=\"14.00\" fill=\"#000000\">mse = 0.009</text>\n",
       "<text text-anchor=\"start\" x=\"644.5\" y=\"-1147.3\" font-family=\"Times,serif\" font-size=\"14.00\" fill=\"#000000\">samples = 3</text>\n",
       "<text text-anchor=\"start\" x=\"640\" y=\"-1132.3\" font-family=\"Times,serif\" font-size=\"14.00\" fill=\"#000000\">value = 0.117</text>\n",
       "</g>\n",
       "<!-- 1&#45;&gt;2 -->\n",
       "<g id=\"edge2\" class=\"edge\">\n",
       "<title>1&#45;&gt;2</title>\n",
       "<path fill=\"none\" stroke=\"#000000\" d=\"M435.1125,-1013.9441C486.1358,-1044.3109 568.3272,-1093.2276 622.7522,-1125.619\"/>\n",
       "<polygon fill=\"#000000\" stroke=\"#000000\" points=\"621.1901,-1128.7622 631.5734,-1130.869 624.7702,-1122.747 621.1901,-1128.7622\"/>\n",
       "</g>\n",
       "<!-- 7 -->\n",
       "<g id=\"node8\" class=\"node\">\n",
       "<title>7</title>\n",
       "<polygon fill=\"#e58139\" fill-opacity=\"0.301961\" stroke=\"#000000\" points=\"724,-1020.5 632,-1020.5 632,-952.5 724,-952.5 724,-1020.5\"/>\n",
       "<text text-anchor=\"start\" x=\"651\" y=\"-1005.3\" font-family=\"Times,serif\" font-size=\"14.00\" fill=\"#000000\">x ≤ 0.235</text>\n",
       "<text text-anchor=\"start\" x=\"643\" y=\"-990.3\" font-family=\"Times,serif\" font-size=\"14.00\" fill=\"#000000\">mse = 0.009</text>\n",
       "<text text-anchor=\"start\" x=\"641\" y=\"-975.3\" font-family=\"Times,serif\" font-size=\"14.00\" fill=\"#000000\">samples = 11</text>\n",
       "<text text-anchor=\"start\" x=\"640\" y=\"-960.3\" font-family=\"Times,serif\" font-size=\"14.00\" fill=\"#000000\">value = 0.269</text>\n",
       "</g>\n",
       "<!-- 1&#45;&gt;7 -->\n",
       "<g id=\"edge7\" class=\"edge\">\n",
       "<title>1&#45;&gt;7</title>\n",
       "<path fill=\"none\" stroke=\"#000000\" d=\"M435.1125,-986.5C485.715,-986.5 566.9736,-986.5 621.4,-986.5\"/>\n",
       "<polygon fill=\"#000000\" stroke=\"#000000\" points=\"621.5734,-990.0001 631.5734,-986.5 621.5734,-983.0001 621.5734,-990.0001\"/>\n",
       "</g>\n",
       "<!-- 3 -->\n",
       "<g id=\"node4\" class=\"node\">\n",
       "<title>3</title>\n",
       "<polygon fill=\"#e58139\" fill-opacity=\"0.219608\" stroke=\"#000000\" points=\"1014,-1274.5 922,-1274.5 922,-1206.5 1014,-1206.5 1014,-1274.5\"/>\n",
       "<text text-anchor=\"start\" x=\"941\" y=\"-1259.3\" font-family=\"Times,serif\" font-size=\"14.00\" fill=\"#000000\">x ≤ 0.041</text>\n",
       "<text text-anchor=\"start\" x=\"940\" y=\"-1244.3\" font-family=\"Times,serif\" font-size=\"14.00\" fill=\"#000000\">mse = 0.0</text>\n",
       "<text text-anchor=\"start\" x=\"934.5\" y=\"-1229.3\" font-family=\"Times,serif\" font-size=\"14.00\" fill=\"#000000\">samples = 2</text>\n",
       "<text text-anchor=\"start\" x=\"930\" y=\"-1214.3\" font-family=\"Times,serif\" font-size=\"14.00\" fill=\"#000000\">value = 0.195</text>\n",
       "</g>\n",
       "<!-- 2&#45;&gt;3 -->\n",
       "<g id=\"edge3\" class=\"edge\">\n",
       "<title>2&#45;&gt;3</title>\n",
       "<path fill=\"none\" stroke=\"#000000\" d=\"M724.272,-1171.5838C775.3058,-1186.0141 857.4127,-1209.2305 912.0284,-1224.6736\"/>\n",
       "<polygon fill=\"#000000\" stroke=\"#000000\" points=\"911.3177,-1228.1098 921.8928,-1227.4628 913.2224,-1221.3739 911.3177,-1228.1098\"/>\n",
       "</g>\n",
       "<!-- 6 -->\n",
       "<g id=\"node7\" class=\"node\">\n",
       "<title>6</title>\n",
       "<polygon fill=\"transparent\" stroke=\"#000000\" points=\"1014,-1185 922,-1185 922,-1132 1014,-1132 1014,-1185\"/>\n",
       "<text text-anchor=\"start\" x=\"937.5\" y=\"-1169.8\" font-family=\"Times,serif\" font-size=\"14.00\" fill=\"#000000\">mse = &#45;0.0</text>\n",
       "<text text-anchor=\"start\" x=\"934.5\" y=\"-1154.8\" font-family=\"Times,serif\" font-size=\"14.00\" fill=\"#000000\">samples = 1</text>\n",
       "<text text-anchor=\"start\" x=\"930\" y=\"-1139.8\" font-family=\"Times,serif\" font-size=\"14.00\" fill=\"#000000\">value = 0.001</text>\n",
       "</g>\n",
       "<!-- 2&#45;&gt;6 -->\n",
       "<g id=\"edge6\" class=\"edge\">\n",
       "<title>2&#45;&gt;6</title>\n",
       "<path fill=\"none\" stroke=\"#000000\" d=\"M724.272,-1158.5C775.1999,-1158.5 857.0721,-1158.5 911.6882,-1158.5\"/>\n",
       "<polygon fill=\"#000000\" stroke=\"#000000\" points=\"911.8928,-1162.0001 921.8928,-1158.5 911.8928,-1155.0001 911.8928,-1162.0001\"/>\n",
       "</g>\n",
       "<!-- 4 -->\n",
       "<g id=\"node5\" class=\"node\">\n",
       "<title>4</title>\n",
       "<polygon fill=\"#e58139\" fill-opacity=\"0.235294\" stroke=\"#000000\" points=\"1300,-1338 1214,-1338 1214,-1285 1300,-1285 1300,-1338\"/>\n",
       "<text text-anchor=\"start\" x=\"1229\" y=\"-1322.8\" font-family=\"Times,serif\" font-size=\"14.00\" fill=\"#000000\">mse = 0.0</text>\n",
       "<text text-anchor=\"start\" x=\"1223.5\" y=\"-1307.8\" font-family=\"Times,serif\" font-size=\"14.00\" fill=\"#000000\">samples = 1</text>\n",
       "<text text-anchor=\"start\" x=\"1222\" y=\"-1292.8\" font-family=\"Times,serif\" font-size=\"14.00\" fill=\"#000000\">value = 0.21</text>\n",
       "</g>\n",
       "<!-- 3&#45;&gt;4 -->\n",
       "<g id=\"edge4\" class=\"edge\">\n",
       "<title>3&#45;&gt;4</title>\n",
       "<path fill=\"none\" stroke=\"#000000\" d=\"M1014.1125,-1251.8287C1065.8704,-1264.5443 1149.7001,-1285.1391 1204.0853,-1298.5002\"/>\n",
       "<polygon fill=\"#000000\" stroke=\"#000000\" points=\"1203.3369,-1301.9203 1213.8832,-1300.9073 1205.007,-1295.1225 1203.3369,-1301.9203\"/>\n",
       "</g>\n",
       "<!-- 5 -->\n",
       "<g id=\"node6\" class=\"node\">\n",
       "<title>5</title>\n",
       "<polygon fill=\"#e58139\" fill-opacity=\"0.184314\" stroke=\"#000000\" points=\"1303,-1267 1211,-1267 1211,-1214 1303,-1214 1303,-1267\"/>\n",
       "<text text-anchor=\"start\" x=\"1229\" y=\"-1251.8\" font-family=\"Times,serif\" font-size=\"14.00\" fill=\"#000000\">mse = 0.0</text>\n",
       "<text text-anchor=\"start\" x=\"1223.5\" y=\"-1236.8\" font-family=\"Times,serif\" font-size=\"14.00\" fill=\"#000000\">samples = 1</text>\n",
       "<text text-anchor=\"start\" x=\"1219\" y=\"-1221.8\" font-family=\"Times,serif\" font-size=\"14.00\" fill=\"#000000\">value = 0.163</text>\n",
       "</g>\n",
       "<!-- 3&#45;&gt;5 -->\n",
       "<g id=\"edge5\" class=\"edge\">\n",
       "<title>3&#45;&gt;5</title>\n",
       "<path fill=\"none\" stroke=\"#000000\" d=\"M1014.1125,-1240.5C1064.715,-1240.5 1145.9736,-1240.5 1200.4,-1240.5\"/>\n",
       "<polygon fill=\"#000000\" stroke=\"#000000\" points=\"1200.5734,-1244.0001 1210.5734,-1240.5 1200.5734,-1237.0001 1200.5734,-1244.0001\"/>\n",
       "</g>\n",
       "<!-- 8 -->\n",
       "<g id=\"node9\" class=\"node\">\n",
       "<title>8</title>\n",
       "<polygon fill=\"#e58139\" fill-opacity=\"0.247059\" stroke=\"#000000\" points=\"1014,-1077.5 922,-1077.5 922,-1009.5 1014,-1009.5 1014,-1077.5\"/>\n",
       "<text text-anchor=\"start\" x=\"941\" y=\"-1062.3\" font-family=\"Times,serif\" font-size=\"14.00\" fill=\"#000000\">x ≤ 0.153</text>\n",
       "<text text-anchor=\"start\" x=\"933\" y=\"-1047.3\" font-family=\"Times,serif\" font-size=\"14.00\" fill=\"#000000\">mse = 0.005</text>\n",
       "<text text-anchor=\"start\" x=\"934.5\" y=\"-1032.3\" font-family=\"Times,serif\" font-size=\"14.00\" fill=\"#000000\">samples = 5</text>\n",
       "<text text-anchor=\"start\" x=\"930\" y=\"-1017.3\" font-family=\"Times,serif\" font-size=\"14.00\" fill=\"#000000\">value = 0.221</text>\n",
       "</g>\n",
       "<!-- 7&#45;&gt;8 -->\n",
       "<g id=\"edge8\" class=\"edge\">\n",
       "<title>7&#45;&gt;8</title>\n",
       "<path fill=\"none\" stroke=\"#000000\" d=\"M724.272,-995.5948C775.3058,-1005.6256 857.4127,-1021.7639 912.0284,-1032.4987\"/>\n",
       "<polygon fill=\"#000000\" stroke=\"#000000\" points=\"911.4055,-1035.9431 921.8928,-1034.4375 912.7556,-1029.0746 911.4055,-1035.9431\"/>\n",
       "</g>\n",
       "<!-- 17 -->\n",
       "<g id=\"node18\" class=\"node\">\n",
       "<title>17</title>\n",
       "<polygon fill=\"#e58139\" fill-opacity=\"0.329412\" stroke=\"#000000\" points=\"1014,-963.5 922,-963.5 922,-895.5 1014,-895.5 1014,-963.5\"/>\n",
       "<text text-anchor=\"start\" x=\"941\" y=\"-948.3\" font-family=\"Times,serif\" font-size=\"14.00\" fill=\"#000000\">x ≤ 0.337</text>\n",
       "<text text-anchor=\"start\" x=\"933\" y=\"-933.3\" font-family=\"Times,serif\" font-size=\"14.00\" fill=\"#000000\">mse = 0.009</text>\n",
       "<text text-anchor=\"start\" x=\"934.5\" y=\"-918.3\" font-family=\"Times,serif\" font-size=\"14.00\" fill=\"#000000\">samples = 6</text>\n",
       "<text text-anchor=\"start\" x=\"930\" y=\"-903.3\" font-family=\"Times,serif\" font-size=\"14.00\" fill=\"#000000\">value = 0.293</text>\n",
       "</g>\n",
       "<!-- 7&#45;&gt;17 -->\n",
       "<g id=\"edge17\" class=\"edge\">\n",
       "<title>7&#45;&gt;17</title>\n",
       "<path fill=\"none\" stroke=\"#000000\" d=\"M724.272,-977.4052C775.3058,-967.3744 857.4127,-951.2361 912.0284,-940.5013\"/>\n",
       "<polygon fill=\"#000000\" stroke=\"#000000\" points=\"912.7556,-943.9254 921.8928,-938.5625 911.4055,-937.0569 912.7556,-943.9254\"/>\n",
       "</g>\n",
       "<!-- 9 -->\n",
       "<g id=\"node10\" class=\"node\">\n",
       "<title>9</title>\n",
       "<polygon fill=\"#e58139\" fill-opacity=\"0.294118\" stroke=\"#000000\" points=\"1303,-1195.5 1211,-1195.5 1211,-1127.5 1303,-1127.5 1303,-1195.5\"/>\n",
       "<text text-anchor=\"start\" x=\"1230\" y=\"-1180.3\" font-family=\"Times,serif\" font-size=\"14.00\" fill=\"#000000\">x ≤ 0.133</text>\n",
       "<text text-anchor=\"start\" x=\"1229\" y=\"-1165.3\" font-family=\"Times,serif\" font-size=\"14.00\" fill=\"#000000\">mse = 0.0</text>\n",
       "<text text-anchor=\"start\" x=\"1223.5\" y=\"-1150.3\" font-family=\"Times,serif\" font-size=\"14.00\" fill=\"#000000\">samples = 2</text>\n",
       "<text text-anchor=\"start\" x=\"1219\" y=\"-1135.3\" font-family=\"Times,serif\" font-size=\"14.00\" fill=\"#000000\">value = 0.263</text>\n",
       "</g>\n",
       "<!-- 8&#45;&gt;9 -->\n",
       "<g id=\"edge9\" class=\"edge\">\n",
       "<title>8&#45;&gt;9</title>\n",
       "<path fill=\"none\" stroke=\"#000000\" d=\"M1014.1125,-1062.3279C1064.9254,-1083.0751 1146.6498,-1116.4435 1201.0775,-1138.6666\"/>\n",
       "<polygon fill=\"#000000\" stroke=\"#000000\" points=\"1199.9923,-1142.004 1210.5734,-1142.5438 1202.6384,-1135.5234 1199.9923,-1142.004\"/>\n",
       "</g>\n",
       "<!-- 12 -->\n",
       "<g id=\"node13\" class=\"node\">\n",
       "<title>12</title>\n",
       "<polygon fill=\"#e58139\" fill-opacity=\"0.215686\" stroke=\"#000000\" points=\"1303,-1077.5 1211,-1077.5 1211,-1009.5 1303,-1009.5 1303,-1077.5\"/>\n",
       "<text text-anchor=\"start\" x=\"1230\" y=\"-1062.3\" font-family=\"Times,serif\" font-size=\"14.00\" fill=\"#000000\">x ≤ 0.173</text>\n",
       "<text text-anchor=\"start\" x=\"1222\" y=\"-1047.3\" font-family=\"Times,serif\" font-size=\"14.00\" fill=\"#000000\">mse = 0.007</text>\n",
       "<text text-anchor=\"start\" x=\"1223.5\" y=\"-1032.3\" font-family=\"Times,serif\" font-size=\"14.00\" fill=\"#000000\">samples = 3</text>\n",
       "<text text-anchor=\"start\" x=\"1219\" y=\"-1017.3\" font-family=\"Times,serif\" font-size=\"14.00\" fill=\"#000000\">value = 0.193</text>\n",
       "</g>\n",
       "<!-- 8&#45;&gt;12 -->\n",
       "<g id=\"edge12\" class=\"edge\">\n",
       "<title>8&#45;&gt;12</title>\n",
       "<path fill=\"none\" stroke=\"#000000\" d=\"M1014.1125,-1043.5C1064.715,-1043.5 1145.9736,-1043.5 1200.4,-1043.5\"/>\n",
       "<polygon fill=\"#000000\" stroke=\"#000000\" points=\"1200.5734,-1047.0001 1210.5734,-1043.5 1200.5734,-1040.0001 1200.5734,-1047.0001\"/>\n",
       "</g>\n",
       "<!-- 10 -->\n",
       "<g id=\"node11\" class=\"node\">\n",
       "<title>10</title>\n",
       "<polygon fill=\"#e58139\" fill-opacity=\"0.278431\" stroke=\"#000000\" points=\"1593,-1275 1501,-1275 1501,-1222 1593,-1222 1593,-1275\"/>\n",
       "<text text-anchor=\"start\" x=\"1519\" y=\"-1259.8\" font-family=\"Times,serif\" font-size=\"14.00\" fill=\"#000000\">mse = 0.0</text>\n",
       "<text text-anchor=\"start\" x=\"1513.5\" y=\"-1244.8\" font-family=\"Times,serif\" font-size=\"14.00\" fill=\"#000000\">samples = 1</text>\n",
       "<text text-anchor=\"start\" x=\"1509\" y=\"-1229.8\" font-family=\"Times,serif\" font-size=\"14.00\" fill=\"#000000\">value = 0.248</text>\n",
       "</g>\n",
       "<!-- 9&#45;&gt;10 -->\n",
       "<g id=\"edge10\" class=\"edge\">\n",
       "<title>9&#45;&gt;10</title>\n",
       "<path fill=\"none\" stroke=\"#000000\" d=\"M1303.272,-1175.3816C1354.3058,-1190.6917 1436.4127,-1215.3238 1491.0284,-1231.7085\"/>\n",
       "<polygon fill=\"#000000\" stroke=\"#000000\" points=\"1490.3088,-1235.1467 1500.8928,-1234.6678 1492.3203,-1228.4419 1490.3088,-1235.1467\"/>\n",
       "</g>\n",
       "<!-- 11 -->\n",
       "<g id=\"node12\" class=\"node\">\n",
       "<title>11</title>\n",
       "<polygon fill=\"#e58139\" fill-opacity=\"0.313725\" stroke=\"#000000\" points=\"1593,-1204 1501,-1204 1501,-1151 1593,-1151 1593,-1204\"/>\n",
       "<text text-anchor=\"start\" x=\"1516.5\" y=\"-1188.8\" font-family=\"Times,serif\" font-size=\"14.00\" fill=\"#000000\">mse = &#45;0.0</text>\n",
       "<text text-anchor=\"start\" x=\"1513.5\" y=\"-1173.8\" font-family=\"Times,serif\" font-size=\"14.00\" fill=\"#000000\">samples = 1</text>\n",
       "<text text-anchor=\"start\" x=\"1509\" y=\"-1158.8\" font-family=\"Times,serif\" font-size=\"14.00\" fill=\"#000000\">value = 0.279</text>\n",
       "</g>\n",
       "<!-- 9&#45;&gt;11 -->\n",
       "<g id=\"edge11\" class=\"edge\">\n",
       "<title>9&#45;&gt;11</title>\n",
       "<path fill=\"none\" stroke=\"#000000\" d=\"M1303.272,-1164.0529C1354.1999,-1166.8628 1436.0721,-1171.3798 1490.6882,-1174.3931\"/>\n",
       "<polygon fill=\"#000000\" stroke=\"#000000\" points=\"1490.7151,-1177.8999 1500.8928,-1174.9562 1491.1008,-1170.9105 1490.7151,-1177.8999\"/>\n",
       "</g>\n",
       "<!-- 13 -->\n",
       "<g id=\"node14\" class=\"node\">\n",
       "<title>13</title>\n",
       "<polygon fill=\"#e58139\" fill-opacity=\"0.105882\" stroke=\"#000000\" points=\"1593,-1133 1501,-1133 1501,-1080 1593,-1080 1593,-1133\"/>\n",
       "<text text-anchor=\"start\" x=\"1519\" y=\"-1117.8\" font-family=\"Times,serif\" font-size=\"14.00\" fill=\"#000000\">mse = 0.0</text>\n",
       "<text text-anchor=\"start\" x=\"1513.5\" y=\"-1102.8\" font-family=\"Times,serif\" font-size=\"14.00\" fill=\"#000000\">samples = 1</text>\n",
       "<text text-anchor=\"start\" x=\"1509\" y=\"-1087.8\" font-family=\"Times,serif\" font-size=\"14.00\" fill=\"#000000\">value = 0.097</text>\n",
       "</g>\n",
       "<!-- 12&#45;&gt;13 -->\n",
       "<g id=\"edge13\" class=\"edge\">\n",
       "<title>12&#45;&gt;13</title>\n",
       "<path fill=\"none\" stroke=\"#000000\" d=\"M1303.272,-1053.5522C1354.3058,-1064.6388 1436.4127,-1082.4759 1491.0284,-1094.3407\"/>\n",
       "<polygon fill=\"#000000\" stroke=\"#000000\" points=\"1490.3777,-1097.7809 1500.8928,-1096.4836 1491.8638,-1090.9404 1490.3777,-1097.7809\"/>\n",
       "</g>\n",
       "<!-- 14 -->\n",
       "<g id=\"node15\" class=\"node\">\n",
       "<title>14</title>\n",
       "<polygon fill=\"#e58139\" fill-opacity=\"0.270588\" stroke=\"#000000\" points=\"1593,-1061.5 1501,-1061.5 1501,-993.5 1593,-993.5 1593,-1061.5\"/>\n",
       "<text text-anchor=\"start\" x=\"1520\" y=\"-1046.3\" font-family=\"Times,serif\" font-size=\"14.00\" fill=\"#000000\">x ≤ 0.204</text>\n",
       "<text text-anchor=\"start\" x=\"1512\" y=\"-1031.3\" font-family=\"Times,serif\" font-size=\"14.00\" fill=\"#000000\">mse = 0.003</text>\n",
       "<text text-anchor=\"start\" x=\"1513.5\" y=\"-1016.3\" font-family=\"Times,serif\" font-size=\"14.00\" fill=\"#000000\">samples = 2</text>\n",
       "<text text-anchor=\"start\" x=\"1509\" y=\"-1001.3\" font-family=\"Times,serif\" font-size=\"14.00\" fill=\"#000000\">value = 0.241</text>\n",
       "</g>\n",
       "<!-- 12&#45;&gt;14 -->\n",
       "<g id=\"edge14\" class=\"edge\">\n",
       "<title>12&#45;&gt;14</title>\n",
       "<path fill=\"none\" stroke=\"#000000\" d=\"M1303.272,-1040.9471C1354.1999,-1038.1372 1436.0721,-1033.6202 1490.6882,-1030.6069\"/>\n",
       "<polygon fill=\"#000000\" stroke=\"#000000\" points=\"1491.1008,-1034.0895 1500.8928,-1030.0438 1490.7151,-1027.1001 1491.1008,-1034.0895\"/>\n",
       "</g>\n",
       "<!-- 15 -->\n",
       "<g id=\"node16\" class=\"node\">\n",
       "<title>15</title>\n",
       "<polygon fill=\"#e58139\" fill-opacity=\"0.337255\" stroke=\"#000000\" points=\"1877.5,-1089 1794.5,-1089 1794.5,-1036 1877.5,-1036 1877.5,-1089\"/>\n",
       "<text text-anchor=\"start\" x=\"1808\" y=\"-1073.8\" font-family=\"Times,serif\" font-size=\"14.00\" fill=\"#000000\">mse = 0.0</text>\n",
       "<text text-anchor=\"start\" x=\"1802.5\" y=\"-1058.8\" font-family=\"Times,serif\" font-size=\"14.00\" fill=\"#000000\">samples = 1</text>\n",
       "<text text-anchor=\"start\" x=\"1804.5\" y=\"-1043.8\" font-family=\"Times,serif\" font-size=\"14.00\" fill=\"#000000\">value = 0.3</text>\n",
       "</g>\n",
       "<!-- 14&#45;&gt;15 -->\n",
       "<g id=\"edge15\" class=\"edge\">\n",
       "<title>14&#45;&gt;15</title>\n",
       "<path fill=\"none\" stroke=\"#000000\" d=\"M1593.1125,-1033.0846C1645.2121,-1039.3942 1729.8086,-1049.6394 1784.1588,-1056.2216\"/>\n",
       "<polygon fill=\"#000000\" stroke=\"#000000\" points=\"1783.9252,-1059.7189 1794.2735,-1057.4466 1784.7669,-1052.7696 1783.9252,-1059.7189\"/>\n",
       "</g>\n",
       "<!-- 16 -->\n",
       "<g id=\"node17\" class=\"node\">\n",
       "<title>16</title>\n",
       "<polygon fill=\"#e58139\" fill-opacity=\"0.203922\" stroke=\"#000000\" points=\"1882,-1018 1790,-1018 1790,-965 1882,-965 1882,-1018\"/>\n",
       "<text text-anchor=\"start\" x=\"1808\" y=\"-1002.8\" font-family=\"Times,serif\" font-size=\"14.00\" fill=\"#000000\">mse = 0.0</text>\n",
       "<text text-anchor=\"start\" x=\"1802.5\" y=\"-987.8\" font-family=\"Times,serif\" font-size=\"14.00\" fill=\"#000000\">samples = 1</text>\n",
       "<text text-anchor=\"start\" x=\"1798\" y=\"-972.8\" font-family=\"Times,serif\" font-size=\"14.00\" fill=\"#000000\">value = 0.182</text>\n",
       "</g>\n",
       "<!-- 14&#45;&gt;16 -->\n",
       "<g id=\"edge16\" class=\"edge\">\n",
       "<title>14&#45;&gt;16</title>\n",
       "<path fill=\"none\" stroke=\"#000000\" d=\"M1593.1125,-1021.7559C1643.715,-1015.4525 1724.9736,-1005.3303 1779.4,-998.5505\"/>\n",
       "<polygon fill=\"#000000\" stroke=\"#000000\" points=\"1780.0828,-1001.9926 1789.5734,-997.2832 1779.2174,-995.0463 1780.0828,-1001.9926\"/>\n",
       "</g>\n",
       "<!-- 18 -->\n",
       "<g id=\"node19\" class=\"node\">\n",
       "<title>18</title>\n",
       "<polygon fill=\"#e58139\" fill-opacity=\"0.474510\" stroke=\"#000000\" points=\"1303,-963.5 1211,-963.5 1211,-895.5 1303,-895.5 1303,-963.5\"/>\n",
       "<text text-anchor=\"start\" x=\"1230\" y=\"-948.3\" font-family=\"Times,serif\" font-size=\"14.00\" fill=\"#000000\">x ≤ 0.286</text>\n",
       "<text text-anchor=\"start\" x=\"1222\" y=\"-933.3\" font-family=\"Times,serif\" font-size=\"14.00\" fill=\"#000000\">mse = 0.002</text>\n",
       "<text text-anchor=\"start\" x=\"1223.5\" y=\"-918.3\" font-family=\"Times,serif\" font-size=\"14.00\" fill=\"#000000\">samples = 2</text>\n",
       "<text text-anchor=\"start\" x=\"1219\" y=\"-903.3\" font-family=\"Times,serif\" font-size=\"14.00\" fill=\"#000000\">value = 0.422</text>\n",
       "</g>\n",
       "<!-- 17&#45;&gt;18 -->\n",
       "<g id=\"edge18\" class=\"edge\">\n",
       "<title>17&#45;&gt;18</title>\n",
       "<path fill=\"none\" stroke=\"#000000\" d=\"M1014.1125,-929.5C1064.715,-929.5 1145.9736,-929.5 1200.4,-929.5\"/>\n",
       "<polygon fill=\"#000000\" stroke=\"#000000\" points=\"1200.5734,-933.0001 1210.5734,-929.5 1200.5734,-926.0001 1200.5734,-933.0001\"/>\n",
       "</g>\n",
       "<!-- 21 -->\n",
       "<g id=\"node22\" class=\"node\">\n",
       "<title>21</title>\n",
       "<polygon fill=\"#e58139\" fill-opacity=\"0.266667\" stroke=\"#000000\" points=\"1303,-832.5 1211,-832.5 1211,-764.5 1303,-764.5 1303,-832.5\"/>\n",
       "<text text-anchor=\"start\" x=\"1230\" y=\"-817.3\" font-family=\"Times,serif\" font-size=\"14.00\" fill=\"#000000\">x ≤ 0.378</text>\n",
       "<text text-anchor=\"start\" x=\"1222\" y=\"-802.3\" font-family=\"Times,serif\" font-size=\"14.00\" fill=\"#000000\">mse = 0.001</text>\n",
       "<text text-anchor=\"start\" x=\"1223.5\" y=\"-787.3\" font-family=\"Times,serif\" font-size=\"14.00\" fill=\"#000000\">samples = 4</text>\n",
       "<text text-anchor=\"start\" x=\"1219\" y=\"-772.3\" font-family=\"Times,serif\" font-size=\"14.00\" fill=\"#000000\">value = 0.237</text>\n",
       "</g>\n",
       "<!-- 17&#45;&gt;21 -->\n",
       "<g id=\"edge21\" class=\"edge\">\n",
       "<title>17&#45;&gt;21</title>\n",
       "<path fill=\"none\" stroke=\"#000000\" d=\"M1014.1125,-908.5978C1065.0306,-885.5173 1146.9884,-848.3669 1201.4152,-823.6959\"/>\n",
       "<polygon fill=\"#000000\" stroke=\"#000000\" points=\"1202.9104,-826.861 1210.5734,-819.5446 1200.0204,-820.4854 1202.9104,-826.861\"/>\n",
       "</g>\n",
       "<!-- 19 -->\n",
       "<g id=\"node20\" class=\"node\">\n",
       "<title>19</title>\n",
       "<polygon fill=\"#e58139\" fill-opacity=\"0.435294\" stroke=\"#000000\" points=\"1593,-975 1501,-975 1501,-922 1593,-922 1593,-975\"/>\n",
       "<text text-anchor=\"start\" x=\"1519\" y=\"-959.8\" font-family=\"Times,serif\" font-size=\"14.00\" fill=\"#000000\">mse = 0.0</text>\n",
       "<text text-anchor=\"start\" x=\"1513.5\" y=\"-944.8\" font-family=\"Times,serif\" font-size=\"14.00\" fill=\"#000000\">samples = 1</text>\n",
       "<text text-anchor=\"start\" x=\"1509\" y=\"-929.8\" font-family=\"Times,serif\" font-size=\"14.00\" fill=\"#000000\">value = 0.388</text>\n",
       "</g>\n",
       "<!-- 18&#45;&gt;19 -->\n",
       "<g id=\"edge19\" class=\"edge\">\n",
       "<title>18&#45;&gt;19</title>\n",
       "<path fill=\"none\" stroke=\"#000000\" d=\"M1303.272,-932.5316C1354.1999,-935.8683 1436.0721,-941.2323 1490.6882,-944.8106\"/>\n",
       "<polygon fill=\"#000000\" stroke=\"#000000\" points=\"1490.6853,-948.3178 1500.8928,-945.4792 1491.143,-941.3328 1490.6853,-948.3178\"/>\n",
       "</g>\n",
       "<!-- 20 -->\n",
       "<g id=\"node21\" class=\"node\">\n",
       "<title>20</title>\n",
       "<polygon fill=\"#e58139\" fill-opacity=\"0.552941\" stroke=\"#000000\" points=\"1593,-904 1501,-904 1501,-851 1593,-851 1593,-904\"/>\n",
       "<text text-anchor=\"start\" x=\"1516.5\" y=\"-888.8\" font-family=\"Times,serif\" font-size=\"14.00\" fill=\"#000000\">mse = &#45;0.0</text>\n",
       "<text text-anchor=\"start\" x=\"1513.5\" y=\"-873.8\" font-family=\"Times,serif\" font-size=\"14.00\" fill=\"#000000\">samples = 1</text>\n",
       "<text text-anchor=\"start\" x=\"1509\" y=\"-858.8\" font-family=\"Times,serif\" font-size=\"14.00\" fill=\"#000000\">value = 0.491</text>\n",
       "</g>\n",
       "<!-- 18&#45;&gt;20 -->\n",
       "<g id=\"edge20\" class=\"edge\">\n",
       "<title>18&#45;&gt;20</title>\n",
       "<path fill=\"none\" stroke=\"#000000\" d=\"M1303.272,-921.2029C1354.3058,-912.0521 1436.4127,-897.3294 1491.0284,-887.5363\"/>\n",
       "<polygon fill=\"#000000\" stroke=\"#000000\" points=\"1491.6675,-890.9776 1500.8928,-885.7675 1490.432,-884.0875 1491.6675,-890.9776\"/>\n",
       "</g>\n",
       "<!-- 22 -->\n",
       "<g id=\"node23\" class=\"node\">\n",
       "<title>22</title>\n",
       "<polygon fill=\"#e58139\" fill-opacity=\"0.250980\" stroke=\"#000000\" points=\"1593,-832.5 1501,-832.5 1501,-764.5 1593,-764.5 1593,-832.5\"/>\n",
       "<text text-anchor=\"start\" x=\"1520\" y=\"-817.3\" font-family=\"Times,serif\" font-size=\"14.00\" fill=\"#000000\">x ≤ 0.357</text>\n",
       "<text text-anchor=\"start\" x=\"1519\" y=\"-802.3\" font-family=\"Times,serif\" font-size=\"14.00\" fill=\"#000000\">mse = 0.0</text>\n",
       "<text text-anchor=\"start\" x=\"1513.5\" y=\"-787.3\" font-family=\"Times,serif\" font-size=\"14.00\" fill=\"#000000\">samples = 2</text>\n",
       "<text text-anchor=\"start\" x=\"1509\" y=\"-772.3\" font-family=\"Times,serif\" font-size=\"14.00\" fill=\"#000000\">value = 0.226</text>\n",
       "</g>\n",
       "<!-- 21&#45;&gt;22 -->\n",
       "<g id=\"edge22\" class=\"edge\">\n",
       "<title>21&#45;&gt;22</title>\n",
       "<path fill=\"none\" stroke=\"#000000\" d=\"M1303.272,-798.5C1354.1999,-798.5 1436.0721,-798.5 1490.6882,-798.5\"/>\n",
       "<polygon fill=\"#000000\" stroke=\"#000000\" points=\"1490.8928,-802.0001 1500.8928,-798.5 1490.8928,-795.0001 1490.8928,-802.0001\"/>\n",
       "</g>\n",
       "<!-- 25 -->\n",
       "<g id=\"node26\" class=\"node\">\n",
       "<title>25</title>\n",
       "<polygon fill=\"#e58139\" fill-opacity=\"0.298039\" stroke=\"#000000\" points=\"1593,-746.5 1501,-746.5 1501,-678.5 1593,-678.5 1593,-746.5\"/>\n",
       "<text text-anchor=\"start\" x=\"1520\" y=\"-731.3\" font-family=\"Times,serif\" font-size=\"14.00\" fill=\"#000000\">x ≤ 0.398</text>\n",
       "<text text-anchor=\"start\" x=\"1512\" y=\"-716.3\" font-family=\"Times,serif\" font-size=\"14.00\" fill=\"#000000\">mse = 0.001</text>\n",
       "<text text-anchor=\"start\" x=\"1513.5\" y=\"-701.3\" font-family=\"Times,serif\" font-size=\"14.00\" fill=\"#000000\">samples = 2</text>\n",
       "<text text-anchor=\"start\" x=\"1509\" y=\"-686.3\" font-family=\"Times,serif\" font-size=\"14.00\" fill=\"#000000\">value = 0.266</text>\n",
       "</g>\n",
       "<!-- 21&#45;&gt;25 -->\n",
       "<g id=\"edge25\" class=\"edge\">\n",
       "<title>21&#45;&gt;25</title>\n",
       "<path fill=\"none\" stroke=\"#000000\" d=\"M1303.272,-784.7779C1354.3058,-769.6438 1436.4127,-745.2949 1491.0284,-729.0985\"/>\n",
       "<polygon fill=\"#000000\" stroke=\"#000000\" points=\"1492.3006,-732.3719 1500.8928,-726.1732 1490.3104,-725.6608 1492.3006,-732.3719\"/>\n",
       "</g>\n",
       "<!-- 23 -->\n",
       "<g id=\"node24\" class=\"node\">\n",
       "<title>23</title>\n",
       "<polygon fill=\"#e58139\" fill-opacity=\"0.270588\" stroke=\"#000000\" points=\"1882,-889 1790,-889 1790,-836 1882,-836 1882,-889\"/>\n",
       "<text text-anchor=\"start\" x=\"1808\" y=\"-873.8\" font-family=\"Times,serif\" font-size=\"14.00\" fill=\"#000000\">mse = 0.0</text>\n",
       "<text text-anchor=\"start\" x=\"1802.5\" y=\"-858.8\" font-family=\"Times,serif\" font-size=\"14.00\" fill=\"#000000\">samples = 1</text>\n",
       "<text text-anchor=\"start\" x=\"1798\" y=\"-843.8\" font-family=\"Times,serif\" font-size=\"14.00\" fill=\"#000000\">value = 0.242</text>\n",
       "</g>\n",
       "<!-- 22&#45;&gt;23 -->\n",
       "<g id=\"edge23\" class=\"edge\">\n",
       "<title>22&#45;&gt;23</title>\n",
       "<path fill=\"none\" stroke=\"#000000\" d=\"M1593.1125,-808.7118C1643.8202,-819.9412 1725.3116,-837.9877 1779.7391,-850.0408\"/>\n",
       "<polygon fill=\"#000000\" stroke=\"#000000\" points=\"1779.0532,-853.4737 1789.5734,-852.2187 1780.5667,-846.6392 1779.0532,-853.4737\"/>\n",
       "</g>\n",
       "<!-- 24 -->\n",
       "<g id=\"node25\" class=\"node\">\n",
       "<title>24</title>\n",
       "<polygon fill=\"#e58139\" fill-opacity=\"0.239216\" stroke=\"#000000\" points=\"1882,-818 1790,-818 1790,-765 1882,-765 1882,-818\"/>\n",
       "<text text-anchor=\"start\" x=\"1808\" y=\"-802.8\" font-family=\"Times,serif\" font-size=\"14.00\" fill=\"#000000\">mse = 0.0</text>\n",
       "<text text-anchor=\"start\" x=\"1802.5\" y=\"-787.8\" font-family=\"Times,serif\" font-size=\"14.00\" fill=\"#000000\">samples = 1</text>\n",
       "<text text-anchor=\"start\" x=\"1798\" y=\"-772.8\" font-family=\"Times,serif\" font-size=\"14.00\" fill=\"#000000\">value = 0.215</text>\n",
       "</g>\n",
       "<!-- 22&#45;&gt;24 -->\n",
       "<g id=\"edge24\" class=\"edge\">\n",
       "<title>22&#45;&gt;24</title>\n",
       "<path fill=\"none\" stroke=\"#000000\" d=\"M1593.1125,-797.3831C1643.715,-796.1574 1724.9736,-794.1892 1779.4,-792.8709\"/>\n",
       "<polygon fill=\"#000000\" stroke=\"#000000\" points=\"1779.6611,-796.3657 1789.5734,-792.6245 1779.4916,-789.3678 1779.6611,-796.3657\"/>\n",
       "</g>\n",
       "<!-- 26 -->\n",
       "<g id=\"node27\" class=\"node\">\n",
       "<title>26</title>\n",
       "<polygon fill=\"#e58139\" fill-opacity=\"0.341176\" stroke=\"#000000\" points=\"1882,-743 1790,-743 1790,-690 1882,-690 1882,-743\"/>\n",
       "<text text-anchor=\"start\" x=\"1808\" y=\"-727.8\" font-family=\"Times,serif\" font-size=\"14.00\" fill=\"#000000\">mse = 0.0</text>\n",
       "<text text-anchor=\"start\" x=\"1802.5\" y=\"-712.8\" font-family=\"Times,serif\" font-size=\"14.00\" fill=\"#000000\">samples = 1</text>\n",
       "<text text-anchor=\"start\" x=\"1798\" y=\"-697.8\" font-family=\"Times,serif\" font-size=\"14.00\" fill=\"#000000\">value = 0.304</text>\n",
       "</g>\n",
       "<!-- 25&#45;&gt;26 -->\n",
       "<g id=\"edge26\" class=\"edge\">\n",
       "<title>25&#45;&gt;26</title>\n",
       "<path fill=\"none\" stroke=\"#000000\" d=\"M1593.1125,-713.1382C1643.715,-713.8386 1724.9736,-714.9633 1779.4,-715.7166\"/>\n",
       "<polygon fill=\"#000000\" stroke=\"#000000\" points=\"1779.5259,-719.2186 1789.5734,-715.8574 1779.6228,-712.2193 1779.5259,-719.2186\"/>\n",
       "</g>\n",
       "<!-- 27 -->\n",
       "<g id=\"node28\" class=\"node\">\n",
       "<title>27</title>\n",
       "<polygon fill=\"#e58139\" fill-opacity=\"0.254902\" stroke=\"#000000\" points=\"1882,-672 1790,-672 1790,-619 1882,-619 1882,-672\"/>\n",
       "<text text-anchor=\"start\" x=\"1805.5\" y=\"-656.8\" font-family=\"Times,serif\" font-size=\"14.00\" fill=\"#000000\">mse = &#45;0.0</text>\n",
       "<text text-anchor=\"start\" x=\"1802.5\" y=\"-641.8\" font-family=\"Times,serif\" font-size=\"14.00\" fill=\"#000000\">samples = 1</text>\n",
       "<text text-anchor=\"start\" x=\"1798\" y=\"-626.8\" font-family=\"Times,serif\" font-size=\"14.00\" fill=\"#000000\">value = 0.228</text>\n",
       "</g>\n",
       "<!-- 25&#45;&gt;27 -->\n",
       "<g id=\"edge27\" class=\"edge\">\n",
       "<title>25&#45;&gt;27</title>\n",
       "<path fill=\"none\" stroke=\"#000000\" d=\"M1593.1125,-701.8096C1643.8202,-690.0538 1725.3116,-671.1613 1779.7391,-658.5432\"/>\n",
       "<polygon fill=\"#000000\" stroke=\"#000000\" points=\"1780.6223,-661.9313 1789.5734,-656.2633 1779.0413,-655.1122 1780.6223,-661.9313\"/>\n",
       "</g>\n",
       "<!-- 29 -->\n",
       "<g id=\"node30\" class=\"node\">\n",
       "<title>29</title>\n",
       "<polygon fill=\"#e58139\" fill-opacity=\"0.537255\" stroke=\"#000000\" points=\"724,-486.5 632,-486.5 632,-418.5 724,-418.5 724,-486.5\"/>\n",
       "<text text-anchor=\"start\" x=\"654.5\" y=\"-471.3\" font-family=\"Times,serif\" font-size=\"14.00\" fill=\"#000000\">x ≤ 0.52</text>\n",
       "<text text-anchor=\"start\" x=\"643\" y=\"-456.3\" font-family=\"Times,serif\" font-size=\"14.00\" fill=\"#000000\">mse = 0.007</text>\n",
       "<text text-anchor=\"start\" x=\"644.5\" y=\"-441.3\" font-family=\"Times,serif\" font-size=\"14.00\" fill=\"#000000\">samples = 6</text>\n",
       "<text text-anchor=\"start\" x=\"640\" y=\"-426.3\" font-family=\"Times,serif\" font-size=\"14.00\" fill=\"#000000\">value = 0.479</text>\n",
       "</g>\n",
       "<!-- 28&#45;&gt;29 -->\n",
       "<g id=\"edge29\" class=\"edge\">\n",
       "<title>28&#45;&gt;29</title>\n",
       "<path fill=\"none\" stroke=\"#000000\" d=\"M435.1125,-452.5C485.715,-452.5 566.9736,-452.5 621.4,-452.5\"/>\n",
       "<polygon fill=\"#000000\" stroke=\"#000000\" points=\"621.5734,-456.0001 631.5734,-452.5 621.5734,-449.0001 621.5734,-456.0001\"/>\n",
       "</g>\n",
       "<!-- 40 -->\n",
       "<g id=\"node41\" class=\"node\">\n",
       "<title>40</title>\n",
       "<polygon fill=\"#e58139\" fill-opacity=\"0.796078\" stroke=\"#000000\" points=\"724,-265.5 632,-265.5 632,-197.5 724,-197.5 724,-265.5\"/>\n",
       "<text text-anchor=\"start\" x=\"651\" y=\"-250.3\" font-family=\"Times,serif\" font-size=\"14.00\" fill=\"#000000\">x ≤ 0.724</text>\n",
       "<text text-anchor=\"start\" x=\"643\" y=\"-235.3\" font-family=\"Times,serif\" font-size=\"14.00\" fill=\"#000000\">mse = 0.014</text>\n",
       "<text text-anchor=\"start\" x=\"641\" y=\"-220.3\" font-family=\"Times,serif\" font-size=\"14.00\" fill=\"#000000\">samples = 10</text>\n",
       "<text text-anchor=\"start\" x=\"640\" y=\"-205.3\" font-family=\"Times,serif\" font-size=\"14.00\" fill=\"#000000\">value = 0.709</text>\n",
       "</g>\n",
       "<!-- 28&#45;&gt;40 -->\n",
       "<g id=\"edge40\" class=\"edge\">\n",
       "<title>28&#45;&gt;40</title>\n",
       "<path fill=\"none\" stroke=\"#000000\" d=\"M433.5229,-418.4531C485.1796,-378.9509 570.2708,-313.8812 625.2122,-271.8671\"/>\n",
       "<polygon fill=\"#000000\" stroke=\"#000000\" points=\"627.609,-274.4404 633.4265,-265.5856 623.3568,-268.8799 627.609,-274.4404\"/>\n",
       "</g>\n",
       "<!-- 30 -->\n",
       "<g id=\"node31\" class=\"node\">\n",
       "<title>30</title>\n",
       "<polygon fill=\"#e58139\" fill-opacity=\"0.576471\" stroke=\"#000000\" points=\"1014,-529.5 922,-529.5 922,-461.5 1014,-461.5 1014,-529.5\"/>\n",
       "<text text-anchor=\"start\" x=\"941\" y=\"-514.3\" font-family=\"Times,serif\" font-size=\"14.00\" fill=\"#000000\">x ≤ 0.469</text>\n",
       "<text text-anchor=\"start\" x=\"933\" y=\"-499.3\" font-family=\"Times,serif\" font-size=\"14.00\" fill=\"#000000\">mse = 0.006</text>\n",
       "<text text-anchor=\"start\" x=\"934.5\" y=\"-484.3\" font-family=\"Times,serif\" font-size=\"14.00\" fill=\"#000000\">samples = 4</text>\n",
       "<text text-anchor=\"start\" x=\"930\" y=\"-469.3\" font-family=\"Times,serif\" font-size=\"14.00\" fill=\"#000000\">value = 0.514</text>\n",
       "</g>\n",
       "<!-- 29&#45;&gt;30 -->\n",
       "<g id=\"edge30\" class=\"edge\">\n",
       "<title>29&#45;&gt;30</title>\n",
       "<path fill=\"none\" stroke=\"#000000\" d=\"M724.272,-459.361C775.1999,-466.9124 857.0721,-479.0521 911.6882,-487.1503\"/>\n",
       "<polygon fill=\"#000000\" stroke=\"#000000\" points=\"911.4876,-490.6588 921.8928,-488.6634 912.5143,-483.7345 911.4876,-490.6588\"/>\n",
       "</g>\n",
       "<!-- 37 -->\n",
       "<g id=\"node38\" class=\"node\">\n",
       "<title>37</title>\n",
       "<polygon fill=\"#e58139\" fill-opacity=\"0.486275\" stroke=\"#000000\" points=\"1014,-443.5 922,-443.5 922,-375.5 1014,-375.5 1014,-443.5\"/>\n",
       "<text text-anchor=\"start\" x=\"941\" y=\"-428.3\" font-family=\"Times,serif\" font-size=\"14.00\" fill=\"#000000\">x ≤ 0.551</text>\n",
       "<text text-anchor=\"start\" x=\"933\" y=\"-413.3\" font-family=\"Times,serif\" font-size=\"14.00\" fill=\"#000000\">mse = 0.003</text>\n",
       "<text text-anchor=\"start\" x=\"934.5\" y=\"-398.3\" font-family=\"Times,serif\" font-size=\"14.00\" fill=\"#000000\">samples = 2</text>\n",
       "<text text-anchor=\"start\" x=\"930\" y=\"-383.3\" font-family=\"Times,serif\" font-size=\"14.00\" fill=\"#000000\">value = 0.432</text>\n",
       "</g>\n",
       "<!-- 29&#45;&gt;37 -->\n",
       "<g id=\"edge37\" class=\"edge\">\n",
       "<title>29&#45;&gt;37</title>\n",
       "<path fill=\"none\" stroke=\"#000000\" d=\"M724.272,-445.639C775.1999,-438.0876 857.0721,-425.9479 911.6882,-417.8497\"/>\n",
       "<polygon fill=\"#000000\" stroke=\"#000000\" points=\"912.5143,-421.2655 921.8928,-416.3366 911.4876,-414.3412 912.5143,-421.2655\"/>\n",
       "</g>\n",
       "<!-- 31 -->\n",
       "<g id=\"node32\" class=\"node\">\n",
       "<title>31</title>\n",
       "<polygon fill=\"#e58139\" fill-opacity=\"0.509804\" stroke=\"#000000\" points=\"1303,-611.5 1211,-611.5 1211,-543.5 1303,-543.5 1303,-611.5\"/>\n",
       "<text text-anchor=\"start\" x=\"1230\" y=\"-596.3\" font-family=\"Times,serif\" font-size=\"14.00\" fill=\"#000000\">x ≤ 0.439</text>\n",
       "<text text-anchor=\"start\" x=\"1222\" y=\"-581.3\" font-family=\"Times,serif\" font-size=\"14.00\" fill=\"#000000\">mse = 0.004</text>\n",
       "<text text-anchor=\"start\" x=\"1223.5\" y=\"-566.3\" font-family=\"Times,serif\" font-size=\"14.00\" fill=\"#000000\">samples = 2</text>\n",
       "<text text-anchor=\"start\" x=\"1219\" y=\"-551.3\" font-family=\"Times,serif\" font-size=\"14.00\" fill=\"#000000\">value = 0.454</text>\n",
       "</g>\n",
       "<!-- 30&#45;&gt;31 -->\n",
       "<g id=\"edge31\" class=\"edge\">\n",
       "<title>30&#45;&gt;31</title>\n",
       "<path fill=\"none\" stroke=\"#000000\" d=\"M1014.1125,-508.5838C1064.8202,-522.9715 1146.3116,-546.0936 1200.7391,-561.5367\"/>\n",
       "<polygon fill=\"#000000\" stroke=\"#000000\" points=\"1199.9978,-564.9645 1210.5734,-564.3271 1201.9086,-558.2303 1199.9978,-564.9645\"/>\n",
       "</g>\n",
       "<!-- 34 -->\n",
       "<g id=\"node35\" class=\"node\">\n",
       "<title>34</title>\n",
       "<polygon fill=\"#e58139\" fill-opacity=\"0.647059\" stroke=\"#000000\" points=\"1303,-525.5 1211,-525.5 1211,-457.5 1303,-457.5 1303,-525.5\"/>\n",
       "<text text-anchor=\"start\" x=\"1237\" y=\"-510.3\" font-family=\"Times,serif\" font-size=\"14.00\" fill=\"#000000\">x ≤ 0.5</text>\n",
       "<text text-anchor=\"start\" x=\"1222\" y=\"-495.3\" font-family=\"Times,serif\" font-size=\"14.00\" fill=\"#000000\">mse = 0.001</text>\n",
       "<text text-anchor=\"start\" x=\"1223.5\" y=\"-480.3\" font-family=\"Times,serif\" font-size=\"14.00\" fill=\"#000000\">samples = 2</text>\n",
       "<text text-anchor=\"start\" x=\"1219\" y=\"-465.3\" font-family=\"Times,serif\" font-size=\"14.00\" fill=\"#000000\">value = 0.574</text>\n",
       "</g>\n",
       "<!-- 30&#45;&gt;34 -->\n",
       "<g id=\"edge34\" class=\"edge\">\n",
       "<title>30&#45;&gt;34</title>\n",
       "<path fill=\"none\" stroke=\"#000000\" d=\"M1014.1125,-494.8618C1064.715,-494.1614 1145.9736,-493.0367 1200.4,-492.2834\"/>\n",
       "<polygon fill=\"#000000\" stroke=\"#000000\" points=\"1200.6228,-495.7807 1210.5734,-492.1426 1200.5259,-488.7814 1200.6228,-495.7807\"/>\n",
       "</g>\n",
       "<!-- 32 -->\n",
       "<g id=\"node33\" class=\"node\">\n",
       "<title>32</title>\n",
       "<polygon fill=\"#e58139\" fill-opacity=\"0.580392\" stroke=\"#000000\" points=\"1593,-660 1501,-660 1501,-607 1593,-607 1593,-660\"/>\n",
       "<text text-anchor=\"start\" x=\"1519\" y=\"-644.8\" font-family=\"Times,serif\" font-size=\"14.00\" fill=\"#000000\">mse = 0.0</text>\n",
       "<text text-anchor=\"start\" x=\"1513.5\" y=\"-629.8\" font-family=\"Times,serif\" font-size=\"14.00\" fill=\"#000000\">samples = 1</text>\n",
       "<text text-anchor=\"start\" x=\"1509\" y=\"-614.8\" font-family=\"Times,serif\" font-size=\"14.00\" fill=\"#000000\">value = 0.517</text>\n",
       "</g>\n",
       "<!-- 31&#45;&gt;32 -->\n",
       "<g id=\"edge32\" class=\"edge\">\n",
       "<title>31&#45;&gt;32</title>\n",
       "<path fill=\"none\" stroke=\"#000000\" d=\"M1303.272,-586.4353C1354.3058,-596.2901 1436.4127,-612.1452 1491.0284,-622.6917\"/>\n",
       "<polygon fill=\"#000000\" stroke=\"#000000\" points=\"1490.4105,-626.137 1500.8928,-624.5965 1491.7378,-619.2639 1490.4105,-626.137\"/>\n",
       "</g>\n",
       "<!-- 33 -->\n",
       "<g id=\"node34\" class=\"node\">\n",
       "<title>33</title>\n",
       "<polygon fill=\"#e58139\" fill-opacity=\"0.439216\" stroke=\"#000000\" points=\"1590,-589 1504,-589 1504,-536 1590,-536 1590,-589\"/>\n",
       "<text text-anchor=\"start\" x=\"1519\" y=\"-573.8\" font-family=\"Times,serif\" font-size=\"14.00\" fill=\"#000000\">mse = 0.0</text>\n",
       "<text text-anchor=\"start\" x=\"1513.5\" y=\"-558.8\" font-family=\"Times,serif\" font-size=\"14.00\" fill=\"#000000\">samples = 1</text>\n",
       "<text text-anchor=\"start\" x=\"1512\" y=\"-543.8\" font-family=\"Times,serif\" font-size=\"14.00\" fill=\"#000000\">value = 0.39</text>\n",
       "</g>\n",
       "<!-- 31&#45;&gt;33 -->\n",
       "<g id=\"edge33\" class=\"edge\">\n",
       "<title>31&#45;&gt;33</title>\n",
       "<path fill=\"none\" stroke=\"#000000\" d=\"M1303.272,-575.1066C1355.1013,-572.4258 1438.98,-568.0872 1493.5622,-565.264\"/>\n",
       "<polygon fill=\"#000000\" stroke=\"#000000\" points=\"1493.9282,-568.7499 1503.734,-564.7379 1493.5665,-561.7592 1493.9282,-568.7499\"/>\n",
       "</g>\n",
       "<!-- 35 -->\n",
       "<g id=\"node36\" class=\"node\">\n",
       "<title>35</title>\n",
       "<polygon fill=\"#e58139\" fill-opacity=\"0.690196\" stroke=\"#000000\" points=\"1593,-518 1501,-518 1501,-465 1593,-465 1593,-518\"/>\n",
       "<text text-anchor=\"start\" x=\"1519\" y=\"-502.8\" font-family=\"Times,serif\" font-size=\"14.00\" fill=\"#000000\">mse = 0.0</text>\n",
       "<text text-anchor=\"start\" x=\"1513.5\" y=\"-487.8\" font-family=\"Times,serif\" font-size=\"14.00\" fill=\"#000000\">samples = 1</text>\n",
       "<text text-anchor=\"start\" x=\"1509\" y=\"-472.8\" font-family=\"Times,serif\" font-size=\"14.00\" fill=\"#000000\">value = 0.612</text>\n",
       "</g>\n",
       "<!-- 34&#45;&gt;35 -->\n",
       "<g id=\"edge35\" class=\"edge\">\n",
       "<title>34&#45;&gt;35</title>\n",
       "<path fill=\"none\" stroke=\"#000000\" d=\"M1303.272,-491.5C1354.1999,-491.5 1436.0721,-491.5 1490.6882,-491.5\"/>\n",
       "<polygon fill=\"#000000\" stroke=\"#000000\" points=\"1490.8928,-495.0001 1500.8928,-491.5 1490.8928,-488.0001 1490.8928,-495.0001\"/>\n",
       "</g>\n",
       "<!-- 36 -->\n",
       "<g id=\"node37\" class=\"node\">\n",
       "<title>36</title>\n",
       "<polygon fill=\"#e58139\" fill-opacity=\"0.603922\" stroke=\"#000000\" points=\"1593,-447 1501,-447 1501,-394 1593,-394 1593,-447\"/>\n",
       "<text text-anchor=\"start\" x=\"1516.5\" y=\"-431.8\" font-family=\"Times,serif\" font-size=\"14.00\" fill=\"#000000\">mse = &#45;0.0</text>\n",
       "<text text-anchor=\"start\" x=\"1513.5\" y=\"-416.8\" font-family=\"Times,serif\" font-size=\"14.00\" fill=\"#000000\">samples = 1</text>\n",
       "<text text-anchor=\"start\" x=\"1509\" y=\"-401.8\" font-family=\"Times,serif\" font-size=\"14.00\" fill=\"#000000\">value = 0.536</text>\n",
       "</g>\n",
       "<!-- 34&#45;&gt;36 -->\n",
       "<g id=\"edge36\" class=\"edge\">\n",
       "<title>34&#45;&gt;36</title>\n",
       "<path fill=\"none\" stroke=\"#000000\" d=\"M1303.272,-480.1713C1354.3058,-467.6769 1436.4127,-447.5748 1491.0284,-434.2034\"/>\n",
       "<polygon fill=\"#000000\" stroke=\"#000000\" points=\"1492.012,-437.566 1500.8928,-431.7883 1490.3473,-430.7668 1492.012,-437.566\"/>\n",
       "</g>\n",
       "<!-- 38 -->\n",
       "<g id=\"node39\" class=\"node\">\n",
       "<title>38</title>\n",
       "<polygon fill=\"#e58139\" fill-opacity=\"0.400000\" stroke=\"#000000\" points=\"1303,-439 1211,-439 1211,-386 1303,-386 1303,-439\"/>\n",
       "<text text-anchor=\"start\" x=\"1229\" y=\"-423.8\" font-family=\"Times,serif\" font-size=\"14.00\" fill=\"#000000\">mse = 0.0</text>\n",
       "<text text-anchor=\"start\" x=\"1223.5\" y=\"-408.8\" font-family=\"Times,serif\" font-size=\"14.00\" fill=\"#000000\">samples = 1</text>\n",
       "<text text-anchor=\"start\" x=\"1219\" y=\"-393.8\" font-family=\"Times,serif\" font-size=\"14.00\" fill=\"#000000\">value = 0.356</text>\n",
       "</g>\n",
       "<!-- 37&#45;&gt;38 -->\n",
       "<g id=\"edge38\" class=\"edge\">\n",
       "<title>37&#45;&gt;38</title>\n",
       "<path fill=\"none\" stroke=\"#000000\" d=\"M1014.1125,-409.9787C1064.715,-410.504 1145.9736,-411.3475 1200.4,-411.9125\"/>\n",
       "<polygon fill=\"#000000\" stroke=\"#000000\" points=\"1200.5376,-415.414 1210.5734,-412.0181 1200.6103,-408.4144 1200.5376,-415.414\"/>\n",
       "</g>\n",
       "<!-- 39 -->\n",
       "<g id=\"node40\" class=\"node\">\n",
       "<title>39</title>\n",
       "<polygon fill=\"#e58139\" fill-opacity=\"0.529412\" stroke=\"#000000\" points=\"1303,-368 1211,-368 1211,-315 1303,-315 1303,-368\"/>\n",
       "<text text-anchor=\"start\" x=\"1229\" y=\"-352.8\" font-family=\"Times,serif\" font-size=\"14.00\" fill=\"#000000\">mse = 0.0</text>\n",
       "<text text-anchor=\"start\" x=\"1223.5\" y=\"-337.8\" font-family=\"Times,serif\" font-size=\"14.00\" fill=\"#000000\">samples = 1</text>\n",
       "<text text-anchor=\"start\" x=\"1219\" y=\"-322.8\" font-family=\"Times,serif\" font-size=\"14.00\" fill=\"#000000\">value = 0.471</text>\n",
       "</g>\n",
       "<!-- 37&#45;&gt;39 -->\n",
       "<g id=\"edge39\" class=\"edge\">\n",
       "<title>37&#45;&gt;39</title>\n",
       "<path fill=\"none\" stroke=\"#000000\" d=\"M1014.1125,-398.65C1064.8202,-386.7188 1146.3116,-367.5443 1200.7391,-354.7379\"/>\n",
       "<polygon fill=\"#000000\" stroke=\"#000000\" points=\"1201.6409,-358.1213 1210.5734,-352.4239 1200.0376,-351.3074 1201.6409,-358.1213\"/>\n",
       "</g>\n",
       "<!-- 41 -->\n",
       "<g id=\"node42\" class=\"node\">\n",
       "<title>41</title>\n",
       "<polygon fill=\"#e58139\" fill-opacity=\"0.729412\" stroke=\"#000000\" points=\"1011,-265.5 925,-265.5 925,-197.5 1011,-197.5 1011,-265.5\"/>\n",
       "<text text-anchor=\"start\" x=\"941\" y=\"-250.3\" font-family=\"Times,serif\" font-size=\"14.00\" fill=\"#000000\">x ≤ 0.602</text>\n",
       "<text text-anchor=\"start\" x=\"933\" y=\"-235.3\" font-family=\"Times,serif\" font-size=\"14.00\" fill=\"#000000\">mse = 0.012</text>\n",
       "<text text-anchor=\"start\" x=\"934.5\" y=\"-220.3\" font-family=\"Times,serif\" font-size=\"14.00\" fill=\"#000000\">samples = 6</text>\n",
       "<text text-anchor=\"start\" x=\"933\" y=\"-205.3\" font-family=\"Times,serif\" font-size=\"14.00\" fill=\"#000000\">value = 0.65</text>\n",
       "</g>\n",
       "<!-- 40&#45;&gt;41 -->\n",
       "<g id=\"edge41\" class=\"edge\">\n",
       "<title>40&#45;&gt;41</title>\n",
       "<path fill=\"none\" stroke=\"#000000\" d=\"M724.272,-231.5C776.1013,-231.5 859.98,-231.5 914.5622,-231.5\"/>\n",
       "<polygon fill=\"#000000\" stroke=\"#000000\" points=\"914.7341,-235.0001 924.734,-231.5 914.734,-228.0001 914.7341,-235.0001\"/>\n",
       "</g>\n",
       "<!-- 52 -->\n",
       "<g id=\"node53\" class=\"node\">\n",
       "<title>52</title>\n",
       "<polygon fill=\"#e58139\" fill-opacity=\"0.901961\" stroke=\"#000000\" points=\"1014,-139.5 922,-139.5 922,-71.5 1014,-71.5 1014,-139.5\"/>\n",
       "<text text-anchor=\"start\" x=\"941\" y=\"-124.3\" font-family=\"Times,serif\" font-size=\"14.00\" fill=\"#000000\">x ≤ 0.786</text>\n",
       "<text text-anchor=\"start\" x=\"933\" y=\"-109.3\" font-family=\"Times,serif\" font-size=\"14.00\" fill=\"#000000\">mse = 0.003</text>\n",
       "<text text-anchor=\"start\" x=\"934.5\" y=\"-94.3\" font-family=\"Times,serif\" font-size=\"14.00\" fill=\"#000000\">samples = 4</text>\n",
       "<text text-anchor=\"start\" x=\"930\" y=\"-79.3\" font-family=\"Times,serif\" font-size=\"14.00\" fill=\"#000000\">value = 0.803</text>\n",
       "</g>\n",
       "<!-- 40&#45;&gt;52 -->\n",
       "<g id=\"edge52\" class=\"edge\">\n",
       "<title>40&#45;&gt;52</title>\n",
       "<path fill=\"none\" stroke=\"#000000\" d=\"M724.272,-211.3956C775.5175,-189.1303 858.0946,-153.252 912.7069,-129.5239\"/>\n",
       "<polygon fill=\"#000000\" stroke=\"#000000\" points=\"914.1158,-132.7279 921.8928,-125.5328 911.3263,-126.3077 914.1158,-132.7279\"/>\n",
       "</g>\n",
       "<!-- 42 -->\n",
       "<g id=\"node43\" class=\"node\">\n",
       "<title>42</title>\n",
       "<polygon fill=\"#e58139\" fill-opacity=\"0.811765\" stroke=\"#000000\" points=\"1303,-297 1211,-297 1211,-244 1303,-244 1303,-297\"/>\n",
       "<text text-anchor=\"start\" x=\"1229\" y=\"-281.8\" font-family=\"Times,serif\" font-size=\"14.00\" fill=\"#000000\">mse = 0.0</text>\n",
       "<text text-anchor=\"start\" x=\"1223.5\" y=\"-266.8\" font-family=\"Times,serif\" font-size=\"14.00\" fill=\"#000000\">samples = 1</text>\n",
       "<text text-anchor=\"start\" x=\"1219\" y=\"-251.8\" font-family=\"Times,serif\" font-size=\"14.00\" fill=\"#000000\">value = 0.723</text>\n",
       "</g>\n",
       "<!-- 41&#45;&gt;42 -->\n",
       "<g id=\"edge42\" class=\"edge\">\n",
       "<title>41&#45;&gt;42</title>\n",
       "<path fill=\"none\" stroke=\"#000000\" d=\"M1011.2662,-237.3387C1061.6668,-244.1402 1145.0879,-255.3977 1200.5465,-262.8817\"/>\n",
       "<polygon fill=\"#000000\" stroke=\"#000000\" points=\"1200.1839,-266.3644 1210.5621,-264.2333 1201.1201,-259.4273 1200.1839,-266.3644\"/>\n",
       "</g>\n",
       "<!-- 43 -->\n",
       "<g id=\"node44\" class=\"node\">\n",
       "<title>43</title>\n",
       "<polygon fill=\"#e58139\" fill-opacity=\"0.701961\" stroke=\"#000000\" points=\"1303,-225.5 1211,-225.5 1211,-157.5 1303,-157.5 1303,-225.5\"/>\n",
       "<text text-anchor=\"start\" x=\"1230\" y=\"-210.3\" font-family=\"Times,serif\" font-size=\"14.00\" fill=\"#000000\">x ≤ 0.633</text>\n",
       "<text text-anchor=\"start\" x=\"1222\" y=\"-195.3\" font-family=\"Times,serif\" font-size=\"14.00\" fill=\"#000000\">mse = 0.014</text>\n",
       "<text text-anchor=\"start\" x=\"1223.5\" y=\"-180.3\" font-family=\"Times,serif\" font-size=\"14.00\" fill=\"#000000\">samples = 5</text>\n",
       "<text text-anchor=\"start\" x=\"1219\" y=\"-165.3\" font-family=\"Times,serif\" font-size=\"14.00\" fill=\"#000000\">value = 0.626</text>\n",
       "</g>\n",
       "<!-- 41&#45;&gt;43 -->\n",
       "<g id=\"edge43\" class=\"edge\">\n",
       "<title>41&#45;&gt;43</title>\n",
       "<path fill=\"none\" stroke=\"#000000\" d=\"M1011.2662,-225.5116C1061.6668,-218.5357 1145.0879,-206.9896 1200.5465,-199.3136\"/>\n",
       "<polygon fill=\"#000000\" stroke=\"#000000\" points=\"1201.1365,-202.7654 1210.5621,-197.9274 1200.1767,-195.8315 1201.1365,-202.7654\"/>\n",
       "</g>\n",
       "<!-- 44 -->\n",
       "<g id=\"node45\" class=\"node\">\n",
       "<title>44</title>\n",
       "<polygon fill=\"#e58139\" fill-opacity=\"0.466667\" stroke=\"#000000\" points=\"1593,-297 1501,-297 1501,-244 1593,-244 1593,-297\"/>\n",
       "<text text-anchor=\"start\" x=\"1519\" y=\"-281.8\" font-family=\"Times,serif\" font-size=\"14.00\" fill=\"#000000\">mse = 0.0</text>\n",
       "<text text-anchor=\"start\" x=\"1513.5\" y=\"-266.8\" font-family=\"Times,serif\" font-size=\"14.00\" fill=\"#000000\">samples = 1</text>\n",
       "<text text-anchor=\"start\" x=\"1509\" y=\"-251.8\" font-family=\"Times,serif\" font-size=\"14.00\" fill=\"#000000\">value = 0.417</text>\n",
       "</g>\n",
       "<!-- 43&#45;&gt;44 -->\n",
       "<g id=\"edge44\" class=\"edge\">\n",
       "<title>43&#45;&gt;44</title>\n",
       "<path fill=\"none\" stroke=\"#000000\" d=\"M1303.272,-204.1051C1354.3058,-218.0074 1436.4127,-240.3745 1491.0284,-255.2526\"/>\n",
       "<polygon fill=\"#000000\" stroke=\"#000000\" points=\"1490.3244,-258.6883 1500.8928,-257.9398 1492.1643,-251.9344 1490.3244,-258.6883\"/>\n",
       "</g>\n",
       "<!-- 45 -->\n",
       "<g id=\"node46\" class=\"node\">\n",
       "<title>45</title>\n",
       "<polygon fill=\"#e58139\" fill-opacity=\"0.749020\" stroke=\"#000000\" points=\"1593,-225.5 1501,-225.5 1501,-157.5 1593,-157.5 1593,-225.5\"/>\n",
       "<text text-anchor=\"start\" x=\"1520\" y=\"-210.3\" font-family=\"Times,serif\" font-size=\"14.00\" fill=\"#000000\">x ≤ 0.684</text>\n",
       "<text text-anchor=\"start\" x=\"1512\" y=\"-195.3\" font-family=\"Times,serif\" font-size=\"14.00\" fill=\"#000000\">mse = 0.006</text>\n",
       "<text text-anchor=\"start\" x=\"1513.5\" y=\"-180.3\" font-family=\"Times,serif\" font-size=\"14.00\" fill=\"#000000\">samples = 4</text>\n",
       "<text text-anchor=\"start\" x=\"1509\" y=\"-165.3\" font-family=\"Times,serif\" font-size=\"14.00\" fill=\"#000000\">value = 0.667</text>\n",
       "</g>\n",
       "<!-- 43&#45;&gt;45 -->\n",
       "<g id=\"edge45\" class=\"edge\">\n",
       "<title>43&#45;&gt;45</title>\n",
       "<path fill=\"none\" stroke=\"#000000\" d=\"M1303.272,-191.5C1354.1999,-191.5 1436.0721,-191.5 1490.6882,-191.5\"/>\n",
       "<polygon fill=\"#000000\" stroke=\"#000000\" points=\"1490.8928,-195.0001 1500.8928,-191.5 1490.8928,-188.0001 1490.8928,-195.0001\"/>\n",
       "</g>\n",
       "<!-- 46 -->\n",
       "<g id=\"node47\" class=\"node\">\n",
       "<title>46</title>\n",
       "<polygon fill=\"#e58139\" fill-opacity=\"0.847059\" stroke=\"#000000\" points=\"1882,-308.5 1790,-308.5 1790,-240.5 1882,-240.5 1882,-308.5\"/>\n",
       "<text text-anchor=\"start\" x=\"1809\" y=\"-293.3\" font-family=\"Times,serif\" font-size=\"14.00\" fill=\"#000000\">x ≤ 0.663</text>\n",
       "<text text-anchor=\"start\" x=\"1808\" y=\"-278.3\" font-family=\"Times,serif\" font-size=\"14.00\" fill=\"#000000\">mse = 0.0</text>\n",
       "<text text-anchor=\"start\" x=\"1802.5\" y=\"-263.3\" font-family=\"Times,serif\" font-size=\"14.00\" fill=\"#000000\">samples = 2</text>\n",
       "<text text-anchor=\"start\" x=\"1798\" y=\"-248.3\" font-family=\"Times,serif\" font-size=\"14.00\" fill=\"#000000\">value = 0.754</text>\n",
       "</g>\n",
       "<!-- 45&#45;&gt;46 -->\n",
       "<g id=\"edge46\" class=\"edge\">\n",
       "<title>45&#45;&gt;46</title>\n",
       "<path fill=\"none\" stroke=\"#000000\" d=\"M1593.1125,-204.7434C1643.8202,-219.3065 1725.3116,-242.7106 1779.7391,-258.342\"/>\n",
       "<polygon fill=\"#000000\" stroke=\"#000000\" points=\"1778.9958,-261.77 1789.5734,-261.1664 1780.9281,-255.0419 1778.9958,-261.77\"/>\n",
       "</g>\n",
       "<!-- 49 -->\n",
       "<g id=\"node50\" class=\"node\">\n",
       "<title>49</title>\n",
       "<polygon fill=\"#e58139\" fill-opacity=\"0.686275\" stroke=\"#000000\" points=\"1882,-222.5 1790,-222.5 1790,-154.5 1882,-154.5 1882,-222.5\"/>\n",
       "<text text-anchor=\"start\" x=\"1809\" y=\"-207.3\" font-family=\"Times,serif\" font-size=\"14.00\" fill=\"#000000\">x ≤ 0.704</text>\n",
       "<text text-anchor=\"start\" x=\"1801\" y=\"-192.3\" font-family=\"Times,serif\" font-size=\"14.00\" fill=\"#000000\">mse = 0.002</text>\n",
       "<text text-anchor=\"start\" x=\"1802.5\" y=\"-177.3\" font-family=\"Times,serif\" font-size=\"14.00\" fill=\"#000000\">samples = 2</text>\n",
       "<text text-anchor=\"start\" x=\"1798\" y=\"-162.3\" font-family=\"Times,serif\" font-size=\"14.00\" fill=\"#000000\">value = 0.609</text>\n",
       "</g>\n",
       "<!-- 45&#45;&gt;49 -->\n",
       "<g id=\"edge49\" class=\"edge\">\n",
       "<title>45&#45;&gt;49</title>\n",
       "<path fill=\"none\" stroke=\"#000000\" d=\"M1593.1125,-191.0213C1643.715,-190.496 1724.9736,-189.6525 1779.4,-189.0875\"/>\n",
       "<polygon fill=\"#000000\" stroke=\"#000000\" points=\"1779.6103,-192.5856 1789.5734,-188.9819 1779.5376,-185.586 1779.6103,-192.5856\"/>\n",
       "</g>\n",
       "<!-- 47 -->\n",
       "<g id=\"node48\" class=\"node\">\n",
       "<title>47</title>\n",
       "<polygon fill=\"#e58139\" fill-opacity=\"0.854902\" stroke=\"#000000\" points=\"2172,-368 2080,-368 2080,-315 2172,-315 2172,-368\"/>\n",
       "<text text-anchor=\"start\" x=\"2098\" y=\"-352.8\" font-family=\"Times,serif\" font-size=\"14.00\" fill=\"#000000\">mse = 0.0</text>\n",
       "<text text-anchor=\"start\" x=\"2092.5\" y=\"-337.8\" font-family=\"Times,serif\" font-size=\"14.00\" fill=\"#000000\">samples = 1</text>\n",
       "<text text-anchor=\"start\" x=\"2088\" y=\"-322.8\" font-family=\"Times,serif\" font-size=\"14.00\" fill=\"#000000\">value = 0.761</text>\n",
       "</g>\n",
       "<!-- 46&#45;&gt;47 -->\n",
       "<g id=\"edge47\" class=\"edge\">\n",
       "<title>46&#45;&gt;47</title>\n",
       "<path fill=\"none\" stroke=\"#000000\" d=\"M1882.272,-285.1904C1933.3058,-296.981 2015.4127,-315.9505 2070.0284,-328.5686\"/>\n",
       "<polygon fill=\"#000000\" stroke=\"#000000\" points=\"2069.3615,-332.0067 2079.8928,-330.8476 2070.9373,-325.1863 2069.3615,-332.0067\"/>\n",
       "</g>\n",
       "<!-- 48 -->\n",
       "<g id=\"node49\" class=\"node\">\n",
       "<title>48</title>\n",
       "<polygon fill=\"#e58139\" fill-opacity=\"0.839216\" stroke=\"#000000\" points=\"2172,-297 2080,-297 2080,-244 2172,-244 2172,-297\"/>\n",
       "<text text-anchor=\"start\" x=\"2098\" y=\"-281.8\" font-family=\"Times,serif\" font-size=\"14.00\" fill=\"#000000\">mse = 0.0</text>\n",
       "<text text-anchor=\"start\" x=\"2092.5\" y=\"-266.8\" font-family=\"Times,serif\" font-size=\"14.00\" fill=\"#000000\">samples = 1</text>\n",
       "<text text-anchor=\"start\" x=\"2088\" y=\"-251.8\" font-family=\"Times,serif\" font-size=\"14.00\" fill=\"#000000\">value = 0.747</text>\n",
       "</g>\n",
       "<!-- 46&#45;&gt;48 -->\n",
       "<g id=\"edge48\" class=\"edge\">\n",
       "<title>46&#45;&gt;48</title>\n",
       "<path fill=\"none\" stroke=\"#000000\" d=\"M1882.272,-273.8618C1933.1999,-273.1593 2015.0721,-272.03 2069.6882,-271.2767\"/>\n",
       "<polygon fill=\"#000000\" stroke=\"#000000\" points=\"2069.942,-274.7736 2079.8928,-271.136 2069.8454,-267.7743 2069.942,-274.7736\"/>\n",
       "</g>\n",
       "<!-- 50 -->\n",
       "<g id=\"node51\" class=\"node\">\n",
       "<title>50</title>\n",
       "<polygon fill=\"#e58139\" fill-opacity=\"0.717647\" stroke=\"#000000\" points=\"2172,-219 2080,-219 2080,-166 2172,-166 2172,-219\"/>\n",
       "<text text-anchor=\"start\" x=\"2098\" y=\"-203.8\" font-family=\"Times,serif\" font-size=\"14.00\" fill=\"#000000\">mse = 0.0</text>\n",
       "<text text-anchor=\"start\" x=\"2092.5\" y=\"-188.8\" font-family=\"Times,serif\" font-size=\"14.00\" fill=\"#000000\">samples = 1</text>\n",
       "<text text-anchor=\"start\" x=\"2088\" y=\"-173.8\" font-family=\"Times,serif\" font-size=\"14.00\" fill=\"#000000\">value = 0.638</text>\n",
       "</g>\n",
       "<!-- 49&#45;&gt;50 -->\n",
       "<g id=\"edge50\" class=\"edge\">\n",
       "<title>49&#45;&gt;50</title>\n",
       "<path fill=\"none\" stroke=\"#000000\" d=\"M1882.272,-189.1382C1933.1999,-189.8407 2015.0721,-190.97 2069.6882,-191.7233\"/>\n",
       "<polygon fill=\"#000000\" stroke=\"#000000\" points=\"2069.8454,-195.2257 2079.8928,-191.864 2069.942,-188.2264 2069.8454,-195.2257\"/>\n",
       "</g>\n",
       "<!-- 51 -->\n",
       "<g id=\"node52\" class=\"node\">\n",
       "<title>51</title>\n",
       "<polygon fill=\"#e58139\" fill-opacity=\"0.619608\" stroke=\"#000000\" points=\"2172,-148 2080,-148 2080,-95 2172,-95 2172,-148\"/>\n",
       "<text text-anchor=\"start\" x=\"2098\" y=\"-132.8\" font-family=\"Times,serif\" font-size=\"14.00\" fill=\"#000000\">mse = 0.0</text>\n",
       "<text text-anchor=\"start\" x=\"2092.5\" y=\"-117.8\" font-family=\"Times,serif\" font-size=\"14.00\" fill=\"#000000\">samples = 1</text>\n",
       "<text text-anchor=\"start\" x=\"2088\" y=\"-102.8\" font-family=\"Times,serif\" font-size=\"14.00\" fill=\"#000000\">value = 0.552</text>\n",
       "</g>\n",
       "<!-- 49&#45;&gt;51 -->\n",
       "<g id=\"edge51\" class=\"edge\">\n",
       "<title>49&#45;&gt;51</title>\n",
       "<path fill=\"none\" stroke=\"#000000\" d=\"M1882.272,-177.8096C1933.3058,-166.019 2015.4127,-147.0495 2070.0284,-134.4314\"/>\n",
       "<polygon fill=\"#000000\" stroke=\"#000000\" points=\"2070.9373,-137.8137 2079.8928,-132.1524 2069.3615,-130.9933 2070.9373,-137.8137\"/>\n",
       "</g>\n",
       "<!-- 53 -->\n",
       "<g id=\"node54\" class=\"node\">\n",
       "<title>53</title>\n",
       "<polygon fill=\"#e58139\" fill-opacity=\"0.878431\" stroke=\"#000000\" points=\"1303,-139.5 1211,-139.5 1211,-71.5 1303,-71.5 1303,-139.5\"/>\n",
       "<text text-anchor=\"start\" x=\"1230\" y=\"-124.3\" font-family=\"Times,serif\" font-size=\"14.00\" fill=\"#000000\">x ≤ 0.765</text>\n",
       "<text text-anchor=\"start\" x=\"1222\" y=\"-109.3\" font-family=\"Times,serif\" font-size=\"14.00\" fill=\"#000000\">mse = 0.001</text>\n",
       "<text text-anchor=\"start\" x=\"1223.5\" y=\"-94.3\" font-family=\"Times,serif\" font-size=\"14.00\" fill=\"#000000\">samples = 3</text>\n",
       "<text text-anchor=\"start\" x=\"1219\" y=\"-79.3\" font-family=\"Times,serif\" font-size=\"14.00\" fill=\"#000000\">value = 0.782</text>\n",
       "</g>\n",
       "<!-- 52&#45;&gt;53 -->\n",
       "<g id=\"edge53\" class=\"edge\">\n",
       "<title>52&#45;&gt;53</title>\n",
       "<path fill=\"none\" stroke=\"#000000\" d=\"M1014.1125,-105.5C1064.715,-105.5 1145.9736,-105.5 1200.4,-105.5\"/>\n",
       "<polygon fill=\"#000000\" stroke=\"#000000\" points=\"1200.5734,-109.0001 1210.5734,-105.5 1200.5734,-102.0001 1200.5734,-109.0001\"/>\n",
       "</g>\n",
       "<!-- 58 -->\n",
       "<g id=\"node59\" class=\"node\">\n",
       "<title>58</title>\n",
       "<polygon fill=\"#e58139\" stroke=\"#000000\" points=\"1303,-53 1211,-53 1211,0 1303,0 1303,-53\"/>\n",
       "<text text-anchor=\"start\" x=\"1229\" y=\"-37.8\" font-family=\"Times,serif\" font-size=\"14.00\" fill=\"#000000\">mse = 0.0</text>\n",
       "<text text-anchor=\"start\" x=\"1223.5\" y=\"-22.8\" font-family=\"Times,serif\" font-size=\"14.00\" fill=\"#000000\">samples = 1</text>\n",
       "<text text-anchor=\"start\" x=\"1219\" y=\"-7.8\" font-family=\"Times,serif\" font-size=\"14.00\" fill=\"#000000\">value = 0.888</text>\n",
       "</g>\n",
       "<!-- 52&#45;&gt;58 -->\n",
       "<g id=\"edge58\" class=\"edge\">\n",
       "<title>52&#45;&gt;58</title>\n",
       "<path fill=\"none\" stroke=\"#000000\" d=\"M1014.1125,-92.8949C1064.8202,-79.0336 1146.3116,-56.7574 1200.7391,-41.8793\"/>\n",
       "<polygon fill=\"#000000\" stroke=\"#000000\" points=\"1201.8502,-45.204 1210.5734,-39.191 1200.0044,-38.4518 1201.8502,-45.204\"/>\n",
       "</g>\n",
       "<!-- 54 -->\n",
       "<g id=\"node55\" class=\"node\">\n",
       "<title>54</title>\n",
       "<polygon fill=\"#e58139\" fill-opacity=\"0.858824\" stroke=\"#000000\" points=\"1593,-139.5 1501,-139.5 1501,-71.5 1593,-71.5 1593,-139.5\"/>\n",
       "<text text-anchor=\"start\" x=\"1520\" y=\"-124.3\" font-family=\"Times,serif\" font-size=\"14.00\" fill=\"#000000\">x ≤ 0.745</text>\n",
       "<text text-anchor=\"start\" x=\"1512\" y=\"-109.3\" font-family=\"Times,serif\" font-size=\"14.00\" fill=\"#000000\">mse = 0.002</text>\n",
       "<text text-anchor=\"start\" x=\"1513.5\" y=\"-94.3\" font-family=\"Times,serif\" font-size=\"14.00\" fill=\"#000000\">samples = 2</text>\n",
       "<text text-anchor=\"start\" x=\"1509\" y=\"-79.3\" font-family=\"Times,serif\" font-size=\"14.00\" fill=\"#000000\">value = 0.762</text>\n",
       "</g>\n",
       "<!-- 53&#45;&gt;54 -->\n",
       "<g id=\"edge54\" class=\"edge\">\n",
       "<title>53&#45;&gt;54</title>\n",
       "<path fill=\"none\" stroke=\"#000000\" d=\"M1303.272,-105.5C1354.1999,-105.5 1436.0721,-105.5 1490.6882,-105.5\"/>\n",
       "<polygon fill=\"#000000\" stroke=\"#000000\" points=\"1490.8928,-109.0001 1500.8928,-105.5 1490.8928,-102.0001 1490.8928,-109.0001\"/>\n",
       "</g>\n",
       "<!-- 57 -->\n",
       "<g id=\"node58\" class=\"node\">\n",
       "<title>57</title>\n",
       "<polygon fill=\"#e58139\" fill-opacity=\"0.901961\" stroke=\"#000000\" points=\"1593,-53 1501,-53 1501,0 1593,0 1593,-53\"/>\n",
       "<text text-anchor=\"start\" x=\"1519\" y=\"-37.8\" font-family=\"Times,serif\" font-size=\"14.00\" fill=\"#000000\">mse = 0.0</text>\n",
       "<text text-anchor=\"start\" x=\"1513.5\" y=\"-22.8\" font-family=\"Times,serif\" font-size=\"14.00\" fill=\"#000000\">samples = 1</text>\n",
       "<text text-anchor=\"start\" x=\"1509\" y=\"-7.8\" font-family=\"Times,serif\" font-size=\"14.00\" fill=\"#000000\">value = 0.801</text>\n",
       "</g>\n",
       "<!-- 53&#45;&gt;57 -->\n",
       "<g id=\"edge57\" class=\"edge\">\n",
       "<title>53&#45;&gt;57</title>\n",
       "<path fill=\"none\" stroke=\"#000000\" d=\"M1303.272,-92.8949C1354.3058,-78.9926 1436.4127,-56.6255 1491.0284,-41.7474\"/>\n",
       "<polygon fill=\"#000000\" stroke=\"#000000\" points=\"1492.1643,-45.0656 1500.8928,-39.0602 1490.3244,-38.3117 1492.1643,-45.0656\"/>\n",
       "</g>\n",
       "<!-- 55 -->\n",
       "<g id=\"node56\" class=\"node\">\n",
       "<title>55</title>\n",
       "<polygon fill=\"#e58139\" fill-opacity=\"0.901961\" stroke=\"#000000\" points=\"1882,-134 1790,-134 1790,-81 1882,-81 1882,-134\"/>\n",
       "<text text-anchor=\"start\" x=\"1808\" y=\"-118.8\" font-family=\"Times,serif\" font-size=\"14.00\" fill=\"#000000\">mse = 0.0</text>\n",
       "<text text-anchor=\"start\" x=\"1802.5\" y=\"-103.8\" font-family=\"Times,serif\" font-size=\"14.00\" fill=\"#000000\">samples = 1</text>\n",
       "<text text-anchor=\"start\" x=\"1798\" y=\"-88.8\" font-family=\"Times,serif\" font-size=\"14.00\" fill=\"#000000\">value = 0.803</text>\n",
       "</g>\n",
       "<!-- 54&#45;&gt;55 -->\n",
       "<g id=\"edge55\" class=\"edge\">\n",
       "<title>54&#45;&gt;55</title>\n",
       "<path fill=\"none\" stroke=\"#000000\" d=\"M1593.1125,-105.8191C1643.715,-106.1693 1724.9736,-106.7317 1779.4,-107.1083\"/>\n",
       "<polygon fill=\"#000000\" stroke=\"#000000\" points=\"1779.5494,-110.6093 1789.5734,-107.1787 1779.5979,-103.6095 1779.5494,-110.6093\"/>\n",
       "</g>\n",
       "<!-- 56 -->\n",
       "<g id=\"node57\" class=\"node\">\n",
       "<title>56</title>\n",
       "<polygon fill=\"#e58139\" fill-opacity=\"0.811765\" stroke=\"#000000\" points=\"1882,-63 1790,-63 1790,-10 1882,-10 1882,-63\"/>\n",
       "<text text-anchor=\"start\" x=\"1805.5\" y=\"-47.8\" font-family=\"Times,serif\" font-size=\"14.00\" fill=\"#000000\">mse = &#45;0.0</text>\n",
       "<text text-anchor=\"start\" x=\"1802.5\" y=\"-32.8\" font-family=\"Times,serif\" font-size=\"14.00\" fill=\"#000000\">samples = 1</text>\n",
       "<text text-anchor=\"start\" x=\"1798\" y=\"-17.8\" font-family=\"Times,serif\" font-size=\"14.00\" fill=\"#000000\">value = 0.722</text>\n",
       "</g>\n",
       "<!-- 54&#45;&gt;56 -->\n",
       "<g id=\"edge56\" class=\"edge\">\n",
       "<title>54&#45;&gt;56</title>\n",
       "<path fill=\"none\" stroke=\"#000000\" d=\"M1593.1125,-94.4904C1643.8202,-82.3838 1725.3116,-62.9273 1779.7391,-49.9325\"/>\n",
       "<polygon fill=\"#000000\" stroke=\"#000000\" points=\"1780.6596,-53.3112 1789.5734,-47.5845 1779.034,-46.5026 1780.6596,-53.3112\"/>\n",
       "</g>\n",
       "</g>\n",
       "</svg>\n"
      ],
      "text/plain": [
       "<graphviz.files.Source at 0x7faf093702e8>"
      ]
     },
     "metadata": {},
     "output_type": "display_data"
    }
   ],
   "source": [
    "draw_tree(m.estimators_[0],x_train,precision=3)"
   ]
  },
  {
   "cell_type": "code",
   "execution_count": 18,
   "metadata": {},
   "outputs": [
    {
     "data": {
      "text/plain": [
       "array([0.88848324, 0.88848324, 0.88848324, 0.88848324, 0.88848324,\n",
       "       0.88848324, 0.88848324, 0.88848324, 0.88848324, 0.88848324])"
      ]
     },
     "execution_count": 18,
     "metadata": {},
     "output_type": "execute_result"
    }
   ],
   "source": [
    "m.estimators_[0].predict(x_val)"
   ]
  },
  {
   "cell_type": "code",
   "execution_count": 19,
   "metadata": {},
   "outputs": [
    {
     "data": {
      "text/plain": [
       "0.8884832381336294"
      ]
     },
     "execution_count": 19,
     "metadata": {},
     "output_type": "execute_result"
    }
   ],
   "source": [
    "y_train.max()"
   ]
  },
  {
   "cell_type": "markdown",
   "metadata": {},
   "source": [
    "Notice how, by using just one tree, all the predictions against the validation data end up being the highest value of y on the training data.\n",
    "\n",
    "A possible solution is using a GBM that is able to extrapolate better. In this case, we can quickly fix the problem by using a random split of validation data"
   ]
  },
  {
   "cell_type": "code",
   "execution_count": 20,
   "metadata": {},
   "outputs": [
    {
     "data": {
      "text/plain": [
       "((40, 1), (40,), (10, 1), (10,))"
      ]
     },
     "execution_count": 20,
     "metadata": {},
     "output_type": "execute_result"
    }
   ],
   "source": [
    "x_train, x_val, y_train, y_val = train_test_split(df, y, test_size=0.2, random_state=111)\n",
    "\n",
    "x_train.shape, y_train.shape, x_val.shape, y_val.shape"
   ]
  },
  {
   "cell_type": "code",
   "execution_count": 21,
   "metadata": {},
   "outputs": [],
   "source": [
    "m = RandomForestRegressor().fit(x_train, y_train)"
   ]
  },
  {
   "cell_type": "code",
   "execution_count": 22,
   "metadata": {},
   "outputs": [
    {
     "data": {
      "image/png": "[encoded data removed]",
      "text/plain": [
       "<Figure size 432x288 with 1 Axes>"
      ]
     },
     "metadata": {
      "needs_background": "light"
     },
     "output_type": "display_data"
    }
   ],
   "source": [
    "# let's compare predictions agains training data\n",
    "plt.scatter(y_train, m.predict(x_train));"
   ]
  },
  {
   "cell_type": "code",
   "execution_count": 23,
   "metadata": {},
   "outputs": [
    {
     "data": {
      "image/png": "[encoded data removed]",
      "text/plain": [
       "<Figure size 432x288 with 1 Axes>"
      ]
     },
     "metadata": {
      "needs_background": "light"
     },
     "output_type": "display_data"
    }
   ],
   "source": [
    "# let's compare predictions agains validation data\n",
    "plt.scatter(y_val, m.predict(x_val));"
   ]
  },
  {
   "cell_type": "code",
   "execution_count": 24,
   "metadata": {},
   "outputs": [
    {
     "data": {
      "text/plain": [
       "0.5669650020174093"
      ]
     },
     "execution_count": 24,
     "metadata": {},
     "output_type": "execute_result"
    }
   ],
   "source": [
    "# this value will highly depend on the random split above\n",
    "m.score(x_val, y_val)"
   ]
  },
  {
   "cell_type": "code",
   "execution_count": 25,
   "metadata": {},
   "outputs": [],
   "source": [
    "# obviously, a linear model would potentially work better here\n",
    "lm = LinearRegression().fit(x_train, y_train)"
   ]
  },
  {
   "cell_type": "code",
   "execution_count": 26,
   "metadata": {},
   "outputs": [
    {
     "data": {
      "image/png": "[encoded data removed]",
      "text/plain": [
       "<Figure size 432x288 with 1 Axes>"
      ]
     },
     "metadata": {
      "needs_background": "light"
     },
     "output_type": "display_data"
    }
   ],
   "source": [
    "plt.scatter(y_val, lm.predict(x_val));"
   ]
  },
  {
   "cell_type": "code",
   "execution_count": 27,
   "metadata": {},
   "outputs": [
    {
     "data": {
      "text/plain": [
       "0.8093649907979764"
      ]
     },
     "execution_count": 27,
     "metadata": {},
     "output_type": "execute_result"
    }
   ],
   "source": [
    "lm.score(x_val, y_val)"
   ]
  }
 ],
 "metadata": {
  "kernelspec": {
   "display_name": "Python 3",
   "language": "python",
   "name": "python3"
  },
  "language_info": {
   "codemirror_mode": {
    "name": "ipython",
    "version": 3
   },
   "file_extension": ".py",
   "mimetype": "text/x-python",
   "name": "python",
   "nbconvert_exporter": "python",
   "pygments_lexer": "ipython3",
   "version": "3.7.0"
  }
 },
 "nbformat": 4,
 "nbformat_minor": 2
}
